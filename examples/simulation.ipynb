{
 "cells": [
  {
   "attachments": {},
   "cell_type": "markdown",
   "metadata": {},
   "source": [
    "## Imports"
   ]
  },
  {
   "cell_type": "code",
   "execution_count": 1,
   "metadata": {},
   "outputs": [],
   "source": [
    "import numpy as np\n",
    "from paraflow import SymmetricPassage, run_simulation, get_flasher"
   ]
  },
  {
   "attachments": {},
   "cell_type": "markdown",
   "metadata": {},
   "source": [
    "## Passage"
   ]
  },
  {
   "cell_type": "code",
   "execution_count": 2,
   "metadata": {},
   "outputs": [
    {
     "data": {
      "application/vnd.plotly.v1+json": {
       "config": {
        "plotlyServerURL": "https://plot.ly"
       },
       "data": [
        {
         "name": "Contour Top",
         "type": "scatter",
         "x": [
          0,
          0.024242449999575005,
          0.04800040799326811,
          0.07128917372863348,
          0.09412404695322528,
          0.11652032741459765,
          0.1384933148603048,
          0.1600583090379009,
          0.18123060969494,
          0.20202551657897644,
          0.22245832943756422,
          0.24254434801825767,
          0.2622988720686109,
          0.2817372013361779,
          0.3008746355685132,
          0.3197264745131705,
          0.3383080179177044,
          0.35663456552966877,
          0.3747214170966179,
          0.3925838723661059,
          0.41023723108568705,
          0.4276967930029154,
          0.44497785786534516,
          0.46209572542053057,
          0.4790656954160256,
          0.49590391758535984,
          0.5126460913394928,
          0.5293474657668149,
          0.5460641399416909,
          0.5628522129384864,
          0.5797677838315667,
          0.5968669516952969,
          0.6142058156040424,
          0.6318404746321685,
          0.6498270278540405,
          0.6682215743440233,
          0.6870802131764825,
          0.7064590434257835,
          0.7264141641662912,
          0.7470016744723711,
          0.7682776734183885,
          0.7902982600787085,
          0.8131195335276966,
          0.8367975928397182,
          0.8613885370891379,
          0.8869484653503215,
          0.9135334766976344,
          0.9411996702054416,
          0.9700031449481084,
          1
         ],
         "y": [
          0.2,
          0.1919526120239622,
          0.18558013691077682,
          0.18079643761021705,
          0.17751537707205603,
          0.17565081824606682,
          0.17511662408202272,
          0.1758266575296968,
          0.1776947815388622,
          0.18063485905929205,
          0.1845607530407595,
          0.18938632643303774,
          0.19502544218589996,
          0.20139196324911912,
          0.2083997525724686,
          0.21596267310572137,
          0.22399458779865064,
          0.2324093596010296,
          0.24112085146263126,
          0.25004292633322894,
          0.2590894471625957,
          0.26817427690050466,
          0.27721127849672905,
          0.286114314901042,
          0.2947972490632166,
          0.3031757426180763,
          0.31120682695660323,
          0.31888890322593805,
          0.3262221712582713,
          0.3332068308857941,
          0.33984308194069723,
          0.3461311242551716,
          0.3520711576614082,
          0.3576633819915977,
          0.36290799707793114,
          0.3678052027525993,
          0.3723551988477932,
          0.3765581851957037,
          0.38041436162852144,
          0.3839239279784376,
          0.3870870840776429,
          0.38990402975832833,
          0.3923749648526847,
          0.3945000891929029,
          0.3962796026111738,
          0.3977137049396883,
          0.39880259601063733,
          0.3995464756562117,
          0.3999455437086023,
          0.4
         ]
        },
        {
         "name": "Contour Bottom",
         "type": "scatter",
         "x": [
          0,
          0.024242449999575005,
          0.04800040799326811,
          0.07128917372863348,
          0.09412404695322528,
          0.11652032741459765,
          0.1384933148603048,
          0.1600583090379009,
          0.18123060969494,
          0.20202551657897644,
          0.22245832943756422,
          0.24254434801825767,
          0.2622988720686109,
          0.2817372013361779,
          0.3008746355685132,
          0.3197264745131705,
          0.3383080179177044,
          0.35663456552966877,
          0.3747214170966179,
          0.3925838723661059,
          0.41023723108568705,
          0.4276967930029154,
          0.44497785786534516,
          0.46209572542053057,
          0.4790656954160256,
          0.49590391758535984,
          0.5126460913394928,
          0.5293474657668149,
          0.5460641399416909,
          0.5628522129384864,
          0.5797677838315667,
          0.5968669516952969,
          0.6142058156040424,
          0.6318404746321685,
          0.6498270278540405,
          0.6682215743440233,
          0.6870802131764825,
          0.7064590434257835,
          0.7264141641662912,
          0.7470016744723711,
          0.7682776734183885,
          0.7902982600787085,
          0.8131195335276966,
          0.8367975928397182,
          0.8613885370891379,
          0.8869484653503215,
          0.9135334766976344,
          0.9411996702054416,
          0.9700031449481084,
          1
         ],
         "y": [
          -0.2,
          -0.1919526120239622,
          -0.18558013691077682,
          -0.18079643761021705,
          -0.17751537707205603,
          -0.17565081824606682,
          -0.17511662408202272,
          -0.1758266575296968,
          -0.1776947815388622,
          -0.18063485905929205,
          -0.1845607530407595,
          -0.18938632643303774,
          -0.19502544218589996,
          -0.20139196324911912,
          -0.2083997525724686,
          -0.21596267310572137,
          -0.22399458779865064,
          -0.2324093596010296,
          -0.24112085146263126,
          -0.25004292633322894,
          -0.2590894471625957,
          -0.26817427690050466,
          -0.27721127849672905,
          -0.286114314901042,
          -0.2947972490632166,
          -0.3031757426180763,
          -0.31120682695660323,
          -0.31888890322593805,
          -0.3262221712582713,
          -0.3332068308857941,
          -0.33984308194069723,
          -0.3461311242551716,
          -0.3520711576614082,
          -0.3576633819915977,
          -0.36290799707793114,
          -0.3678052027525993,
          -0.3723551988477932,
          -0.3765581851957037,
          -0.38041436162852144,
          -0.3839239279784376,
          -0.3870870840776429,
          -0.38990402975832833,
          -0.3923749648526847,
          -0.3945000891929029,
          -0.3962796026111738,
          -0.3977137049396883,
          -0.39880259601063733,
          -0.3995464756562117,
          -0.3999455437086023,
          -0.4
         ]
        }
       ],
       "layout": {
        "template": {
         "data": {
          "bar": [
           {
            "error_x": {
             "color": "#2a3f5f"
            },
            "error_y": {
             "color": "#2a3f5f"
            },
            "marker": {
             "line": {
              "color": "#E5ECF6",
              "width": 0.5
             },
             "pattern": {
              "fillmode": "overlay",
              "size": 10,
              "solidity": 0.2
             }
            },
            "type": "bar"
           }
          ],
          "barpolar": [
           {
            "marker": {
             "line": {
              "color": "#E5ECF6",
              "width": 0.5
             },
             "pattern": {
              "fillmode": "overlay",
              "size": 10,
              "solidity": 0.2
             }
            },
            "type": "barpolar"
           }
          ],
          "carpet": [
           {
            "aaxis": {
             "endlinecolor": "#2a3f5f",
             "gridcolor": "white",
             "linecolor": "white",
             "minorgridcolor": "white",
             "startlinecolor": "#2a3f5f"
            },
            "baxis": {
             "endlinecolor": "#2a3f5f",
             "gridcolor": "white",
             "linecolor": "white",
             "minorgridcolor": "white",
             "startlinecolor": "#2a3f5f"
            },
            "type": "carpet"
           }
          ],
          "choropleth": [
           {
            "colorbar": {
             "outlinewidth": 0,
             "ticks": ""
            },
            "type": "choropleth"
           }
          ],
          "contour": [
           {
            "colorbar": {
             "outlinewidth": 0,
             "ticks": ""
            },
            "colorscale": [
             [
              0,
              "#0d0887"
             ],
             [
              0.1111111111111111,
              "#46039f"
             ],
             [
              0.2222222222222222,
              "#7201a8"
             ],
             [
              0.3333333333333333,
              "#9c179e"
             ],
             [
              0.4444444444444444,
              "#bd3786"
             ],
             [
              0.5555555555555556,
              "#d8576b"
             ],
             [
              0.6666666666666666,
              "#ed7953"
             ],
             [
              0.7777777777777778,
              "#fb9f3a"
             ],
             [
              0.8888888888888888,
              "#fdca26"
             ],
             [
              1,
              "#f0f921"
             ]
            ],
            "type": "contour"
           }
          ],
          "contourcarpet": [
           {
            "colorbar": {
             "outlinewidth": 0,
             "ticks": ""
            },
            "type": "contourcarpet"
           }
          ],
          "heatmap": [
           {
            "colorbar": {
             "outlinewidth": 0,
             "ticks": ""
            },
            "colorscale": [
             [
              0,
              "#0d0887"
             ],
             [
              0.1111111111111111,
              "#46039f"
             ],
             [
              0.2222222222222222,
              "#7201a8"
             ],
             [
              0.3333333333333333,
              "#9c179e"
             ],
             [
              0.4444444444444444,
              "#bd3786"
             ],
             [
              0.5555555555555556,
              "#d8576b"
             ],
             [
              0.6666666666666666,
              "#ed7953"
             ],
             [
              0.7777777777777778,
              "#fb9f3a"
             ],
             [
              0.8888888888888888,
              "#fdca26"
             ],
             [
              1,
              "#f0f921"
             ]
            ],
            "type": "heatmap"
           }
          ],
          "heatmapgl": [
           {
            "colorbar": {
             "outlinewidth": 0,
             "ticks": ""
            },
            "colorscale": [
             [
              0,
              "#0d0887"
             ],
             [
              0.1111111111111111,
              "#46039f"
             ],
             [
              0.2222222222222222,
              "#7201a8"
             ],
             [
              0.3333333333333333,
              "#9c179e"
             ],
             [
              0.4444444444444444,
              "#bd3786"
             ],
             [
              0.5555555555555556,
              "#d8576b"
             ],
             [
              0.6666666666666666,
              "#ed7953"
             ],
             [
              0.7777777777777778,
              "#fb9f3a"
             ],
             [
              0.8888888888888888,
              "#fdca26"
             ],
             [
              1,
              "#f0f921"
             ]
            ],
            "type": "heatmapgl"
           }
          ],
          "histogram": [
           {
            "marker": {
             "pattern": {
              "fillmode": "overlay",
              "size": 10,
              "solidity": 0.2
             }
            },
            "type": "histogram"
           }
          ],
          "histogram2d": [
           {
            "colorbar": {
             "outlinewidth": 0,
             "ticks": ""
            },
            "colorscale": [
             [
              0,
              "#0d0887"
             ],
             [
              0.1111111111111111,
              "#46039f"
             ],
             [
              0.2222222222222222,
              "#7201a8"
             ],
             [
              0.3333333333333333,
              "#9c179e"
             ],
             [
              0.4444444444444444,
              "#bd3786"
             ],
             [
              0.5555555555555556,
              "#d8576b"
             ],
             [
              0.6666666666666666,
              "#ed7953"
             ],
             [
              0.7777777777777778,
              "#fb9f3a"
             ],
             [
              0.8888888888888888,
              "#fdca26"
             ],
             [
              1,
              "#f0f921"
             ]
            ],
            "type": "histogram2d"
           }
          ],
          "histogram2dcontour": [
           {
            "colorbar": {
             "outlinewidth": 0,
             "ticks": ""
            },
            "colorscale": [
             [
              0,
              "#0d0887"
             ],
             [
              0.1111111111111111,
              "#46039f"
             ],
             [
              0.2222222222222222,
              "#7201a8"
             ],
             [
              0.3333333333333333,
              "#9c179e"
             ],
             [
              0.4444444444444444,
              "#bd3786"
             ],
             [
              0.5555555555555556,
              "#d8576b"
             ],
             [
              0.6666666666666666,
              "#ed7953"
             ],
             [
              0.7777777777777778,
              "#fb9f3a"
             ],
             [
              0.8888888888888888,
              "#fdca26"
             ],
             [
              1,
              "#f0f921"
             ]
            ],
            "type": "histogram2dcontour"
           }
          ],
          "mesh3d": [
           {
            "colorbar": {
             "outlinewidth": 0,
             "ticks": ""
            },
            "type": "mesh3d"
           }
          ],
          "parcoords": [
           {
            "line": {
             "colorbar": {
              "outlinewidth": 0,
              "ticks": ""
             }
            },
            "type": "parcoords"
           }
          ],
          "pie": [
           {
            "automargin": true,
            "type": "pie"
           }
          ],
          "scatter": [
           {
            "fillpattern": {
             "fillmode": "overlay",
             "size": 10,
             "solidity": 0.2
            },
            "type": "scatter"
           }
          ],
          "scatter3d": [
           {
            "line": {
             "colorbar": {
              "outlinewidth": 0,
              "ticks": ""
             }
            },
            "marker": {
             "colorbar": {
              "outlinewidth": 0,
              "ticks": ""
             }
            },
            "type": "scatter3d"
           }
          ],
          "scattercarpet": [
           {
            "marker": {
             "colorbar": {
              "outlinewidth": 0,
              "ticks": ""
             }
            },
            "type": "scattercarpet"
           }
          ],
          "scattergeo": [
           {
            "marker": {
             "colorbar": {
              "outlinewidth": 0,
              "ticks": ""
             }
            },
            "type": "scattergeo"
           }
          ],
          "scattergl": [
           {
            "marker": {
             "colorbar": {
              "outlinewidth": 0,
              "ticks": ""
             }
            },
            "type": "scattergl"
           }
          ],
          "scattermapbox": [
           {
            "marker": {
             "colorbar": {
              "outlinewidth": 0,
              "ticks": ""
             }
            },
            "type": "scattermapbox"
           }
          ],
          "scatterpolar": [
           {
            "marker": {
             "colorbar": {
              "outlinewidth": 0,
              "ticks": ""
             }
            },
            "type": "scatterpolar"
           }
          ],
          "scatterpolargl": [
           {
            "marker": {
             "colorbar": {
              "outlinewidth": 0,
              "ticks": ""
             }
            },
            "type": "scatterpolargl"
           }
          ],
          "scatterternary": [
           {
            "marker": {
             "colorbar": {
              "outlinewidth": 0,
              "ticks": ""
             }
            },
            "type": "scatterternary"
           }
          ],
          "surface": [
           {
            "colorbar": {
             "outlinewidth": 0,
             "ticks": ""
            },
            "colorscale": [
             [
              0,
              "#0d0887"
             ],
             [
              0.1111111111111111,
              "#46039f"
             ],
             [
              0.2222222222222222,
              "#7201a8"
             ],
             [
              0.3333333333333333,
              "#9c179e"
             ],
             [
              0.4444444444444444,
              "#bd3786"
             ],
             [
              0.5555555555555556,
              "#d8576b"
             ],
             [
              0.6666666666666666,
              "#ed7953"
             ],
             [
              0.7777777777777778,
              "#fb9f3a"
             ],
             [
              0.8888888888888888,
              "#fdca26"
             ],
             [
              1,
              "#f0f921"
             ]
            ],
            "type": "surface"
           }
          ],
          "table": [
           {
            "cells": {
             "fill": {
              "color": "#EBF0F8"
             },
             "line": {
              "color": "white"
             }
            },
            "header": {
             "fill": {
              "color": "#C8D4E3"
             },
             "line": {
              "color": "white"
             }
            },
            "type": "table"
           }
          ]
         },
         "layout": {
          "annotationdefaults": {
           "arrowcolor": "#2a3f5f",
           "arrowhead": 0,
           "arrowwidth": 1
          },
          "autotypenumbers": "strict",
          "coloraxis": {
           "colorbar": {
            "outlinewidth": 0,
            "ticks": ""
           }
          },
          "colorscale": {
           "diverging": [
            [
             0,
             "#8e0152"
            ],
            [
             0.1,
             "#c51b7d"
            ],
            [
             0.2,
             "#de77ae"
            ],
            [
             0.3,
             "#f1b6da"
            ],
            [
             0.4,
             "#fde0ef"
            ],
            [
             0.5,
             "#f7f7f7"
            ],
            [
             0.6,
             "#e6f5d0"
            ],
            [
             0.7,
             "#b8e186"
            ],
            [
             0.8,
             "#7fbc41"
            ],
            [
             0.9,
             "#4d9221"
            ],
            [
             1,
             "#276419"
            ]
           ],
           "sequential": [
            [
             0,
             "#0d0887"
            ],
            [
             0.1111111111111111,
             "#46039f"
            ],
            [
             0.2222222222222222,
             "#7201a8"
            ],
            [
             0.3333333333333333,
             "#9c179e"
            ],
            [
             0.4444444444444444,
             "#bd3786"
            ],
            [
             0.5555555555555556,
             "#d8576b"
            ],
            [
             0.6666666666666666,
             "#ed7953"
            ],
            [
             0.7777777777777778,
             "#fb9f3a"
            ],
            [
             0.8888888888888888,
             "#fdca26"
            ],
            [
             1,
             "#f0f921"
            ]
           ],
           "sequentialminus": [
            [
             0,
             "#0d0887"
            ],
            [
             0.1111111111111111,
             "#46039f"
            ],
            [
             0.2222222222222222,
             "#7201a8"
            ],
            [
             0.3333333333333333,
             "#9c179e"
            ],
            [
             0.4444444444444444,
             "#bd3786"
            ],
            [
             0.5555555555555556,
             "#d8576b"
            ],
            [
             0.6666666666666666,
             "#ed7953"
            ],
            [
             0.7777777777777778,
             "#fb9f3a"
            ],
            [
             0.8888888888888888,
             "#fdca26"
            ],
            [
             1,
             "#f0f921"
            ]
           ]
          },
          "colorway": [
           "#636efa",
           "#EF553B",
           "#00cc96",
           "#ab63fa",
           "#FFA15A",
           "#19d3f3",
           "#FF6692",
           "#B6E880",
           "#FF97FF",
           "#FECB52"
          ],
          "font": {
           "color": "#2a3f5f"
          },
          "geo": {
           "bgcolor": "white",
           "lakecolor": "white",
           "landcolor": "#E5ECF6",
           "showlakes": true,
           "showland": true,
           "subunitcolor": "white"
          },
          "hoverlabel": {
           "align": "left"
          },
          "hovermode": "closest",
          "mapbox": {
           "style": "light"
          },
          "paper_bgcolor": "white",
          "plot_bgcolor": "#E5ECF6",
          "polar": {
           "angularaxis": {
            "gridcolor": "white",
            "linecolor": "white",
            "ticks": ""
           },
           "bgcolor": "#E5ECF6",
           "radialaxis": {
            "gridcolor": "white",
            "linecolor": "white",
            "ticks": ""
           }
          },
          "scene": {
           "xaxis": {
            "backgroundcolor": "#E5ECF6",
            "gridcolor": "white",
            "gridwidth": 2,
            "linecolor": "white",
            "showbackground": true,
            "ticks": "",
            "zerolinecolor": "white"
           },
           "yaxis": {
            "backgroundcolor": "#E5ECF6",
            "gridcolor": "white",
            "gridwidth": 2,
            "linecolor": "white",
            "showbackground": true,
            "ticks": "",
            "zerolinecolor": "white"
           },
           "zaxis": {
            "backgroundcolor": "#E5ECF6",
            "gridcolor": "white",
            "gridwidth": 2,
            "linecolor": "white",
            "showbackground": true,
            "ticks": "",
            "zerolinecolor": "white"
           }
          },
          "shapedefaults": {
           "line": {
            "color": "#2a3f5f"
           }
          },
          "ternary": {
           "aaxis": {
            "gridcolor": "white",
            "linecolor": "white",
            "ticks": ""
           },
           "baxis": {
            "gridcolor": "white",
            "linecolor": "white",
            "ticks": ""
           },
           "bgcolor": "#E5ECF6",
           "caxis": {
            "gridcolor": "white",
            "linecolor": "white",
            "ticks": ""
           }
          },
          "title": {
           "x": 0.05
          },
          "xaxis": {
           "automargin": true,
           "gridcolor": "white",
           "linecolor": "white",
           "ticks": "",
           "title": {
            "standoff": 15
           },
           "zerolinecolor": "white",
           "zerolinewidth": 2
          },
          "yaxis": {
           "automargin": true,
           "gridcolor": "white",
           "linecolor": "white",
           "ticks": "",
           "title": {
            "standoff": 15
           },
           "zerolinecolor": "white",
           "zerolinewidth": 2
          }
         }
        },
        "title": {
         "text": "Flow Passage"
        },
        "yaxis": {
         "scaleanchor": "x"
        }
       }
      }
     },
     "metadata": {},
     "output_type": "display_data"
    }
   ],
   "source": [
    "passage = SymmetricPassage(\n",
    "    inlet_radius=0.2,\n",
    "    area_ratio=2,\n",
    "    axial_length=1,\n",
    "    contour_props=[0.2, 0.5, 0.75],\n",
    "    contour_angles=np.radians([-20, 15.0, 15.0]).tolist()\n",
    ")\n",
    "passage.visualize()"
   ]
  },
  {
   "attachments": {},
   "cell_type": "markdown",
   "metadata": {},
   "source": [
    "## Inlet and Outlet Condtions"
   ]
  },
  {
   "cell_type": "code",
   "execution_count": 3,
   "metadata": {},
   "outputs": [],
   "source": [
    "flasher = get_flasher(\"Octamethyltrisiloxane\", \"gas\")\n",
    "inlet_total_state = flasher.flash(P=904388, T=542.13, mach_number=1E-9)\n",
    "target_outlet_static_state = flasher.flash(P=200000, T=293.15)"
   ]
  },
  {
   "attachments": {},
   "cell_type": "markdown",
   "metadata": {},
   "source": [
    "## Run Simulation"
   ]
  },
  {
   "cell_type": "code",
   "execution_count": 5,
   "metadata": {},
   "outputs": [
    {
     "name": "stdout",
     "output_type": "stream",
     "text": [
      "Info    : Meshing 1D...\n",
      "Info    : [  0%] Meshing curve 1 (Nurb)\n",
      "Info    : [ 30%] Meshing curve 2 (Line)\n",
      "Info    : [ 50%] Meshing curve 3 (Line)\n",
      "Info    : [ 80%] Meshing curve 4 (Line)\n",
      "Info    : Done meshing 1D (Wall 0.00164258s, CPU 0.001652s)\n",
      "Info    : Meshing 2D...\n",
      "Info    : Meshing surface 1 (Transfinite)\n",
      "Info    : Done meshing 2D (Wall 0.0008575s, CPU 0.000658s)\n",
      "Info    : Meshing 3D...\n",
      "Info    : Done meshing 3D (Wall 4.75021e-06s, CPU 4e-06s)\n",
      "Info    : 10204 nodes 10407 elements\n",
      "Setting up SU2 Simulation for /Users/afshawnlotfi/Documents/paraflow/simulation_out/config1.cfg\n",
      "Running SU2 Simulation for /Users/afshawnlotfi/Documents/paraflow/simulation_out/config1.cfg\n",
      "Cleaning up ..\n"
     ]
    },
    {
     "data": {
      "image/png": "[encoded data removed]",
      "text/plain": [
       "<Figure size 800x400 with 2 Axes>"
      ]
     },
     "metadata": {},
     "output_type": "display_data"
    }
   ],
   "source": [
    "from paraflow import run_simulation, SimulationOptions, SimulationResult, get_frames, display_frame\n",
    "\n",
    "use_cache = False\n",
    "\n",
    "if not use_cache:\n",
    "    sim_results = run_simulation(\n",
    "        passage,\n",
    "        sim_options=SimulationOptions(\n",
    "            inlet_total_state=inlet_total_state, \n",
    "            target_outlet_static_state=target_outlet_static_state, \n",
    "        ),\n",
    "        working_directory=\"./simulation_out\", \n",
    "        id=\"1\",\n",
    "        auto_delete=True,\n",
    "        verbose=False,\n",
    "    )\n",
    "    sim_results.to_file(\"sim_results.pkl\")\n",
    "else:\n",
    "   sim_results = SimulationResult.from_file(\"sim_results.pkl\")\n",
    "\n",
    "frames = get_frames(\n",
    "    sim_results, \n",
    "    property_names=[\"Mach\"], \n",
    "    num_pnts=500,\n",
    ")\n",
    "display_frame(frames, \"Mach\")"
   ]
  },
  {
   "cell_type": "code",
   "execution_count": null,
   "metadata": {},
   "outputs": [],
   "source": []
  }
 ],
 "metadata": {
  "kernelspec": {
   "display_name": "Python 3",
   "language": "python",
   "name": "python3"
  },
  "language_info": {
   "codemirror_mode": {
    "name": "ipython",
    "version": 3
   },
   "file_extension": ".py",
   "mimetype": "text/x-python",
   "name": "python",
   "nbconvert_exporter": "python",
   "pygments_lexer": "ipython3",
   "version": "3.9.6"
  },
  "orig_nbformat": 4
 },
 "nbformat": 4,
 "nbformat_minor": 2
}
