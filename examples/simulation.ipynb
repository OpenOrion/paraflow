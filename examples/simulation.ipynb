{
 "cells": [
  {
   "attachments": {},
   "cell_type": "markdown",
   "metadata": {},
   "source": [
    "## Imports"
   ]
  },
  {
   "cell_type": "code",
   "execution_count": 5,
   "metadata": {},
   "outputs": [],
   "source": [
    "import numpy as np\n",
    "import ray\n",
    "from paraflow import SymmetricPassage, run_simulation, FlowState, get_flasher"
   ]
  },
  {
   "attachments": {},
   "cell_type": "markdown",
   "metadata": {},
   "source": [
    "## Passage"
   ]
  },
  {
   "cell_type": "code",
   "execution_count": 6,
   "metadata": {},
   "outputs": [
    {
     "data": {
      "application/vnd.plotly.v1+json": {
       "config": {
        "plotlyServerURL": "https://plot.ly"
       },
       "data": [
        {
         "name": "Contour Top",
         "type": "scatter",
         "x": [
          0,
          0.024242449999575005,
          0.04800040799326811,
          0.07128917372863348,
          0.09412404695322528,
          0.11652032741459765,
          0.1384933148603048,
          0.1600583090379009,
          0.18123060969494,
          0.20202551657897644,
          0.22245832943756422,
          0.24254434801825767,
          0.2622988720686109,
          0.2817372013361779,
          0.3008746355685132,
          0.3197264745131705,
          0.3383080179177044,
          0.35663456552966877,
          0.3747214170966179,
          0.3925838723661059,
          0.41023723108568705,
          0.4276967930029154,
          0.44497785786534516,
          0.46209572542053057,
          0.4790656954160256,
          0.49590391758535984,
          0.5126460913394928,
          0.5293474657668149,
          0.5460641399416909,
          0.5628522129384864,
          0.5797677838315667,
          0.5968669516952969,
          0.6142058156040424,
          0.6318404746321685,
          0.6498270278540405,
          0.6682215743440233,
          0.6870802131764825,
          0.7064590434257835,
          0.7264141641662912,
          0.7470016744723711,
          0.7682776734183885,
          0.7902982600787085,
          0.8131195335276966,
          0.8367975928397182,
          0.8613885370891379,
          0.8869484653503215,
          0.9135334766976344,
          0.9411996702054416,
          0.9700031449481084,
          1
         ],
         "y": [
          0.2,
          0.1919526120239622,
          0.18558013691077682,
          0.18079643761021705,
          0.17751537707205603,
          0.17565081824606682,
          0.17511662408202272,
          0.1758266575296968,
          0.1776947815388622,
          0.18063485905929205,
          0.1845607530407595,
          0.18938632643303774,
          0.19502544218589996,
          0.20139196324911912,
          0.2083997525724686,
          0.21596267310572137,
          0.22399458779865064,
          0.2324093596010296,
          0.24112085146263126,
          0.25004292633322894,
          0.2590894471625957,
          0.26817427690050466,
          0.27721127849672905,
          0.286114314901042,
          0.2947972490632166,
          0.3031757426180763,
          0.31120682695660323,
          0.31888890322593805,
          0.3262221712582713,
          0.3332068308857941,
          0.33984308194069723,
          0.3461311242551716,
          0.3520711576614082,
          0.3576633819915977,
          0.36290799707793114,
          0.3678052027525993,
          0.3723551988477932,
          0.3765581851957037,
          0.38041436162852144,
          0.3839239279784376,
          0.3870870840776429,
          0.38990402975832833,
          0.3923749648526847,
          0.3945000891929029,
          0.3962796026111738,
          0.3977137049396883,
          0.39880259601063733,
          0.3995464756562117,
          0.3999455437086023,
          0.4
         ]
        },
        {
         "name": "Contour Bottom",
         "type": "scatter",
         "x": [
          0,
          0.024242449999575005,
          0.04800040799326811,
          0.07128917372863348,
          0.09412404695322528,
          0.11652032741459765,
          0.1384933148603048,
          0.1600583090379009,
          0.18123060969494,
          0.20202551657897644,
          0.22245832943756422,
          0.24254434801825767,
          0.2622988720686109,
          0.2817372013361779,
          0.3008746355685132,
          0.3197264745131705,
          0.3383080179177044,
          0.35663456552966877,
          0.3747214170966179,
          0.3925838723661059,
          0.41023723108568705,
          0.4276967930029154,
          0.44497785786534516,
          0.46209572542053057,
          0.4790656954160256,
          0.49590391758535984,
          0.5126460913394928,
          0.5293474657668149,
          0.5460641399416909,
          0.5628522129384864,
          0.5797677838315667,
          0.5968669516952969,
          0.6142058156040424,
          0.6318404746321685,
          0.6498270278540405,
          0.6682215743440233,
          0.6870802131764825,
          0.7064590434257835,
          0.7264141641662912,
          0.7470016744723711,
          0.7682776734183885,
          0.7902982600787085,
          0.8131195335276966,
          0.8367975928397182,
          0.8613885370891379,
          0.8869484653503215,
          0.9135334766976344,
          0.9411996702054416,
          0.9700031449481084,
          1
         ],
         "y": [
          -0.2,
          -0.1919526120239622,
          -0.18558013691077682,
          -0.18079643761021705,
          -0.17751537707205603,
          -0.17565081824606682,
          -0.17511662408202272,
          -0.1758266575296968,
          -0.1776947815388622,
          -0.18063485905929205,
          -0.1845607530407595,
          -0.18938632643303774,
          -0.19502544218589996,
          -0.20139196324911912,
          -0.2083997525724686,
          -0.21596267310572137,
          -0.22399458779865064,
          -0.2324093596010296,
          -0.24112085146263126,
          -0.25004292633322894,
          -0.2590894471625957,
          -0.26817427690050466,
          -0.27721127849672905,
          -0.286114314901042,
          -0.2947972490632166,
          -0.3031757426180763,
          -0.31120682695660323,
          -0.31888890322593805,
          -0.3262221712582713,
          -0.3332068308857941,
          -0.33984308194069723,
          -0.3461311242551716,
          -0.3520711576614082,
          -0.3576633819915977,
          -0.36290799707793114,
          -0.3678052027525993,
          -0.3723551988477932,
          -0.3765581851957037,
          -0.38041436162852144,
          -0.3839239279784376,
          -0.3870870840776429,
          -0.38990402975832833,
          -0.3923749648526847,
          -0.3945000891929029,
          -0.3962796026111738,
          -0.3977137049396883,
          -0.39880259601063733,
          -0.3995464756562117,
          -0.3999455437086023,
          -0.4
         ]
        }
       ],
       "layout": {
        "template": {
         "data": {
          "bar": [
           {
            "error_x": {
             "color": "#2a3f5f"
            },
            "error_y": {
             "color": "#2a3f5f"
            },
            "marker": {
             "line": {
              "color": "#E5ECF6",
              "width": 0.5
             },
             "pattern": {
              "fillmode": "overlay",
              "size": 10,
              "solidity": 0.2
             }
            },
            "type": "bar"
           }
          ],
          "barpolar": [
           {
            "marker": {
             "line": {
              "color": "#E5ECF6",
              "width": 0.5
             },
             "pattern": {
              "fillmode": "overlay",
              "size": 10,
              "solidity": 0.2
             }
            },
            "type": "barpolar"
           }
          ],
          "carpet": [
           {
            "aaxis": {
             "endlinecolor": "#2a3f5f",
             "gridcolor": "white",
             "linecolor": "white",
             "minorgridcolor": "white",
             "startlinecolor": "#2a3f5f"
            },
            "baxis": {
             "endlinecolor": "#2a3f5f",
             "gridcolor": "white",
             "linecolor": "white",
             "minorgridcolor": "white",
             "startlinecolor": "#2a3f5f"
            },
            "type": "carpet"
           }
          ],
          "choropleth": [
           {
            "colorbar": {
             "outlinewidth": 0,
             "ticks": ""
            },
            "type": "choropleth"
           }
          ],
          "contour": [
           {
            "colorbar": {
             "outlinewidth": 0,
             "ticks": ""
            },
            "colorscale": [
             [
              0,
              "#0d0887"
             ],
             [
              0.1111111111111111,
              "#46039f"
             ],
             [
              0.2222222222222222,
              "#7201a8"
             ],
             [
              0.3333333333333333,
              "#9c179e"
             ],
             [
              0.4444444444444444,
              "#bd3786"
             ],
             [
              0.5555555555555556,
              "#d8576b"
             ],
             [
              0.6666666666666666,
              "#ed7953"
             ],
             [
              0.7777777777777778,
              "#fb9f3a"
             ],
             [
              0.8888888888888888,
              "#fdca26"
             ],
             [
              1,
              "#f0f921"
             ]
            ],
            "type": "contour"
           }
          ],
          "contourcarpet": [
           {
            "colorbar": {
             "outlinewidth": 0,
             "ticks": ""
            },
            "type": "contourcarpet"
           }
          ],
          "heatmap": [
           {
            "colorbar": {
             "outlinewidth": 0,
             "ticks": ""
            },
            "colorscale": [
             [
              0,
              "#0d0887"
             ],
             [
              0.1111111111111111,
              "#46039f"
             ],
             [
              0.2222222222222222,
              "#7201a8"
             ],
             [
              0.3333333333333333,
              "#9c179e"
             ],
             [
              0.4444444444444444,
              "#bd3786"
             ],
             [
              0.5555555555555556,
              "#d8576b"
             ],
             [
              0.6666666666666666,
              "#ed7953"
             ],
             [
              0.7777777777777778,
              "#fb9f3a"
             ],
             [
              0.8888888888888888,
              "#fdca26"
             ],
             [
              1,
              "#f0f921"
             ]
            ],
            "type": "heatmap"
           }
          ],
          "heatmapgl": [
           {
            "colorbar": {
             "outlinewidth": 0,
             "ticks": ""
            },
            "colorscale": [
             [
              0,
              "#0d0887"
             ],
             [
              0.1111111111111111,
              "#46039f"
             ],
             [
              0.2222222222222222,
              "#7201a8"
             ],
             [
              0.3333333333333333,
              "#9c179e"
             ],
             [
              0.4444444444444444,
              "#bd3786"
             ],
             [
              0.5555555555555556,
              "#d8576b"
             ],
             [
              0.6666666666666666,
              "#ed7953"
             ],
             [
              0.7777777777777778,
              "#fb9f3a"
             ],
             [
              0.8888888888888888,
              "#fdca26"
             ],
             [
              1,
              "#f0f921"
             ]
            ],
            "type": "heatmapgl"
           }
          ],
          "histogram": [
           {
            "marker": {
             "pattern": {
              "fillmode": "overlay",
              "size": 10,
              "solidity": 0.2
             }
            },
            "type": "histogram"
           }
          ],
          "histogram2d": [
           {
            "colorbar": {
             "outlinewidth": 0,
             "ticks": ""
            },
            "colorscale": [
             [
              0,
              "#0d0887"
             ],
             [
              0.1111111111111111,
              "#46039f"
             ],
             [
              0.2222222222222222,
              "#7201a8"
             ],
             [
              0.3333333333333333,
              "#9c179e"
             ],
             [
              0.4444444444444444,
              "#bd3786"
             ],
             [
              0.5555555555555556,
              "#d8576b"
             ],
             [
              0.6666666666666666,
              "#ed7953"
             ],
             [
              0.7777777777777778,
              "#fb9f3a"
             ],
             [
              0.8888888888888888,
              "#fdca26"
             ],
             [
              1,
              "#f0f921"
             ]
            ],
            "type": "histogram2d"
           }
          ],
          "histogram2dcontour": [
           {
            "colorbar": {
             "outlinewidth": 0,
             "ticks": ""
            },
            "colorscale": [
             [
              0,
              "#0d0887"
             ],
             [
              0.1111111111111111,
              "#46039f"
             ],
             [
              0.2222222222222222,
              "#7201a8"
             ],
             [
              0.3333333333333333,
              "#9c179e"
             ],
             [
              0.4444444444444444,
              "#bd3786"
             ],
             [
              0.5555555555555556,
              "#d8576b"
             ],
             [
              0.6666666666666666,
              "#ed7953"
             ],
             [
              0.7777777777777778,
              "#fb9f3a"
             ],
             [
              0.8888888888888888,
              "#fdca26"
             ],
             [
              1,
              "#f0f921"
             ]
            ],
            "type": "histogram2dcontour"
           }
          ],
          "mesh3d": [
           {
            "colorbar": {
             "outlinewidth": 0,
             "ticks": ""
            },
            "type": "mesh3d"
           }
          ],
          "parcoords": [
           {
            "line": {
             "colorbar": {
              "outlinewidth": 0,
              "ticks": ""
             }
            },
            "type": "parcoords"
           }
          ],
          "pie": [
           {
            "automargin": true,
            "type": "pie"
           }
          ],
          "scatter": [
           {
            "fillpattern": {
             "fillmode": "overlay",
             "size": 10,
             "solidity": 0.2
            },
            "type": "scatter"
           }
          ],
          "scatter3d": [
           {
            "line": {
             "colorbar": {
              "outlinewidth": 0,
              "ticks": ""
             }
            },
            "marker": {
             "colorbar": {
              "outlinewidth": 0,
              "ticks": ""
             }
            },
            "type": "scatter3d"
           }
          ],
          "scattercarpet": [
           {
            "marker": {
             "colorbar": {
              "outlinewidth": 0,
              "ticks": ""
             }
            },
            "type": "scattercarpet"
           }
          ],
          "scattergeo": [
           {
            "marker": {
             "colorbar": {
              "outlinewidth": 0,
              "ticks": ""
             }
            },
            "type": "scattergeo"
           }
          ],
          "scattergl": [
           {
            "marker": {
             "colorbar": {
              "outlinewidth": 0,
              "ticks": ""
             }
            },
            "type": "scattergl"
           }
          ],
          "scattermapbox": [
           {
            "marker": {
             "colorbar": {
              "outlinewidth": 0,
              "ticks": ""
             }
            },
            "type": "scattermapbox"
           }
          ],
          "scatterpolar": [
           {
            "marker": {
             "colorbar": {
              "outlinewidth": 0,
              "ticks": ""
             }
            },
            "type": "scatterpolar"
           }
          ],
          "scatterpolargl": [
           {
            "marker": {
             "colorbar": {
              "outlinewidth": 0,
              "ticks": ""
             }
            },
            "type": "scatterpolargl"
           }
          ],
          "scatterternary": [
           {
            "marker": {
             "colorbar": {
              "outlinewidth": 0,
              "ticks": ""
             }
            },
            "type": "scatterternary"
           }
          ],
          "surface": [
           {
            "colorbar": {
             "outlinewidth": 0,
             "ticks": ""
            },
            "colorscale": [
             [
              0,
              "#0d0887"
             ],
             [
              0.1111111111111111,
              "#46039f"
             ],
             [
              0.2222222222222222,
              "#7201a8"
             ],
             [
              0.3333333333333333,
              "#9c179e"
             ],
             [
              0.4444444444444444,
              "#bd3786"
             ],
             [
              0.5555555555555556,
              "#d8576b"
             ],
             [
              0.6666666666666666,
              "#ed7953"
             ],
             [
              0.7777777777777778,
              "#fb9f3a"
             ],
             [
              0.8888888888888888,
              "#fdca26"
             ],
             [
              1,
              "#f0f921"
             ]
            ],
            "type": "surface"
           }
          ],
          "table": [
           {
            "cells": {
             "fill": {
              "color": "#EBF0F8"
             },
             "line": {
              "color": "white"
             }
            },
            "header": {
             "fill": {
              "color": "#C8D4E3"
             },
             "line": {
              "color": "white"
             }
            },
            "type": "table"
           }
          ]
         },
         "layout": {
          "annotationdefaults": {
           "arrowcolor": "#2a3f5f",
           "arrowhead": 0,
           "arrowwidth": 1
          },
          "autotypenumbers": "strict",
          "coloraxis": {
           "colorbar": {
            "outlinewidth": 0,
            "ticks": ""
           }
          },
          "colorscale": {
           "diverging": [
            [
             0,
             "#8e0152"
            ],
            [
             0.1,
             "#c51b7d"
            ],
            [
             0.2,
             "#de77ae"
            ],
            [
             0.3,
             "#f1b6da"
            ],
            [
             0.4,
             "#fde0ef"
            ],
            [
             0.5,
             "#f7f7f7"
            ],
            [
             0.6,
             "#e6f5d0"
            ],
            [
             0.7,
             "#b8e186"
            ],
            [
             0.8,
             "#7fbc41"
            ],
            [
             0.9,
             "#4d9221"
            ],
            [
             1,
             "#276419"
            ]
           ],
           "sequential": [
            [
             0,
             "#0d0887"
            ],
            [
             0.1111111111111111,
             "#46039f"
            ],
            [
             0.2222222222222222,
             "#7201a8"
            ],
            [
             0.3333333333333333,
             "#9c179e"
            ],
            [
             0.4444444444444444,
             "#bd3786"
            ],
            [
             0.5555555555555556,
             "#d8576b"
            ],
            [
             0.6666666666666666,
             "#ed7953"
            ],
            [
             0.7777777777777778,
             "#fb9f3a"
            ],
            [
             0.8888888888888888,
             "#fdca26"
            ],
            [
             1,
             "#f0f921"
            ]
           ],
           "sequentialminus": [
            [
             0,
             "#0d0887"
            ],
            [
             0.1111111111111111,
             "#46039f"
            ],
            [
             0.2222222222222222,
             "#7201a8"
            ],
            [
             0.3333333333333333,
             "#9c179e"
            ],
            [
             0.4444444444444444,
             "#bd3786"
            ],
            [
             0.5555555555555556,
             "#d8576b"
            ],
            [
             0.6666666666666666,
             "#ed7953"
            ],
            [
             0.7777777777777778,
             "#fb9f3a"
            ],
            [
             0.8888888888888888,
             "#fdca26"
            ],
            [
             1,
             "#f0f921"
            ]
           ]
          },
          "colorway": [
           "#636efa",
           "#EF553B",
           "#00cc96",
           "#ab63fa",
           "#FFA15A",
           "#19d3f3",
           "#FF6692",
           "#B6E880",
           "#FF97FF",
           "#FECB52"
          ],
          "font": {
           "color": "#2a3f5f"
          },
          "geo": {
           "bgcolor": "white",
           "lakecolor": "white",
           "landcolor": "#E5ECF6",
           "showlakes": true,
           "showland": true,
           "subunitcolor": "white"
          },
          "hoverlabel": {
           "align": "left"
          },
          "hovermode": "closest",
          "mapbox": {
           "style": "light"
          },
          "paper_bgcolor": "white",
          "plot_bgcolor": "#E5ECF6",
          "polar": {
           "angularaxis": {
            "gridcolor": "white",
            "linecolor": "white",
            "ticks": ""
           },
           "bgcolor": "#E5ECF6",
           "radialaxis": {
            "gridcolor": "white",
            "linecolor": "white",
            "ticks": ""
           }
          },
          "scene": {
           "xaxis": {
            "backgroundcolor": "#E5ECF6",
            "gridcolor": "white",
            "gridwidth": 2,
            "linecolor": "white",
            "showbackground": true,
            "ticks": "",
            "zerolinecolor": "white"
           },
           "yaxis": {
            "backgroundcolor": "#E5ECF6",
            "gridcolor": "white",
            "gridwidth": 2,
            "linecolor": "white",
            "showbackground": true,
            "ticks": "",
            "zerolinecolor": "white"
           },
           "zaxis": {
            "backgroundcolor": "#E5ECF6",
            "gridcolor": "white",
            "gridwidth": 2,
            "linecolor": "white",
            "showbackground": true,
            "ticks": "",
            "zerolinecolor": "white"
           }
          },
          "shapedefaults": {
           "line": {
            "color": "#2a3f5f"
           }
          },
          "ternary": {
           "aaxis": {
            "gridcolor": "white",
            "linecolor": "white",
            "ticks": ""
           },
           "baxis": {
            "gridcolor": "white",
            "linecolor": "white",
            "ticks": ""
           },
           "bgcolor": "#E5ECF6",
           "caxis": {
            "gridcolor": "white",
            "linecolor": "white",
            "ticks": ""
           }
          },
          "title": {
           "x": 0.05
          },
          "xaxis": {
           "automargin": true,
           "gridcolor": "white",
           "linecolor": "white",
           "ticks": "",
           "title": {
            "standoff": 15
           },
           "zerolinecolor": "white",
           "zerolinewidth": 2
          },
          "yaxis": {
           "automargin": true,
           "gridcolor": "white",
           "linecolor": "white",
           "ticks": "",
           "title": {
            "standoff": 15
           },
           "zerolinecolor": "white",
           "zerolinewidth": 2
          }
         }
        },
        "title": {
         "text": "Flow Passage"
        },
        "yaxis": {
         "scaleanchor": "x"
        }
       }
      },
      "text/html": [
       "<div>                            <div id=\"e690b4e2-9c4e-4906-957b-a5bd8f83d966\" class=\"plotly-graph-div\" style=\"height:525px; width:100%;\"></div>            <script type=\"text/javascript\">                require([\"plotly\"], function(Plotly) {                    window.PLOTLYENV=window.PLOTLYENV || {};                                    if (document.getElementById(\"e690b4e2-9c4e-4906-957b-a5bd8f83d966\")) {                    Plotly.newPlot(                        \"e690b4e2-9c4e-4906-957b-a5bd8f83d966\",                        [{\"name\":\"Contour Top\",\"x\":[0.0,0.024242449999575005,0.04800040799326811,0.07128917372863348,0.09412404695322528,0.11652032741459765,0.1384933148603048,0.1600583090379009,0.18123060969494,0.20202551657897644,0.22245832943756422,0.24254434801825767,0.2622988720686109,0.2817372013361779,0.3008746355685132,0.3197264745131705,0.3383080179177044,0.35663456552966877,0.3747214170966179,0.3925838723661059,0.41023723108568705,0.4276967930029154,0.44497785786534516,0.46209572542053057,0.4790656954160256,0.49590391758535984,0.5126460913394928,0.5293474657668149,0.5460641399416909,0.5628522129384864,0.5797677838315667,0.5968669516952969,0.6142058156040424,0.6318404746321685,0.6498270278540405,0.6682215743440233,0.6870802131764825,0.7064590434257835,0.7264141641662912,0.7470016744723711,0.7682776734183885,0.7902982600787085,0.8131195335276966,0.8367975928397182,0.8613885370891379,0.8869484653503215,0.9135334766976344,0.9411996702054416,0.9700031449481084,1.0],\"y\":[0.2,0.1919526120239622,0.18558013691077682,0.18079643761021705,0.17751537707205603,0.17565081824606682,0.17511662408202272,0.1758266575296968,0.1776947815388622,0.18063485905929205,0.1845607530407595,0.18938632643303774,0.19502544218589996,0.20139196324911912,0.2083997525724686,0.21596267310572137,0.22399458779865064,0.2324093596010296,0.24112085146263126,0.25004292633322894,0.2590894471625957,0.26817427690050466,0.27721127849672905,0.286114314901042,0.2947972490632166,0.3031757426180763,0.31120682695660323,0.31888890322593805,0.3262221712582713,0.3332068308857941,0.33984308194069723,0.3461311242551716,0.3520711576614082,0.3576633819915977,0.36290799707793114,0.3678052027525993,0.3723551988477932,0.3765581851957037,0.38041436162852144,0.3839239279784376,0.3870870840776429,0.38990402975832833,0.3923749648526847,0.3945000891929029,0.3962796026111738,0.3977137049396883,0.39880259601063733,0.3995464756562117,0.3999455437086023,0.4],\"type\":\"scatter\"},{\"name\":\"Contour Bottom\",\"x\":[0.0,0.024242449999575005,0.04800040799326811,0.07128917372863348,0.09412404695322528,0.11652032741459765,0.1384933148603048,0.1600583090379009,0.18123060969494,0.20202551657897644,0.22245832943756422,0.24254434801825767,0.2622988720686109,0.2817372013361779,0.3008746355685132,0.3197264745131705,0.3383080179177044,0.35663456552966877,0.3747214170966179,0.3925838723661059,0.41023723108568705,0.4276967930029154,0.44497785786534516,0.46209572542053057,0.4790656954160256,0.49590391758535984,0.5126460913394928,0.5293474657668149,0.5460641399416909,0.5628522129384864,0.5797677838315667,0.5968669516952969,0.6142058156040424,0.6318404746321685,0.6498270278540405,0.6682215743440233,0.6870802131764825,0.7064590434257835,0.7264141641662912,0.7470016744723711,0.7682776734183885,0.7902982600787085,0.8131195335276966,0.8367975928397182,0.8613885370891379,0.8869484653503215,0.9135334766976344,0.9411996702054416,0.9700031449481084,1.0],\"y\":[-0.2,-0.1919526120239622,-0.18558013691077682,-0.18079643761021705,-0.17751537707205603,-0.17565081824606682,-0.17511662408202272,-0.1758266575296968,-0.1776947815388622,-0.18063485905929205,-0.1845607530407595,-0.18938632643303774,-0.19502544218589996,-0.20139196324911912,-0.2083997525724686,-0.21596267310572137,-0.22399458779865064,-0.2324093596010296,-0.24112085146263126,-0.25004292633322894,-0.2590894471625957,-0.26817427690050466,-0.27721127849672905,-0.286114314901042,-0.2947972490632166,-0.3031757426180763,-0.31120682695660323,-0.31888890322593805,-0.3262221712582713,-0.3332068308857941,-0.33984308194069723,-0.3461311242551716,-0.3520711576614082,-0.3576633819915977,-0.36290799707793114,-0.3678052027525993,-0.3723551988477932,-0.3765581851957037,-0.38041436162852144,-0.3839239279784376,-0.3870870840776429,-0.38990402975832833,-0.3923749648526847,-0.3945000891929029,-0.3962796026111738,-0.3977137049396883,-0.39880259601063733,-0.3995464756562117,-0.3999455437086023,-0.4],\"type\":\"scatter\"}],                        {\"title\":{\"text\":\"Flow Passage\"},\"template\":{\"data\":{\"histogram2dcontour\":[{\"type\":\"histogram2dcontour\",\"colorbar\":{\"outlinewidth\":0,\"ticks\":\"\"},\"colorscale\":[[0.0,\"#0d0887\"],[0.1111111111111111,\"#46039f\"],[0.2222222222222222,\"#7201a8\"],[0.3333333333333333,\"#9c179e\"],[0.4444444444444444,\"#bd3786\"],[0.5555555555555556,\"#d8576b\"],[0.6666666666666666,\"#ed7953\"],[0.7777777777777778,\"#fb9f3a\"],[0.8888888888888888,\"#fdca26\"],[1.0,\"#f0f921\"]]}],\"choropleth\":[{\"type\":\"choropleth\",\"colorbar\":{\"outlinewidth\":0,\"ticks\":\"\"}}],\"histogram2d\":[{\"type\":\"histogram2d\",\"colorbar\":{\"outlinewidth\":0,\"ticks\":\"\"},\"colorscale\":[[0.0,\"#0d0887\"],[0.1111111111111111,\"#46039f\"],[0.2222222222222222,\"#7201a8\"],[0.3333333333333333,\"#9c179e\"],[0.4444444444444444,\"#bd3786\"],[0.5555555555555556,\"#d8576b\"],[0.6666666666666666,\"#ed7953\"],[0.7777777777777778,\"#fb9f3a\"],[0.8888888888888888,\"#fdca26\"],[1.0,\"#f0f921\"]]}],\"heatmap\":[{\"type\":\"heatmap\",\"colorbar\":{\"outlinewidth\":0,\"ticks\":\"\"},\"colorscale\":[[0.0,\"#0d0887\"],[0.1111111111111111,\"#46039f\"],[0.2222222222222222,\"#7201a8\"],[0.3333333333333333,\"#9c179e\"],[0.4444444444444444,\"#bd3786\"],[0.5555555555555556,\"#d8576b\"],[0.6666666666666666,\"#ed7953\"],[0.7777777777777778,\"#fb9f3a\"],[0.8888888888888888,\"#fdca26\"],[1.0,\"#f0f921\"]]}],\"heatmapgl\":[{\"type\":\"heatmapgl\",\"colorbar\":{\"outlinewidth\":0,\"ticks\":\"\"},\"colorscale\":[[0.0,\"#0d0887\"],[0.1111111111111111,\"#46039f\"],[0.2222222222222222,\"#7201a8\"],[0.3333333333333333,\"#9c179e\"],[0.4444444444444444,\"#bd3786\"],[0.5555555555555556,\"#d8576b\"],[0.6666666666666666,\"#ed7953\"],[0.7777777777777778,\"#fb9f3a\"],[0.8888888888888888,\"#fdca26\"],[1.0,\"#f0f921\"]]}],\"contourcarpet\":[{\"type\":\"contourcarpet\",\"colorbar\":{\"outlinewidth\":0,\"ticks\":\"\"}}],\"contour\":[{\"type\":\"contour\",\"colorbar\":{\"outlinewidth\":0,\"ticks\":\"\"},\"colorscale\":[[0.0,\"#0d0887\"],[0.1111111111111111,\"#46039f\"],[0.2222222222222222,\"#7201a8\"],[0.3333333333333333,\"#9c179e\"],[0.4444444444444444,\"#bd3786\"],[0.5555555555555556,\"#d8576b\"],[0.6666666666666666,\"#ed7953\"],[0.7777777777777778,\"#fb9f3a\"],[0.8888888888888888,\"#fdca26\"],[1.0,\"#f0f921\"]]}],\"surface\":[{\"type\":\"surface\",\"colorbar\":{\"outlinewidth\":0,\"ticks\":\"\"},\"colorscale\":[[0.0,\"#0d0887\"],[0.1111111111111111,\"#46039f\"],[0.2222222222222222,\"#7201a8\"],[0.3333333333333333,\"#9c179e\"],[0.4444444444444444,\"#bd3786\"],[0.5555555555555556,\"#d8576b\"],[0.6666666666666666,\"#ed7953\"],[0.7777777777777778,\"#fb9f3a\"],[0.8888888888888888,\"#fdca26\"],[1.0,\"#f0f921\"]]}],\"mesh3d\":[{\"type\":\"mesh3d\",\"colorbar\":{\"outlinewidth\":0,\"ticks\":\"\"}}],\"scatter\":[{\"fillpattern\":{\"fillmode\":\"overlay\",\"size\":10,\"solidity\":0.2},\"type\":\"scatter\"}],\"parcoords\":[{\"type\":\"parcoords\",\"line\":{\"colorbar\":{\"outlinewidth\":0,\"ticks\":\"\"}}}],\"scatterpolargl\":[{\"type\":\"scatterpolargl\",\"marker\":{\"colorbar\":{\"outlinewidth\":0,\"ticks\":\"\"}}}],\"bar\":[{\"error_x\":{\"color\":\"#2a3f5f\"},\"error_y\":{\"color\":\"#2a3f5f\"},\"marker\":{\"line\":{\"color\":\"#E5ECF6\",\"width\":0.5},\"pattern\":{\"fillmode\":\"overlay\",\"size\":10,\"solidity\":0.2}},\"type\":\"bar\"}],\"scattergeo\":[{\"type\":\"scattergeo\",\"marker\":{\"colorbar\":{\"outlinewidth\":0,\"ticks\":\"\"}}}],\"scatterpolar\":[{\"type\":\"scatterpolar\",\"marker\":{\"colorbar\":{\"outlinewidth\":0,\"ticks\":\"\"}}}],\"histogram\":[{\"marker\":{\"pattern\":{\"fillmode\":\"overlay\",\"size\":10,\"solidity\":0.2}},\"type\":\"histogram\"}],\"scattergl\":[{\"type\":\"scattergl\",\"marker\":{\"colorbar\":{\"outlinewidth\":0,\"ticks\":\"\"}}}],\"scatter3d\":[{\"type\":\"scatter3d\",\"line\":{\"colorbar\":{\"outlinewidth\":0,\"ticks\":\"\"}},\"marker\":{\"colorbar\":{\"outlinewidth\":0,\"ticks\":\"\"}}}],\"scattermapbox\":[{\"type\":\"scattermapbox\",\"marker\":{\"colorbar\":{\"outlinewidth\":0,\"ticks\":\"\"}}}],\"scatterternary\":[{\"type\":\"scatterternary\",\"marker\":{\"colorbar\":{\"outlinewidth\":0,\"ticks\":\"\"}}}],\"scattercarpet\":[{\"type\":\"scattercarpet\",\"marker\":{\"colorbar\":{\"outlinewidth\":0,\"ticks\":\"\"}}}],\"carpet\":[{\"aaxis\":{\"endlinecolor\":\"#2a3f5f\",\"gridcolor\":\"white\",\"linecolor\":\"white\",\"minorgridcolor\":\"white\",\"startlinecolor\":\"#2a3f5f\"},\"baxis\":{\"endlinecolor\":\"#2a3f5f\",\"gridcolor\":\"white\",\"linecolor\":\"white\",\"minorgridcolor\":\"white\",\"startlinecolor\":\"#2a3f5f\"},\"type\":\"carpet\"}],\"table\":[{\"cells\":{\"fill\":{\"color\":\"#EBF0F8\"},\"line\":{\"color\":\"white\"}},\"header\":{\"fill\":{\"color\":\"#C8D4E3\"},\"line\":{\"color\":\"white\"}},\"type\":\"table\"}],\"barpolar\":[{\"marker\":{\"line\":{\"color\":\"#E5ECF6\",\"width\":0.5},\"pattern\":{\"fillmode\":\"overlay\",\"size\":10,\"solidity\":0.2}},\"type\":\"barpolar\"}],\"pie\":[{\"automargin\":true,\"type\":\"pie\"}]},\"layout\":{\"autotypenumbers\":\"strict\",\"colorway\":[\"#636efa\",\"#EF553B\",\"#00cc96\",\"#ab63fa\",\"#FFA15A\",\"#19d3f3\",\"#FF6692\",\"#B6E880\",\"#FF97FF\",\"#FECB52\"],\"font\":{\"color\":\"#2a3f5f\"},\"hovermode\":\"closest\",\"hoverlabel\":{\"align\":\"left\"},\"paper_bgcolor\":\"white\",\"plot_bgcolor\":\"#E5ECF6\",\"polar\":{\"bgcolor\":\"#E5ECF6\",\"angularaxis\":{\"gridcolor\":\"white\",\"linecolor\":\"white\",\"ticks\":\"\"},\"radialaxis\":{\"gridcolor\":\"white\",\"linecolor\":\"white\",\"ticks\":\"\"}},\"ternary\":{\"bgcolor\":\"#E5ECF6\",\"aaxis\":{\"gridcolor\":\"white\",\"linecolor\":\"white\",\"ticks\":\"\"},\"baxis\":{\"gridcolor\":\"white\",\"linecolor\":\"white\",\"ticks\":\"\"},\"caxis\":{\"gridcolor\":\"white\",\"linecolor\":\"white\",\"ticks\":\"\"}},\"coloraxis\":{\"colorbar\":{\"outlinewidth\":0,\"ticks\":\"\"}},\"colorscale\":{\"sequential\":[[0.0,\"#0d0887\"],[0.1111111111111111,\"#46039f\"],[0.2222222222222222,\"#7201a8\"],[0.3333333333333333,\"#9c179e\"],[0.4444444444444444,\"#bd3786\"],[0.5555555555555556,\"#d8576b\"],[0.6666666666666666,\"#ed7953\"],[0.7777777777777778,\"#fb9f3a\"],[0.8888888888888888,\"#fdca26\"],[1.0,\"#f0f921\"]],\"sequentialminus\":[[0.0,\"#0d0887\"],[0.1111111111111111,\"#46039f\"],[0.2222222222222222,\"#7201a8\"],[0.3333333333333333,\"#9c179e\"],[0.4444444444444444,\"#bd3786\"],[0.5555555555555556,\"#d8576b\"],[0.6666666666666666,\"#ed7953\"],[0.7777777777777778,\"#fb9f3a\"],[0.8888888888888888,\"#fdca26\"],[1.0,\"#f0f921\"]],\"diverging\":[[0,\"#8e0152\"],[0.1,\"#c51b7d\"],[0.2,\"#de77ae\"],[0.3,\"#f1b6da\"],[0.4,\"#fde0ef\"],[0.5,\"#f7f7f7\"],[0.6,\"#e6f5d0\"],[0.7,\"#b8e186\"],[0.8,\"#7fbc41\"],[0.9,\"#4d9221\"],[1,\"#276419\"]]},\"xaxis\":{\"gridcolor\":\"white\",\"linecolor\":\"white\",\"ticks\":\"\",\"title\":{\"standoff\":15},\"zerolinecolor\":\"white\",\"automargin\":true,\"zerolinewidth\":2},\"yaxis\":{\"gridcolor\":\"white\",\"linecolor\":\"white\",\"ticks\":\"\",\"title\":{\"standoff\":15},\"zerolinecolor\":\"white\",\"automargin\":true,\"zerolinewidth\":2},\"scene\":{\"xaxis\":{\"backgroundcolor\":\"#E5ECF6\",\"gridcolor\":\"white\",\"linecolor\":\"white\",\"showbackground\":true,\"ticks\":\"\",\"zerolinecolor\":\"white\",\"gridwidth\":2},\"yaxis\":{\"backgroundcolor\":\"#E5ECF6\",\"gridcolor\":\"white\",\"linecolor\":\"white\",\"showbackground\":true,\"ticks\":\"\",\"zerolinecolor\":\"white\",\"gridwidth\":2},\"zaxis\":{\"backgroundcolor\":\"#E5ECF6\",\"gridcolor\":\"white\",\"linecolor\":\"white\",\"showbackground\":true,\"ticks\":\"\",\"zerolinecolor\":\"white\",\"gridwidth\":2}},\"shapedefaults\":{\"line\":{\"color\":\"#2a3f5f\"}},\"annotationdefaults\":{\"arrowcolor\":\"#2a3f5f\",\"arrowhead\":0,\"arrowwidth\":1},\"geo\":{\"bgcolor\":\"white\",\"landcolor\":\"#E5ECF6\",\"subunitcolor\":\"white\",\"showland\":true,\"showlakes\":true,\"lakecolor\":\"white\"},\"title\":{\"x\":0.05},\"mapbox\":{\"style\":\"light\"}}},\"yaxis\":{\"scaleanchor\":\"x\"}},                        {\"responsive\": true}                    ).then(function(){\n",
       "                            \n",
       "var gd = document.getElementById('e690b4e2-9c4e-4906-957b-a5bd8f83d966');\n",
       "var x = new MutationObserver(function (mutations, observer) {{\n",
       "        var display = window.getComputedStyle(gd).display;\n",
       "        if (!display || display === 'none') {{\n",
       "            console.log([gd, 'removed!']);\n",
       "            Plotly.purge(gd);\n",
       "            observer.disconnect();\n",
       "        }}\n",
       "}});\n",
       "\n",
       "// Listen for the removal of the full notebook cells\n",
       "var notebookContainer = gd.closest('#notebook-container');\n",
       "if (notebookContainer) {{\n",
       "    x.observe(notebookContainer, {childList: true});\n",
       "}}\n",
       "\n",
       "// Listen for the clearing of the current output cell\n",
       "var outputEl = gd.closest('.output');\n",
       "if (outputEl) {{\n",
       "    x.observe(outputEl, {childList: true});\n",
       "}}\n",
       "\n",
       "                        })                };                });            </script>        </div>"
      ]
     },
     "metadata": {},
     "output_type": "display_data"
    }
   ],
   "source": [
    "passage = SymmetricPassage(\n",
    "    inlet_radius=0.2,\n",
    "    area_ratio=2,\n",
    "    axial_length=1,\n",
    "    contour_props=[0.2, 0.5, 0.75],\n",
    "    contour_angles=np.radians([-20, 15.0, 15.0]).tolist()\n",
    ")\n",
    "passage.visualize()"
   ]
  },
  {
   "attachments": {},
   "cell_type": "markdown",
   "metadata": {},
   "source": [
    "## Inlet Condtions"
   ]
  },
  {
   "cell_type": "code",
   "execution_count": 7,
   "metadata": {},
   "outputs": [],
   "source": [
    "flasher = get_flasher(\"Octamethyltrisiloxane\", \"gas\")\n",
    "inlet_total_state = flasher.flash(T=542.13, P=904388)\n",
    "inflow = FlowState(inlet_total_state, mach_number=1E-9, radius=passage.inlet_radius)"
   ]
  },
  {
   "attachments": {},
   "cell_type": "markdown",
   "metadata": {},
   "source": [
    "## Run Simulation"
   ]
  },
  {
   "cell_type": "code",
   "execution_count": 8,
   "metadata": {},
   "outputs": [
    {
     "name": "stdout",
     "output_type": "stream",
     "text": [
      "\u001b[2m\u001b[36m(run_simulation pid=3466)\u001b[0m Info    : Meshing 1D...\n",
      "\u001b[2m\u001b[36m(run_simulation pid=3466)\u001b[0m Info    : [  0%] Meshing curve 1 (Nurb)\n",
      "\u001b[2m\u001b[36m(run_simulation pid=3466)\u001b[0m Info    : [ 30%] Meshing curve 2 (Line)\n",
      "\u001b[2m\u001b[36m(run_simulation pid=3466)\u001b[0m Info    : [ 50%] Meshing curve 3 (Line)\n",
      "\u001b[2m\u001b[36m(run_simulation pid=3466)\u001b[0m Info    : [ 80%] Meshing curve 4 (Line)\n",
      "\u001b[2m\u001b[36m(run_simulation pid=3466)\u001b[0m Info    : Done meshing 1D (Wall 0.00655009s, CPU 0.005373s)\n",
      "\u001b[2m\u001b[36m(run_simulation pid=3466)\u001b[0m Info    : Meshing 2D...\n",
      "\u001b[2m\u001b[36m(run_simulation pid=3466)\u001b[0m Info    : Meshing surface 1 (Transfinite)\n",
      "\u001b[2m\u001b[36m(run_simulation pid=3466)\u001b[0m Info    : Done meshing 2D (Wall 0.00396734s, CPU 0.003856s)\n",
      "\u001b[2m\u001b[36m(run_simulation pid=3466)\u001b[0m Info    : Meshing 3D...\n",
      "\u001b[2m\u001b[36m(run_simulation pid=3466)\u001b[0m Info    : Done meshing 3D (Wall 1.6127e-05s, CPU 2.3e-05s)\n",
      "\u001b[2m\u001b[36m(run_simulation pid=3466)\u001b[0m Info    : 10204 nodes 10407 elements\n",
      "\u001b[2m\u001b[36m(run_simulation pid=3466)\u001b[0m WARNING: The current SST-1994m model is inconsistent with literature. We recommend using the SST-2003m model.\n",
      "\u001b[2m\u001b[36m(run_simulation pid=3466)\u001b[0m In SU2 v8 the 2003m model will become default, and the inconsistency will be fixed.\n",
      "\u001b[2m\u001b[36m(run_simulation pid=3466)\u001b[0m \n",
      "\u001b[2m\u001b[36m(run_simulation pid=3466)\u001b[0m Parsing config file for zone 0\n",
      "\u001b[2m\u001b[36m(run_simulation pid=3466)\u001b[0m WARNING: The current SST-1994m model is inconsistent with literature. We recommend using the SST-2003m model.\n",
      "\u001b[2m\u001b[36m(run_simulation pid=3466)\u001b[0m In SU2 v8 the 2003m model will become default, and the inconsistency will be fixed.\n",
      "\u001b[2m\u001b[36m(run_simulation pid=3466)\u001b[0m \n",
      "\u001b[2m\u001b[36m(run_simulation pid=3466)\u001b[0m ----------------- Physical Case Definition ( Zone 0 ) -------------------\n",
      "\u001b[2m\u001b[36m(run_simulation pid=3466)\u001b[0m Compressible RANS equations.\n",
      "\u001b[2m\u001b[36m(run_simulation pid=3466)\u001b[0m Turbulence model: Menter's k-omega SST-1994m with no production modification.\n",
      "\u001b[2m\u001b[36m(run_simulation pid=3466)\u001b[0m Hybrid RANS/LES: No Hybrid RANS/LES\n",
      "\u001b[2m\u001b[36m(run_simulation pid=3466)\u001b[0m Mach number: 1e-09.\n",
      "\u001b[2m\u001b[36m(run_simulation pid=3466)\u001b[0m Angle of attack (AoA): 0 deg, and angle of sideslip (AoS): 0 deg.\n",
      "\u001b[2m\u001b[36m(run_simulation pid=3466)\u001b[0m Reynolds number: 0. Reference length 1.\n",
      "\u001b[2m\u001b[36m(run_simulation pid=3466)\u001b[0m No restart solution, use the values at infinity (freestream).\n",
      "\u001b[2m\u001b[36m(run_simulation pid=3466)\u001b[0m Dimensional simulation.\n",
      "\u001b[2m\u001b[36m(run_simulation pid=3466)\u001b[0m The reference area is 1 m^2.\n",
      "\u001b[2m\u001b[36m(run_simulation pid=3466)\u001b[0m The semi-span will be computed using the max y(3D) value.\n",
      "\u001b[2m\u001b[36m(run_simulation pid=3466)\u001b[0m The reference length is 1 m.\n",
      "\u001b[2m\u001b[36m(run_simulation pid=3466)\u001b[0m Input mesh file name: /workspaces/paraflow/simulation/passage1.su2\n",
      "\u001b[2m\u001b[36m(run_simulation pid=3466)\u001b[0m \n",
      "\u001b[2m\u001b[36m(run_simulation pid=3466)\u001b[0m --------------- Space Numerical Integration ( Zone 0 ) ------------------\n",
      "\u001b[2m\u001b[36m(run_simulation pid=3466)\u001b[0m Roe (with entropy fix = 0.1) solver for the flow inviscid terms.\n",
      "\u001b[2m\u001b[36m(run_simulation pid=3466)\u001b[0m Standard Roe without low-dissipation function.\n",
      "\u001b[2m\u001b[36m(run_simulation pid=3466)\u001b[0m Second order integration in space, with slope limiter.\n",
      "\u001b[2m\u001b[36m(run_simulation pid=3466)\u001b[0m No slope-limiting method. \n",
      "\u001b[2m\u001b[36m(run_simulation pid=3466)\u001b[0m Scalar upwind solver for the turbulence model.\n",
      "\u001b[2m\u001b[36m(run_simulation pid=3466)\u001b[0m First order integration in space.\n",
      "\u001b[2m\u001b[36m(run_simulation pid=3466)\u001b[0m Average of gradients with correction (viscous flow terms).\n",
      "\u001b[2m\u001b[36m(run_simulation pid=3466)\u001b[0m Average of gradients with correction (viscous turbulence terms).\n",
      "\u001b[2m\u001b[36m(run_simulation pid=3466)\u001b[0m Gradient for upwind reconstruction: Green-Gauss.\n",
      "\u001b[2m\u001b[36m(run_simulation pid=3466)\u001b[0m Gradient for viscous and source terms: Green-Gauss.\n",
      "\u001b[2m\u001b[36m(run_simulation pid=3466)\u001b[0m \n",
      "\u001b[2m\u001b[36m(run_simulation pid=3466)\u001b[0m --------------- Time Numerical Integration  ( Zone 0 ) ------------------\n",
      "\u001b[2m\u001b[36m(run_simulation pid=3466)\u001b[0m Local time stepping (steady state simulation).\n",
      "\u001b[2m\u001b[36m(run_simulation pid=3466)\u001b[0m Euler implicit method for the flow equations.\n",
      "\u001b[2m\u001b[36m(run_simulation pid=3466)\u001b[0m FGMRES is used for solving the linear system.\n",
      "\u001b[2m\u001b[36m(run_simulation pid=3466)\u001b[0m Using a ILU(0) preconditioning.\n",
      "\u001b[2m\u001b[36m(run_simulation pid=3466)\u001b[0m Convergence criteria of the linear solver: 1e-06.\n",
      "\u001b[2m\u001b[36m(run_simulation pid=3466)\u001b[0m Max number of linear iterations: 10.\n",
      "\u001b[2m\u001b[36m(run_simulation pid=3466)\u001b[0m CFL adaptation. Factor down: 0.1, factor up: 2,\n",
      "\u001b[2m\u001b[36m(run_simulation pid=3466)\u001b[0m                 lower limit: 10, upper limit: 1000,\n",
      "\u001b[2m\u001b[36m(run_simulation pid=3466)\u001b[0m                 acceptable linear residual: 0.001.\n",
      "\u001b[2m\u001b[36m(run_simulation pid=3466)\u001b[0m Courant-Friedrichs-Lewy number:   1     \n",
      "\u001b[2m\u001b[36m(run_simulation pid=3466)\u001b[0m Euler implicit time integration for the turbulence model.\n",
      "\u001b[2m\u001b[36m(run_simulation pid=3466)\u001b[0m \n",
      "\u001b[2m\u001b[36m(run_simulation pid=3466)\u001b[0m ------------------ Convergence Criteria  ( Zone 0 ) ---------------------\n",
      "\u001b[2m\u001b[36m(run_simulation pid=3466)\u001b[0m Maximum number of solver subiterations: 100.\n",
      "\u001b[2m\u001b[36m(run_simulation pid=3466)\u001b[0m Begin convergence monitoring at iteration 10.\n",
      "\u001b[2m\u001b[36m(run_simulation pid=3466)\u001b[0m Residual minimum value: 1e-24.\n",
      "\u001b[2m\u001b[36m(run_simulation pid=3466)\u001b[0m Cauchy series min. value: 1e-10.\n",
      "\u001b[2m\u001b[36m(run_simulation pid=3466)\u001b[0m Number of Cauchy elements: 100.\n",
      "\u001b[2m\u001b[36m(run_simulation pid=3466)\u001b[0m Begin windowed time average at iteration 0.\n",
      "\u001b[2m\u001b[36m(run_simulation pid=3466)\u001b[0m \n",
      "\u001b[2m\u001b[36m(run_simulation pid=3466)\u001b[0m -------------------- Output Information ( Zone 0 ) ----------------------\n",
      "\u001b[2m\u001b[36m(run_simulation pid=3466)\u001b[0m File writing frequency: \n",
      "\u001b[2m\u001b[36m(run_simulation pid=3466)\u001b[0m +------------------------------------+\n",
      "\u001b[2m\u001b[36m(run_simulation pid=3466)\u001b[0m |                     File| Frequency|\n",
      "\u001b[2m\u001b[36m(run_simulation pid=3466)\u001b[0m +------------------------------------+\n",
      "\u001b[2m\u001b[36m(run_simulation pid=3466)\u001b[0m |                  RESTART|      1000|\n",
      "\u001b[2m\u001b[36m(run_simulation pid=3466)\u001b[0m |                 PARAVIEW|      1000|\n",
      "\u001b[2m\u001b[36m(run_simulation pid=3466)\u001b[0m |         SURFACE_PARAVIEW|      1000|\n",
      "\u001b[2m\u001b[36m(run_simulation pid=3466)\u001b[0m +------------------------------------+\n",
      "\u001b[2m\u001b[36m(run_simulation pid=3466)\u001b[0m Writing the convergence history file every 1 inner iterations.\n",
      "\u001b[2m\u001b[36m(run_simulation pid=3466)\u001b[0m Writing the screen convergence history every 1 inner iterations.\n",
      "\u001b[2m\u001b[36m(run_simulation pid=3466)\u001b[0m The tabular file format is CSV (.csv).\n",
      "\u001b[2m\u001b[36m(run_simulation pid=3466)\u001b[0m Convergence history file name: /workspaces/paraflow/simulation/history1.\n",
      "\u001b[2m\u001b[36m(run_simulation pid=3466)\u001b[0m Forces breakdown file name: forces_breakdown.dat.\n",
      "\u001b[2m\u001b[36m(run_simulation pid=3466)\u001b[0m Surface file name: /workspaces/paraflow/simulation/surface_flow1.\n",
      "\u001b[2m\u001b[36m(run_simulation pid=3466)\u001b[0m Volume file name: /workspaces/paraflow/simulation/flow1.\n",
      "\u001b[2m\u001b[36m(run_simulation pid=3466)\u001b[0m Restart file name: /workspaces/paraflow/simulation/restart_flow1.dat.\n",
      "\u001b[2m\u001b[36m(run_simulation pid=3466)\u001b[0m \n",
      "\u001b[2m\u001b[36m(run_simulation pid=3466)\u001b[0m ------------- Config File Boundary Information ( Zone 0 ) ---------------\n",
      "\u001b[2m\u001b[36m(run_simulation pid=3466)\u001b[0m +-----------------------------------------------------------------------+\n",
      "\u001b[2m\u001b[36m(run_simulation pid=3466)\u001b[0m |                        Marker Type|                        Marker Name|\n",
      "\u001b[2m\u001b[36m(run_simulation pid=3466)\u001b[0m +-----------------------------------------------------------------------+\n",
      "\u001b[2m\u001b[36m(run_simulation pid=3466)\u001b[0m |                     Symmetry plane|                           symmetry|\n",
      "\u001b[2m\u001b[36m(run_simulation pid=3466)\u001b[0m +-----------------------------------------------------------------------+\n",
      "\u001b[2m\u001b[36m(run_simulation pid=3466)\u001b[0m |                   Riemann boundary|                             inflow|\n",
      "\u001b[2m\u001b[36m(run_simulation pid=3466)\u001b[0m |                                   |                            outflow|\n",
      "\u001b[2m\u001b[36m(run_simulation pid=3466)\u001b[0m +-----------------------------------------------------------------------+\n",
      "\u001b[2m\u001b[36m(run_simulation pid=3466)\u001b[0m |                     Heat flux wall|                               wall|\n",
      "\u001b[2m\u001b[36m(run_simulation pid=3466)\u001b[0m +-----------------------------------------------------------------------+\n",
      "\u001b[2m\u001b[36m(run_simulation pid=3466)\u001b[0m \n",
      "\u001b[2m\u001b[36m(run_simulation pid=3466)\u001b[0m -------------------- Output Preprocessing ( Zone 0 ) --------------------\n",
      "\u001b[2m\u001b[36m(run_simulation pid=3466)\u001b[0m \n",
      "\u001b[2m\u001b[36m(run_simulation pid=3466)\u001b[0m WARNING: SURFACE_PRESSURE_DROP can only be computed for at least 2 surfaces (outlet, inlet, ...)\n",
      "\u001b[2m\u001b[36m(run_simulation pid=3466)\u001b[0m \n",
      "\u001b[2m\u001b[36m(run_simulation pid=3466)\u001b[0m Screen output fields: INNER_ITER, RMS_DENSITY, RMS_TKE, RMS_DISSIPATION, LIFT, DRAG\n",
      "\u001b[2m\u001b[36m(run_simulation pid=3466)\u001b[0m History output group(s): ITER, RMS_RES\n",
      "\u001b[2m\u001b[36m(run_simulation pid=3466)\u001b[0m Convergence field(s): RMS_DENSITY\n",
      "\u001b[2m\u001b[36m(run_simulation pid=3466)\u001b[0m Warning: No (valid) fields chosen for time convergence monitoring. Time convergence monitoring inactive.\n",
      "\u001b[2m\u001b[36m(run_simulation pid=3466)\u001b[0m Volume output fields: COORDINATES, SOLUTION, PRIMITIVE\n",
      "\u001b[2m\u001b[36m(run_simulation pid=3466)\u001b[0m \n",
      "\u001b[2m\u001b[36m(run_simulation pid=3466)\u001b[0m ------------------- Geometry Preprocessing ( Zone 0 ) -------------------\n",
      "\u001b[2m\u001b[36m(run_simulation pid=3466)\u001b[0m Two dimensional problem.\n",
      "\u001b[2m\u001b[36m(run_simulation pid=3466)\u001b[0m 10201 grid points.\n",
      "\u001b[2m\u001b[36m(run_simulation pid=3466)\u001b[0m 10000 volume elements.\n",
      "\u001b[2m\u001b[36m(run_simulation pid=3466)\u001b[0m 4 surface markers.\n",
      "\u001b[2m\u001b[36m(run_simulation pid=3466)\u001b[0m 100 boundary elements in index 0 (Marker = wall).\n",
      "\u001b[2m\u001b[36m(run_simulation pid=3466)\u001b[0m 100 boundary elements in index 1 (Marker = outflow).\n",
      "\u001b[2m\u001b[36m(run_simulation pid=3466)\u001b[0m 100 boundary elements in index 2 (Marker = symmetry).\n",
      "\u001b[2m\u001b[36m(run_simulation pid=3466)\u001b[0m 100 boundary elements in index 3 (Marker = inflow).\n",
      "\u001b[2m\u001b[36m(run_simulation pid=3466)\u001b[0m 10000 quadrilaterals.\n",
      "\u001b[2m\u001b[36m(run_simulation pid=3466)\u001b[0m Setting point connectivity.\n",
      "\u001b[2m\u001b[36m(run_simulation pid=3466)\u001b[0m Renumbering points (Reverse Cuthill McKee Ordering).\n",
      "\u001b[2m\u001b[36m(run_simulation pid=3466)\u001b[0m Recomputing point connectivity.\n",
      "\u001b[2m\u001b[36m(run_simulation pid=3466)\u001b[0m Setting element connectivity.\n",
      "\u001b[2m\u001b[36m(run_simulation pid=3466)\u001b[0m Checking the numerical grid orientation.\n",
      "\u001b[2m\u001b[36m(run_simulation pid=3466)\u001b[0m There has been a re-orientation of 10000 QUADRILATERAL volume elements.\n",
      "\u001b[2m\u001b[36m(run_simulation pid=3466)\u001b[0m There has been a re-orientation of 400 LINE surface elements.\n",
      "\u001b[2m\u001b[36m(run_simulation pid=3466)\u001b[0m Identifying edges and vertices.\n",
      "\u001b[2m\u001b[36m(run_simulation pid=3466)\u001b[0m Setting the control volume structure.\n",
      "\u001b[2m\u001b[36m(run_simulation pid=3466)\u001b[0m Area of the computational grid: 0.293302.\n",
      "\u001b[2m\u001b[36m(run_simulation pid=3466)\u001b[0m Searching for the closest normal neighbors to the surfaces.\n",
      "\u001b[2m\u001b[36m(run_simulation pid=3466)\u001b[0m Storing a mapping from global to local point index.\n",
      "\u001b[2m\u001b[36m(run_simulation pid=3466)\u001b[0m Compute the surface curvature.\n",
      "\u001b[2m\u001b[36m(run_simulation pid=3466)\u001b[0m Max K: 191.624. Mean K: 3.07251. Standard deviation K: 19.8965.\n",
      "\u001b[2m\u001b[36m(run_simulation pid=3466)\u001b[0m Checking for periodicity.\n",
      "\u001b[2m\u001b[36m(run_simulation pid=3466)\u001b[0m Computing mesh quality statistics for the dual control volumes.\n",
      "\u001b[2m\u001b[36m(run_simulation pid=3466)\u001b[0m +--------------------------------------------------------------+\n",
      "\u001b[2m\u001b[36m(run_simulation pid=3466)\u001b[0m |           Mesh Quality Metric|        Minimum|        Maximum|\n",
      "\u001b[2m\u001b[36m(run_simulation pid=3466)\u001b[0m +--------------------------------------------------------------+\n",
      "\u001b[2m\u001b[36m(run_simulation pid=3466)\u001b[0m |    Orthogonality Angle (deg.)|        62.7839|        89.9841|\n",
      "\u001b[2m\u001b[36m(run_simulation pid=3466)\u001b[0m |     CV Face Area Aspect Ratio|        1.00591|        16417.9|\n",
      "\u001b[2m\u001b[36m(run_simulation pid=3466)\u001b[0m |           CV Sub-Volume Ratio|        1.00002|        1.12222|\n",
      "\u001b[2m\u001b[36m(run_simulation pid=3466)\u001b[0m +--------------------------------------------------------------+\n",
      "\u001b[2m\u001b[36m(run_simulation pid=3466)\u001b[0m Finding max control volume width.\n",
      "\u001b[2m\u001b[36m(run_simulation pid=3466)\u001b[0m Wetted area = 0 m.\n",
      "\u001b[2m\u001b[36m(run_simulation pid=3466)\u001b[0m Area projection in the x-plane = 0 m, y-plane = 0 m.\n",
      "\u001b[2m\u001b[36m(run_simulation pid=3466)\u001b[0m Max. coordinate in the x-direction = -1e+10 m, y-direction = -1e+10 m.\n",
      "\u001b[2m\u001b[36m(run_simulation pid=3466)\u001b[0m Min. coordinate in the x-direction = 1e+10 m, y-direction = 1e+10 m.\n",
      "\u001b[2m\u001b[36m(run_simulation pid=3466)\u001b[0m Checking if Euler & Symmetry markers are straight/plane:\n",
      "\u001b[2m\u001b[36m(run_simulation pid=3466)\u001b[0m Boundary marker symmetry is a single straight.\n",
      "\u001b[2m\u001b[36m(run_simulation pid=3466)\u001b[0m Computing wall distances.\n",
      "\u001b[2m\u001b[36m(run_simulation pid=3466)\u001b[0m \n",
      "\u001b[2m\u001b[36m(run_simulation pid=3466)\u001b[0m -------------------- Solver Preprocessing ( Zone 0 ) --------------------\n",
      "\u001b[2m\u001b[36m(run_simulation pid=3466)\u001b[0m Viscous flow: Computing pressure using the ideal gas law\n",
      "\u001b[2m\u001b[36m(run_simulation pid=3466)\u001b[0m based on the free-stream temperature and a density computed\n",
      "\u001b[2m\u001b[36m(run_simulation pid=3466)\u001b[0m from the Reynolds number.\n",
      "\u001b[2m\u001b[36m(run_simulation pid=3466)\u001b[0m Force coefficients computed using free-stream values.\n",
      "\u001b[2m\u001b[36m(run_simulation pid=3466)\u001b[0m \n",
      "\u001b[2m\u001b[36m(run_simulation pid=3466)\u001b[0m -- Models:\n",
      "\u001b[2m\u001b[36m(run_simulation pid=3466)\u001b[0m +------------------------------------------------------------------------------+\n",
      "\u001b[2m\u001b[36m(run_simulation pid=3466)\u001b[0m |          Viscosity Model|        Conductivity Model|              Fluid Model|\n",
      "\u001b[2m\u001b[36m(run_simulation pid=3466)\u001b[0m +------------------------------------------------------------------------------+\n",
      "\u001b[2m\u001b[36m(run_simulation pid=3466)\u001b[0m |       CONSTANT_VISCOSITY|                  CONSTANT|                   PR_GAS|\n",
      "\u001b[2m\u001b[36m(run_simulation pid=3466)\u001b[0m +------------------------------------------------------------------------------+\n",
      "\u001b[2m\u001b[36m(run_simulation pid=3466)\u001b[0m -- Fluid properties:\n",
      "\u001b[2m\u001b[36m(run_simulation pid=3466)\u001b[0m +------------------------------------------------------------------------------+\n",
      "\u001b[2m\u001b[36m(run_simulation pid=3466)\u001b[0m |                  Name|    Dim. value|    Ref. value|      Unit|Non-dim. value|\n",
      "\u001b[2m\u001b[36m(run_simulation pid=3466)\u001b[0m +------------------------------------------------------------------------------+\n",
      "\u001b[2m\u001b[36m(run_simulation pid=3466)\u001b[0m |             Viscosity|   9.59258e-06|             1|   N.s/m^2|   9.59258e-06|\n",
      "\u001b[2m\u001b[36m(run_simulation pid=3466)\u001b[0m +------------------------------------------------------------------------------+\n",
      "\u001b[2m\u001b[36m(run_simulation pid=3466)\u001b[0m |       Molecular Cond.|     0.0253015|             1|   W/m^2.K|     0.0253015|\n",
      "\u001b[2m\u001b[36m(run_simulation pid=3466)\u001b[0m +------------------------------------------------------------------------------+\n",
      "\u001b[2m\u001b[36m(run_simulation pid=3466)\u001b[0m |          Gas Constant|       35.1516|             1|  N.m/kg.K|       35.1516|\n",
      "\u001b[2m\u001b[36m(run_simulation pid=3466)\u001b[0m |      Spec. Heat Ratio|             -|             -|         -|       1.12483|\n",
      "\u001b[2m\u001b[36m(run_simulation pid=3466)\u001b[0m |     Critical Pressure|      1.42e+06|             1|          |      1.42e+06|\n",
      "\u001b[2m\u001b[36m(run_simulation pid=3466)\u001b[0m |  Critical Temperature|           564|             1|         K|           564|\n",
      "\u001b[2m\u001b[36m(run_simulation pid=3466)\u001b[0m +------------------------------------------------------------------------------+\n",
      "\u001b[2m\u001b[36m(run_simulation pid=3466)\u001b[0m -- Initial and free-stream conditions:\n",
      "\u001b[2m\u001b[36m(run_simulation pid=3466)\u001b[0m +------------------------------------------------------------------------------+\n",
      "\u001b[2m\u001b[36m(run_simulation pid=3466)\u001b[0m |                  Name|    Dim. value|    Ref. value|      Unit|Non-dim. value|\n",
      "\u001b[2m\u001b[36m(run_simulation pid=3466)\u001b[0m +------------------------------------------------------------------------------+\n",
      "\u001b[2m\u001b[36m(run_simulation pid=3466)\u001b[0m |       Static Pressure|        904388|             1|        Pa|        904388|\n",
      "\u001b[2m\u001b[36m(run_simulation pid=3466)\u001b[0m |               Density|       73.7112|             1|    kg/m^3|       73.7112|\n",
      "\u001b[2m\u001b[36m(run_simulation pid=3466)\u001b[0m |           Temperature|        542.13|             1|         K|        542.13|\n",
      "\u001b[2m\u001b[36m(run_simulation pid=3466)\u001b[0m |          Total Energy|        133844|             1|   m^2/s^2|        133844|\n",
      "\u001b[2m\u001b[36m(run_simulation pid=3466)\u001b[0m |            Velocity-X|   1.10309e-07|             1|       m/s|   1.10309e-07|\n",
      "\u001b[2m\u001b[36m(run_simulation pid=3466)\u001b[0m |            Velocity-Y|             0|             1|       m/s|             0|\n",
      "\u001b[2m\u001b[36m(run_simulation pid=3466)\u001b[0m |    Velocity Magnitude|   1.10309e-07|             1|       m/s|   1.10309e-07|\n",
      "\u001b[2m\u001b[36m(run_simulation pid=3466)\u001b[0m +------------------------------------------------------------------------------+\n",
      "\u001b[2m\u001b[36m(run_simulation pid=3466)\u001b[0m |             Viscosity|   9.59258e-06|             1|   N.s/m^2|   9.59258e-06|\n",
      "\u001b[2m\u001b[36m(run_simulation pid=3466)\u001b[0m |          Conductivity|             -|             1|   W/m^2.K|             -|\n",
      "\u001b[2m\u001b[36m(run_simulation pid=3466)\u001b[0m |     Turb. Kin. Energy|   4.56303e-17|             1|   m^2/s^2|   4.56303e-17|\n",
      "\u001b[2m\u001b[36m(run_simulation pid=3466)\u001b[0m |     Spec. Dissipation|   3.50632e-11|             1|       1/s|   3.50632e-11|\n",
      "\u001b[2m\u001b[36m(run_simulation pid=3466)\u001b[0m +------------------------------------------------------------------------------+\n",
      "\u001b[2m\u001b[36m(run_simulation pid=3466)\u001b[0m |           Mach Number|             -|             -|         -|         1e-09|\n",
      "\u001b[2m\u001b[36m(run_simulation pid=3466)\u001b[0m |       Reynolds Number|             -|             -|         -|      0.847636|\n",
      "\u001b[2m\u001b[36m(run_simulation pid=3466)\u001b[0m +------------------------------------------------------------------------------+\n",
      "\u001b[2m\u001b[36m(run_simulation pid=3466)\u001b[0m Initialize Jacobian structure (Navier-Stokes). MG level: 0.\n",
      "\u001b[2m\u001b[36m(run_simulation pid=3466)\u001b[0m Initialize Jacobian structure (SST model).\n",
      "\u001b[2m\u001b[36m(run_simulation pid=3466)\u001b[0m \n",
      "\u001b[2m\u001b[36m(run_simulation pid=3466)\u001b[0m ------------------- Numerics Preprocessing ( Zone 0 ) -------------------\n",
      "\u001b[2m\u001b[36m(run_simulation pid=3466)\u001b[0m \n",
      "\u001b[2m\u001b[36m(run_simulation pid=3466)\u001b[0m ----------------- Integration Preprocessing ( Zone 0 ) ------------------\n",
      "\u001b[2m\u001b[36m(run_simulation pid=3466)\u001b[0m \n",
      "\u001b[2m\u001b[36m(run_simulation pid=3466)\u001b[0m ------------------- Iteration Preprocessing ( Zone 0 ) ------------------\n",
      "\u001b[2m\u001b[36m(run_simulation pid=3466)\u001b[0m Euler/Navier-Stokes/RANS fluid iteration.\n",
      "\u001b[2m\u001b[36m(run_simulation pid=3466)\u001b[0m +-----------------------------------------------------------------------------+\n",
      "\u001b[2m\u001b[36m(run_simulation pid=3466)\u001b[0m |  Inner_Iter|    rms[Rho]|      rms[k]|      rms[w]|          CL|          CD|\n",
      "\u001b[2m\u001b[36m(run_simulation pid=3466)\u001b[0m +-----------------------------------------------------------------------------+\n",
      "\u001b[2m\u001b[36m(run_simulation pid=3466)\u001b[0m |           0|    0.409022|  -16.098267|    1.961563|    0.000000|    0.000000|\n",
      "\u001b[2m\u001b[36m(run_simulation pid=3466)\u001b[0m |           1|    0.343549|  -10.021084|    5.393460|    0.000000|    0.000000|\n",
      "\u001b[2m\u001b[36m(run_simulation pid=3466)\u001b[0m |           2|    0.085374|  -10.235854|    5.400587|    0.000000|    0.000000|\n",
      "\u001b[2m\u001b[36m(run_simulation pid=3466)\u001b[0m |           3|   -0.177737|  -10.366989|    5.394346|    0.000000|    0.000000|\n",
      "\u001b[2m\u001b[36m(run_simulation pid=3466)\u001b[0m |           4|   -0.340250|  -10.091980|    5.405454|    0.000000|    0.000000|\n",
      "\u001b[2m\u001b[36m(run_simulation pid=3466)\u001b[0m |           5|   -0.443820|   -5.417885|    5.422298|    0.000000|    0.000000|\n",
      "\u001b[2m\u001b[36m(run_simulation pid=3466)\u001b[0m |           6|   -0.501090|   -2.832393|    5.251372|    0.000000|    0.000000|\n",
      "\u001b[2m\u001b[36m(run_simulation pid=3466)\u001b[0m |           7|   -0.658024|   -2.460293|    5.193896|    0.000000|    0.000000|\n",
      "\u001b[2m\u001b[36m(run_simulation pid=3466)\u001b[0m |           8|   -0.755192|   -2.023653|    5.204635|    0.000000|    0.000000|\n",
      "\u001b[2m\u001b[36m(run_simulation pid=3466)\u001b[0m |           9|   -0.803439|   -1.499490|    5.193766|    0.000000|    0.000000|\n",
      "\u001b[2m\u001b[36m(run_simulation pid=3466)\u001b[0m |          10|   -0.718616|   -0.900559|    5.141629|    0.000000|    0.000000|\n",
      "\u001b[2m\u001b[36m(run_simulation pid=3466)\u001b[0m |          11|   -0.824082|   -1.048398|    5.046223|    0.000000|    0.000000|\n",
      "\u001b[2m\u001b[36m(run_simulation pid=3466)\u001b[0m |          12|   -0.873558|   -0.817071|    5.147970|    0.000000|    0.000000|\n",
      "\u001b[2m\u001b[36m(run_simulation pid=3466)\u001b[0m |          13|   -0.886363|   -0.524259|    5.366996|    0.000000|    0.000000|\n",
      "\u001b[2m\u001b[36m(run_simulation pid=3466)\u001b[0m |          14|   -0.754434|   -0.242573|    5.623823|    0.000000|    0.000000|\n",
      "\u001b[2m\u001b[36m(run_simulation pid=3466)\u001b[0m |          15|   -0.846791|   -0.568292|    5.333111|    0.000000|    0.000000|\n",
      "\u001b[2m\u001b[36m(run_simulation pid=3466)\u001b[0m |          16|   -0.897868|   -0.387500|    5.487686|    0.000000|    0.000000|\n",
      "\u001b[2m\u001b[36m(run_simulation pid=3466)\u001b[0m |          17|   -0.916810|   -0.174798|    5.686011|    0.000000|    0.000000|\n",
      "\u001b[2m\u001b[36m(run_simulation pid=3466)\u001b[0m |          18|   -0.830782|   -0.014765|    5.831257|    0.000000|    0.000000|\n",
      "\u001b[2m\u001b[36m(run_simulation pid=3466)\u001b[0m |          19|   -0.903593|   -0.368581|    5.502270|    0.000000|    0.000000|\n",
      "\u001b[2m\u001b[36m(run_simulation pid=3466)\u001b[0m |          20|   -0.946610|   -0.212475|    5.639908|    0.000000|    0.000000|\n",
      "\u001b[2m\u001b[36m(run_simulation pid=3466)\u001b[0m |          21|   -0.964759|   -0.016200|    5.823199|    0.000000|    0.000000|\n",
      "\u001b[2m\u001b[36m(run_simulation pid=3466)\u001b[0m |          22|   -0.889698|    0.089026|    5.912276|    0.000000|    0.000000|\n",
      "\u001b[2m\u001b[36m(run_simulation pid=3466)\u001b[0m |          23|   -0.959682|   -0.270919|    5.579947|    0.000000|    0.000000|\n",
      "\u001b[2m\u001b[36m(run_simulation pid=3466)\u001b[0m |          24|   -1.002444|   -0.134238|    5.699247|    0.000000|    0.000000|\n",
      "\u001b[2m\u001b[36m(run_simulation pid=3466)\u001b[0m |          25|   -1.022116|    0.045923|    5.865705|    0.000000|    0.000000|\n",
      "\u001b[2m\u001b[36m(run_simulation pid=3466)\u001b[0m |          26|   -0.952293|    0.107806|    5.906038|    0.000000|    0.000000|\n",
      "\u001b[2m\u001b[36m(run_simulation pid=3466)\u001b[0m |          27|   -1.014521|   -0.248885|    5.583247|    0.000000|    0.000000|\n",
      "\u001b[2m\u001b[36m(run_simulation pid=3466)\u001b[0m |          28|   -1.051421|   -0.125217|    5.690009|    0.000000|    0.000000|\n",
      "\u001b[2m\u001b[36m(run_simulation pid=3466)\u001b[0m |          29|   -1.065045|    0.048990|    5.849812|    0.000000|    0.000000|\n",
      "\u001b[2m\u001b[36m(run_simulation pid=3466)\u001b[0m |          30|   -0.984682|    0.191997|    5.977652|    0.000000|    0.000000|\n",
      "\u001b[2m\u001b[36m(run_simulation pid=3466)\u001b[0m |          31|   -0.906273|    0.284361|    6.072490|    0.000000|    0.000000|\n",
      "\u001b[2m\u001b[36m(run_simulation pid=3466)\u001b[0m |          32|   -0.685264|    0.292612|    6.040678|    0.000000|    0.000000|\n",
      "\u001b[2m\u001b[36m(run_simulation pid=3466)\u001b[0m |          33|   -0.568688|   -0.071648|    5.731499|    0.000000|    0.000000|\n",
      "\u001b[2m\u001b[36m(run_simulation pid=3466)\u001b[0m |          34|   -0.517965|    0.032784|    5.807876|    0.000000|    0.000000|\n",
      "\u001b[2m\u001b[36m(run_simulation pid=3466)\u001b[0m |          35|   -0.718317|    0.184821|    5.941239|    0.000000|    0.000000|\n",
      "\u001b[2m\u001b[36m(run_simulation pid=3466)\u001b[0m |          36|   -0.733713|    0.144242|    5.845833|    0.000000|    0.000000|\n",
      "\u001b[2m\u001b[36m(run_simulation pid=3466)\u001b[0m |          37|   -0.798763|   -0.206459|    5.571547|    0.000000|    0.000000|\n",
      "\u001b[2m\u001b[36m(run_simulation pid=3466)\u001b[0m |          38|   -0.996378|   -0.113300|    5.641447|    0.000000|    0.000000|\n",
      "\u001b[2m\u001b[36m(run_simulation pid=3466)\u001b[0m |          39|   -1.142965|   -0.053208|    5.664814|    0.000000|    0.000000|\n",
      "\u001b[2m\u001b[36m(run_simulation pid=3466)\u001b[0m |          40|   -1.193548|   -0.068773|    5.647467|    0.000000|    0.000000|\n",
      "\u001b[2m\u001b[36m(run_simulation pid=3466)\u001b[0m |          41|   -1.213753|   -0.225608|    5.456167|    0.000000|    0.000000|\n",
      "\u001b[2m\u001b[36m(run_simulation pid=3466)\u001b[0m |          42|   -1.243894|   -0.473948|    5.278076|    0.000000|    0.000000|\n",
      "\u001b[2m\u001b[36m(run_simulation pid=3466)\u001b[0m |          43|   -1.265319|   -0.345703|    5.389448|    0.000000|    0.000000|\n",
      "\u001b[2m\u001b[36m(run_simulation pid=3466)\u001b[0m |          44|   -1.276662|   -0.171069|    5.549196|    0.000000|    0.000000|\n",
      "\u001b[2m\u001b[36m(run_simulation pid=3466)\u001b[0m |          45|   -1.192641|   -0.255655|    5.379132|    0.000000|    0.000000|\n",
      "\u001b[2m\u001b[36m(run_simulation pid=3466)\u001b[0m |          46|   -1.237918|   -0.545213|    5.199253|    0.000000|    0.000000|\n",
      "\u001b[2m\u001b[36m(run_simulation pid=3466)\u001b[0m |          47|   -1.274131|   -0.425851|    5.303721|    0.000000|    0.000000|\n",
      "\u001b[2m\u001b[36m(run_simulation pid=3466)\u001b[0m |          48|   -1.295663|   -0.247159|    5.465615|    0.000000|    0.000000|\n",
      "\u001b[2m\u001b[36m(run_simulation pid=3466)\u001b[0m |          49|   -1.255890|   -0.343265|    5.269346|    0.000000|    0.000000|\n",
      "\u001b[2m\u001b[36m(run_simulation pid=3466)\u001b[0m |          50|   -1.286477|   -0.620216|    5.117408|    0.000000|    0.000000|\n",
      "\u001b[2m\u001b[36m(run_simulation pid=3466)\u001b[0m |          51|   -1.306802|   -0.492748|    5.229714|    0.000000|    0.000000|\n",
      "\u001b[2m\u001b[36m(run_simulation pid=3466)\u001b[0m |          52|   -1.320781|   -0.305983|    5.399723|    0.000000|    0.000000|\n",
      "\u001b[2m\u001b[36m(run_simulation pid=3466)\u001b[0m |          53|   -1.283895|   -0.411815|    5.182096|    0.000000|    0.000000|\n",
      "\u001b[2m\u001b[36m(run_simulation pid=3466)\u001b[0m |          54|   -1.312621|   -0.680096|    5.050479|    0.000000|    0.000000|\n",
      "\u001b[2m\u001b[36m(run_simulation pid=3466)\u001b[0m |          55|   -1.333251|   -0.549752|    5.165976|    0.000000|    0.000000|\n",
      "\u001b[2m\u001b[36m(run_simulation pid=3466)\u001b[0m |          56|   -1.349836|   -0.361344|    5.337315|    0.000000|    0.000000|\n",
      "\u001b[2m\u001b[36m(run_simulation pid=3466)\u001b[0m |          57|   -1.321062|   -0.478823|    5.096479|    0.000000|    0.000000|\n",
      "\u001b[2m\u001b[36m(run_simulation pid=3466)\u001b[0m |          58|   -1.348568|   -0.738494|    4.984432|    0.000000|    0.000000|\n",
      "\u001b[2m\u001b[36m(run_simulation pid=3466)\u001b[0m |          59|   -1.370524|   -0.607580|    5.100937|    0.000000|    0.000000|\n",
      "\u001b[2m\u001b[36m(run_simulation pid=3466)\u001b[0m |          60|   -1.390687|   -0.421610|    5.269601|    0.000000|    0.000000|\n",
      "\u001b[2m\u001b[36m(run_simulation pid=3466)\u001b[0m |          61|   -1.369142|   -0.550663|    5.005843|    0.000000|    0.000000|\n",
      "\u001b[2m\u001b[36m(run_simulation pid=3466)\u001b[0m |          62|   -1.396009|   -0.800137|    4.913375|    0.000000|    0.000000|\n",
      "\u001b[2m\u001b[36m(run_simulation pid=3466)\u001b[0m |          63|   -1.419452|   -0.670836|    5.029131|    0.000000|    0.000000|\n",
      "\u001b[2m\u001b[36m(run_simulation pid=3466)\u001b[0m |          64|   -1.442136|   -0.613283|    5.032683|    0.000000|    0.000000|\n",
      "\u001b[2m\u001b[36m(run_simulation pid=3466)\u001b[0m |          65|   -1.460128|   -0.496271|    5.187250|    0.000000|    0.000000|\n",
      "\u001b[2m\u001b[36m(run_simulation pid=3466)\u001b[0m |          66|   -1.438674|   -0.636499|    4.901924|    0.000000|    0.000000|\n",
      "\u001b[2m\u001b[36m(run_simulation pid=3466)\u001b[0m |          67|   -1.466961|   -0.868294|    4.816915|    0.000000|    0.000000|\n",
      "\u001b[2m\u001b[36m(run_simulation pid=3466)\u001b[0m |          68|   -1.492387|   -0.748286|    4.928366|    0.000000|    0.000000|\n",
      "\u001b[2m\u001b[36m(run_simulation pid=3466)\u001b[0m |          69|   -1.516119|   -0.693168|    4.925517|    0.000000|    0.000000|\n",
      "\u001b[2m\u001b[36m(run_simulation pid=3466)\u001b[0m |          70|   -1.534959|   -0.689644|    4.923460|    0.000000|    0.000000|\n",
      "\u001b[2m\u001b[36m(run_simulation pid=3466)\u001b[0m |          71|   -1.552749|   -0.580340|    5.073318|    0.000000|    0.000000|\n",
      "\u001b[2m\u001b[36m(run_simulation pid=3466)\u001b[0m |          72|   -1.534322|   -0.699020|    4.763226|    0.000000|    0.000000|\n",
      "\u001b[2m\u001b[36m(run_simulation pid=3466)\u001b[0m |          73|   -1.562492|   -0.824921|    4.694320|    0.000000|    0.000000|\n",
      "\u001b[2m\u001b[36m(run_simulation pid=3466)\u001b[0m |          74|   -1.588526|   -0.732593|    4.807396|    0.000000|    0.000000|\n",
      "\u001b[2m\u001b[36m(run_simulation pid=3466)\u001b[0m |          75|   -1.612849|   -0.670338|    4.801550|    0.000000|    0.000000|\n",
      "\u001b[2m\u001b[36m(run_simulation pid=3466)\u001b[0m |          76|   -1.632577|   -0.630835|    4.801467|    0.000000|    0.000000|\n",
      "\u001b[2m\u001b[36m(run_simulation pid=3466)\u001b[0m |          77|   -1.651713|   -0.586900|    4.792783|    0.000000|    0.000000|\n",
      "\u001b[2m\u001b[36m(run_simulation pid=3466)\u001b[0m |          78|   -1.671073|   -0.537297|    4.774169|    0.000000|    0.000000|\n",
      "\u001b[2m\u001b[36m(run_simulation pid=3466)\u001b[0m |          79|   -1.690297|   -0.480679|    4.751834|    0.000000|    0.000000|\n",
      "\u001b[2m\u001b[36m(run_simulation pid=3466)\u001b[0m |          80|   -1.709286|   -0.417695|    4.729194|    0.000000|    0.000000|\n",
      "\u001b[2m\u001b[36m(run_simulation pid=3466)\u001b[0m |          81|   -1.728088|   -0.349689|    4.707034|    0.000000|    0.000000|\n",
      "\u001b[2m\u001b[36m(run_simulation pid=3466)\u001b[0m |          82|   -1.746732|   -0.277865|    4.685358|    0.000000|    0.000000|\n",
      "\u001b[2m\u001b[36m(run_simulation pid=3466)\u001b[0m |          83|   -1.765262|   -0.203110|    4.664125|    0.000000|    0.000000|\n",
      "\u001b[2m\u001b[36m(run_simulation pid=3466)\u001b[0m |          84|   -1.783732|   -0.126051|    4.643323|    0.000000|    0.000000|\n",
      "\u001b[2m\u001b[36m(run_simulation pid=3466)\u001b[0m |          85|   -1.802169|   -0.047045|    4.622927|    0.000000|    0.000000|\n",
      "\u001b[2m\u001b[36m(run_simulation pid=3466)\u001b[0m |          86|   -1.820565|    0.033585|    4.602878|    0.000000|    0.000000|\n",
      "\u001b[2m\u001b[36m(run_simulation pid=3466)\u001b[0m |          87|   -1.838902|    0.115541|    4.583113|    0.000000|    0.000000|\n",
      "\u001b[2m\u001b[36m(run_simulation pid=3466)\u001b[0m |          88|   -1.857181|    0.198553|    4.563598|    0.000000|    0.000000|\n",
      "\u001b[2m\u001b[36m(run_simulation pid=3466)\u001b[0m |          89|   -1.875418|    0.282380|    4.544257|    0.000000|    0.000000|\n",
      "\u001b[2m\u001b[36m(run_simulation pid=3466)\u001b[0m |          90|   -1.893643|    0.366714|    4.525053|    0.000000|    0.000000|\n",
      "\u001b[2m\u001b[36m(run_simulation pid=3466)\u001b[0m |          91|   -1.911873|    0.451055|    4.505955|    0.000000|    0.000000|\n",
      "\u001b[2m\u001b[36m(run_simulation pid=3466)\u001b[0m |          92|   -1.930110|    0.534814|    4.486917|    0.000000|    0.000000|\n",
      "\u001b[2m\u001b[36m(run_simulation pid=3466)\u001b[0m |          93|   -1.948346|    0.617354|    4.467938|    0.000000|    0.000000|\n",
      "\u001b[2m\u001b[36m(run_simulation pid=3466)\u001b[0m |          94|   -1.966570|    0.697946|    4.449003|    0.000000|    0.000000|\n",
      "\u001b[2m\u001b[36m(run_simulation pid=3466)\u001b[0m |          95|   -1.984764|    0.775737|    4.430100|    0.000000|    0.000000|\n",
      "\u001b[2m\u001b[36m(run_simulation pid=3466)\u001b[0m |          96|   -2.002891|    0.849790|    4.411245|    0.000000|    0.000000|\n",
      "\u001b[2m\u001b[36m(run_simulation pid=3466)\u001b[0m |          97|   -2.020916|    0.919233|    4.392427|    0.000000|    0.000000|\n",
      "\u001b[2m\u001b[36m(run_simulation pid=3466)\u001b[0m |          98|   -2.038811|    0.983031|    4.373668|    0.000000|    0.000000|\n",
      "\u001b[2m\u001b[36m(run_simulation pid=3466)\u001b[0m |          99|   -2.056568|    1.040687|    4.354970|    0.000000|    0.000000|\n",
      "\u001b[2m\u001b[36m(run_simulation pid=3466)\u001b[0m \n",
      "\u001b[2m\u001b[36m(run_simulation pid=3466)\u001b[0m ----------------------------- Solver Exit -------------------------------\n",
      "\u001b[2m\u001b[36m(run_simulation pid=3466)\u001b[0m \n",
      "\u001b[2m\u001b[36m(run_simulation pid=3466)\u001b[0m Maximum number of iterations reached (ITER = 100) before convergence.\n",
      "\u001b[2m\u001b[36m(run_simulation pid=3466)\u001b[0m +-----------------------------------------------------------------------+\n",
      "\u001b[2m\u001b[36m(run_simulation pid=3466)\u001b[0m |      Convergence Field     |     Value    |   Criterion  |  Converged |\n",
      "\u001b[2m\u001b[36m(run_simulation pid=3466)\u001b[0m +-----------------------------------------------------------------------+\n",
      "\u001b[2m\u001b[36m(run_simulation pid=3466)\u001b[0m |                    rms[Rho]|      -2.05657|         < -24|          No|\n",
      "\u001b[2m\u001b[36m(run_simulation pid=3466)\u001b[0m +-----------------------------------------------------------------------+\n",
      "\u001b[2m\u001b[36m(run_simulation pid=3466)\u001b[0m -------------------------------------------------------------------------\n",
      "\u001b[2m\u001b[36m(run_simulation pid=3466)\u001b[0m +-----------------------------------------------------------------------+\n",
      "\u001b[2m\u001b[36m(run_simulation pid=3466)\u001b[0m |        File Writing Summary       |              Filename             |\n",
      "\u001b[2m\u001b[36m(run_simulation pid=3466)\u001b[0m +-----------------------------------------------------------------------+\n",
      "\u001b[2m\u001b[36m(run_simulation pid=3466)\u001b[0m |SU2 binary restart                 |/workspaces/paraflow/simulation/restart_flow1.dat|\n",
      "\u001b[2m\u001b[36m(run_simulation pid=3466)\u001b[0m |Paraview                           |/workspaces/paraflow/simulation/flow1.vtu|\n",
      "\u001b[2m\u001b[36m(run_simulation pid=3466)\u001b[0m |Paraview surface                   |/workspaces/paraflow/simulation/surface_flow1.vtu|\n",
      "\u001b[2m\u001b[36m(run_simulation pid=3466)\u001b[0m +-----------------------------------------------------------------------+\n",
      "\u001b[2m\u001b[36m(run_simulation pid=3466)\u001b[0m \n",
      "\u001b[2m\u001b[36m(run_simulation pid=3466)\u001b[0m ------------------------- Finalizing Solver -------------------------\n",
      "\u001b[2m\u001b[36m(run_simulation pid=3466)\u001b[0m Deleted CNumerics container.\n",
      "\u001b[2m\u001b[36m(run_simulation pid=3466)\u001b[0m Deleted CIntegration container.\n",
      "\u001b[2m\u001b[36m(run_simulation pid=3466)\u001b[0m Deleted CSolver container.\n",
      "\u001b[2m\u001b[36m(run_simulation pid=3466)\u001b[0m Deleted CIteration container.\n",
      "\u001b[2m\u001b[36m(run_simulation pid=3466)\u001b[0m Deleted CInterface container.\n",
      "\u001b[2m\u001b[36m(run_simulation pid=3466)\u001b[0m Deleted CGeometry container.\n",
      "\u001b[2m\u001b[36m(run_simulation pid=3466)\u001b[0m Deleted CFreeFormDefBox class.\n",
      "\u001b[2m\u001b[36m(run_simulation pid=3466)\u001b[0m Deleted CSurfaceMovement class.\n",
      "\u001b[2m\u001b[36m(run_simulation pid=3466)\u001b[0m Deleted CVolumetricMovement class.\n",
      "\u001b[2m\u001b[36m(run_simulation pid=3466)\u001b[0m Deleted CConfig container.\n",
      "\u001b[2m\u001b[36m(run_simulation pid=3466)\u001b[0m Deleted nInst container.\n",
      "\u001b[2m\u001b[36m(run_simulation pid=3466)\u001b[0m Deleted COutput class.\n",
      "\u001b[2m\u001b[36m(run_simulation pid=3466)\u001b[0m -------------------------------------------------------------------------\n",
      "\u001b[2m\u001b[36m(run_simulation pid=3466)\u001b[0m \n",
      "\u001b[2m\u001b[36m(run_simulation pid=3466)\u001b[0m ------------------------- Exit Success (SU2_CFD) ------------------------\n",
      "\u001b[2m\u001b[36m(run_simulation pid=3466)\u001b[0m \n",
      "{'top_outflow': FlowState(total_state=EquilibriumState(T=389.08659807664236, P=104828.34434484389, zs=[1.0], betas=[1.0], gas=<CEOSGas, T=389.087 K, P=104828 Pa>, liquids=[], solids=[]), mach_number=2.022204317130684, mass_flow_rate=923.1704546076362, radius=0.4, absolute_angle=None, translation_velocity=None), 'mid_outflow': FlowState(total_state=EquilibriumState(T=392.5579014600695, P=112333.70078680938, zs=[1.0], betas=[1.0], gas=<CEOSGas, T=392.558 K, P=112334 Pa>, liquids=[], solids=[]), mach_number=1.9948063056337313, mass_flow_rate=971.2549419182412, radius=0.4, absolute_angle=None, translation_velocity=None), 'bottom_outflow': FlowState(total_state=EquilibriumState(T=408.59221846625434, P=152270.6174808498, zs=[1.0], betas=[1.0], gas=<CEOSGas, T=408.592 K, P=152271 Pa>, liquids=[], solids=[]), mach_number=1.836234665527031, mass_flow_rate=1185.849287088071, radius=0.4, absolute_angle=None, translation_velocity=None)}\n"
     ]
    }
   ],
   "source": [
    "target_outflow_static_pressure = 200000\n",
    "remote_result = run_simulation.remote(passage, inflow, target_outflow_static_pressure, \"/workspaces/paraflow/simulation\", \"1\")\n",
    "sim_results = ray.get(remote_result)\n",
    "print(sim_results)"
   ]
  }
 ],
 "metadata": {
  "kernelspec": {
   "display_name": "Python 3",
   "language": "python",
   "name": "python3"
  },
  "language_info": {
   "codemirror_mode": {
    "name": "ipython",
    "version": 3
   },
   "file_extension": ".py",
   "mimetype": "text/x-python",
   "name": "python",
   "nbconvert_exporter": "python",
   "pygments_lexer": "ipython3",
   "version": "3.10.10"
  },
  "orig_nbformat": 4
 },
 "nbformat": 4,
 "nbformat_minor": 2
}
