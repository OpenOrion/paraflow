{
 "cells": [
  {
   "cell_type": "code",
   "execution_count": 1,
   "metadata": {},
   "outputs": [
    {
     "name": "stdout",
     "output_type": "stream",
     "text": [
      "Info    : Meshing 1D...\n",
      "Info    : [  0%] Meshing curve 1 (Line)\n",
      "Info    : [ 30%] Meshing curve 2 (Line)\n",
      "Info    : [ 50%] Meshing curve 3 (Line)\n",
      "Info    : [ 80%] Meshing curve 4 (Line)\n",
      "Info    : Done meshing 1D (Wall 0.0002429s, CPU 0.000342s)\n",
      "Info    : Meshing 2D...\n",
      "Info    : Meshing surface 1 (Transfinite)\n",
      "Info    : Done meshing 2D (Wall 0.000849224s, CPU 0.001069s)\n",
      "Info    : Meshing 3D...\n",
      "Info    : Done meshing 3D (Wall 1.6345e-05s, CPU 1.4e-05s)\n",
      "Info    : 2601 nodes 2704 elements\n",
      "Info    : Writing './meshes/NICFD_nozzle.su2'...\n",
      "Info    : Writing 2500 elements and 2601 nodes\n",
      "Info    : Done writing './meshes/NICFD_nozzle.su2'\n"
     ]
    },
    {
     "name": "stderr",
     "output_type": "stream",
     "text": [
      "/usr/local/lib/python3.10/site-packages/pythreejs/traits.py:257: UserWarning: 64-bit data types not supported for WebGL data, casting to 32-bit.\n",
      "  warnings.warn('64-bit data types not supported for WebGL '\n"
     ]
    },
    {
     "data": {
      "application/vnd.jupyter.widget-view+json": {
       "model_id": "a5151e65b5ae4d15b56819f8f37749b9",
       "version_major": 2,
       "version_minor": 0
      },
      "text/plain": [
       "HTML(value='Coords: ()')"
      ]
     },
     "metadata": {},
     "output_type": "display_data"
    },
    {
     "data": {
      "application/vnd.jupyter.widget-view+json": {
       "model_id": "71adab8aad834cc38069f692494c2a35",
       "version_major": 2,
       "version_minor": 0
      },
      "text/plain": [
       "Renderer(camera=PerspectiveCamera(aspect=1.3333333333333333, far=1000.0, near=0.001, position=(0.0, 0.0, 1.0),…"
      ]
     },
     "metadata": {},
     "output_type": "display_data"
    },
    {
     "data": {
      "text/html": [
       "<div style=\"float: left; padding-right: 50px\"><h2>Markers</h2><table><tr><td style=\"background-color: rgb(244,59,59)\" width=\"20\"></td><td>wall</td></tr><tr><td style=\"background-color: rgb(32,254,32)\" width=\"20\"></td><td>inflow</td></tr><tr><td style=\"background-color: rgb(23,23,254)\" width=\"20\"></td><td>outflow</td></tr></table></div><div style=\"float: left; padding-right: 50px\"><h2>Zones</h2><table><tr><td style=\"background-color: rgb(127,127,127)\" width=\"20\"></td><td>Zone 0</td></tr></table></div>"
      ],
      "text/plain": [
       "<IPython.core.display.HTML object>"
      ]
     },
     "metadata": {},
     "output_type": "display_data"
    },
    {
     "ename": "KeyError",
     "evalue": "'MARKER'",
     "output_type": "error",
     "traceback": [
      "\u001b[0;31m---------------------------------------------------------------------------\u001b[0m",
      "\u001b[0;31mKeyError\u001b[0m                                  Traceback (most recent call last)",
      "Cell \u001b[0;32mIn[1], line 28\u001b[0m\n\u001b[1;32m     26\u001b[0m mesh \u001b[39m=\u001b[39m get_mesh(diffuser)\n\u001b[1;32m     27\u001b[0m visualize_mesh(mesh)\n\u001b[0;32m---> 28\u001b[0m run_simulation(inlet_total_state, inlet_mach_number)\n\u001b[1;32m     29\u001b[0m \u001b[39m# diffuser = AnnuluarDiffuser(\u001b[39;00m\n\u001b[1;32m     30\u001b[0m \u001b[39m#     axial_length=0.280,\u001b[39;00m\n\u001b[1;32m     31\u001b[0m \u001b[39m#     inlet_hub_radius=0.184,\u001b[39;00m\n\u001b[0;32m   (...)\u001b[0m\n\u001b[1;32m     34\u001b[0m \u001b[39m#     shroud_angle=np.radians(-15),\u001b[39;00m\n\u001b[1;32m     35\u001b[0m \u001b[39m# )\u001b[39;00m\n",
      "File \u001b[0;32m/workspaces/diffuser/diffuse/simulation.py:137\u001b[0m, in \u001b[0;36mrun_simulation\u001b[0;34m(inlet_total_state, inlet_mach_number)\u001b[0m\n\u001b[1;32m    132\u001b[0m results \u001b[39m=\u001b[39m su2\u001b[39m.\u001b[39mutil\u001b[39m.\u001b[39mbunch()\n\u001b[1;32m    134\u001b[0m \u001b[39m# konfig = copy.deepcopy(config)\u001b[39;00m\n\u001b[1;32m    135\u001b[0m \u001b[39m# konfig.DISCARD_INFILES = 'YES'\u001b[39;00m\n\u001b[1;32m    136\u001b[0m \u001b[39m# zstate = copy.deepcopy(state)\u001b[39;00m\n\u001b[0;32m--> 137\u001b[0m drag \u001b[39m=\u001b[39m su2\u001b[39m.\u001b[39;49meval\u001b[39m.\u001b[39;49mfunc(\u001b[39m'\u001b[39;49m\u001b[39mDRAG\u001b[39;49m\u001b[39m'\u001b[39;49m, config, state)\n",
      "File \u001b[0;32m~/.local/share/su2/bin/SU2/eval/functions.py:121\u001b[0m, in \u001b[0;36mfunction\u001b[0;34m(func_name, config, state)\u001b[0m\n\u001b[1;32m    118\u001b[0m     func_out \u001b[39m=\u001b[39m state[\u001b[39m'\u001b[39m\u001b[39mFUNCTIONS\u001b[39m\u001b[39m'\u001b[39m][func_name]\n\u001b[1;32m    120\u001b[0m \u001b[39mif\u001b[39;00m func_name_string \u001b[39min\u001b[39;00m config[\u001b[39m'\u001b[39m\u001b[39mOPT_OBJECTIVE\u001b[39m\u001b[39m'\u001b[39m]:\n\u001b[0;32m--> 121\u001b[0m     marker \u001b[39m=\u001b[39m config[\u001b[39m'\u001b[39;49m\u001b[39mOPT_OBJECTIVE\u001b[39;49m\u001b[39m'\u001b[39;49m][func_name_string][\u001b[39m'\u001b[39;49m\u001b[39mMARKER\u001b[39;49m\u001b[39m'\u001b[39;49m]\n\u001b[1;32m    122\u001b[0m     \u001b[39mif\u001b[39;00m func_name_string \u001b[39min\u001b[39;00m su2io\u001b[39m.\u001b[39mper_surface_map:\n\u001b[1;32m    123\u001b[0m         name \u001b[39m=\u001b[39m su2io\u001b[39m.\u001b[39mper_surface_map[func_name_string]\u001b[39m+\u001b[39m\u001b[39m'\u001b[39m\u001b[39m_\u001b[39m\u001b[39m'\u001b[39m\u001b[39m+\u001b[39mmarker\n",
      "\u001b[0;31mKeyError\u001b[0m: 'MARKER'"
     ]
    }
   ],
   "source": [
    "from chemicals import mixing_simple\n",
    "from thermo import EquilibriumState, FlashPureVLS, CEOSGas, SRKMIX, ChemicalConstantsPackage\n",
    "from diffuse.diffusers.annular import AnnuluarDiffuser, get_initial_diffuser\n",
    "from diffuse.simulation import get_mesh, run_simulation\n",
    "from ezmesh import visualize_mesh\n",
    "\n",
    "constants, correlations = ChemicalConstantsPackage.from_IDs(IDs=[\"Oxygen\"])\n",
    "MW = mixing_simple([1.0], constants.MWs)\n",
    "eos_kwargs = dict(Tcs=constants.Tcs, Pcs=constants.Pcs, omegas=constants.omegas)\n",
    "gas = CEOSGas(SRKMIX, HeatCapacityGases=correlations.HeatCapacityGases, eos_kwargs=eos_kwargs)\n",
    "flasher = FlashPureVLS(constants=constants, correlations=correlations, gas=gas, liquids=[], solids=[])\n",
    "\n",
    "mass_flow_rate = 20\n",
    "inlet_mach_number = 0.45\n",
    "inlet_total_state = flasher.flash(T=288, P=101000)\n",
    "outlet_total_state = flasher.flash(S=inlet_total_state.S(), P=501000)\n",
    "\n",
    "\n",
    "diffuser = get_initial_diffuser(\n",
    "    inlet_total_state,\n",
    "    outlet_total_state,\n",
    "    inlet_mach_number,\n",
    "    mass_flow_rate,\n",
    ")\n",
    "# diffuser.visualize()\n",
    "mesh = get_mesh(diffuser)\n",
    "visualize_mesh(mesh)\n",
    "run_simulation(inlet_total_state, inlet_mach_number)\n",
    "# diffuser = AnnuluarDiffuser(\n",
    "#     axial_length=0.280,\n",
    "#     inlet_hub_radius=0.184,\n",
    "#     inlet_shroud_radius=0.267,\n",
    "#     hub_angle=np.radians(-10),\n",
    "#     shroud_angle=np.radians(-15),\n",
    "# )"
   ]
  }
 ],
 "metadata": {
  "kernelspec": {
   "display_name": "Python 3",
   "language": "python",
   "name": "python3"
  },
  "language_info": {
   "codemirror_mode": {
    "name": "ipython",
    "version": 3
   },
   "file_extension": ".py",
   "mimetype": "text/x-python",
   "name": "python",
   "nbconvert_exporter": "python",
   "pygments_lexer": "ipython3",
   "version": "3.10.10"
  },
  "orig_nbformat": 4
 },
 "nbformat": 4,
 "nbformat_minor": 2
}
