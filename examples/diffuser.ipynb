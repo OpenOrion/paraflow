{
 "cells": [
  {
   "cell_type": "code",
   "execution_count": 1,
   "metadata": {},
   "outputs": [
    {
     "ename": "IndexError",
     "evalue": "too many indices for array: array is 1-dimensional, but 2 were indexed",
     "output_type": "error",
     "traceback": [
      "\u001b[0;31m---------------------------------------------------------------------------\u001b[0m",
      "\u001b[0;31mIndexError\u001b[0m                                Traceback (most recent call last)",
      "Cell \u001b[0;32mIn[1], line 25\u001b[0m\n\u001b[1;32m     14\u001b[0m outlet_total_state \u001b[39m=\u001b[39m flasher\u001b[39m.\u001b[39mflash(S\u001b[39m=\u001b[39minlet_total_state\u001b[39m.\u001b[39mS(), P\u001b[39m=\u001b[39m\u001b[39m401000\u001b[39m)\n\u001b[1;32m     16\u001b[0m diffuser \u001b[39m=\u001b[39m AnnularPassage\u001b[39m.\u001b[39minitial(\n\u001b[1;32m     17\u001b[0m     inlet_total_state,\n\u001b[1;32m     18\u001b[0m     outlet_total_state,\n\u001b[0;32m   (...)\u001b[0m\n\u001b[1;32m     22\u001b[0m     outlet_length\u001b[39m=\u001b[39m\u001b[39m.5\u001b[39m\n\u001b[1;32m     23\u001b[0m )\n\u001b[0;32m---> 25\u001b[0m diffuser\u001b[39m.\u001b[39;49mvisualize()\n",
      "File \u001b[0;32m/workspaces/paraflow/paraflow/passage.py:28\u001b[0m, in \u001b[0;36mFlowPassage.visualize\u001b[0;34m(self)\u001b[0m\n\u001b[1;32m     23\u001b[0m fig \u001b[39m=\u001b[39m go\u001b[39m.\u001b[39mFigure(\n\u001b[1;32m     24\u001b[0m     layout\u001b[39m=\u001b[39mgo\u001b[39m.\u001b[39mLayout(title\u001b[39m=\u001b[39mgo\u001b[39m.\u001b[39mlayout\u001b[39m.\u001b[39mTitle(text\u001b[39m=\u001b[39m\u001b[39m\"\u001b[39m\u001b[39mAnnular Diffuser\u001b[39m\u001b[39m\"\u001b[39m))\n\u001b[1;32m     25\u001b[0m )\n\u001b[1;32m     26\u001b[0m coords \u001b[39m=\u001b[39m \u001b[39mself\u001b[39m\u001b[39m.\u001b[39mget_coords()\n\u001b[1;32m     27\u001b[0m fig\u001b[39m.\u001b[39madd_trace(go\u001b[39m.\u001b[39mScatter(\n\u001b[0;32m---> 28\u001b[0m     x\u001b[39m=\u001b[39mcoords[:, \u001b[39m0\u001b[39;49m],\n\u001b[1;32m     29\u001b[0m     y\u001b[39m=\u001b[39mcoords[:, \u001b[39m1\u001b[39m],\n\u001b[1;32m     30\u001b[0m     name\u001b[39m=\u001b[39m\u001b[39mf\u001b[39m\u001b[39m\"\u001b[39m\u001b[39mPassage\u001b[39m\u001b[39m\"\u001b[39m\n\u001b[1;32m     31\u001b[0m \n\u001b[1;32m     32\u001b[0m ))\n\u001b[1;32m     34\u001b[0m fig\u001b[39m.\u001b[39mlayout\u001b[39m.\u001b[39myaxis\u001b[39m.\u001b[39mscaleanchor \u001b[39m=\u001b[39m \u001b[39m\"\u001b[39m\u001b[39mx\u001b[39m\u001b[39m\"\u001b[39m  \u001b[39m# type: ignore\u001b[39;00m\n\u001b[1;32m     35\u001b[0m fig\u001b[39m.\u001b[39mshow()\n",
      "\u001b[0;31mIndexError\u001b[0m: too many indices for array: array is 1-dimensional, but 2 were indexed"
     ]
    }
   ],
   "source": [
    "from chemicals import mixing_simple\n",
    "from thermo import FlashPureVLS, CEOSGas, SRKMIX, ChemicalConstantsPackage\n",
    "from paraflow import AnnularPassage\n",
    "\n",
    "constants, correlations = ChemicalConstantsPackage.from_IDs(IDs=[\"Oxygen\"])\n",
    "MW = mixing_simple([1.0], constants.MWs)\n",
    "eos_kwargs = dict(Tcs=constants.Tcs, Pcs=constants.Pcs, omegas=constants.omegas)\n",
    "gas = CEOSGas(SRKMIX, HeatCapacityGases=correlations.HeatCapacityGases, eos_kwargs=eos_kwargs)\n",
    "flasher = FlashPureVLS(constants=constants, correlations=correlations, gas=gas, liquids=[], solids=[])\n",
    "\n",
    "mass_flow_rate = 20\n",
    "inlet_mach_number = 0.45\n",
    "inlet_total_state = flasher.flash(T=288, P=101000)\n",
    "outlet_total_state = flasher.flash(S=inlet_total_state.S(), P=401000)\n",
    "\n",
    "diffuser = AnnularPassage.initial(\n",
    "    inlet_total_state,\n",
    "    outlet_total_state,\n",
    "    inlet_mach_number,\n",
    "    mass_flow_rate,\n",
    "    inlet_length=.5,\n",
    "    outlet_length=.5\n",
    ")\n",
    "\n",
    "diffuser.visualize()\n"
   ]
  },
  {
   "cell_type": "code",
   "execution_count": 4,
   "metadata": {},
   "outputs": [
    {
     "ename": "TypeError",
     "evalue": "FlowPassage.__init__() got an unexpected keyword argument 'inlet_radius'",
     "output_type": "error",
     "traceback": [
      "\u001b[0;31m---------------------------------------------------------------------------\u001b[0m",
      "\u001b[0;31mTypeError\u001b[0m                                 Traceback (most recent call last)",
      "Cell \u001b[0;32mIn[4], line 4\u001b[0m\n\u001b[1;32m      1\u001b[0m \u001b[39mfrom\u001b[39;00m \u001b[39mparaflow\u001b[39;00m \u001b[39mimport\u001b[39;00m FlowPassage\n\u001b[1;32m      2\u001b[0m \u001b[39mimport\u001b[39;00m \u001b[39mnumpy\u001b[39;00m \u001b[39mas\u001b[39;00m \u001b[39mnp\u001b[39;00m\n\u001b[0;32m----> 4\u001b[0m passage \u001b[39m=\u001b[39m FlowPassage(\n\u001b[1;32m      5\u001b[0m     inlet_radius\u001b[39m=\u001b[39;49m\u001b[39m0.1\u001b[39;49m,\n\u001b[1;32m      6\u001b[0m     area_ratio\u001b[39m=\u001b[39;49m\u001b[39m3.0\u001b[39;49m,\n\u001b[1;32m      7\u001b[0m     axial_length\u001b[39m=\u001b[39;49m\u001b[39m1\u001b[39;49m,\n\u001b[1;32m      8\u001b[0m )\n\u001b[1;32m      9\u001b[0m passage\u001b[39m.\u001b[39mvisualize(\u001b[39m\"\u001b[39m\u001b[39mAnnular\u001b[39m\u001b[39m\"\u001b[39m)\n",
      "\u001b[0;31mTypeError\u001b[0m: FlowPassage.__init__() got an unexpected keyword argument 'inlet_radius'"
     ]
    }
   ],
   "source": [
    "from paraflow import FlowPassage\n",
    "import numpy as np\n",
    "\n",
    "passage = FlowPassage(\n",
    "    inlet_radius=0.1,\n",
    "    area_ratio=3.0,\n",
    "    axial_length=1,\n",
    ")\n",
    "passage.visualize(\"Annular\")"
   ]
  },
  {
   "cell_type": "code",
   "execution_count": null,
   "metadata": {},
   "outputs": [],
   "source": []
  }
 ],
 "metadata": {
  "kernelspec": {
   "display_name": "Python 3",
   "language": "python",
   "name": "python3"
  },
  "language_info": {
   "codemirror_mode": {
    "name": "ipython",
    "version": 3
   },
   "file_extension": ".py",
   "mimetype": "text/x-python",
   "name": "python",
   "nbconvert_exporter": "python",
   "pygments_lexer": "ipython3",
   "version": "3.10.10"
  },
  "orig_nbformat": 4
 },
 "nbformat": 4,
 "nbformat_minor": 2
}
