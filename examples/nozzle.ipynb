{
 "cells": [
  {
   "cell_type": "code",
   "execution_count": 1,
   "metadata": {},
   "outputs": [
    {
     "name": "stdout",
     "output_type": "stream",
     "text": [
      "Info    : Meshing 1D...\n",
      "Info    : [  0%] Meshing curve 1 (Nurb)\n",
      "Info    : [ 30%] Meshing curve 2 (Line)\n",
      "Info    : [ 50%] Meshing curve 3 (Line)\n",
      "Info    : [ 80%] Meshing curve 4 (Line)\n",
      "Info    : Done meshing 1D (Wall 0.00226155s, CPU 0.00296s)\n",
      "Info    : Meshing 2D...\n",
      "Info    : Meshing surface 1 (Transfinite)\n",
      "Info    : Done meshing 2D (Wall 0.00180226s, CPU 0.001641s)\n",
      "Info    : Meshing 3D...\n",
      "Info    : Done meshing 3D (Wall 2.2809e-05s, CPU 0s)\n",
      "Info    : 2123 nodes 2246 elements\n",
      "Info    : Writing 'test.geo_unrolled'...\n",
      "Info    : Done writing 'test.geo_unrolled'\n"
     ]
    },
    {
     "name": "stderr",
     "output_type": "stream",
     "text": [
      "/usr/local/lib/python3.10/site-packages/pythreejs/traits.py:257: UserWarning: 64-bit data types not supported for WebGL data, casting to 32-bit.\n",
      "  warnings.warn('64-bit data types not supported for WebGL '\n"
     ]
    },
    {
     "data": {
      "application/vnd.jupyter.widget-view+json": {
       "model_id": "045ddb9bea994da1b8c4dc302b6da2ec",
       "version_major": 2,
       "version_minor": 0
      },
      "text/plain": [
       "HTML(value='Coords: ()')"
      ]
     },
     "metadata": {},
     "output_type": "display_data"
    },
    {
     "data": {
      "application/vnd.jupyter.widget-view+json": {
       "model_id": "3071e664c27642358bb71850f9282204",
       "version_major": 2,
       "version_minor": 0
      },
      "text/plain": [
       "Renderer(camera=PerspectiveCamera(aspect=1.3333333333333333, far=1000.0, near=0.001, position=(0.0, 0.0, 1.0),…"
      ]
     },
     "metadata": {},
     "output_type": "display_data"
    },
    {
     "data": {
      "text/html": [
       "<div style=\"float: left; padding-right: 50px\"><h2>Markers</h2><table><tr><td style=\"background-color: rgb(249,34,34)\" width=\"20\"></td><td>wall</td></tr><tr><td style=\"background-color: rgb(135,251,19)\" width=\"20\"></td><td>inflow</td></tr><tr><td style=\"background-color: rgb(26,251,251)\" width=\"20\"></td><td>symmetry</td></tr><tr><td style=\"background-color: rgb(134,26,243)\" width=\"20\"></td><td>outflow</td></tr></table></div><div style=\"float: left; padding-right: 50px\"><h2>Zones</h2><table><tr><td style=\"background-color: rgb(127,127,127)\" width=\"20\"></td><td>Zone 0</td></tr></table></div>"
      ],
      "text/plain": [
       "<IPython.core.display.HTML object>"
      ]
     },
     "metadata": {},
     "output_type": "display_data"
    },
    {
     "data": {
      "text/plain": [
       "Mesh(dim=2, elements=[array([  0,   4, 242, 239], dtype=uint16), array([239, 242, 243, 238], dtype=uint16), array([238, 243, 244, 237], dtype=uint16), array([237, 244, 245, 236], dtype=uint16), array([236, 245, 246, 235], dtype=uint16), array([235, 246, 247, 234], dtype=uint16), array([234, 247, 248, 233], dtype=uint16), array([233, 248, 249, 232], dtype=uint16), array([232, 249, 250, 231], dtype=uint16), array([231, 250, 251, 230], dtype=uint16), array([230, 251, 252, 229], dtype=uint16), array([229, 252, 253, 228], dtype=uint16), array([228, 253, 254, 227], dtype=uint16), array([227, 254, 255, 226], dtype=uint16), array([226, 255, 256, 225], dtype=uint16), array([225, 256, 257, 224], dtype=uint16), array([224, 257, 258, 223], dtype=uint16), array([223, 258, 259, 222], dtype=uint16), array([222, 259, 260, 221], dtype=uint16), array([221, 260, 261, 220], dtype=uint16), array([220, 261, 262, 219], dtype=uint16), array([219, 262, 263, 218], dtype=uint16), array([218, 263, 264, 217], dtype=uint16), array([217, 264, 265, 216], dtype=uint16), array([216, 265, 266, 215], dtype=uint16), array([215, 266, 267, 214], dtype=uint16), array([214, 267, 268, 213], dtype=uint16), array([213, 268, 269, 212], dtype=uint16), array([212, 269, 270, 211], dtype=uint16), array([211, 270, 271, 210], dtype=uint16), array([210, 271, 272, 209], dtype=uint16), array([209, 272, 273, 208], dtype=uint16), array([208, 273, 274, 207], dtype=uint16), array([207, 274, 275, 206], dtype=uint16), array([206, 275, 276, 205], dtype=uint16), array([205, 276, 277, 204], dtype=uint16), array([204, 277, 278, 203], dtype=uint16), array([203, 278, 279, 202], dtype=uint16), array([202, 279, 280, 201], dtype=uint16), array([201, 280, 281, 200], dtype=uint16), array([200, 281, 282, 199], dtype=uint16), array([199, 282, 283, 198], dtype=uint16), array([198, 283, 284, 197], dtype=uint16), array([197, 284, 285, 196], dtype=uint16), array([196, 285, 286, 195], dtype=uint16), array([195, 286, 287, 194], dtype=uint16), array([194, 287, 288, 193], dtype=uint16), array([193, 288, 289, 192], dtype=uint16), array([192, 289, 290, 191], dtype=uint16), array([191, 290, 291, 190], dtype=uint16), array([190, 291, 292, 189], dtype=uint16), array([189, 292, 293, 188], dtype=uint16), array([188, 293, 294, 187], dtype=uint16), array([187, 294, 295, 186], dtype=uint16), array([186, 295, 296, 185], dtype=uint16), array([185, 296, 297, 184], dtype=uint16), array([184, 297, 298, 183], dtype=uint16), array([183, 298, 299, 182], dtype=uint16), array([182, 299, 300, 181], dtype=uint16), array([181, 300, 301, 180], dtype=uint16), array([180, 301, 302, 179], dtype=uint16), array([179, 302, 303, 178], dtype=uint16), array([178, 303, 304, 177], dtype=uint16), array([177, 304, 305, 176], dtype=uint16), array([176, 305, 306, 175], dtype=uint16), array([175, 306, 307, 174], dtype=uint16), array([174, 307, 308, 173], dtype=uint16), array([173, 308, 309, 172], dtype=uint16), array([172, 309, 310, 171], dtype=uint16), array([171, 310, 311, 170], dtype=uint16), array([170, 311, 312, 169], dtype=uint16), array([169, 312, 313, 168], dtype=uint16), array([168, 313, 314, 167], dtype=uint16), array([167, 314, 315, 166], dtype=uint16), array([166, 315, 316, 165], dtype=uint16), array([165, 316, 317, 164], dtype=uint16), array([164, 317, 318, 163], dtype=uint16), array([163, 318, 319, 162], dtype=uint16), array([162, 319, 320, 161], dtype=uint16), array([161, 320, 321, 160], dtype=uint16), array([160, 321, 322, 159], dtype=uint16), array([159, 322, 323, 158], dtype=uint16), array([158, 323, 324, 157], dtype=uint16), array([157, 324, 325, 156], dtype=uint16), array([156, 325, 326, 155], dtype=uint16), array([155, 326, 327, 154], dtype=uint16), array([154, 327, 328, 153], dtype=uint16), array([153, 328, 329, 152], dtype=uint16), array([152, 329, 330, 151], dtype=uint16), array([151, 330, 331, 150], dtype=uint16), array([150, 331, 332, 149], dtype=uint16), array([149, 332, 333, 148], dtype=uint16), array([148, 333, 334, 147], dtype=uint16), array([147, 334, 335, 146], dtype=uint16), array([146, 335, 336, 145], dtype=uint16), array([145, 336, 337, 144], dtype=uint16), array([144, 337, 338, 143], dtype=uint16), array([143, 338, 339, 142], dtype=uint16), array([142, 339, 340, 141], dtype=uint16), array([141, 340, 140,   3], dtype=uint16), array([  4,   5, 341, 242], dtype=uint16), array([242, 341, 342, 243], dtype=uint16), array([243, 342, 343, 244], dtype=uint16), array([244, 343, 344, 245], dtype=uint16), array([245, 344, 345, 246], dtype=uint16), array([246, 345, 346, 247], dtype=uint16), array([247, 346, 347, 248], dtype=uint16), array([248, 347, 348, 249], dtype=uint16), array([249, 348, 349, 250], dtype=uint16), array([250, 349, 350, 251], dtype=uint16), array([251, 350, 351, 252], dtype=uint16), array([252, 351, 352, 253], dtype=uint16), array([253, 352, 353, 254], dtype=uint16), array([254, 353, 354, 255], dtype=uint16), array([255, 354, 355, 256], dtype=uint16), array([256, 355, 356, 257], dtype=uint16), array([257, 356, 357, 258], dtype=uint16), array([258, 357, 358, 259], dtype=uint16), array([259, 358, 359, 260], dtype=uint16), array([260, 359, 360, 261], dtype=uint16), array([261, 360, 361, 262], dtype=uint16), array([262, 361, 362, 263], dtype=uint16), array([263, 362, 363, 264], dtype=uint16), array([264, 363, 364, 265], dtype=uint16), array([265, 364, 365, 266], dtype=uint16), array([266, 365, 366, 267], dtype=uint16), array([267, 366, 367, 268], dtype=uint16), array([268, 367, 368, 269], dtype=uint16), array([269, 368, 369, 270], dtype=uint16), array([270, 369, 370, 271], dtype=uint16), array([271, 370, 371, 272], dtype=uint16), array([272, 371, 372, 273], dtype=uint16), array([273, 372, 373, 274], dtype=uint16), array([274, 373, 374, 275], dtype=uint16), array([275, 374, 375, 276], dtype=uint16), array([276, 375, 376, 277], dtype=uint16), array([277, 376, 377, 278], dtype=uint16), array([278, 377, 378, 279], dtype=uint16), array([279, 378, 379, 280], dtype=uint16), array([280, 379, 380, 281], dtype=uint16), array([281, 380, 381, 282], dtype=uint16), array([282, 381, 382, 283], dtype=uint16), array([283, 382, 383, 284], dtype=uint16), array([284, 383, 384, 285], dtype=uint16), array([285, 384, 385, 286], dtype=uint16), array([286, 385, 386, 287], dtype=uint16), array([287, 386, 387, 288], dtype=uint16), array([288, 387, 388, 289], dtype=uint16), array([289, 388, 389, 290], dtype=uint16), array([290, 389, 390, 291], dtype=uint16), array([291, 390, 391, 292], dtype=uint16), array([292, 391, 392, 293], dtype=uint16), array([293, 392, 393, 294], dtype=uint16), array([294, 393, 394, 295], dtype=uint16), array([295, 394, 395, 296], dtype=uint16), array([296, 395, 396, 297], dtype=uint16), array([297, 396, 397, 298], dtype=uint16), array([298, 397, 398, 299], dtype=uint16), array([299, 398, 399, 300], dtype=uint16), array([300, 399, 400, 301], dtype=uint16), array([301, 400, 401, 302], dtype=uint16), array([302, 401, 402, 303], dtype=uint16), array([303, 402, 403, 304], dtype=uint16), array([304, 403, 404, 305], dtype=uint16), array([305, 404, 405, 306], dtype=uint16), array([306, 405, 406, 307], dtype=uint16), array([307, 406, 407, 308], dtype=uint16), array([308, 407, 408, 309], dtype=uint16), array([309, 408, 409, 310], dtype=uint16), array([310, 409, 410, 311], dtype=uint16), array([311, 410, 411, 312], dtype=uint16), array([312, 411, 412, 313], dtype=uint16), array([313, 412, 413, 314], dtype=uint16), array([314, 413, 414, 315], dtype=uint16), array([315, 414, 415, 316], dtype=uint16), array([316, 415, 416, 317], dtype=uint16), array([317, 416, 417, 318], dtype=uint16), array([318, 417, 418, 319], dtype=uint16), array([319, 418, 419, 320], dtype=uint16), array([320, 419, 420, 321], dtype=uint16), array([321, 420, 421, 322], dtype=uint16), array([322, 421, 422, 323], dtype=uint16), array([323, 422, 423, 324], dtype=uint16), array([324, 423, 424, 325], dtype=uint16), array([325, 424, 425, 326], dtype=uint16), array([326, 425, 426, 327], dtype=uint16), array([327, 426, 427, 328], dtype=uint16), array([328, 427, 428, 329], dtype=uint16), array([329, 428, 429, 330], dtype=uint16), array([330, 429, 430, 331], dtype=uint16), array([331, 430, 431, 332], dtype=uint16), array([332, 431, 432, 333], dtype=uint16), array([333, 432, 433, 334], dtype=uint16), array([334, 433, 434, 335], dtype=uint16), array([335, 434, 435, 336], dtype=uint16), array([336, 435, 436, 337], dtype=uint16), array([337, 436, 437, 338], dtype=uint16), array([338, 437, 438, 339], dtype=uint16), array([339, 438, 439, 340], dtype=uint16), array([340, 439, 139, 140], dtype=uint16), array([  5,   6, 440, 341], dtype=uint16), array([341, 440, 441, 342], dtype=uint16), array([342, 441, 442, 343], dtype=uint16), array([343, 442, 443, 344], dtype=uint16), array([344, 443, 444, 345], dtype=uint16), array([345, 444, 445, 346], dtype=uint16), array([346, 445, 446, 347], dtype=uint16), array([347, 446, 447, 348], dtype=uint16), array([348, 447, 448, 349], dtype=uint16), array([349, 448, 449, 350], dtype=uint16), array([350, 449, 450, 351], dtype=uint16), array([351, 450, 451, 352], dtype=uint16), array([352, 451, 452, 353], dtype=uint16), array([353, 452, 453, 354], dtype=uint16), array([354, 453, 454, 355], dtype=uint16), array([355, 454, 455, 356], dtype=uint16), array([356, 455, 456, 357], dtype=uint16), array([357, 456, 457, 358], dtype=uint16), array([358, 457, 458, 359], dtype=uint16), array([359, 458, 459, 360], dtype=uint16), array([360, 459, 460, 361], dtype=uint16), array([361, 460, 461, 362], dtype=uint16), array([362, 461, 462, 363], dtype=uint16), array([363, 462, 463, 364], dtype=uint16), array([364, 463, 464, 365], dtype=uint16), array([365, 464, 465, 366], dtype=uint16), array([366, 465, 466, 367], dtype=uint16), array([367, 466, 467, 368], dtype=uint16), array([368, 467, 468, 369], dtype=uint16), array([369, 468, 469, 370], dtype=uint16), array([370, 469, 470, 371], dtype=uint16), array([371, 470, 471, 372], dtype=uint16), array([372, 471, 472, 373], dtype=uint16), array([373, 472, 473, 374], dtype=uint16), array([374, 473, 474, 375], dtype=uint16), array([375, 474, 475, 376], dtype=uint16), array([376, 475, 476, 377], dtype=uint16), array([377, 476, 477, 378], dtype=uint16), array([378, 477, 478, 379], dtype=uint16), array([379, 478, 479, 380], dtype=uint16), array([380, 479, 480, 381], dtype=uint16), array([381, 480, 481, 382], dtype=uint16), array([382, 481, 482, 383], dtype=uint16), array([383, 482, 483, 384], dtype=uint16), array([384, 483, 484, 385], dtype=uint16), array([385, 484, 485, 386], dtype=uint16), array([386, 485, 486, 387], dtype=uint16), array([387, 486, 487, 388], dtype=uint16), array([388, 487, 488, 389], dtype=uint16), array([389, 488, 489, 390], dtype=uint16), array([390, 489, 490, 391], dtype=uint16), array([391, 490, 491, 392], dtype=uint16), array([392, 491, 492, 393], dtype=uint16), array([393, 492, 493, 394], dtype=uint16), array([394, 493, 494, 395], dtype=uint16), array([395, 494, 495, 396], dtype=uint16), array([396, 495, 496, 397], dtype=uint16), array([397, 496, 497, 398], dtype=uint16), array([398, 497, 498, 399], dtype=uint16), array([399, 498, 499, 400], dtype=uint16), array([400, 499, 500, 401], dtype=uint16), array([401, 500, 501, 402], dtype=uint16), array([402, 501, 502, 403], dtype=uint16), array([403, 502, 503, 404], dtype=uint16), array([404, 503, 504, 405], dtype=uint16), array([405, 504, 505, 406], dtype=uint16), array([406, 505, 506, 407], dtype=uint16), array([407, 506, 507, 408], dtype=uint16), array([408, 507, 508, 409], dtype=uint16), array([409, 508, 509, 410], dtype=uint16), array([410, 509, 510, 411], dtype=uint16), array([411, 510, 511, 412], dtype=uint16), array([412, 511, 512, 413], dtype=uint16), array([413, 512, 513, 414], dtype=uint16), array([414, 513, 514, 415], dtype=uint16), array([415, 514, 515, 416], dtype=uint16), array([416, 515, 516, 417], dtype=uint16), array([417, 516, 517, 418], dtype=uint16), array([418, 517, 518, 419], dtype=uint16), array([419, 518, 519, 420], dtype=uint16), array([420, 519, 520, 421], dtype=uint16), array([421, 520, 521, 422], dtype=uint16), array([422, 521, 522, 423], dtype=uint16), array([423, 522, 523, 424], dtype=uint16), array([424, 523, 524, 425], dtype=uint16), array([425, 524, 525, 426], dtype=uint16), array([426, 525, 526, 427], dtype=uint16), array([427, 526, 527, 428], dtype=uint16), array([428, 527, 528, 429], dtype=uint16), array([429, 528, 529, 430], dtype=uint16), array([430, 529, 530, 431], dtype=uint16), array([431, 530, 531, 432], dtype=uint16), array([432, 531, 532, 433], dtype=uint16), array([433, 532, 533, 434], dtype=uint16), array([434, 533, 534, 435], dtype=uint16), array([435, 534, 535, 436], dtype=uint16), array([436, 535, 536, 437], dtype=uint16), array([437, 536, 537, 438], dtype=uint16), array([438, 537, 538, 439], dtype=uint16), array([439, 538, 138, 139], dtype=uint16), array([  6,   7, 539, 440], dtype=uint16), array([440, 539, 540, 441], dtype=uint16), array([441, 540, 541, 442], dtype=uint16), array([442, 541, 542, 443], dtype=uint16), array([443, 542, 543, 444], dtype=uint16), array([444, 543, 544, 445], dtype=uint16), array([445, 544, 545, 446], dtype=uint16), array([446, 545, 546, 447], dtype=uint16), array([447, 546, 547, 448], dtype=uint16), array([448, 547, 548, 449], dtype=uint16), array([449, 548, 549, 450], dtype=uint16), array([450, 549, 550, 451], dtype=uint16), array([451, 550, 551, 452], dtype=uint16), array([452, 551, 552, 453], dtype=uint16), array([453, 552, 553, 454], dtype=uint16), array([454, 553, 554, 455], dtype=uint16), array([455, 554, 555, 456], dtype=uint16), array([456, 555, 556, 457], dtype=uint16), array([457, 556, 557, 458], dtype=uint16), array([458, 557, 558, 459], dtype=uint16), array([459, 558, 559, 460], dtype=uint16), array([460, 559, 560, 461], dtype=uint16), array([461, 560, 561, 462], dtype=uint16), array([462, 561, 562, 463], dtype=uint16), array([463, 562, 563, 464], dtype=uint16), array([464, 563, 564, 465], dtype=uint16), array([465, 564, 565, 466], dtype=uint16), array([466, 565, 566, 467], dtype=uint16), array([467, 566, 567, 468], dtype=uint16), array([468, 567, 568, 469], dtype=uint16), array([469, 568, 569, 470], dtype=uint16), array([470, 569, 570, 471], dtype=uint16), array([471, 570, 571, 472], dtype=uint16), array([472, 571, 572, 473], dtype=uint16), array([473, 572, 573, 474], dtype=uint16), array([474, 573, 574, 475], dtype=uint16), array([475, 574, 575, 476], dtype=uint16), array([476, 575, 576, 477], dtype=uint16), array([477, 576, 577, 478], dtype=uint16), array([478, 577, 578, 479], dtype=uint16), array([479, 578, 579, 480], dtype=uint16), array([480, 579, 580, 481], dtype=uint16), array([481, 580, 581, 482], dtype=uint16), array([482, 581, 582, 483], dtype=uint16), array([483, 582, 583, 484], dtype=uint16), array([484, 583, 584, 485], dtype=uint16), array([485, 584, 585, 486], dtype=uint16), array([486, 585, 586, 487], dtype=uint16), array([487, 586, 587, 488], dtype=uint16), array([488, 587, 588, 489], dtype=uint16), array([489, 588, 589, 490], dtype=uint16), array([490, 589, 590, 491], dtype=uint16), array([491, 590, 591, 492], dtype=uint16), array([492, 591, 592, 493], dtype=uint16), array([493, 592, 593, 494], dtype=uint16), array([494, 593, 594, 495], dtype=uint16), array([495, 594, 595, 496], dtype=uint16), array([496, 595, 596, 497], dtype=uint16), array([497, 596, 597, 498], dtype=uint16), array([498, 597, 598, 499], dtype=uint16), array([499, 598, 599, 500], dtype=uint16), array([500, 599, 600, 501], dtype=uint16), array([501, 600, 601, 502], dtype=uint16), array([502, 601, 602, 503], dtype=uint16), array([503, 602, 603, 504], dtype=uint16), array([504, 603, 604, 505], dtype=uint16), array([505, 604, 605, 506], dtype=uint16), array([506, 605, 606, 507], dtype=uint16), array([507, 606, 607, 508], dtype=uint16), array([508, 607, 608, 509], dtype=uint16), array([509, 608, 609, 510], dtype=uint16), array([510, 609, 610, 511], dtype=uint16), array([511, 610, 611, 512], dtype=uint16), array([512, 611, 612, 513], dtype=uint16), array([513, 612, 613, 514], dtype=uint16), array([514, 613, 614, 515], dtype=uint16), array([515, 614, 615, 516], dtype=uint16), array([516, 615, 616, 517], dtype=uint16), array([517, 616, 617, 518], dtype=uint16), array([518, 617, 618, 519], dtype=uint16), array([519, 618, 619, 520], dtype=uint16), array([520, 619, 620, 521], dtype=uint16), array([521, 620, 621, 522], dtype=uint16), array([522, 621, 622, 523], dtype=uint16), array([523, 622, 623, 524], dtype=uint16), array([524, 623, 624, 525], dtype=uint16), array([525, 624, 625, 526], dtype=uint16), array([526, 625, 626, 527], dtype=uint16), array([527, 626, 627, 528], dtype=uint16), array([528, 627, 628, 529], dtype=uint16), array([529, 628, 629, 530], dtype=uint16), array([530, 629, 630, 531], dtype=uint16), array([531, 630, 631, 532], dtype=uint16), array([532, 631, 632, 533], dtype=uint16), array([533, 632, 633, 534], dtype=uint16), array([534, 633, 634, 535], dtype=uint16), array([535, 634, 635, 536], dtype=uint16), array([536, 635, 636, 537], dtype=uint16), array([537, 636, 637, 538], dtype=uint16), array([538, 637, 137, 138], dtype=uint16), array([  7,   8, 638, 539], dtype=uint16), array([539, 638, 639, 540], dtype=uint16), array([540, 639, 640, 541], dtype=uint16), array([541, 640, 641, 542], dtype=uint16), array([542, 641, 642, 543], dtype=uint16), array([543, 642, 643, 544], dtype=uint16), array([544, 643, 644, 545], dtype=uint16), array([545, 644, 645, 546], dtype=uint16), array([546, 645, 646, 547], dtype=uint16), array([547, 646, 647, 548], dtype=uint16), array([548, 647, 648, 549], dtype=uint16), array([549, 648, 649, 550], dtype=uint16), array([550, 649, 650, 551], dtype=uint16), array([551, 650, 651, 552], dtype=uint16), array([552, 651, 652, 553], dtype=uint16), array([553, 652, 653, 554], dtype=uint16), array([554, 653, 654, 555], dtype=uint16), array([555, 654, 655, 556], dtype=uint16), array([556, 655, 656, 557], dtype=uint16), array([557, 656, 657, 558], dtype=uint16), array([558, 657, 658, 559], dtype=uint16), array([559, 658, 659, 560], dtype=uint16), array([560, 659, 660, 561], dtype=uint16), array([561, 660, 661, 562], dtype=uint16), array([562, 661, 662, 563], dtype=uint16), array([563, 662, 663, 564], dtype=uint16), array([564, 663, 664, 565], dtype=uint16), array([565, 664, 665, 566], dtype=uint16), array([566, 665, 666, 567], dtype=uint16), array([567, 666, 667, 568], dtype=uint16), array([568, 667, 668, 569], dtype=uint16), array([569, 668, 669, 570], dtype=uint16), array([570, 669, 670, 571], dtype=uint16), array([571, 670, 671, 572], dtype=uint16), array([572, 671, 672, 573], dtype=uint16), array([573, 672, 673, 574], dtype=uint16), array([574, 673, 674, 575], dtype=uint16), array([575, 674, 675, 576], dtype=uint16), array([576, 675, 676, 577], dtype=uint16), array([577, 676, 677, 578], dtype=uint16), array([578, 677, 678, 579], dtype=uint16), array([579, 678, 679, 580], dtype=uint16), array([580, 679, 680, 581], dtype=uint16), array([581, 680, 681, 582], dtype=uint16), array([582, 681, 682, 583], dtype=uint16), array([583, 682, 683, 584], dtype=uint16), array([584, 683, 684, 585], dtype=uint16), array([585, 684, 685, 586], dtype=uint16), array([586, 685, 686, 587], dtype=uint16), array([587, 686, 687, 588], dtype=uint16), array([588, 687, 688, 589], dtype=uint16), array([589, 688, 689, 590], dtype=uint16), array([590, 689, 690, 591], dtype=uint16), array([591, 690, 691, 592], dtype=uint16), array([592, 691, 692, 593], dtype=uint16), array([593, 692, 693, 594], dtype=uint16), array([594, 693, 694, 595], dtype=uint16), array([595, 694, 695, 596], dtype=uint16), array([596, 695, 696, 597], dtype=uint16), array([597, 696, 697, 598], dtype=uint16), array([598, 697, 698, 599], dtype=uint16), array([599, 698, 699, 600], dtype=uint16), array([600, 699, 700, 601], dtype=uint16), array([601, 700, 701, 602], dtype=uint16), array([602, 701, 702, 603], dtype=uint16), array([603, 702, 703, 604], dtype=uint16), array([604, 703, 704, 605], dtype=uint16), array([605, 704, 705, 606], dtype=uint16), array([606, 705, 706, 607], dtype=uint16), array([607, 706, 707, 608], dtype=uint16), array([608, 707, 708, 609], dtype=uint16), array([609, 708, 709, 610], dtype=uint16), array([610, 709, 710, 611], dtype=uint16), array([611, 710, 711, 612], dtype=uint16), array([612, 711, 712, 613], dtype=uint16), array([613, 712, 713, 614], dtype=uint16), array([614, 713, 714, 615], dtype=uint16), array([615, 714, 715, 616], dtype=uint16), array([616, 715, 716, 617], dtype=uint16), array([617, 716, 717, 618], dtype=uint16), array([618, 717, 718, 619], dtype=uint16), array([619, 718, 719, 620], dtype=uint16), array([620, 719, 720, 621], dtype=uint16), array([621, 720, 721, 622], dtype=uint16), array([622, 721, 722, 623], dtype=uint16), array([623, 722, 723, 624], dtype=uint16), array([624, 723, 724, 625], dtype=uint16), array([625, 724, 725, 626], dtype=uint16), array([626, 725, 726, 627], dtype=uint16), array([627, 726, 727, 628], dtype=uint16), array([628, 727, 728, 629], dtype=uint16), array([629, 728, 729, 630], dtype=uint16), array([630, 729, 730, 631], dtype=uint16), array([631, 730, 731, 632], dtype=uint16), array([632, 731, 732, 633], dtype=uint16), array([633, 732, 733, 634], dtype=uint16), array([634, 733, 734, 635], dtype=uint16), array([635, 734, 735, 636], dtype=uint16), array([636, 735, 736, 637], dtype=uint16), array([637, 736, 136, 137], dtype=uint16), array([  8,   9, 737, 638], dtype=uint16), array([638, 737, 738, 639], dtype=uint16), array([639, 738, 739, 640], dtype=uint16), array([640, 739, 740, 641], dtype=uint16), array([641, 740, 741, 642], dtype=uint16), array([642, 741, 742, 643], dtype=uint16), array([643, 742, 743, 644], dtype=uint16), array([644, 743, 744, 645], dtype=uint16), array([645, 744, 745, 646], dtype=uint16), array([646, 745, 746, 647], dtype=uint16), array([647, 746, 747, 648], dtype=uint16), array([648, 747, 748, 649], dtype=uint16), array([649, 748, 749, 650], dtype=uint16), array([650, 749, 750, 651], dtype=uint16), array([651, 750, 751, 652], dtype=uint16), array([652, 751, 752, 653], dtype=uint16), array([653, 752, 753, 654], dtype=uint16), array([654, 753, 754, 655], dtype=uint16), array([655, 754, 755, 656], dtype=uint16), array([656, 755, 756, 657], dtype=uint16), array([657, 756, 757, 658], dtype=uint16), array([658, 757, 758, 659], dtype=uint16), array([659, 758, 759, 660], dtype=uint16), array([660, 759, 760, 661], dtype=uint16), array([661, 760, 761, 662], dtype=uint16), array([662, 761, 762, 663], dtype=uint16), array([663, 762, 763, 664], dtype=uint16), array([664, 763, 764, 665], dtype=uint16), array([665, 764, 765, 666], dtype=uint16), array([666, 765, 766, 667], dtype=uint16), array([667, 766, 767, 668], dtype=uint16), array([668, 767, 768, 669], dtype=uint16), array([669, 768, 769, 670], dtype=uint16), array([670, 769, 770, 671], dtype=uint16), array([671, 770, 771, 672], dtype=uint16), array([672, 771, 772, 673], dtype=uint16), array([673, 772, 773, 674], dtype=uint16), array([674, 773, 774, 675], dtype=uint16), array([675, 774, 775, 676], dtype=uint16), array([676, 775, 776, 677], dtype=uint16), array([677, 776, 777, 678], dtype=uint16), array([678, 777, 778, 679], dtype=uint16), array([679, 778, 779, 680], dtype=uint16), array([680, 779, 780, 681], dtype=uint16), array([681, 780, 781, 682], dtype=uint16), array([682, 781, 782, 683], dtype=uint16), array([683, 782, 783, 684], dtype=uint16), array([684, 783, 784, 685], dtype=uint16), array([685, 784, 785, 686], dtype=uint16), array([686, 785, 786, 687], dtype=uint16), array([687, 786, 787, 688], dtype=uint16), array([688, 787, 788, 689], dtype=uint16), array([689, 788, 789, 690], dtype=uint16), array([690, 789, 790, 691], dtype=uint16), array([691, 790, 791, 692], dtype=uint16), array([692, 791, 792, 693], dtype=uint16), array([693, 792, 793, 694], dtype=uint16), array([694, 793, 794, 695], dtype=uint16), array([695, 794, 795, 696], dtype=uint16), array([696, 795, 796, 697], dtype=uint16), array([697, 796, 797, 698], dtype=uint16), array([698, 797, 798, 699], dtype=uint16), array([699, 798, 799, 700], dtype=uint16), array([700, 799, 800, 701], dtype=uint16), array([701, 800, 801, 702], dtype=uint16), array([702, 801, 802, 703], dtype=uint16), array([703, 802, 803, 704], dtype=uint16), array([704, 803, 804, 705], dtype=uint16), array([705, 804, 805, 706], dtype=uint16), array([706, 805, 806, 707], dtype=uint16), array([707, 806, 807, 708], dtype=uint16), array([708, 807, 808, 709], dtype=uint16), array([709, 808, 809, 710], dtype=uint16), array([710, 809, 810, 711], dtype=uint16), array([711, 810, 811, 712], dtype=uint16), array([712, 811, 812, 713], dtype=uint16), array([713, 812, 813, 714], dtype=uint16), array([714, 813, 814, 715], dtype=uint16), array([715, 814, 815, 716], dtype=uint16), array([716, 815, 816, 717], dtype=uint16), array([717, 816, 817, 718], dtype=uint16), array([718, 817, 818, 719], dtype=uint16), array([719, 818, 819, 720], dtype=uint16), array([720, 819, 820, 721], dtype=uint16), array([721, 820, 821, 722], dtype=uint16), array([722, 821, 822, 723], dtype=uint16), array([723, 822, 823, 724], dtype=uint16), array([724, 823, 824, 725], dtype=uint16), array([725, 824, 825, 726], dtype=uint16), array([726, 825, 826, 727], dtype=uint16), array([727, 826, 827, 728], dtype=uint16), array([728, 827, 828, 729], dtype=uint16), array([729, 828, 829, 730], dtype=uint16), array([730, 829, 830, 731], dtype=uint16), array([731, 830, 831, 732], dtype=uint16), array([732, 831, 832, 733], dtype=uint16), array([733, 832, 833, 734], dtype=uint16), array([734, 833, 834, 735], dtype=uint16), array([735, 834, 835, 736], dtype=uint16), array([736, 835, 135, 136], dtype=uint16), array([  9,  10, 836, 737], dtype=uint16), array([737, 836, 837, 738], dtype=uint16), array([738, 837, 838, 739], dtype=uint16), array([739, 838, 839, 740], dtype=uint16), array([740, 839, 840, 741], dtype=uint16), array([741, 840, 841, 742], dtype=uint16), array([742, 841, 842, 743], dtype=uint16), array([743, 842, 843, 744], dtype=uint16), array([744, 843, 844, 745], dtype=uint16), array([745, 844, 845, 746], dtype=uint16), array([746, 845, 846, 747], dtype=uint16), array([747, 846, 847, 748], dtype=uint16), array([748, 847, 848, 749], dtype=uint16), array([749, 848, 849, 750], dtype=uint16), array([750, 849, 850, 751], dtype=uint16), array([751, 850, 851, 752], dtype=uint16), array([752, 851, 852, 753], dtype=uint16), array([753, 852, 853, 754], dtype=uint16), array([754, 853, 854, 755], dtype=uint16), array([755, 854, 855, 756], dtype=uint16), array([756, 855, 856, 757], dtype=uint16), array([757, 856, 857, 758], dtype=uint16), array([758, 857, 858, 759], dtype=uint16), array([759, 858, 859, 760], dtype=uint16), array([760, 859, 860, 761], dtype=uint16), array([761, 860, 861, 762], dtype=uint16), array([762, 861, 862, 763], dtype=uint16), array([763, 862, 863, 764], dtype=uint16), array([764, 863, 864, 765], dtype=uint16), array([765, 864, 865, 766], dtype=uint16), array([766, 865, 866, 767], dtype=uint16), array([767, 866, 867, 768], dtype=uint16), array([768, 867, 868, 769], dtype=uint16), array([769, 868, 869, 770], dtype=uint16), array([770, 869, 870, 771], dtype=uint16), array([771, 870, 871, 772], dtype=uint16), array([772, 871, 872, 773], dtype=uint16), array([773, 872, 873, 774], dtype=uint16), array([774, 873, 874, 775], dtype=uint16), array([775, 874, 875, 776], dtype=uint16), array([776, 875, 876, 777], dtype=uint16), array([777, 876, 877, 778], dtype=uint16), array([778, 877, 878, 779], dtype=uint16), array([779, 878, 879, 780], dtype=uint16), array([780, 879, 880, 781], dtype=uint16), array([781, 880, 881, 782], dtype=uint16), array([782, 881, 882, 783], dtype=uint16), array([783, 882, 883, 784], dtype=uint16), array([784, 883, 884, 785], dtype=uint16), array([785, 884, 885, 786], dtype=uint16), array([786, 885, 886, 787], dtype=uint16), array([787, 886, 887, 788], dtype=uint16), array([788, 887, 888, 789], dtype=uint16), array([789, 888, 889, 790], dtype=uint16), array([790, 889, 890, 791], dtype=uint16), array([791, 890, 891, 792], dtype=uint16), array([792, 891, 892, 793], dtype=uint16), array([793, 892, 893, 794], dtype=uint16), array([794, 893, 894, 795], dtype=uint16), array([795, 894, 895, 796], dtype=uint16), array([796, 895, 896, 797], dtype=uint16), array([797, 896, 897, 798], dtype=uint16), array([798, 897, 898, 799], dtype=uint16), array([799, 898, 899, 800], dtype=uint16), array([800, 899, 900, 801], dtype=uint16), array([801, 900, 901, 802], dtype=uint16), array([802, 901, 902, 803], dtype=uint16), array([803, 902, 903, 804], dtype=uint16), array([804, 903, 904, 805], dtype=uint16), array([805, 904, 905, 806], dtype=uint16), array([806, 905, 906, 807], dtype=uint16), array([807, 906, 907, 808], dtype=uint16), array([808, 907, 908, 809], dtype=uint16), array([809, 908, 909, 810], dtype=uint16), array([810, 909, 910, 811], dtype=uint16), array([811, 910, 911, 812], dtype=uint16), array([812, 911, 912, 813], dtype=uint16), array([813, 912, 913, 814], dtype=uint16), array([814, 913, 914, 815], dtype=uint16), array([815, 914, 915, 816], dtype=uint16), array([816, 915, 916, 817], dtype=uint16), array([817, 916, 917, 818], dtype=uint16), array([818, 917, 918, 819], dtype=uint16), array([819, 918, 919, 820], dtype=uint16), array([820, 919, 920, 821], dtype=uint16), array([821, 920, 921, 822], dtype=uint16), array([822, 921, 922, 823], dtype=uint16), array([823, 922, 923, 824], dtype=uint16), array([824, 923, 924, 825], dtype=uint16), array([825, 924, 925, 826], dtype=uint16), array([826, 925, 926, 827], dtype=uint16), array([827, 926, 927, 828], dtype=uint16), array([828, 927, 928, 829], dtype=uint16), array([829, 928, 929, 830], dtype=uint16), array([830, 929, 930, 831], dtype=uint16), array([831, 930, 931, 832], dtype=uint16), array([832, 931, 932, 833], dtype=uint16), array([833, 932, 933, 834], dtype=uint16), array([834, 933, 934, 835], dtype=uint16), array([835, 934, 134, 135], dtype=uint16), array([ 10,  11, 935, 836], dtype=uint16), array([836, 935, 936, 837], dtype=uint16), array([837, 936, 937, 838], dtype=uint16), array([838, 937, 938, 839], dtype=uint16), array([839, 938, 939, 840], dtype=uint16), array([840, 939, 940, 841], dtype=uint16), array([841, 940, 941, 842], dtype=uint16), array([842, 941, 942, 843], dtype=uint16), array([843, 942, 943, 844], dtype=uint16), array([844, 943, 944, 845], dtype=uint16), array([845, 944, 945, 846], dtype=uint16), array([846, 945, 946, 847], dtype=uint16), array([847, 946, 947, 848], dtype=uint16), array([848, 947, 948, 849], dtype=uint16), array([849, 948, 949, 850], dtype=uint16), array([850, 949, 950, 851], dtype=uint16), array([851, 950, 951, 852], dtype=uint16), array([852, 951, 952, 853], dtype=uint16), array([853, 952, 953, 854], dtype=uint16), array([854, 953, 954, 855], dtype=uint16), array([855, 954, 955, 856], dtype=uint16), array([856, 955, 956, 857], dtype=uint16), array([857, 956, 957, 858], dtype=uint16), array([858, 957, 958, 859], dtype=uint16), array([859, 958, 959, 860], dtype=uint16), array([860, 959, 960, 861], dtype=uint16), array([861, 960, 961, 862], dtype=uint16), array([862, 961, 962, 863], dtype=uint16), array([863, 962, 963, 864], dtype=uint16), array([864, 963, 964, 865], dtype=uint16), array([865, 964, 965, 866], dtype=uint16), array([866, 965, 966, 867], dtype=uint16), array([867, 966, 967, 868], dtype=uint16), array([868, 967, 968, 869], dtype=uint16), array([869, 968, 969, 870], dtype=uint16), array([870, 969, 970, 871], dtype=uint16), array([871, 970, 971, 872], dtype=uint16), array([872, 971, 972, 873], dtype=uint16), array([873, 972, 973, 874], dtype=uint16), array([874, 973, 974, 875], dtype=uint16), array([875, 974, 975, 876], dtype=uint16), array([876, 975, 976, 877], dtype=uint16), array([877, 976, 977, 878], dtype=uint16), array([878, 977, 978, 879], dtype=uint16), array([879, 978, 979, 880], dtype=uint16), array([880, 979, 980, 881], dtype=uint16), array([881, 980, 981, 882], dtype=uint16), array([882, 981, 982, 883], dtype=uint16), array([883, 982, 983, 884], dtype=uint16), array([884, 983, 984, 885], dtype=uint16), array([885, 984, 985, 886], dtype=uint16), array([886, 985, 986, 887], dtype=uint16), array([887, 986, 987, 888], dtype=uint16), array([888, 987, 988, 889], dtype=uint16), array([889, 988, 989, 890], dtype=uint16), array([890, 989, 990, 891], dtype=uint16), array([891, 990, 991, 892], dtype=uint16), array([892, 991, 992, 893], dtype=uint16), array([893, 992, 993, 894], dtype=uint16), array([894, 993, 994, 895], dtype=uint16), array([895, 994, 995, 896], dtype=uint16), array([896, 995, 996, 897], dtype=uint16), array([897, 996, 997, 898], dtype=uint16), array([898, 997, 998, 899], dtype=uint16), array([899, 998, 999, 900], dtype=uint16), array([ 900,  999, 1000,  901], dtype=uint16), array([ 901, 1000, 1001,  902], dtype=uint16), array([ 902, 1001, 1002,  903], dtype=uint16), array([ 903, 1002, 1003,  904], dtype=uint16), array([ 904, 1003, 1004,  905], dtype=uint16), array([ 905, 1004, 1005,  906], dtype=uint16), array([ 906, 1005, 1006,  907], dtype=uint16), array([ 907, 1006, 1007,  908], dtype=uint16), array([ 908, 1007, 1008,  909], dtype=uint16), array([ 909, 1008, 1009,  910], dtype=uint16), array([ 910, 1009, 1010,  911], dtype=uint16), array([ 911, 1010, 1011,  912], dtype=uint16), array([ 912, 1011, 1012,  913], dtype=uint16), array([ 913, 1012, 1013,  914], dtype=uint16), array([ 914, 1013, 1014,  915], dtype=uint16), array([ 915, 1014, 1015,  916], dtype=uint16), array([ 916, 1015, 1016,  917], dtype=uint16), array([ 917, 1016, 1017,  918], dtype=uint16), array([ 918, 1017, 1018,  919], dtype=uint16), array([ 919, 1018, 1019,  920], dtype=uint16), array([ 920, 1019, 1020,  921], dtype=uint16), array([ 921, 1020, 1021,  922], dtype=uint16), array([ 922, 1021, 1022,  923], dtype=uint16), array([ 923, 1022, 1023,  924], dtype=uint16), array([ 924, 1023, 1024,  925], dtype=uint16), array([ 925, 1024, 1025,  926], dtype=uint16), array([ 926, 1025, 1026,  927], dtype=uint16), array([ 927, 1026, 1027,  928], dtype=uint16), array([ 928, 1027, 1028,  929], dtype=uint16), array([ 929, 1028, 1029,  930], dtype=uint16), array([ 930, 1029, 1030,  931], dtype=uint16), array([ 931, 1030, 1031,  932], dtype=uint16), array([ 932, 1031, 1032,  933], dtype=uint16), array([ 933, 1032, 1033,  934], dtype=uint16), array([ 934, 1033,  133,  134], dtype=uint16), array([  11,   12, 1034,  935], dtype=uint16), array([ 935, 1034, 1035,  936], dtype=uint16), array([ 936, 1035, 1036,  937], dtype=uint16), array([ 937, 1036, 1037,  938], dtype=uint16), array([ 938, 1037, 1038,  939], dtype=uint16), array([ 939, 1038, 1039,  940], dtype=uint16), array([ 940, 1039, 1040,  941], dtype=uint16), array([ 941, 1040, 1041,  942], dtype=uint16), array([ 942, 1041, 1042,  943], dtype=uint16), array([ 943, 1042, 1043,  944], dtype=uint16), array([ 944, 1043, 1044,  945], dtype=uint16), array([ 945, 1044, 1045,  946], dtype=uint16), array([ 946, 1045, 1046,  947], dtype=uint16), array([ 947, 1046, 1047,  948], dtype=uint16), array([ 948, 1047, 1048,  949], dtype=uint16), array([ 949, 1048, 1049,  950], dtype=uint16), array([ 950, 1049, 1050,  951], dtype=uint16), array([ 951, 1050, 1051,  952], dtype=uint16), array([ 952, 1051, 1052,  953], dtype=uint16), array([ 953, 1052, 1053,  954], dtype=uint16), array([ 954, 1053, 1054,  955], dtype=uint16), array([ 955, 1054, 1055,  956], dtype=uint16), array([ 956, 1055, 1056,  957], dtype=uint16), array([ 957, 1056, 1057,  958], dtype=uint16), array([ 958, 1057, 1058,  959], dtype=uint16), array([ 959, 1058, 1059,  960], dtype=uint16), array([ 960, 1059, 1060,  961], dtype=uint16), array([ 961, 1060, 1061,  962], dtype=uint16), array([ 962, 1061, 1062,  963], dtype=uint16), array([ 963, 1062, 1063,  964], dtype=uint16), array([ 964, 1063, 1064,  965], dtype=uint16), array([ 965, 1064, 1065,  966], dtype=uint16), array([ 966, 1065, 1066,  967], dtype=uint16), array([ 967, 1066, 1067,  968], dtype=uint16), array([ 968, 1067, 1068,  969], dtype=uint16), array([ 969, 1068, 1069,  970], dtype=uint16), array([ 970, 1069, 1070,  971], dtype=uint16), array([ 971, 1070, 1071,  972], dtype=uint16), array([ 972, 1071, 1072,  973], dtype=uint16), array([ 973, 1072, 1073,  974], dtype=uint16), array([ 974, 1073, 1074,  975], dtype=uint16), array([ 975, 1074, 1075,  976], dtype=uint16), array([ 976, 1075, 1076,  977], dtype=uint16), array([ 977, 1076, 1077,  978], dtype=uint16), array([ 978, 1077, 1078,  979], dtype=uint16), array([ 979, 1078, 1079,  980], dtype=uint16), array([ 980, 1079, 1080,  981], dtype=uint16), array([ 981, 1080, 1081,  982], dtype=uint16), array([ 982, 1081, 1082,  983], dtype=uint16), array([ 983, 1082, 1083,  984], dtype=uint16), array([ 984, 1083, 1084,  985], dtype=uint16), array([ 985, 1084, 1085,  986], dtype=uint16), array([ 986, 1085, 1086,  987], dtype=uint16), array([ 987, 1086, 1087,  988], dtype=uint16), array([ 988, 1087, 1088,  989], dtype=uint16), array([ 989, 1088, 1089,  990], dtype=uint16), array([ 990, 1089, 1090,  991], dtype=uint16), array([ 991, 1090, 1091,  992], dtype=uint16), array([ 992, 1091, 1092,  993], dtype=uint16), array([ 993, 1092, 1093,  994], dtype=uint16), array([ 994, 1093, 1094,  995], dtype=uint16), array([ 995, 1094, 1095,  996], dtype=uint16), array([ 996, 1095, 1096,  997], dtype=uint16), array([ 997, 1096, 1097,  998], dtype=uint16), array([ 998, 1097, 1098,  999], dtype=uint16), array([ 999, 1098, 1099, 1000], dtype=uint16), array([1000, 1099, 1100, 1001], dtype=uint16), array([1001, 1100, 1101, 1002], dtype=uint16), array([1002, 1101, 1102, 1003], dtype=uint16), array([1003, 1102, 1103, 1004], dtype=uint16), array([1004, 1103, 1104, 1005], dtype=uint16), array([1005, 1104, 1105, 1006], dtype=uint16), array([1006, 1105, 1106, 1007], dtype=uint16), array([1007, 1106, 1107, 1008], dtype=uint16), array([1008, 1107, 1108, 1009], dtype=uint16), array([1009, 1108, 1109, 1010], dtype=uint16), array([1010, 1109, 1110, 1011], dtype=uint16), array([1011, 1110, 1111, 1012], dtype=uint16), array([1012, 1111, 1112, 1013], dtype=uint16), array([1013, 1112, 1113, 1014], dtype=uint16), array([1014, 1113, 1114, 1015], dtype=uint16), array([1015, 1114, 1115, 1016], dtype=uint16), array([1016, 1115, 1116, 1017], dtype=uint16), array([1017, 1116, 1117, 1018], dtype=uint16), array([1018, 1117, 1118, 1019], dtype=uint16), array([1019, 1118, 1119, 1020], dtype=uint16), array([1020, 1119, 1120, 1021], dtype=uint16), array([1021, 1120, 1121, 1022], dtype=uint16), array([1022, 1121, 1122, 1023], dtype=uint16), array([1023, 1122, 1123, 1024], dtype=uint16), array([1024, 1123, 1124, 1025], dtype=uint16), array([1025, 1124, 1125, 1026], dtype=uint16), array([1026, 1125, 1126, 1027], dtype=uint16), array([1027, 1126, 1127, 1028], dtype=uint16), array([1028, 1127, 1128, 1029], dtype=uint16), array([1029, 1128, 1129, 1030], dtype=uint16), array([1030, 1129, 1130, 1031], dtype=uint16), array([1031, 1130, 1131, 1032], dtype=uint16), array([1032, 1131, 1132, 1033], dtype=uint16), array([1033, 1132,  132,  133], dtype=uint16), array([  12,   13, 1133, 1034], dtype=uint16), array([1034, 1133, 1134, 1035], dtype=uint16), array([1035, 1134, 1135, 1036], dtype=uint16), array([1036, 1135, 1136, 1037], dtype=uint16), array([1037, 1136, 1137, 1038], dtype=uint16), array([1038, 1137, 1138, 1039], dtype=uint16), array([1039, 1138, 1139, 1040], dtype=uint16), array([1040, 1139, 1140, 1041], dtype=uint16), array([1041, 1140, 1141, 1042], dtype=uint16), array([1042, 1141, 1142, 1043], dtype=uint16), array([1043, 1142, 1143, 1044], dtype=uint16), array([1044, 1143, 1144, 1045], dtype=uint16), array([1045, 1144, 1145, 1046], dtype=uint16), array([1046, 1145, 1146, 1047], dtype=uint16), array([1047, 1146, 1147, 1048], dtype=uint16), array([1048, 1147, 1148, 1049], dtype=uint16), array([1049, 1148, 1149, 1050], dtype=uint16), array([1050, 1149, 1150, 1051], dtype=uint16), array([1051, 1150, 1151, 1052], dtype=uint16), array([1052, 1151, 1152, 1053], dtype=uint16), array([1053, 1152, 1153, 1054], dtype=uint16), array([1054, 1153, 1154, 1055], dtype=uint16), array([1055, 1154, 1155, 1056], dtype=uint16), array([1056, 1155, 1156, 1057], dtype=uint16), array([1057, 1156, 1157, 1058], dtype=uint16), array([1058, 1157, 1158, 1059], dtype=uint16), array([1059, 1158, 1159, 1060], dtype=uint16), array([1060, 1159, 1160, 1061], dtype=uint16), array([1061, 1160, 1161, 1062], dtype=uint16), array([1062, 1161, 1162, 1063], dtype=uint16), array([1063, 1162, 1163, 1064], dtype=uint16), array([1064, 1163, 1164, 1065], dtype=uint16), array([1065, 1164, 1165, 1066], dtype=uint16), array([1066, 1165, 1166, 1067], dtype=uint16), array([1067, 1166, 1167, 1068], dtype=uint16), array([1068, 1167, 1168, 1069], dtype=uint16), array([1069, 1168, 1169, 1070], dtype=uint16), array([1070, 1169, 1170, 1071], dtype=uint16), array([1071, 1170, 1171, 1072], dtype=uint16), array([1072, 1171, 1172, 1073], dtype=uint16), array([1073, 1172, 1173, 1074], dtype=uint16), array([1074, 1173, 1174, 1075], dtype=uint16), array([1075, 1174, 1175, 1076], dtype=uint16), array([1076, 1175, 1176, 1077], dtype=uint16), array([1077, 1176, 1177, 1078], dtype=uint16), array([1078, 1177, 1178, 1079], dtype=uint16), array([1079, 1178, 1179, 1080], dtype=uint16), array([1080, 1179, 1180, 1081], dtype=uint16), array([1081, 1180, 1181, 1082], dtype=uint16), array([1082, 1181, 1182, 1083], dtype=uint16), array([1083, 1182, 1183, 1084], dtype=uint16), array([1084, 1183, 1184, 1085], dtype=uint16), array([1085, 1184, 1185, 1086], dtype=uint16), array([1086, 1185, 1186, 1087], dtype=uint16), array([1087, 1186, 1187, 1088], dtype=uint16), array([1088, 1187, 1188, 1089], dtype=uint16), array([1089, 1188, 1189, 1090], dtype=uint16), array([1090, 1189, 1190, 1091], dtype=uint16), array([1091, 1190, 1191, 1092], dtype=uint16), array([1092, 1191, 1192, 1093], dtype=uint16), array([1093, 1192, 1193, 1094], dtype=uint16), array([1094, 1193, 1194, 1095], dtype=uint16), array([1095, 1194, 1195, 1096], dtype=uint16), array([1096, 1195, 1196, 1097], dtype=uint16), array([1097, 1196, 1197, 1098], dtype=uint16), array([1098, 1197, 1198, 1099], dtype=uint16), array([1099, 1198, 1199, 1100], dtype=uint16), array([1100, 1199, 1200, 1101], dtype=uint16), array([1101, 1200, 1201, 1102], dtype=uint16), array([1102, 1201, 1202, 1103], dtype=uint16), array([1103, 1202, 1203, 1104], dtype=uint16), array([1104, 1203, 1204, 1105], dtype=uint16), array([1105, 1204, 1205, 1106], dtype=uint16), array([1106, 1205, 1206, 1107], dtype=uint16), array([1107, 1206, 1207, 1108], dtype=uint16), array([1108, 1207, 1208, 1109], dtype=uint16), array([1109, 1208, 1209, 1110], dtype=uint16), array([1110, 1209, 1210, 1111], dtype=uint16), array([1111, 1210, 1211, 1112], dtype=uint16), array([1112, 1211, 1212, 1113], dtype=uint16), array([1113, 1212, 1213, 1114], dtype=uint16), array([1114, 1213, 1214, 1115], dtype=uint16), array([1115, 1214, 1215, 1116], dtype=uint16), array([1116, 1215, 1216, 1117], dtype=uint16), array([1117, 1216, 1217, 1118], dtype=uint16), array([1118, 1217, 1218, 1119], dtype=uint16), array([1119, 1218, 1219, 1120], dtype=uint16), array([1120, 1219, 1220, 1121], dtype=uint16), array([1121, 1220, 1221, 1122], dtype=uint16), array([1122, 1221, 1222, 1123], dtype=uint16), array([1123, 1222, 1223, 1124], dtype=uint16), array([1124, 1223, 1224, 1125], dtype=uint16), array([1125, 1224, 1225, 1126], dtype=uint16), array([1126, 1225, 1226, 1127], dtype=uint16), array([1127, 1226, 1227, 1128], dtype=uint16), array([1128, 1227, 1228, 1129], dtype=uint16), array([1129, 1228, 1229, 1130], dtype=uint16), array([1130, 1229, 1230, 1131], dtype=uint16), array([1131, 1230, 1231, 1132], dtype=uint16), array([1132, 1231,  131,  132], dtype=uint16), array([  13,   14, 1232, 1133], dtype=uint16), array([1133, 1232, 1233, 1134], dtype=uint16), array([1134, 1233, 1234, 1135], dtype=uint16), array([1135, 1234, 1235, 1136], dtype=uint16), array([1136, 1235, 1236, 1137], dtype=uint16), array([1137, 1236, 1237, 1138], dtype=uint16), array([1138, 1237, 1238, 1139], dtype=uint16), array([1139, 1238, 1239, 1140], dtype=uint16), array([1140, 1239, 1240, 1141], dtype=uint16), array([1141, 1240, 1241, 1142], dtype=uint16), array([1142, 1241, 1242, 1143], dtype=uint16), array([1143, 1242, 1243, 1144], dtype=uint16), array([1144, 1243, 1244, 1145], dtype=uint16), array([1145, 1244, 1245, 1146], dtype=uint16), array([1146, 1245, 1246, 1147], dtype=uint16), array([1147, 1246, 1247, 1148], dtype=uint16), array([1148, 1247, 1248, 1149], dtype=uint16), array([1149, 1248, 1249, 1150], dtype=uint16), array([1150, 1249, 1250, 1151], dtype=uint16), array([1151, 1250, 1251, 1152], dtype=uint16), array([1152, 1251, 1252, 1153], dtype=uint16), array([1153, 1252, 1253, 1154], dtype=uint16), array([1154, 1253, 1254, 1155], dtype=uint16), array([1155, 1254, 1255, 1156], dtype=uint16), array([1156, 1255, 1256, 1157], dtype=uint16), array([1157, 1256, 1257, 1158], dtype=uint16), array([1158, 1257, 1258, 1159], dtype=uint16), array([1159, 1258, 1259, 1160], dtype=uint16), array([1160, 1259, 1260, 1161], dtype=uint16), array([1161, 1260, 1261, 1162], dtype=uint16), array([1162, 1261, 1262, 1163], dtype=uint16), array([1163, 1262, 1263, 1164], dtype=uint16), array([1164, 1263, 1264, 1165], dtype=uint16), array([1165, 1264, 1265, 1166], dtype=uint16), array([1166, 1265, 1266, 1167], dtype=uint16), array([1167, 1266, 1267, 1168], dtype=uint16), array([1168, 1267, 1268, 1169], dtype=uint16), array([1169, 1268, 1269, 1170], dtype=uint16), array([1170, 1269, 1270, 1171], dtype=uint16), array([1171, 1270, 1271, 1172], dtype=uint16), array([1172, 1271, 1272, 1173], dtype=uint16), array([1173, 1272, 1273, 1174], dtype=uint16), array([1174, 1273, 1274, 1175], dtype=uint16), array([1175, 1274, 1275, 1176], dtype=uint16), array([1176, 1275, 1276, 1177], dtype=uint16), array([1177, 1276, 1277, 1178], dtype=uint16), array([1178, 1277, 1278, 1179], dtype=uint16), array([1179, 1278, 1279, 1180], dtype=uint16), array([1180, 1279, 1280, 1181], dtype=uint16), array([1181, 1280, 1281, 1182], dtype=uint16), array([1182, 1281, 1282, 1183], dtype=uint16), array([1183, 1282, 1283, 1184], dtype=uint16), array([1184, 1283, 1284, 1185], dtype=uint16), array([1185, 1284, 1285, 1186], dtype=uint16), array([1186, 1285, 1286, 1187], dtype=uint16), array([1187, 1286, 1287, 1188], dtype=uint16), array([1188, 1287, 1288, 1189], dtype=uint16), array([1189, 1288, 1289, 1190], dtype=uint16), array([1190, 1289, 1290, 1191], dtype=uint16), array([1191, 1290, 1291, 1192], dtype=uint16), array([1192, 1291, 1292, 1193], dtype=uint16), array([1193, 1292, 1293, 1194], dtype=uint16), array([1194, 1293, 1294, 1195], dtype=uint16), array([1195, 1294, 1295, 1196], dtype=uint16), array([1196, 1295, 1296, 1197], dtype=uint16), array([1197, 1296, 1297, 1198], dtype=uint16), array([1198, 1297, 1298, 1199], dtype=uint16), array([1199, 1298, 1299, 1200], dtype=uint16), array([1200, 1299, 1300, 1201], dtype=uint16), array([1201, 1300, 1301, 1202], dtype=uint16), array([1202, 1301, 1302, 1203], dtype=uint16), array([1203, 1302, 1303, 1204], dtype=uint16), array([1204, 1303, 1304, 1205], dtype=uint16), array([1205, 1304, 1305, 1206], dtype=uint16), array([1206, 1305, 1306, 1207], dtype=uint16), array([1207, 1306, 1307, 1208], dtype=uint16), array([1208, 1307, 1308, 1209], dtype=uint16), array([1209, 1308, 1309, 1210], dtype=uint16), array([1210, 1309, 1310, 1211], dtype=uint16), array([1211, 1310, 1311, 1212], dtype=uint16), array([1212, 1311, 1312, 1213], dtype=uint16), array([1213, 1312, 1313, 1214], dtype=uint16), array([1214, 1313, 1314, 1215], dtype=uint16), array([1215, 1314, 1315, 1216], dtype=uint16), array([1216, 1315, 1316, 1217], dtype=uint16), array([1217, 1316, 1317, 1218], dtype=uint16), array([1218, 1317, 1318, 1219], dtype=uint16), array([1219, 1318, 1319, 1220], dtype=uint16), array([1220, 1319, 1320, 1221], dtype=uint16), array([1221, 1320, 1321, 1222], dtype=uint16), array([1222, 1321, 1322, 1223], dtype=uint16), array([1223, 1322, 1323, 1224], dtype=uint16), array([1224, 1323, 1324, 1225], dtype=uint16), array([1225, 1324, 1325, 1226], dtype=uint16), array([1226, 1325, 1326, 1227], dtype=uint16), array([1227, 1326, 1327, 1228], dtype=uint16), array([1228, 1327, 1328, 1229], dtype=uint16), array([1229, 1328, 1329, 1230], dtype=uint16), array([1230, 1329, 1330, 1231], dtype=uint16), array([1231, 1330,  130,  131], dtype=uint16), array([  14,   15, 1331, 1232], dtype=uint16), array([1232, 1331, 1332, 1233], dtype=uint16), array([1233, 1332, 1333, 1234], dtype=uint16), array([1234, 1333, 1334, 1235], dtype=uint16), array([1235, 1334, 1335, 1236], dtype=uint16), array([1236, 1335, 1336, 1237], dtype=uint16), array([1237, 1336, 1337, 1238], dtype=uint16), array([1238, 1337, 1338, 1239], dtype=uint16), array([1239, 1338, 1339, 1240], dtype=uint16), array([1240, 1339, 1340, 1241], dtype=uint16), array([1241, 1340, 1341, 1242], dtype=uint16), array([1242, 1341, 1342, 1243], dtype=uint16), array([1243, 1342, 1343, 1244], dtype=uint16), array([1244, 1343, 1344, 1245], dtype=uint16), array([1245, 1344, 1345, 1246], dtype=uint16), array([1246, 1345, 1346, 1247], dtype=uint16), array([1247, 1346, 1347, 1248], dtype=uint16), array([1248, 1347, 1348, 1249], dtype=uint16), array([1249, 1348, 1349, 1250], dtype=uint16), array([1250, 1349, 1350, 1251], dtype=uint16), array([1251, 1350, 1351, 1252], dtype=uint16), array([1252, 1351, 1352, 1253], dtype=uint16), array([1253, 1352, 1353, 1254], dtype=uint16), array([1254, 1353, 1354, 1255], dtype=uint16), array([1255, 1354, 1355, 1256], dtype=uint16), array([1256, 1355, 1356, 1257], dtype=uint16), array([1257, 1356, 1357, 1258], dtype=uint16), array([1258, 1357, 1358, 1259], dtype=uint16), array([1259, 1358, 1359, 1260], dtype=uint16), array([1260, 1359, 1360, 1261], dtype=uint16), array([1261, 1360, 1361, 1262], dtype=uint16), array([1262, 1361, 1362, 1263], dtype=uint16), array([1263, 1362, 1363, 1264], dtype=uint16), array([1264, 1363, 1364, 1265], dtype=uint16), array([1265, 1364, 1365, 1266], dtype=uint16), array([1266, 1365, 1366, 1267], dtype=uint16), array([1267, 1366, 1367, 1268], dtype=uint16), array([1268, 1367, 1368, 1269], dtype=uint16), array([1269, 1368, 1369, 1270], dtype=uint16), array([1270, 1369, 1370, 1271], dtype=uint16), array([1271, 1370, 1371, 1272], dtype=uint16), array([1272, 1371, 1372, 1273], dtype=uint16), array([1273, 1372, 1373, 1274], dtype=uint16), array([1274, 1373, 1374, 1275], dtype=uint16), array([1275, 1374, 1375, 1276], dtype=uint16), array([1276, 1375, 1376, 1277], dtype=uint16), array([1277, 1376, 1377, 1278], dtype=uint16), array([1278, 1377, 1378, 1279], dtype=uint16), array([1279, 1378, 1379, 1280], dtype=uint16), array([1280, 1379, 1380, 1281], dtype=uint16), array([1281, 1380, 1381, 1282], dtype=uint16), array([1282, 1381, 1382, 1283], dtype=uint16), array([1283, 1382, 1383, 1284], dtype=uint16), array([1284, 1383, 1384, 1285], dtype=uint16), array([1285, 1384, 1385, 1286], dtype=uint16), array([1286, 1385, 1386, 1287], dtype=uint16), array([1287, 1386, 1387, 1288], dtype=uint16), array([1288, 1387, 1388, 1289], dtype=uint16), array([1289, 1388, 1389, 1290], dtype=uint16), array([1290, 1389, 1390, 1291], dtype=uint16), array([1291, 1390, 1391, 1292], dtype=uint16), array([1292, 1391, 1392, 1293], dtype=uint16), array([1293, 1392, 1393, 1294], dtype=uint16), array([1294, 1393, 1394, 1295], dtype=uint16), array([1295, 1394, 1395, 1296], dtype=uint16), array([1296, 1395, 1396, 1297], dtype=uint16), array([1297, 1396, 1397, 1298], dtype=uint16), array([1298, 1397, 1398, 1299], dtype=uint16), array([1299, 1398, 1399, 1300], dtype=uint16), array([1300, 1399, 1400, 1301], dtype=uint16), array([1301, 1400, 1401, 1302], dtype=uint16), array([1302, 1401, 1402, 1303], dtype=uint16), array([1303, 1402, 1403, 1304], dtype=uint16), array([1304, 1403, 1404, 1305], dtype=uint16), array([1305, 1404, 1405, 1306], dtype=uint16), array([1306, 1405, 1406, 1307], dtype=uint16), array([1307, 1406, 1407, 1308], dtype=uint16), array([1308, 1407, 1408, 1309], dtype=uint16), array([1309, 1408, 1409, 1310], dtype=uint16), array([1310, 1409, 1410, 1311], dtype=uint16), array([1311, 1410, 1411, 1312], dtype=uint16), array([1312, 1411, 1412, 1313], dtype=uint16), array([1313, 1412, 1413, 1314], dtype=uint16), array([1314, 1413, 1414, 1315], dtype=uint16), array([1315, 1414, 1415, 1316], dtype=uint16), array([1316, 1415, 1416, 1317], dtype=uint16), array([1317, 1416, 1417, 1318], dtype=uint16), array([1318, 1417, 1418, 1319], dtype=uint16), array([1319, 1418, 1419, 1320], dtype=uint16), array([1320, 1419, 1420, 1321], dtype=uint16), array([1321, 1420, 1421, 1322], dtype=uint16), array([1322, 1421, 1422, 1323], dtype=uint16), array([1323, 1422, 1423, 1324], dtype=uint16), array([1324, 1423, 1424, 1325], dtype=uint16), array([1325, 1424, 1425, 1326], dtype=uint16), array([1326, 1425, 1426, 1327], dtype=uint16), array([1327, 1426, 1427, 1328], dtype=uint16), array([1328, 1427, 1428, 1329], dtype=uint16), array([1329, 1428, 1429, 1330], dtype=uint16), array([1330, 1429,  129,  130], dtype=uint16), array([  15,   16, 1430, 1331], dtype=uint16), array([1331, 1430, 1431, 1332], dtype=uint16), array([1332, 1431, 1432, 1333], dtype=uint16), array([1333, 1432, 1433, 1334], dtype=uint16), array([1334, 1433, 1434, 1335], dtype=uint16), array([1335, 1434, 1435, 1336], dtype=uint16), array([1336, 1435, 1436, 1337], dtype=uint16), array([1337, 1436, 1437, 1338], dtype=uint16), array([1338, 1437, 1438, 1339], dtype=uint16), array([1339, 1438, 1439, 1340], dtype=uint16), array([1340, 1439, 1440, 1341], dtype=uint16), array([1341, 1440, 1441, 1342], dtype=uint16), array([1342, 1441, 1442, 1343], dtype=uint16), array([1343, 1442, 1443, 1344], dtype=uint16), array([1344, 1443, 1444, 1345], dtype=uint16), array([1345, 1444, 1445, 1346], dtype=uint16), array([1346, 1445, 1446, 1347], dtype=uint16), array([1347, 1446, 1447, 1348], dtype=uint16), array([1348, 1447, 1448, 1349], dtype=uint16), array([1349, 1448, 1449, 1350], dtype=uint16), array([1350, 1449, 1450, 1351], dtype=uint16), array([1351, 1450, 1451, 1352], dtype=uint16), array([1352, 1451, 1452, 1353], dtype=uint16), array([1353, 1452, 1453, 1354], dtype=uint16), array([1354, 1453, 1454, 1355], dtype=uint16), array([1355, 1454, 1455, 1356], dtype=uint16), array([1356, 1455, 1456, 1357], dtype=uint16), array([1357, 1456, 1457, 1358], dtype=uint16), array([1358, 1457, 1458, 1359], dtype=uint16), array([1359, 1458, 1459, 1360], dtype=uint16), array([1360, 1459, 1460, 1361], dtype=uint16), array([1361, 1460, 1461, 1362], dtype=uint16), array([1362, 1461, 1462, 1363], dtype=uint16), array([1363, 1462, 1463, 1364], dtype=uint16), array([1364, 1463, 1464, 1365], dtype=uint16), array([1365, 1464, 1465, 1366], dtype=uint16), array([1366, 1465, 1466, 1367], dtype=uint16), array([1367, 1466, 1467, 1368], dtype=uint16), array([1368, 1467, 1468, 1369], dtype=uint16), array([1369, 1468, 1469, 1370], dtype=uint16), array([1370, 1469, 1470, 1371], dtype=uint16), array([1371, 1470, 1471, 1372], dtype=uint16), array([1372, 1471, 1472, 1373], dtype=uint16), array([1373, 1472, 1473, 1374], dtype=uint16), array([1374, 1473, 1474, 1375], dtype=uint16), array([1375, 1474, 1475, 1376], dtype=uint16), array([1376, 1475, 1476, 1377], dtype=uint16), array([1377, 1476, 1477, 1378], dtype=uint16), array([1378, 1477, 1478, 1379], dtype=uint16), array([1379, 1478, 1479, 1380], dtype=uint16), array([1380, 1479, 1480, 1381], dtype=uint16), array([1381, 1480, 1481, 1382], dtype=uint16), array([1382, 1481, 1482, 1383], dtype=uint16), array([1383, 1482, 1483, 1384], dtype=uint16), array([1384, 1483, 1484, 1385], dtype=uint16), array([1385, 1484, 1485, 1386], dtype=uint16), array([1386, 1485, 1486, 1387], dtype=uint16), array([1387, 1486, 1487, 1388], dtype=uint16), array([1388, 1487, 1488, 1389], dtype=uint16), array([1389, 1488, 1489, 1390], dtype=uint16), array([1390, 1489, 1490, 1391], dtype=uint16), array([1391, 1490, 1491, 1392], dtype=uint16), array([1392, 1491, 1492, 1393], dtype=uint16), array([1393, 1492, 1493, 1394], dtype=uint16), array([1394, 1493, 1494, 1395], dtype=uint16), array([1395, 1494, 1495, 1396], dtype=uint16), array([1396, 1495, 1496, 1397], dtype=uint16), array([1397, 1496, 1497, 1398], dtype=uint16), array([1398, 1497, 1498, 1399], dtype=uint16), array([1399, 1498, 1499, 1400], dtype=uint16), array([1400, 1499, 1500, 1401], dtype=uint16), array([1401, 1500, 1501, 1402], dtype=uint16), array([1402, 1501, 1502, 1403], dtype=uint16), array([1403, 1502, 1503, 1404], dtype=uint16), array([1404, 1503, 1504, 1405], dtype=uint16), array([1405, 1504, 1505, 1406], dtype=uint16), array([1406, 1505, 1506, 1407], dtype=uint16), array([1407, 1506, 1507, 1408], dtype=uint16), array([1408, 1507, 1508, 1409], dtype=uint16), array([1409, 1508, 1509, 1410], dtype=uint16), array([1410, 1509, 1510, 1411], dtype=uint16), array([1411, 1510, 1511, 1412], dtype=uint16), array([1412, 1511, 1512, 1413], dtype=uint16), array([1413, 1512, 1513, 1414], dtype=uint16), array([1414, 1513, 1514, 1415], dtype=uint16), array([1415, 1514, 1515, 1416], dtype=uint16), array([1416, 1515, 1516, 1417], dtype=uint16), array([1417, 1516, 1517, 1418], dtype=uint16), array([1418, 1517, 1518, 1419], dtype=uint16), array([1419, 1518, 1519, 1420], dtype=uint16), array([1420, 1519, 1520, 1421], dtype=uint16), array([1421, 1520, 1521, 1422], dtype=uint16), array([1422, 1521, 1522, 1423], dtype=uint16), array([1423, 1522, 1523, 1424], dtype=uint16), array([1424, 1523, 1524, 1425], dtype=uint16), array([1425, 1524, 1525, 1426], dtype=uint16), array([1426, 1525, 1526, 1427], dtype=uint16), array([1427, 1526, 1527, 1428], dtype=uint16), array([1428, 1527, 1528, 1429], dtype=uint16), array([1429, 1528,  128,  129], dtype=uint16), array([  16,   17, 1529, 1430], dtype=uint16), array([1430, 1529, 1530, 1431], dtype=uint16), array([1431, 1530, 1531, 1432], dtype=uint16), array([1432, 1531, 1532, 1433], dtype=uint16), array([1433, 1532, 1533, 1434], dtype=uint16), array([1434, 1533, 1534, 1435], dtype=uint16), array([1435, 1534, 1535, 1436], dtype=uint16), array([1436, 1535, 1536, 1437], dtype=uint16), array([1437, 1536, 1537, 1438], dtype=uint16), array([1438, 1537, 1538, 1439], dtype=uint16), array([1439, 1538, 1539, 1440], dtype=uint16), array([1440, 1539, 1540, 1441], dtype=uint16), array([1441, 1540, 1541, 1442], dtype=uint16), array([1442, 1541, 1542, 1443], dtype=uint16), array([1443, 1542, 1543, 1444], dtype=uint16), array([1444, 1543, 1544, 1445], dtype=uint16), array([1445, 1544, 1545, 1446], dtype=uint16), array([1446, 1545, 1546, 1447], dtype=uint16), array([1447, 1546, 1547, 1448], dtype=uint16), array([1448, 1547, 1548, 1449], dtype=uint16), array([1449, 1548, 1549, 1450], dtype=uint16), array([1450, 1549, 1550, 1451], dtype=uint16), array([1451, 1550, 1551, 1452], dtype=uint16), array([1452, 1551, 1552, 1453], dtype=uint16), array([1453, 1552, 1553, 1454], dtype=uint16), array([1454, 1553, 1554, 1455], dtype=uint16), array([1455, 1554, 1555, 1456], dtype=uint16), array([1456, 1555, 1556, 1457], dtype=uint16), array([1457, 1556, 1557, 1458], dtype=uint16), array([1458, 1557, 1558, 1459], dtype=uint16), array([1459, 1558, 1559, 1460], dtype=uint16), array([1460, 1559, 1560, 1461], dtype=uint16), array([1461, 1560, 1561, 1462], dtype=uint16), array([1462, 1561, 1562, 1463], dtype=uint16), array([1463, 1562, 1563, 1464], dtype=uint16), array([1464, 1563, 1564, 1465], dtype=uint16), array([1465, 1564, 1565, 1466], dtype=uint16), array([1466, 1565, 1566, 1467], dtype=uint16), array([1467, 1566, 1567, 1468], dtype=uint16), array([1468, 1567, 1568, 1469], dtype=uint16), array([1469, 1568, 1569, 1470], dtype=uint16), array([1470, 1569, 1570, 1471], dtype=uint16), array([1471, 1570, 1571, 1472], dtype=uint16), array([1472, 1571, 1572, 1473], dtype=uint16), array([1473, 1572, 1573, 1474], dtype=uint16), array([1474, 1573, 1574, 1475], dtype=uint16), array([1475, 1574, 1575, 1476], dtype=uint16), array([1476, 1575, 1576, 1477], dtype=uint16), array([1477, 1576, 1577, 1478], dtype=uint16), array([1478, 1577, 1578, 1479], dtype=uint16), array([1479, 1578, 1579, 1480], dtype=uint16), array([1480, 1579, 1580, 1481], dtype=uint16), array([1481, 1580, 1581, 1482], dtype=uint16), array([1482, 1581, 1582, 1483], dtype=uint16), array([1483, 1582, 1583, 1484], dtype=uint16), array([1484, 1583, 1584, 1485], dtype=uint16), array([1485, 1584, 1585, 1486], dtype=uint16), array([1486, 1585, 1586, 1487], dtype=uint16), array([1487, 1586, 1587, 1488], dtype=uint16), array([1488, 1587, 1588, 1489], dtype=uint16), array([1489, 1588, 1589, 1490], dtype=uint16), array([1490, 1589, 1590, 1491], dtype=uint16), array([1491, 1590, 1591, 1492], dtype=uint16), array([1492, 1591, 1592, 1493], dtype=uint16), array([1493, 1592, 1593, 1494], dtype=uint16), array([1494, 1593, 1594, 1495], dtype=uint16), array([1495, 1594, 1595, 1496], dtype=uint16), array([1496, 1595, 1596, 1497], dtype=uint16), array([1497, 1596, 1597, 1498], dtype=uint16), array([1498, 1597, 1598, 1499], dtype=uint16), array([1499, 1598, 1599, 1500], dtype=uint16), array([1500, 1599, 1600, 1501], dtype=uint16), array([1501, 1600, 1601, 1502], dtype=uint16), array([1502, 1601, 1602, 1503], dtype=uint16), array([1503, 1602, 1603, 1504], dtype=uint16), array([1504, 1603, 1604, 1505], dtype=uint16), array([1505, 1604, 1605, 1506], dtype=uint16), array([1506, 1605, 1606, 1507], dtype=uint16), array([1507, 1606, 1607, 1508], dtype=uint16), array([1508, 1607, 1608, 1509], dtype=uint16), array([1509, 1608, 1609, 1510], dtype=uint16), array([1510, 1609, 1610, 1511], dtype=uint16), array([1511, 1610, 1611, 1512], dtype=uint16), array([1512, 1611, 1612, 1513], dtype=uint16), array([1513, 1612, 1613, 1514], dtype=uint16), array([1514, 1613, 1614, 1515], dtype=uint16), array([1515, 1614, 1615, 1516], dtype=uint16), array([1516, 1615, 1616, 1517], dtype=uint16), array([1517, 1616, 1617, 1518], dtype=uint16), array([1518, 1617, 1618, 1519], dtype=uint16), array([1519, 1618, 1619, 1520], dtype=uint16), array([1520, 1619, 1620, 1521], dtype=uint16), array([1521, 1620, 1621, 1522], dtype=uint16), array([1522, 1621, 1622, 1523], dtype=uint16), array([1523, 1622, 1623, 1524], dtype=uint16), array([1524, 1623, 1624, 1525], dtype=uint16), array([1525, 1624, 1625, 1526], dtype=uint16), array([1526, 1625, 1626, 1527], dtype=uint16), array([1527, 1626, 1627, 1528], dtype=uint16), array([1528, 1627,  127,  128], dtype=uint16), array([  17,   18, 1628, 1529], dtype=uint16), array([1529, 1628, 1629, 1530], dtype=uint16), array([1530, 1629, 1630, 1531], dtype=uint16), array([1531, 1630, 1631, 1532], dtype=uint16), array([1532, 1631, 1632, 1533], dtype=uint16), array([1533, 1632, 1633, 1534], dtype=uint16), array([1534, 1633, 1634, 1535], dtype=uint16), array([1535, 1634, 1635, 1536], dtype=uint16), array([1536, 1635, 1636, 1537], dtype=uint16), array([1537, 1636, 1637, 1538], dtype=uint16), array([1538, 1637, 1638, 1539], dtype=uint16), array([1539, 1638, 1639, 1540], dtype=uint16), array([1540, 1639, 1640, 1541], dtype=uint16), array([1541, 1640, 1641, 1542], dtype=uint16), array([1542, 1641, 1642, 1543], dtype=uint16), array([1543, 1642, 1643, 1544], dtype=uint16), array([1544, 1643, 1644, 1545], dtype=uint16), array([1545, 1644, 1645, 1546], dtype=uint16), array([1546, 1645, 1646, 1547], dtype=uint16), array([1547, 1646, 1647, 1548], dtype=uint16), array([1548, 1647, 1648, 1549], dtype=uint16), array([1549, 1648, 1649, 1550], dtype=uint16), array([1550, 1649, 1650, 1551], dtype=uint16), array([1551, 1650, 1651, 1552], dtype=uint16), array([1552, 1651, 1652, 1553], dtype=uint16), array([1553, 1652, 1653, 1554], dtype=uint16), array([1554, 1653, 1654, 1555], dtype=uint16), array([1555, 1654, 1655, 1556], dtype=uint16), array([1556, 1655, 1656, 1557], dtype=uint16), array([1557, 1656, 1657, 1558], dtype=uint16), array([1558, 1657, 1658, 1559], dtype=uint16), array([1559, 1658, 1659, 1560], dtype=uint16), array([1560, 1659, 1660, 1561], dtype=uint16), array([1561, 1660, 1661, 1562], dtype=uint16), array([1562, 1661, 1662, 1563], dtype=uint16), array([1563, 1662, 1663, 1564], dtype=uint16), array([1564, 1663, 1664, 1565], dtype=uint16), array([1565, 1664, 1665, 1566], dtype=uint16), array([1566, 1665, 1666, 1567], dtype=uint16), array([1567, 1666, 1667, 1568], dtype=uint16), array([1568, 1667, 1668, 1569], dtype=uint16), array([1569, 1668, 1669, 1570], dtype=uint16), array([1570, 1669, 1670, 1571], dtype=uint16), array([1571, 1670, 1671, 1572], dtype=uint16), array([1572, 1671, 1672, 1573], dtype=uint16), array([1573, 1672, 1673, 1574], dtype=uint16), array([1574, 1673, 1674, 1575], dtype=uint16), array([1575, 1674, 1675, 1576], dtype=uint16), array([1576, 1675, 1676, 1577], dtype=uint16), array([1577, 1676, 1677, 1578], dtype=uint16), array([1578, 1677, 1678, 1579], dtype=uint16), array([1579, 1678, 1679, 1580], dtype=uint16), array([1580, 1679, 1680, 1581], dtype=uint16), array([1581, 1680, 1681, 1582], dtype=uint16), array([1582, 1681, 1682, 1583], dtype=uint16), array([1583, 1682, 1683, 1584], dtype=uint16), array([1584, 1683, 1684, 1585], dtype=uint16), array([1585, 1684, 1685, 1586], dtype=uint16), array([1586, 1685, 1686, 1587], dtype=uint16), array([1587, 1686, 1687, 1588], dtype=uint16), array([1588, 1687, 1688, 1589], dtype=uint16), array([1589, 1688, 1689, 1590], dtype=uint16), array([1590, 1689, 1690, 1591], dtype=uint16), array([1591, 1690, 1691, 1592], dtype=uint16), array([1592, 1691, 1692, 1593], dtype=uint16), array([1593, 1692, 1693, 1594], dtype=uint16), array([1594, 1693, 1694, 1595], dtype=uint16), array([1595, 1694, 1695, 1596], dtype=uint16), array([1596, 1695, 1696, 1597], dtype=uint16), array([1597, 1696, 1697, 1598], dtype=uint16), array([1598, 1697, 1698, 1599], dtype=uint16), array([1599, 1698, 1699, 1600], dtype=uint16), array([1600, 1699, 1700, 1601], dtype=uint16), array([1601, 1700, 1701, 1602], dtype=uint16), array([1602, 1701, 1702, 1603], dtype=uint16), array([1603, 1702, 1703, 1604], dtype=uint16), array([1604, 1703, 1704, 1605], dtype=uint16), array([1605, 1704, 1705, 1606], dtype=uint16), array([1606, 1705, 1706, 1607], dtype=uint16), array([1607, 1706, 1707, 1608], dtype=uint16), array([1608, 1707, 1708, 1609], dtype=uint16), array([1609, 1708, 1709, 1610], dtype=uint16), array([1610, 1709, 1710, 1611], dtype=uint16), array([1611, 1710, 1711, 1612], dtype=uint16), array([1612, 1711, 1712, 1613], dtype=uint16), array([1613, 1712, 1713, 1614], dtype=uint16), array([1614, 1713, 1714, 1615], dtype=uint16), array([1615, 1714, 1715, 1616], dtype=uint16), array([1616, 1715, 1716, 1617], dtype=uint16), array([1617, 1716, 1717, 1618], dtype=uint16), array([1618, 1717, 1718, 1619], dtype=uint16), array([1619, 1718, 1719, 1620], dtype=uint16), array([1620, 1719, 1720, 1621], dtype=uint16), array([1621, 1720, 1721, 1622], dtype=uint16), array([1622, 1721, 1722, 1623], dtype=uint16), array([1623, 1722, 1723, 1624], dtype=uint16), array([1624, 1723, 1724, 1625], dtype=uint16), array([1625, 1724, 1725, 1626], dtype=uint16), array([1626, 1725, 1726, 1627], dtype=uint16), array([1627, 1726,  126,  127], dtype=uint16), array([  18,   19, 1727, 1628], dtype=uint16), array([1628, 1727, 1728, 1629], dtype=uint16), array([1629, 1728, 1729, 1630], dtype=uint16), array([1630, 1729, 1730, 1631], dtype=uint16), array([1631, 1730, 1731, 1632], dtype=uint16), array([1632, 1731, 1732, 1633], dtype=uint16), array([1633, 1732, 1733, 1634], dtype=uint16), array([1634, 1733, 1734, 1635], dtype=uint16), array([1635, 1734, 1735, 1636], dtype=uint16), array([1636, 1735, 1736, 1637], dtype=uint16), array([1637, 1736, 1737, 1638], dtype=uint16), array([1638, 1737, 1738, 1639], dtype=uint16), array([1639, 1738, 1739, 1640], dtype=uint16), array([1640, 1739, 1740, 1641], dtype=uint16), array([1641, 1740, 1741, 1642], dtype=uint16), array([1642, 1741, 1742, 1643], dtype=uint16), array([1643, 1742, 1743, 1644], dtype=uint16), array([1644, 1743, 1744, 1645], dtype=uint16), array([1645, 1744, 1745, 1646], dtype=uint16), array([1646, 1745, 1746, 1647], dtype=uint16), array([1647, 1746, 1747, 1648], dtype=uint16), array([1648, 1747, 1748, 1649], dtype=uint16), array([1649, 1748, 1749, 1650], dtype=uint16), array([1650, 1749, 1750, 1651], dtype=uint16), array([1651, 1750, 1751, 1652], dtype=uint16), array([1652, 1751, 1752, 1653], dtype=uint16), array([1653, 1752, 1753, 1654], dtype=uint16), array([1654, 1753, 1754, 1655], dtype=uint16), array([1655, 1754, 1755, 1656], dtype=uint16), array([1656, 1755, 1756, 1657], dtype=uint16), array([1657, 1756, 1757, 1658], dtype=uint16), array([1658, 1757, 1758, 1659], dtype=uint16), array([1659, 1758, 1759, 1660], dtype=uint16), array([1660, 1759, 1760, 1661], dtype=uint16), array([1661, 1760, 1761, 1662], dtype=uint16), array([1662, 1761, 1762, 1663], dtype=uint16), array([1663, 1762, 1763, 1664], dtype=uint16), array([1664, 1763, 1764, 1665], dtype=uint16), array([1665, 1764, 1765, 1666], dtype=uint16), array([1666, 1765, 1766, 1667], dtype=uint16), array([1667, 1766, 1767, 1668], dtype=uint16), array([1668, 1767, 1768, 1669], dtype=uint16), array([1669, 1768, 1769, 1670], dtype=uint16), array([1670, 1769, 1770, 1671], dtype=uint16), array([1671, 1770, 1771, 1672], dtype=uint16), array([1672, 1771, 1772, 1673], dtype=uint16), array([1673, 1772, 1773, 1674], dtype=uint16), array([1674, 1773, 1774, 1675], dtype=uint16), array([1675, 1774, 1775, 1676], dtype=uint16), array([1676, 1775, 1776, 1677], dtype=uint16), array([1677, 1776, 1777, 1678], dtype=uint16), array([1678, 1777, 1778, 1679], dtype=uint16), array([1679, 1778, 1779, 1680], dtype=uint16), array([1680, 1779, 1780, 1681], dtype=uint16), array([1681, 1780, 1781, 1682], dtype=uint16), array([1682, 1781, 1782, 1683], dtype=uint16), array([1683, 1782, 1783, 1684], dtype=uint16), array([1684, 1783, 1784, 1685], dtype=uint16), array([1685, 1784, 1785, 1686], dtype=uint16), array([1686, 1785, 1786, 1687], dtype=uint16), array([1687, 1786, 1787, 1688], dtype=uint16), array([1688, 1787, 1788, 1689], dtype=uint16), array([1689, 1788, 1789, 1690], dtype=uint16), array([1690, 1789, 1790, 1691], dtype=uint16), array([1691, 1790, 1791, 1692], dtype=uint16), array([1692, 1791, 1792, 1693], dtype=uint16), array([1693, 1792, 1793, 1694], dtype=uint16), array([1694, 1793, 1794, 1695], dtype=uint16), array([1695, 1794, 1795, 1696], dtype=uint16), array([1696, 1795, 1796, 1697], dtype=uint16), array([1697, 1796, 1797, 1698], dtype=uint16), array([1698, 1797, 1798, 1699], dtype=uint16), array([1699, 1798, 1799, 1700], dtype=uint16), array([1700, 1799, 1800, 1701], dtype=uint16), array([1701, 1800, 1801, 1702], dtype=uint16), array([1702, 1801, 1802, 1703], dtype=uint16), array([1703, 1802, 1803, 1704], dtype=uint16), array([1704, 1803, 1804, 1705], dtype=uint16), array([1705, 1804, 1805, 1706], dtype=uint16), array([1706, 1805, 1806, 1707], dtype=uint16), array([1707, 1806, 1807, 1708], dtype=uint16), array([1708, 1807, 1808, 1709], dtype=uint16), array([1709, 1808, 1809, 1710], dtype=uint16), array([1710, 1809, 1810, 1711], dtype=uint16), array([1711, 1810, 1811, 1712], dtype=uint16), array([1712, 1811, 1812, 1713], dtype=uint16), array([1713, 1812, 1813, 1714], dtype=uint16), array([1714, 1813, 1814, 1715], dtype=uint16), array([1715, 1814, 1815, 1716], dtype=uint16), array([1716, 1815, 1816, 1717], dtype=uint16), array([1717, 1816, 1817, 1718], dtype=uint16), array([1718, 1817, 1818, 1719], dtype=uint16), array([1719, 1818, 1819, 1720], dtype=uint16), array([1720, 1819, 1820, 1721], dtype=uint16), array([1721, 1820, 1821, 1722], dtype=uint16), array([1722, 1821, 1822, 1723], dtype=uint16), array([1723, 1822, 1823, 1724], dtype=uint16), array([1724, 1823, 1824, 1725], dtype=uint16), array([1725, 1824, 1825, 1726], dtype=uint16), array([1726, 1825,  125,  126], dtype=uint16), array([  19,   20, 1826, 1727], dtype=uint16), array([1727, 1826, 1827, 1728], dtype=uint16), array([1728, 1827, 1828, 1729], dtype=uint16), array([1729, 1828, 1829, 1730], dtype=uint16), array([1730, 1829, 1830, 1731], dtype=uint16), array([1731, 1830, 1831, 1732], dtype=uint16), array([1732, 1831, 1832, 1733], dtype=uint16), array([1733, 1832, 1833, 1734], dtype=uint16), array([1734, 1833, 1834, 1735], dtype=uint16), array([1735, 1834, 1835, 1736], dtype=uint16), array([1736, 1835, 1836, 1737], dtype=uint16), array([1737, 1836, 1837, 1738], dtype=uint16), array([1738, 1837, 1838, 1739], dtype=uint16), array([1739, 1838, 1839, 1740], dtype=uint16), array([1740, 1839, 1840, 1741], dtype=uint16), array([1741, 1840, 1841, 1742], dtype=uint16), array([1742, 1841, 1842, 1743], dtype=uint16), array([1743, 1842, 1843, 1744], dtype=uint16), array([1744, 1843, 1844, 1745], dtype=uint16), array([1745, 1844, 1845, 1746], dtype=uint16), array([1746, 1845, 1846, 1747], dtype=uint16), array([1747, 1846, 1847, 1748], dtype=uint16), array([1748, 1847, 1848, 1749], dtype=uint16), array([1749, 1848, 1849, 1750], dtype=uint16), array([1750, 1849, 1850, 1751], dtype=uint16), array([1751, 1850, 1851, 1752], dtype=uint16), array([1752, 1851, 1852, 1753], dtype=uint16), array([1753, 1852, 1853, 1754], dtype=uint16), array([1754, 1853, 1854, 1755], dtype=uint16), array([1755, 1854, 1855, 1756], dtype=uint16), array([1756, 1855, 1856, 1757], dtype=uint16), array([1757, 1856, 1857, 1758], dtype=uint16), array([1758, 1857, 1858, 1759], dtype=uint16), array([1759, 1858, 1859, 1760], dtype=uint16), array([1760, 1859, 1860, 1761], dtype=uint16), array([1761, 1860, 1861, 1762], dtype=uint16), array([1762, 1861, 1862, 1763], dtype=uint16), array([1763, 1862, 1863, 1764], dtype=uint16), array([1764, 1863, 1864, 1765], dtype=uint16), array([1765, 1864, 1865, 1766], dtype=uint16), array([1766, 1865, 1866, 1767], dtype=uint16), array([1767, 1866, 1867, 1768], dtype=uint16), array([1768, 1867, 1868, 1769], dtype=uint16), array([1769, 1868, 1869, 1770], dtype=uint16), array([1770, 1869, 1870, 1771], dtype=uint16), array([1771, 1870, 1871, 1772], dtype=uint16), array([1772, 1871, 1872, 1773], dtype=uint16), array([1773, 1872, 1873, 1774], dtype=uint16), array([1774, 1873, 1874, 1775], dtype=uint16), array([1775, 1874, 1875, 1776], dtype=uint16), array([1776, 1875, 1876, 1777], dtype=uint16), array([1777, 1876, 1877, 1778], dtype=uint16), array([1778, 1877, 1878, 1779], dtype=uint16), array([1779, 1878, 1879, 1780], dtype=uint16), array([1780, 1879, 1880, 1781], dtype=uint16), array([1781, 1880, 1881, 1782], dtype=uint16), array([1782, 1881, 1882, 1783], dtype=uint16), array([1783, 1882, 1883, 1784], dtype=uint16), array([1784, 1883, 1884, 1785], dtype=uint16), array([1785, 1884, 1885, 1786], dtype=uint16), array([1786, 1885, 1886, 1787], dtype=uint16), array([1787, 1886, 1887, 1788], dtype=uint16), array([1788, 1887, 1888, 1789], dtype=uint16), array([1789, 1888, 1889, 1790], dtype=uint16), array([1790, 1889, 1890, 1791], dtype=uint16), array([1791, 1890, 1891, 1792], dtype=uint16), array([1792, 1891, 1892, 1793], dtype=uint16), array([1793, 1892, 1893, 1794], dtype=uint16), array([1794, 1893, 1894, 1795], dtype=uint16), array([1795, 1894, 1895, 1796], dtype=uint16), array([1796, 1895, 1896, 1797], dtype=uint16), array([1797, 1896, 1897, 1798], dtype=uint16), array([1798, 1897, 1898, 1799], dtype=uint16), array([1799, 1898, 1899, 1800], dtype=uint16), array([1800, 1899, 1900, 1801], dtype=uint16), array([1801, 1900, 1901, 1802], dtype=uint16), array([1802, 1901, 1902, 1803], dtype=uint16), array([1803, 1902, 1903, 1804], dtype=uint16), array([1804, 1903, 1904, 1805], dtype=uint16), array([1805, 1904, 1905, 1806], dtype=uint16), array([1806, 1905, 1906, 1807], dtype=uint16), array([1807, 1906, 1907, 1808], dtype=uint16), array([1808, 1907, 1908, 1809], dtype=uint16), array([1809, 1908, 1909, 1810], dtype=uint16), array([1810, 1909, 1910, 1811], dtype=uint16), array([1811, 1910, 1911, 1812], dtype=uint16), array([1812, 1911, 1912, 1813], dtype=uint16), array([1813, 1912, 1913, 1814], dtype=uint16), array([1814, 1913, 1914, 1815], dtype=uint16), array([1815, 1914, 1915, 1816], dtype=uint16), array([1816, 1915, 1916, 1817], dtype=uint16), array([1817, 1916, 1917, 1818], dtype=uint16), array([1818, 1917, 1918, 1819], dtype=uint16), array([1819, 1918, 1919, 1820], dtype=uint16), array([1820, 1919, 1920, 1821], dtype=uint16), array([1821, 1920, 1921, 1822], dtype=uint16), array([1822, 1921, 1922, 1823], dtype=uint16), array([1823, 1922, 1923, 1824], dtype=uint16), array([1824, 1923, 1924, 1825], dtype=uint16), array([1825, 1924,  124,  125], dtype=uint16), array([  20,   21, 1925, 1826], dtype=uint16), array([1826, 1925, 1926, 1827], dtype=uint16), array([1827, 1926, 1927, 1828], dtype=uint16), array([1828, 1927, 1928, 1829], dtype=uint16), array([1829, 1928, 1929, 1830], dtype=uint16), array([1830, 1929, 1930, 1831], dtype=uint16), array([1831, 1930, 1931, 1832], dtype=uint16), array([1832, 1931, 1932, 1833], dtype=uint16), array([1833, 1932, 1933, 1834], dtype=uint16), array([1834, 1933, 1934, 1835], dtype=uint16), array([1835, 1934, 1935, 1836], dtype=uint16), array([1836, 1935, 1936, 1837], dtype=uint16), array([1837, 1936, 1937, 1838], dtype=uint16), array([1838, 1937, 1938, 1839], dtype=uint16), array([1839, 1938, 1939, 1840], dtype=uint16), array([1840, 1939, 1940, 1841], dtype=uint16), array([1841, 1940, 1941, 1842], dtype=uint16), array([1842, 1941, 1942, 1843], dtype=uint16), array([1843, 1942, 1943, 1844], dtype=uint16), array([1844, 1943, 1944, 1845], dtype=uint16), array([1845, 1944, 1945, 1846], dtype=uint16), array([1846, 1945, 1946, 1847], dtype=uint16), array([1847, 1946, 1947, 1848], dtype=uint16), array([1848, 1947, 1948, 1849], dtype=uint16), array([1849, 1948, 1949, 1850], dtype=uint16), array([1850, 1949, 1950, 1851], dtype=uint16), array([1851, 1950, 1951, 1852], dtype=uint16), array([1852, 1951, 1952, 1853], dtype=uint16), array([1853, 1952, 1953, 1854], dtype=uint16), array([1854, 1953, 1954, 1855], dtype=uint16), array([1855, 1954, 1955, 1856], dtype=uint16), array([1856, 1955, 1956, 1857], dtype=uint16), array([1857, 1956, 1957, 1858], dtype=uint16), array([1858, 1957, 1958, 1859], dtype=uint16), array([1859, 1958, 1959, 1860], dtype=uint16), array([1860, 1959, 1960, 1861], dtype=uint16), array([1861, 1960, 1961, 1862], dtype=uint16), array([1862, 1961, 1962, 1863], dtype=uint16), array([1863, 1962, 1963, 1864], dtype=uint16), array([1864, 1963, 1964, 1865], dtype=uint16), array([1865, 1964, 1965, 1866], dtype=uint16), array([1866, 1965, 1966, 1867], dtype=uint16), array([1867, 1966, 1967, 1868], dtype=uint16), array([1868, 1967, 1968, 1869], dtype=uint16), array([1869, 1968, 1969, 1870], dtype=uint16), array([1870, 1969, 1970, 1871], dtype=uint16), array([1871, 1970, 1971, 1872], dtype=uint16), array([1872, 1971, 1972, 1873], dtype=uint16), array([1873, 1972, 1973, 1874], dtype=uint16), array([1874, 1973, 1974, 1875], dtype=uint16), array([1875, 1974, 1975, 1876], dtype=uint16), array([1876, 1975, 1976, 1877], dtype=uint16), array([1877, 1976, 1977, 1878], dtype=uint16), array([1878, 1977, 1978, 1879], dtype=uint16), array([1879, 1978, 1979, 1880], dtype=uint16), array([1880, 1979, 1980, 1881], dtype=uint16), array([1881, 1980, 1981, 1882], dtype=uint16), array([1882, 1981, 1982, 1883], dtype=uint16), array([1883, 1982, 1983, 1884], dtype=uint16), array([1884, 1983, 1984, 1885], dtype=uint16), array([1885, 1984, 1985, 1886], dtype=uint16), array([1886, 1985, 1986, 1887], dtype=uint16), array([1887, 1986, 1987, 1888], dtype=uint16), array([1888, 1987, 1988, 1889], dtype=uint16), array([1889, 1988, 1989, 1890], dtype=uint16), array([1890, 1989, 1990, 1891], dtype=uint16), array([1891, 1990, 1991, 1892], dtype=uint16), array([1892, 1991, 1992, 1893], dtype=uint16), array([1893, 1992, 1993, 1894], dtype=uint16), array([1894, 1993, 1994, 1895], dtype=uint16), array([1895, 1994, 1995, 1896], dtype=uint16), array([1896, 1995, 1996, 1897], dtype=uint16), array([1897, 1996, 1997, 1898], dtype=uint16), array([1898, 1997, 1998, 1899], dtype=uint16), array([1899, 1998, 1999, 1900], dtype=uint16), array([1900, 1999, 2000, 1901], dtype=uint16), array([1901, 2000, 2001, 1902], dtype=uint16), array([1902, 2001, 2002, 1903], dtype=uint16), array([1903, 2002, 2003, 1904], dtype=uint16), array([1904, 2003, 2004, 1905], dtype=uint16), array([1905, 2004, 2005, 1906], dtype=uint16), array([1906, 2005, 2006, 1907], dtype=uint16), array([1907, 2006, 2007, 1908], dtype=uint16), array([1908, 2007, 2008, 1909], dtype=uint16), array([1909, 2008, 2009, 1910], dtype=uint16), array([1910, 2009, 2010, 1911], dtype=uint16), array([1911, 2010, 2011, 1912], dtype=uint16), array([1912, 2011, 2012, 1913], dtype=uint16), array([1913, 2012, 2013, 1914], dtype=uint16), array([1914, 2013, 2014, 1915], dtype=uint16), array([1915, 2014, 2015, 1916], dtype=uint16), array([1916, 2015, 2016, 1917], dtype=uint16), array([1917, 2016, 2017, 1918], dtype=uint16), array([1918, 2017, 2018, 1919], dtype=uint16), array([1919, 2018, 2019, 1920], dtype=uint16), array([1920, 2019, 2020, 1921], dtype=uint16), array([1921, 2020, 2021, 1922], dtype=uint16), array([1922, 2021, 2022, 1923], dtype=uint16), array([1923, 2022, 2023, 1924], dtype=uint16), array([1924, 2023,  123,  124], dtype=uint16), array([  21,   22, 2024, 1925], dtype=uint16), array([1925, 2024, 2025, 1926], dtype=uint16), array([1926, 2025, 2026, 1927], dtype=uint16), array([1927, 2026, 2027, 1928], dtype=uint16), array([1928, 2027, 2028, 1929], dtype=uint16), array([1929, 2028, 2029, 1930], dtype=uint16), array([1930, 2029, 2030, 1931], dtype=uint16), array([1931, 2030, 2031, 1932], dtype=uint16), array([1932, 2031, 2032, 1933], dtype=uint16), array([1933, 2032, 2033, 1934], dtype=uint16), array([1934, 2033, 2034, 1935], dtype=uint16), array([1935, 2034, 2035, 1936], dtype=uint16), array([1936, 2035, 2036, 1937], dtype=uint16), array([1937, 2036, 2037, 1938], dtype=uint16), array([1938, 2037, 2038, 1939], dtype=uint16), array([1939, 2038, 2039, 1940], dtype=uint16), array([1940, 2039, 2040, 1941], dtype=uint16), array([1941, 2040, 2041, 1942], dtype=uint16), array([1942, 2041, 2042, 1943], dtype=uint16), array([1943, 2042, 2043, 1944], dtype=uint16), array([1944, 2043, 2044, 1945], dtype=uint16), array([1945, 2044, 2045, 1946], dtype=uint16), array([1946, 2045, 2046, 1947], dtype=uint16), array([1947, 2046, 2047, 1948], dtype=uint16), array([1948, 2047, 2048, 1949], dtype=uint16), array([1949, 2048, 2049, 1950], dtype=uint16), array([1950, 2049, 2050, 1951], dtype=uint16), array([1951, 2050, 2051, 1952], dtype=uint16), array([1952, 2051, 2052, 1953], dtype=uint16), array([1953, 2052, 2053, 1954], dtype=uint16), array([1954, 2053, 2054, 1955], dtype=uint16), array([1955, 2054, 2055, 1956], dtype=uint16), array([1956, 2055, 2056, 1957], dtype=uint16), array([1957, 2056, 2057, 1958], dtype=uint16), array([1958, 2057, 2058, 1959], dtype=uint16), array([1959, 2058, 2059, 1960], dtype=uint16), array([1960, 2059, 2060, 1961], dtype=uint16), array([1961, 2060, 2061, 1962], dtype=uint16), array([1962, 2061, 2062, 1963], dtype=uint16), array([1963, 2062, 2063, 1964], dtype=uint16), array([1964, 2063, 2064, 1965], dtype=uint16), array([1965, 2064, 2065, 1966], dtype=uint16), array([1966, 2065, 2066, 1967], dtype=uint16), array([1967, 2066, 2067, 1968], dtype=uint16), array([1968, 2067, 2068, 1969], dtype=uint16), array([1969, 2068, 2069, 1970], dtype=uint16), array([1970, 2069, 2070, 1971], dtype=uint16), array([1971, 2070, 2071, 1972], dtype=uint16), array([1972, 2071, 2072, 1973], dtype=uint16), array([1973, 2072, 2073, 1974], dtype=uint16), array([1974, 2073, 2074, 1975], dtype=uint16), array([1975, 2074, 2075, 1976], dtype=uint16), array([1976, 2075, 2076, 1977], dtype=uint16), array([1977, 2076, 2077, 1978], dtype=uint16), array([1978, 2077, 2078, 1979], dtype=uint16), array([1979, 2078, 2079, 1980], dtype=uint16), array([1980, 2079, 2080, 1981], dtype=uint16), array([1981, 2080, 2081, 1982], dtype=uint16), array([1982, 2081, 2082, 1983], dtype=uint16), array([1983, 2082, 2083, 1984], dtype=uint16), array([1984, 2083, 2084, 1985], dtype=uint16), array([1985, 2084, 2085, 1986], dtype=uint16), array([1986, 2085, 2086, 1987], dtype=uint16), array([1987, 2086, 2087, 1988], dtype=uint16), array([1988, 2087, 2088, 1989], dtype=uint16), array([1989, 2088, 2089, 1990], dtype=uint16), array([1990, 2089, 2090, 1991], dtype=uint16), array([1991, 2090, 2091, 1992], dtype=uint16), array([1992, 2091, 2092, 1993], dtype=uint16), array([1993, 2092, 2093, 1994], dtype=uint16), array([1994, 2093, 2094, 1995], dtype=uint16), array([1995, 2094, 2095, 1996], dtype=uint16), array([1996, 2095, 2096, 1997], dtype=uint16), array([1997, 2096, 2097, 1998], dtype=uint16), array([1998, 2097, 2098, 1999], dtype=uint16), array([1999, 2098, 2099, 2000], dtype=uint16), array([2000, 2099, 2100, 2001], dtype=uint16), array([2001, 2100, 2101, 2002], dtype=uint16), array([2002, 2101, 2102, 2003], dtype=uint16), array([2003, 2102, 2103, 2004], dtype=uint16), array([2004, 2103, 2104, 2005], dtype=uint16), array([2005, 2104, 2105, 2006], dtype=uint16), array([2006, 2105, 2106, 2007], dtype=uint16), array([2007, 2106, 2107, 2008], dtype=uint16), array([2008, 2107, 2108, 2009], dtype=uint16), array([2009, 2108, 2109, 2010], dtype=uint16), array([2010, 2109, 2110, 2011], dtype=uint16), array([2011, 2110, 2111, 2012], dtype=uint16), array([2012, 2111, 2112, 2013], dtype=uint16), array([2013, 2112, 2113, 2014], dtype=uint16), array([2014, 2113, 2114, 2015], dtype=uint16), array([2015, 2114, 2115, 2016], dtype=uint16), array([2016, 2115, 2116, 2017], dtype=uint16), array([2017, 2116, 2117, 2018], dtype=uint16), array([2018, 2117, 2118, 2019], dtype=uint16), array([2019, 2118, 2119, 2020], dtype=uint16), array([2020, 2119, 2120, 2021], dtype=uint16), array([2021, 2120, 2121, 2022], dtype=uint16), array([2022, 2121, 2122, 2023], dtype=uint16), array([2023, 2122,  122,  123], dtype=uint16), array([  22,    1,   23, 2024], dtype=uint16), array([2024,   23,   24, 2025], dtype=uint16), array([2025,   24,   25, 2026], dtype=uint16), array([2026,   25,   26, 2027], dtype=uint16), array([2027,   26,   27, 2028], dtype=uint16), array([2028,   27,   28, 2029], dtype=uint16), array([2029,   28,   29, 2030], dtype=uint16), array([2030,   29,   30, 2031], dtype=uint16), array([2031,   30,   31, 2032], dtype=uint16), array([2032,   31,   32, 2033], dtype=uint16), array([2033,   32,   33, 2034], dtype=uint16), array([2034,   33,   34, 2035], dtype=uint16), array([2035,   34,   35, 2036], dtype=uint16), array([2036,   35,   36, 2037], dtype=uint16), array([2037,   36,   37, 2038], dtype=uint16), array([2038,   37,   38, 2039], dtype=uint16), array([2039,   38,   39, 2040], dtype=uint16), array([2040,   39,   40, 2041], dtype=uint16), array([2041,   40,   41, 2042], dtype=uint16), array([2042,   41,   42, 2043], dtype=uint16), array([2043,   42,   43, 2044], dtype=uint16), array([2044,   43,   44, 2045], dtype=uint16), array([2045,   44,   45, 2046], dtype=uint16), array([2046,   45,   46, 2047], dtype=uint16), array([2047,   46,   47, 2048], dtype=uint16), array([2048,   47,   48, 2049], dtype=uint16), array([2049,   48,   49, 2050], dtype=uint16), array([2050,   49,   50, 2051], dtype=uint16), array([2051,   50,   51, 2052], dtype=uint16), array([2052,   51,   52, 2053], dtype=uint16), array([2053,   52,   53, 2054], dtype=uint16), array([2054,   53,   54, 2055], dtype=uint16), array([2055,   54,   55, 2056], dtype=uint16), array([2056,   55,   56, 2057], dtype=uint16), array([2057,   56,   57, 2058], dtype=uint16), array([2058,   57,   58, 2059], dtype=uint16), array([2059,   58,   59, 2060], dtype=uint16), array([2060,   59,   60, 2061], dtype=uint16), array([2061,   60,   61, 2062], dtype=uint16), array([2062,   61,   62, 2063], dtype=uint16), array([2063,   62,   63, 2064], dtype=uint16), array([2064,   63,   64, 2065], dtype=uint16), array([2065,   64,   65, 2066], dtype=uint16), array([2066,   65,   66, 2067], dtype=uint16), array([2067,   66,   67, 2068], dtype=uint16), array([2068,   67,   68, 2069], dtype=uint16), array([2069,   68,   69, 2070], dtype=uint16), array([2070,   69,   70, 2071], dtype=uint16), array([2071,   70,   71, 2072], dtype=uint16), array([2072,   71,   72, 2073], dtype=uint16), array([2073,   72,   73, 2074], dtype=uint16), array([2074,   73,   74, 2075], dtype=uint16), array([2075,   74,   75, 2076], dtype=uint16), array([2076,   75,   76, 2077], dtype=uint16), array([2077,   76,   77, 2078], dtype=uint16), array([2078,   77,   78, 2079], dtype=uint16), array([2079,   78,   79, 2080], dtype=uint16), array([2080,   79,   80, 2081], dtype=uint16), array([2081,   80,   81, 2082], dtype=uint16), array([2082,   81,   82, 2083], dtype=uint16), array([2083,   82,   83, 2084], dtype=uint16), array([2084,   83,   84, 2085], dtype=uint16), array([2085,   84,   85, 2086], dtype=uint16), array([2086,   85,   86, 2087], dtype=uint16), array([2087,   86,   87, 2088], dtype=uint16), array([2088,   87,   88, 2089], dtype=uint16), array([2089,   88,   89, 2090], dtype=uint16), array([2090,   89,   90, 2091], dtype=uint16), array([2091,   90,   91, 2092], dtype=uint16), array([2092,   91,   92, 2093], dtype=uint16), array([2093,   92,   93, 2094], dtype=uint16), array([2094,   93,   94, 2095], dtype=uint16), array([2095,   94,   95, 2096], dtype=uint16), array([2096,   95,   96, 2097], dtype=uint16), array([2097,   96,   97, 2098], dtype=uint16), array([2098,   97,   98, 2099], dtype=uint16), array([2099,   98,   99, 2100], dtype=uint16), array([2100,   99,  100, 2101], dtype=uint16), array([2101,  100,  101, 2102], dtype=uint16), array([2102,  101,  102, 2103], dtype=uint16), array([2103,  102,  103, 2104], dtype=uint16), array([2104,  103,  104, 2105], dtype=uint16), array([2105,  104,  105, 2106], dtype=uint16), array([2106,  105,  106, 2107], dtype=uint16), array([2107,  106,  107, 2108], dtype=uint16), array([2108,  107,  108, 2109], dtype=uint16), array([2109,  108,  109, 2110], dtype=uint16), array([2110,  109,  110, 2111], dtype=uint16), array([2111,  110,  111, 2112], dtype=uint16), array([2112,  111,  112, 2113], dtype=uint16), array([2113,  112,  113, 2114], dtype=uint16), array([2114,  113,  114, 2115], dtype=uint16), array([2115,  114,  115, 2116], dtype=uint16), array([2116,  115,  116, 2117], dtype=uint16), array([2117,  116,  117, 2118], dtype=uint16), array([2118,  117,  118, 2119], dtype=uint16), array([2119,  118,  119, 2120], dtype=uint16), array([2120,  119,  120, 2121], dtype=uint16), array([2121,  120,  121, 2122], dtype=uint16), array([2122,  121,    2,  122], dtype=uint16)], element_types=[<ElementType.QUADRILATERAL: 3>, <ElementType.QUADRILATERAL: 3>, <ElementType.QUADRILATERAL: 3>, <ElementType.QUADRILATERAL: 3>, <ElementType.QUADRILATERAL: 3>, <ElementType.QUADRILATERAL: 3>, <ElementType.QUADRILATERAL: 3>, <ElementType.QUADRILATERAL: 3>, <ElementType.QUADRILATERAL: 3>, <ElementType.QUADRILATERAL: 3>, <ElementType.QUADRILATERAL: 3>, <ElementType.QUADRILATERAL: 3>, <ElementType.QUADRILATERAL: 3>, <ElementType.QUADRILATERAL: 3>, <ElementType.QUADRILATERAL: 3>, <ElementType.QUADRILATERAL: 3>, <ElementType.QUADRILATERAL: 3>, <ElementType.QUADRILATERAL: 3>, <ElementType.QUADRILATERAL: 3>, <ElementType.QUADRILATERAL: 3>, <ElementType.QUADRILATERAL: 3>, <ElementType.QUADRILATERAL: 3>, <ElementType.QUADRILATERAL: 3>, <ElementType.QUADRILATERAL: 3>, <ElementType.QUADRILATERAL: 3>, <ElementType.QUADRILATERAL: 3>, <ElementType.QUADRILATERAL: 3>, <ElementType.QUADRILATERAL: 3>, <ElementType.QUADRILATERAL: 3>, <ElementType.QUADRILATERAL: 3>, <ElementType.QUADRILATERAL: 3>, <ElementType.QUADRILATERAL: 3>, <ElementType.QUADRILATERAL: 3>, <ElementType.QUADRILATERAL: 3>, <ElementType.QUADRILATERAL: 3>, <ElementType.QUADRILATERAL: 3>, <ElementType.QUADRILATERAL: 3>, <ElementType.QUADRILATERAL: 3>, <ElementType.QUADRILATERAL: 3>, <ElementType.QUADRILATERAL: 3>, <ElementType.QUADRILATERAL: 3>, <ElementType.QUADRILATERAL: 3>, <ElementType.QUADRILATERAL: 3>, <ElementType.QUADRILATERAL: 3>, <ElementType.QUADRILATERAL: 3>, <ElementType.QUADRILATERAL: 3>, <ElementType.QUADRILATERAL: 3>, <ElementType.QUADRILATERAL: 3>, <ElementType.QUADRILATERAL: 3>, <ElementType.QUADRILATERAL: 3>, <ElementType.QUADRILATERAL: 3>, <ElementType.QUADRILATERAL: 3>, <ElementType.QUADRILATERAL: 3>, <ElementType.QUADRILATERAL: 3>, <ElementType.QUADRILATERAL: 3>, <ElementType.QUADRILATERAL: 3>, <ElementType.QUADRILATERAL: 3>, <ElementType.QUADRILATERAL: 3>, <ElementType.QUADRILATERAL: 3>, <ElementType.QUADRILATERAL: 3>, <ElementType.QUADRILATERAL: 3>, <ElementType.QUADRILATERAL: 3>, <ElementType.QUADRILATERAL: 3>, <ElementType.QUADRILATERAL: 3>, <ElementType.QUADRILATERAL: 3>, <ElementType.QUADRILATERAL: 3>, <ElementType.QUADRILATERAL: 3>, <ElementType.QUADRILATERAL: 3>, <ElementType.QUADRILATERAL: 3>, <ElementType.QUADRILATERAL: 3>, <ElementType.QUADRILATERAL: 3>, <ElementType.QUADRILATERAL: 3>, <ElementType.QUADRILATERAL: 3>, <ElementType.QUADRILATERAL: 3>, <ElementType.QUADRILATERAL: 3>, <ElementType.QUADRILATERAL: 3>, <ElementType.QUADRILATERAL: 3>, <ElementType.QUADRILATERAL: 3>, <ElementType.QUADRILATERAL: 3>, <ElementType.QUADRILATERAL: 3>, <ElementType.QUADRILATERAL: 3>, <ElementType.QUADRILATERAL: 3>, <ElementType.QUADRILATERAL: 3>, <ElementType.QUADRILATERAL: 3>, <ElementType.QUADRILATERAL: 3>, <ElementType.QUADRILATERAL: 3>, <ElementType.QUADRILATERAL: 3>, <ElementType.QUADRILATERAL: 3>, <ElementType.QUADRILATERAL: 3>, <ElementType.QUADRILATERAL: 3>, <ElementType.QUADRILATERAL: 3>, <ElementType.QUADRILATERAL: 3>, <ElementType.QUADRILATERAL: 3>, <ElementType.QUADRILATERAL: 3>, <ElementType.QUADRILATERAL: 3>, <ElementType.QUADRILATERAL: 3>, <ElementType.QUADRILATERAL: 3>, <ElementType.QUADRILATERAL: 3>, <ElementType.QUADRILATERAL: 3>, <ElementType.QUADRILATERAL: 3>, <ElementType.QUADRILATERAL: 3>, <ElementType.QUADRILATERAL: 3>, <ElementType.QUADRILATERAL: 3>, <ElementType.QUADRILATERAL: 3>, <ElementType.QUADRILATERAL: 3>, <ElementType.QUADRILATERAL: 3>, <ElementType.QUADRILATERAL: 3>, <ElementType.QUADRILATERAL: 3>, <ElementType.QUADRILATERAL: 3>, <ElementType.QUADRILATERAL: 3>, <ElementType.QUADRILATERAL: 3>, <ElementType.QUADRILATERAL: 3>, <ElementType.QUADRILATERAL: 3>, <ElementType.QUADRILATERAL: 3>, <ElementType.QUADRILATERAL: 3>, <ElementType.QUADRILATERAL: 3>, <ElementType.QUADRILATERAL: 3>, <ElementType.QUADRILATERAL: 3>, <ElementType.QUADRILATERAL: 3>, <ElementType.QUADRILATERAL: 3>, <ElementType.QUADRILATERAL: 3>, <ElementType.QUADRILATERAL: 3>, <ElementType.QUADRILATERAL: 3>, <ElementType.QUADRILATERAL: 3>, <ElementType.QUADRILATERAL: 3>, <ElementType.QUADRILATERAL: 3>, <ElementType.QUADRILATERAL: 3>, <ElementType.QUADRILATERAL: 3>, <ElementType.QUADRILATERAL: 3>, <ElementType.QUADRILATERAL: 3>, <ElementType.QUADRILATERAL: 3>, <ElementType.QUADRILATERAL: 3>, <ElementType.QUADRILATERAL: 3>, <ElementType.QUADRILATERAL: 3>, <ElementType.QUADRILATERAL: 3>, <ElementType.QUADRILATERAL: 3>, <ElementType.QUADRILATERAL: 3>, <ElementType.QUADRILATERAL: 3>, <ElementType.QUADRILATERAL: 3>, <ElementType.QUADRILATERAL: 3>, <ElementType.QUADRILATERAL: 3>, <ElementType.QUADRILATERAL: 3>, <ElementType.QUADRILATERAL: 3>, <ElementType.QUADRILATERAL: 3>, <ElementType.QUADRILATERAL: 3>, <ElementType.QUADRILATERAL: 3>, <ElementType.QUADRILATERAL: 3>, <ElementType.QUADRILATERAL: 3>, <ElementType.QUADRILATERAL: 3>, <ElementType.QUADRILATERAL: 3>, <ElementType.QUADRILATERAL: 3>, <ElementType.QUADRILATERAL: 3>, <ElementType.QUADRILATERAL: 3>, <ElementType.QUADRILATERAL: 3>, <ElementType.QUADRILATERAL: 3>, <ElementType.QUADRILATERAL: 3>, <ElementType.QUADRILATERAL: 3>, <ElementType.QUADRILATERAL: 3>, <ElementType.QUADRILATERAL: 3>, <ElementType.QUADRILATERAL: 3>, <ElementType.QUADRILATERAL: 3>, <ElementType.QUADRILATERAL: 3>, <ElementType.QUADRILATERAL: 3>, <ElementType.QUADRILATERAL: 3>, <ElementType.QUADRILATERAL: 3>, <ElementType.QUADRILATERAL: 3>, <ElementType.QUADRILATERAL: 3>, <ElementType.QUADRILATERAL: 3>, <ElementType.QUADRILATERAL: 3>, <ElementType.QUADRILATERAL: 3>, <ElementType.QUADRILATERAL: 3>, <ElementType.QUADRILATERAL: 3>, <ElementType.QUADRILATERAL: 3>, <ElementType.QUADRILATERAL: 3>, <ElementType.QUADRILATERAL: 3>, <ElementType.QUADRILATERAL: 3>, <ElementType.QUADRILATERAL: 3>, <ElementType.QUADRILATERAL: 3>, <ElementType.QUADRILATERAL: 3>, <ElementType.QUADRILATERAL: 3>, <ElementType.QUADRILATERAL: 3>, <ElementType.QUADRILATERAL: 3>, <ElementType.QUADRILATERAL: 3>, <ElementType.QUADRILATERAL: 3>, <ElementType.QUADRILATERAL: 3>, <ElementType.QUADRILATERAL: 3>, <ElementType.QUADRILATERAL: 3>, <ElementType.QUADRILATERAL: 3>, <ElementType.QUADRILATERAL: 3>, <ElementType.QUADRILATERAL: 3>, <ElementType.QUADRILATERAL: 3>, <ElementType.QUADRILATERAL: 3>, <ElementType.QUADRILATERAL: 3>, <ElementType.QUADRILATERAL: 3>, <ElementType.QUADRILATERAL: 3>, <ElementType.QUADRILATERAL: 3>, <ElementType.QUADRILATERAL: 3>, <ElementType.QUADRILATERAL: 3>, <ElementType.QUADRILATERAL: 3>, <ElementType.QUADRILATERAL: 3>, <ElementType.QUADRILATERAL: 3>, <ElementType.QUADRILATERAL: 3>, <ElementType.QUADRILATERAL: 3>, <ElementType.QUADRILATERAL: 3>, <ElementType.QUADRILATERAL: 3>, <ElementType.QUADRILATERAL: 3>, <ElementType.QUADRILATERAL: 3>, <ElementType.QUADRILATERAL: 3>, <ElementType.QUADRILATERAL: 3>, <ElementType.QUADRILATERAL: 3>, <ElementType.QUADRILATERAL: 3>, <ElementType.QUADRILATERAL: 3>, <ElementType.QUADRILATERAL: 3>, <ElementType.QUADRILATERAL: 3>, <ElementType.QUADRILATERAL: 3>, <ElementType.QUADRILATERAL: 3>, <ElementType.QUADRILATERAL: 3>, <ElementType.QUADRILATERAL: 3>, <ElementType.QUADRILATERAL: 3>, <ElementType.QUADRILATERAL: 3>, <ElementType.QUADRILATERAL: 3>, <ElementType.QUADRILATERAL: 3>, <ElementType.QUADRILATERAL: 3>, <ElementType.QUADRILATERAL: 3>, <ElementType.QUADRILATERAL: 3>, <ElementType.QUADRILATERAL: 3>, <ElementType.QUADRILATERAL: 3>, <ElementType.QUADRILATERAL: 3>, <ElementType.QUADRILATERAL: 3>, <ElementType.QUADRILATERAL: 3>, <ElementType.QUADRILATERAL: 3>, <ElementType.QUADRILATERAL: 3>, <ElementType.QUADRILATERAL: 3>, <ElementType.QUADRILATERAL: 3>, <ElementType.QUADRILATERAL: 3>, <ElementType.QUADRILATERAL: 3>, <ElementType.QUADRILATERAL: 3>, <ElementType.QUADRILATERAL: 3>, <ElementType.QUADRILATERAL: 3>, <ElementType.QUADRILATERAL: 3>, <ElementType.QUADRILATERAL: 3>, <ElementType.QUADRILATERAL: 3>, <ElementType.QUADRILATERAL: 3>, <ElementType.QUADRILATERAL: 3>, <ElementType.QUADRILATERAL: 3>, <ElementType.QUADRILATERAL: 3>, <ElementType.QUADRILATERAL: 3>, <ElementType.QUADRILATERAL: 3>, <ElementType.QUADRILATERAL: 3>, <ElementType.QUADRILATERAL: 3>, <ElementType.QUADRILATERAL: 3>, <ElementType.QUADRILATERAL: 3>, <ElementType.QUADRILATERAL: 3>, <ElementType.QUADRILATERAL: 3>, <ElementType.QUADRILATERAL: 3>, <ElementType.QUADRILATERAL: 3>, <ElementType.QUADRILATERAL: 3>, <ElementType.QUADRILATERAL: 3>, <ElementType.QUADRILATERAL: 3>, <ElementType.QUADRILATERAL: 3>, <ElementType.QUADRILATERAL: 3>, <ElementType.QUADRILATERAL: 3>, <ElementType.QUADRILATERAL: 3>, <ElementType.QUADRILATERAL: 3>, <ElementType.QUADRILATERAL: 3>, <ElementType.QUADRILATERAL: 3>, <ElementType.QUADRILATERAL: 3>, <ElementType.QUADRILATERAL: 3>, <ElementType.QUADRILATERAL: 3>, <ElementType.QUADRILATERAL: 3>, <ElementType.QUADRILATERAL: 3>, <ElementType.QUADRILATERAL: 3>, <ElementType.QUADRILATERAL: 3>, <ElementType.QUADRILATERAL: 3>, <ElementType.QUADRILATERAL: 3>, <ElementType.QUADRILATERAL: 3>, <ElementType.QUADRILATERAL: 3>, <ElementType.QUADRILATERAL: 3>, <ElementType.QUADRILATERAL: 3>, <ElementType.QUADRILATERAL: 3>, <ElementType.QUADRILATERAL: 3>, <ElementType.QUADRILATERAL: 3>, <ElementType.QUADRILATERAL: 3>, <ElementType.QUADRILATERAL: 3>, <ElementType.QUADRILATERAL: 3>, <ElementType.QUADRILATERAL: 3>, <ElementType.QUADRILATERAL: 3>, <ElementType.QUADRILATERAL: 3>, <ElementType.QUADRILATERAL: 3>, <ElementType.QUADRILATERAL: 3>, <ElementType.QUADRILATERAL: 3>, <ElementType.QUADRILATERAL: 3>, <ElementType.QUADRILATERAL: 3>, <ElementType.QUADRILATERAL: 3>, <ElementType.QUADRILATERAL: 3>, <ElementType.QUADRILATERAL: 3>, <ElementType.QUADRILATERAL: 3>, <ElementType.QUADRILATERAL: 3>, <ElementType.QUADRILATERAL: 3>, <ElementType.QUADRILATERAL: 3>, <ElementType.QUADRILATERAL: 3>, <ElementType.QUADRILATERAL: 3>, <ElementType.QUADRILATERAL: 3>, <ElementType.QUADRILATERAL: 3>, <ElementType.QUADRILATERAL: 3>, <ElementType.QUADRILATERAL: 3>, <ElementType.QUADRILATERAL: 3>, <ElementType.QUADRILATERAL: 3>, <ElementType.QUADRILATERAL: 3>, <ElementType.QUADRILATERAL: 3>, <ElementType.QUADRILATERAL: 3>, <ElementType.QUADRILATERAL: 3>, <ElementType.QUADRILATERAL: 3>, <ElementType.QUADRILATERAL: 3>, <ElementType.QUADRILATERAL: 3>, <ElementType.QUADRILATERAL: 3>, <ElementType.QUADRILATERAL: 3>, <ElementType.QUADRILATERAL: 3>, <ElementType.QUADRILATERAL: 3>, <ElementType.QUADRILATERAL: 3>, <ElementType.QUADRILATERAL: 3>, <ElementType.QUADRILATERAL: 3>, <ElementType.QUADRILATERAL: 3>, <ElementType.QUADRILATERAL: 3>, <ElementType.QUADRILATERAL: 3>, <ElementType.QUADRILATERAL: 3>, <ElementType.QUADRILATERAL: 3>, <ElementType.QUADRILATERAL: 3>, <ElementType.QUADRILATERAL: 3>, <ElementType.QUADRILATERAL: 3>, <ElementType.QUADRILATERAL: 3>, <ElementType.QUADRILATERAL: 3>, <ElementType.QUADRILATERAL: 3>, <ElementType.QUADRILATERAL: 3>, <ElementType.QUADRILATERAL: 3>, <ElementType.QUADRILATERAL: 3>, <ElementType.QUADRILATERAL: 3>, <ElementType.QUADRILATERAL: 3>, <ElementType.QUADRILATERAL: 3>, <ElementType.QUADRILATERAL: 3>, <ElementType.QUADRILATERAL: 3>, <ElementType.QUADRILATERAL: 3>, <ElementType.QUADRILATERAL: 3>, <ElementType.QUADRILATERAL: 3>, <ElementType.QUADRILATERAL: 3>, <ElementType.QUADRILATERAL: 3>, <ElementType.QUADRILATERAL: 3>, <ElementType.QUADRILATERAL: 3>, <ElementType.QUADRILATERAL: 3>, <ElementType.QUADRILATERAL: 3>, <ElementType.QUADRILATERAL: 3>, <ElementType.QUADRILATERAL: 3>, <ElementType.QUADRILATERAL: 3>, <ElementType.QUADRILATERAL: 3>, <ElementType.QUADRILATERAL: 3>, <ElementType.QUADRILATERAL: 3>, <ElementType.QUADRILATERAL: 3>, <ElementType.QUADRILATERAL: 3>, <ElementType.QUADRILATERAL: 3>, <ElementType.QUADRILATERAL: 3>, <ElementType.QUADRILATERAL: 3>, <ElementType.QUADRILATERAL: 3>, <ElementType.QUADRILATERAL: 3>, <ElementType.QUADRILATERAL: 3>, <ElementType.QUADRILATERAL: 3>, <ElementType.QUADRILATERAL: 3>, <ElementType.QUADRILATERAL: 3>, <ElementType.QUADRILATERAL: 3>, <ElementType.QUADRILATERAL: 3>, <ElementType.QUADRILATERAL: 3>, <ElementType.QUADRILATERAL: 3>, <ElementType.QUADRILATERAL: 3>, <ElementType.QUADRILATERAL: 3>, <ElementType.QUADRILATERAL: 3>, <ElementType.QUADRILATERAL: 3>, <ElementType.QUADRILATERAL: 3>, <ElementType.QUADRILATERAL: 3>, <ElementType.QUADRILATERAL: 3>, <ElementType.QUADRILATERAL: 3>, <ElementType.QUADRILATERAL: 3>, <ElementType.QUADRILATERAL: 3>, <ElementType.QUADRILATERAL: 3>, <ElementType.QUADRILATERAL: 3>, <ElementType.QUADRILATERAL: 3>, <ElementType.QUADRILATERAL: 3>, <ElementType.QUADRILATERAL: 3>, <ElementType.QUADRILATERAL: 3>, <ElementType.QUADRILATERAL: 3>, <ElementType.QUADRILATERAL: 3>, <ElementType.QUADRILATERAL: 3>, <ElementType.QUADRILATERAL: 3>, <ElementType.QUADRILATERAL: 3>, <ElementType.QUADRILATERAL: 3>, <ElementType.QUADRILATERAL: 3>, <ElementType.QUADRILATERAL: 3>, <ElementType.QUADRILATERAL: 3>, <ElementType.QUADRILATERAL: 3>, <ElementType.QUADRILATERAL: 3>, <ElementType.QUADRILATERAL: 3>, <ElementType.QUADRILATERAL: 3>, <ElementType.QUADRILATERAL: 3>, <ElementType.QUADRILATERAL: 3>, <ElementType.QUADRILATERAL: 3>, <ElementType.QUADRILATERAL: 3>, <ElementType.QUADRILATERAL: 3>, <ElementType.QUADRILATERAL: 3>, <ElementType.QUADRILATERAL: 3>, <ElementType.QUADRILATERAL: 3>, <ElementType.QUADRILATERAL: 3>, <ElementType.QUADRILATERAL: 3>, <ElementType.QUADRILATERAL: 3>, <ElementType.QUADRILATERAL: 3>, <ElementType.QUADRILATERAL: 3>, <ElementType.QUADRILATERAL: 3>, <ElementType.QUADRILATERAL: 3>, <ElementType.QUADRILATERAL: 3>, <ElementType.QUADRILATERAL: 3>, <ElementType.QUADRILATERAL: 3>, <ElementType.QUADRILATERAL: 3>, <ElementType.QUADRILATERAL: 3>, <ElementType.QUADRILATERAL: 3>, <ElementType.QUADRILATERAL: 3>, <ElementType.QUADRILATERAL: 3>, <ElementType.QUADRILATERAL: 3>, <ElementType.QUADRILATERAL: 3>, <ElementType.QUADRILATERAL: 3>, <ElementType.QUADRILATERAL: 3>, <ElementType.QUADRILATERAL: 3>, <ElementType.QUADRILATERAL: 3>, <ElementType.QUADRILATERAL: 3>, <ElementType.QUADRILATERAL: 3>, <ElementType.QUADRILATERAL: 3>, <ElementType.QUADRILATERAL: 3>, <ElementType.QUADRILATERAL: 3>, <ElementType.QUADRILATERAL: 3>, <ElementType.QUADRILATERAL: 3>, <ElementType.QUADRILATERAL: 3>, <ElementType.QUADRILATERAL: 3>, <ElementType.QUADRILATERAL: 3>, <ElementType.QUADRILATERAL: 3>, <ElementType.QUADRILATERAL: 3>, <ElementType.QUADRILATERAL: 3>, <ElementType.QUADRILATERAL: 3>, <ElementType.QUADRILATERAL: 3>, <ElementType.QUADRILATERAL: 3>, <ElementType.QUADRILATERAL: 3>, <ElementType.QUADRILATERAL: 3>, <ElementType.QUADRILATERAL: 3>, <ElementType.QUADRILATERAL: 3>, <ElementType.QUADRILATERAL: 3>, <ElementType.QUADRILATERAL: 3>, <ElementType.QUADRILATERAL: 3>, <ElementType.QUADRILATERAL: 3>, <ElementType.QUADRILATERAL: 3>, <ElementType.QUADRILATERAL: 3>, <ElementType.QUADRILATERAL: 3>, <ElementType.QUADRILATERAL: 3>, <ElementType.QUADRILATERAL: 3>, <ElementType.QUADRILATERAL: 3>, <ElementType.QUADRILATERAL: 3>, <ElementType.QUADRILATERAL: 3>, <ElementType.QUADRILATERAL: 3>, <ElementType.QUADRILATERAL: 3>, <ElementType.QUADRILATERAL: 3>, <ElementType.QUADRILATERAL: 3>, <ElementType.QUADRILATERAL: 3>, <ElementType.QUADRILATERAL: 3>, <ElementType.QUADRILATERAL: 3>, <ElementType.QUADRILATERAL: 3>, <ElementType.QUADRILATERAL: 3>, <ElementType.QUADRILATERAL: 3>, <ElementType.QUADRILATERAL: 3>, <ElementType.QUADRILATERAL: 3>, <ElementType.QUADRILATERAL: 3>, <ElementType.QUADRILATERAL: 3>, <ElementType.QUADRILATERAL: 3>, <ElementType.QUADRILATERAL: 3>, <ElementType.QUADRILATERAL: 3>, <ElementType.QUADRILATERAL: 3>, <ElementType.QUADRILATERAL: 3>, <ElementType.QUADRILATERAL: 3>, <ElementType.QUADRILATERAL: 3>, <ElementType.QUADRILATERAL: 3>, <ElementType.QUADRILATERAL: 3>, <ElementType.QUADRILATERAL: 3>, <ElementType.QUADRILATERAL: 3>, <ElementType.QUADRILATERAL: 3>, <ElementType.QUADRILATERAL: 3>, <ElementType.QUADRILATERAL: 3>, <ElementType.QUADRILATERAL: 3>, <ElementType.QUADRILATERAL: 3>, <ElementType.QUADRILATERAL: 3>, <ElementType.QUADRILATERAL: 3>, <ElementType.QUADRILATERAL: 3>, <ElementType.QUADRILATERAL: 3>, <ElementType.QUADRILATERAL: 3>, <ElementType.QUADRILATERAL: 3>, <ElementType.QUADRILATERAL: 3>, <ElementType.QUADRILATERAL: 3>, <ElementType.QUADRILATERAL: 3>, <ElementType.QUADRILATERAL: 3>, <ElementType.QUADRILATERAL: 3>, <ElementType.QUADRILATERAL: 3>, <ElementType.QUADRILATERAL: 3>, <ElementType.QUADRILATERAL: 3>, <ElementType.QUADRILATERAL: 3>, <ElementType.QUADRILATERAL: 3>, <ElementType.QUADRILATERAL: 3>, <ElementType.QUADRILATERAL: 3>, <ElementType.QUADRILATERAL: 3>, <ElementType.QUADRILATERAL: 3>, <ElementType.QUADRILATERAL: 3>, <ElementType.QUADRILATERAL: 3>, <ElementType.QUADRILATERAL: 3>, <ElementType.QUADRILATERAL: 3>, <ElementType.QUADRILATERAL: 3>, <ElementType.QUADRILATERAL: 3>, <ElementType.QUADRILATERAL: 3>, <ElementType.QUADRILATERAL: 3>, <ElementType.QUADRILATERAL: 3>, <ElementType.QUADRILATERAL: 3>, <ElementType.QUADRILATERAL: 3>, <ElementType.QUADRILATERAL: 3>, <ElementType.QUADRILATERAL: 3>, <ElementType.QUADRILATERAL: 3>, <ElementType.QUADRILATERAL: 3>, <ElementType.QUADRILATERAL: 3>, <ElementType.QUADRILATERAL: 3>, <ElementType.QUADRILATERAL: 3>, <ElementType.QUADRILATERAL: 3>, <ElementType.QUADRILATERAL: 3>, <ElementType.QUADRILATERAL: 3>, <ElementType.QUADRILATERAL: 3>, <ElementType.QUADRILATERAL: 3>, <ElementType.QUADRILATERAL: 3>, <ElementType.QUADRILATERAL: 3>, <ElementType.QUADRILATERAL: 3>, <ElementType.QUADRILATERAL: 3>, <ElementType.QUADRILATERAL: 3>, <ElementType.QUADRILATERAL: 3>, <ElementType.QUADRILATERAL: 3>, <ElementType.QUADRILATERAL: 3>, <ElementType.QUADRILATERAL: 3>, <ElementType.QUADRILATERAL: 3>, <ElementType.QUADRILATERAL: 3>, <ElementType.QUADRILATERAL: 3>, <ElementType.QUADRILATERAL: 3>, <ElementType.QUADRILATERAL: 3>, <ElementType.QUADRILATERAL: 3>, <ElementType.QUADRILATERAL: 3>, <ElementType.QUADRILATERAL: 3>, <ElementType.QUADRILATERAL: 3>, <ElementType.QUADRILATERAL: 3>, <ElementType.QUADRILATERAL: 3>, <ElementType.QUADRILATERAL: 3>, <ElementType.QUADRILATERAL: 3>, <ElementType.QUADRILATERAL: 3>, <ElementType.QUADRILATERAL: 3>, <ElementType.QUADRILATERAL: 3>, <ElementType.QUADRILATERAL: 3>, <ElementType.QUADRILATERAL: 3>, <ElementType.QUADRILATERAL: 3>, <ElementType.QUADRILATERAL: 3>, <ElementType.QUADRILATERAL: 3>, <ElementType.QUADRILATERAL: 3>, <ElementType.QUADRILATERAL: 3>, <ElementType.QUADRILATERAL: 3>, <ElementType.QUADRILATERAL: 3>, <ElementType.QUADRILATERAL: 3>, <ElementType.QUADRILATERAL: 3>, <ElementType.QUADRILATERAL: 3>, <ElementType.QUADRILATERAL: 3>, <ElementType.QUADRILATERAL: 3>, <ElementType.QUADRILATERAL: 3>, <ElementType.QUADRILATERAL: 3>, <ElementType.QUADRILATERAL: 3>, <ElementType.QUADRILATERAL: 3>, <ElementType.QUADRILATERAL: 3>, <ElementType.QUADRILATERAL: 3>, <ElementType.QUADRILATERAL: 3>, <ElementType.QUADRILATERAL: 3>, <ElementType.QUADRILATERAL: 3>, <ElementType.QUADRILATERAL: 3>, <ElementType.QUADRILATERAL: 3>, <ElementType.QUADRILATERAL: 3>, <ElementType.QUADRILATERAL: 3>, <ElementType.QUADRILATERAL: 3>, <ElementType.QUADRILATERAL: 3>, <ElementType.QUADRILATERAL: 3>, <ElementType.QUADRILATERAL: 3>, <ElementType.QUADRILATERAL: 3>, <ElementType.QUADRILATERAL: 3>, <ElementType.QUADRILATERAL: 3>, <ElementType.QUADRILATERAL: 3>, <ElementType.QUADRILATERAL: 3>, <ElementType.QUADRILATERAL: 3>, <ElementType.QUADRILATERAL: 3>, <ElementType.QUADRILATERAL: 3>, <ElementType.QUADRILATERAL: 3>, <ElementType.QUADRILATERAL: 3>, <ElementType.QUADRILATERAL: 3>, <ElementType.QUADRILATERAL: 3>, <ElementType.QUADRILATERAL: 3>, <ElementType.QUADRILATERAL: 3>, <ElementType.QUADRILATERAL: 3>, <ElementType.QUADRILATERAL: 3>, <ElementType.QUADRILATERAL: 3>, <ElementType.QUADRILATERAL: 3>, <ElementType.QUADRILATERAL: 3>, <ElementType.QUADRILATERAL: 3>, <ElementType.QUADRILATERAL: 3>, <ElementType.QUADRILATERAL: 3>, <ElementType.QUADRILATERAL: 3>, <ElementType.QUADRILATERAL: 3>, <ElementType.QUADRILATERAL: 3>, <ElementType.QUADRILATERAL: 3>, <ElementType.QUADRILATERAL: 3>, <ElementType.QUADRILATERAL: 3>, <ElementType.QUADRILATERAL: 3>, <ElementType.QUADRILATERAL: 3>, <ElementType.QUADRILATERAL: 3>, <ElementType.QUADRILATERAL: 3>, <ElementType.QUADRILATERAL: 3>, <ElementType.QUADRILATERAL: 3>, <ElementType.QUADRILATERAL: 3>, <ElementType.QUADRILATERAL: 3>, <ElementType.QUADRILATERAL: 3>, <ElementType.QUADRILATERAL: 3>, <ElementType.QUADRILATERAL: 3>, <ElementType.QUADRILATERAL: 3>, <ElementType.QUADRILATERAL: 3>, <ElementType.QUADRILATERAL: 3>, <ElementType.QUADRILATERAL: 3>, <ElementType.QUADRILATERAL: 3>, <ElementType.QUADRILATERAL: 3>, <ElementType.QUADRILATERAL: 3>, <ElementType.QUADRILATERAL: 3>, <ElementType.QUADRILATERAL: 3>, <ElementType.QUADRILATERAL: 3>, <ElementType.QUADRILATERAL: 3>, <ElementType.QUADRILATERAL: 3>, <ElementType.QUADRILATERAL: 3>, <ElementType.QUADRILATERAL: 3>, <ElementType.QUADRILATERAL: 3>, <ElementType.QUADRILATERAL: 3>, <ElementType.QUADRILATERAL: 3>, <ElementType.QUADRILATERAL: 3>, <ElementType.QUADRILATERAL: 3>, <ElementType.QUADRILATERAL: 3>, <ElementType.QUADRILATERAL: 3>, <ElementType.QUADRILATERAL: 3>, <ElementType.QUADRILATERAL: 3>, <ElementType.QUADRILATERAL: 3>, <ElementType.QUADRILATERAL: 3>, <ElementType.QUADRILATERAL: 3>, <ElementType.QUADRILATERAL: 3>, <ElementType.QUADRILATERAL: 3>, <ElementType.QUADRILATERAL: 3>, <ElementType.QUADRILATERAL: 3>, <ElementType.QUADRILATERAL: 3>, <ElementType.QUADRILATERAL: 3>, <ElementType.QUADRILATERAL: 3>, <ElementType.QUADRILATERAL: 3>, <ElementType.QUADRILATERAL: 3>, <ElementType.QUADRILATERAL: 3>, <ElementType.QUADRILATERAL: 3>, <ElementType.QUADRILATERAL: 3>, <ElementType.QUADRILATERAL: 3>, <ElementType.QUADRILATERAL: 3>, <ElementType.QUADRILATERAL: 3>, <ElementType.QUADRILATERAL: 3>, <ElementType.QUADRILATERAL: 3>, <ElementType.QUADRILATERAL: 3>, <ElementType.QUADRILATERAL: 3>, <ElementType.QUADRILATERAL: 3>, <ElementType.QUADRILATERAL: 3>, <ElementType.QUADRILATERAL: 3>, <ElementType.QUADRILATERAL: 3>, <ElementType.QUADRILATERAL: 3>, <ElementType.QUADRILATERAL: 3>, <ElementType.QUADRILATERAL: 3>, <ElementType.QUADRILATERAL: 3>, <ElementType.QUADRILATERAL: 3>, <ElementType.QUADRILATERAL: 3>, <ElementType.QUADRILATERAL: 3>, <ElementType.QUADRILATERAL: 3>, <ElementType.QUADRILATERAL: 3>, <ElementType.QUADRILATERAL: 3>, <ElementType.QUADRILATERAL: 3>, <ElementType.QUADRILATERAL: 3>, <ElementType.QUADRILATERAL: 3>, <ElementType.QUADRILATERAL: 3>, <ElementType.QUADRILATERAL: 3>, <ElementType.QUADRILATERAL: 3>, <ElementType.QUADRILATERAL: 3>, <ElementType.QUADRILATERAL: 3>, <ElementType.QUADRILATERAL: 3>, <ElementType.QUADRILATERAL: 3>, <ElementType.QUADRILATERAL: 3>, <ElementType.QUADRILATERAL: 3>, <ElementType.QUADRILATERAL: 3>, <ElementType.QUADRILATERAL: 3>, <ElementType.QUADRILATERAL: 3>, <ElementType.QUADRILATERAL: 3>, <ElementType.QUADRILATERAL: 3>, <ElementType.QUADRILATERAL: 3>, <ElementType.QUADRILATERAL: 3>, <ElementType.QUADRILATERAL: 3>, <ElementType.QUADRILATERAL: 3>, <ElementType.QUADRILATERAL: 3>, <ElementType.QUADRILATERAL: 3>, <ElementType.QUADRILATERAL: 3>, <ElementType.QUADRILATERAL: 3>, <ElementType.QUADRILATERAL: 3>, <ElementType.QUADRILATERAL: 3>, <ElementType.QUADRILATERAL: 3>, <ElementType.QUADRILATERAL: 3>, <ElementType.QUADRILATERAL: 3>, <ElementType.QUADRILATERAL: 3>, <ElementType.QUADRILATERAL: 3>, <ElementType.QUADRILATERAL: 3>, <ElementType.QUADRILATERAL: 3>, <ElementType.QUADRILATERAL: 3>, <ElementType.QUADRILATERAL: 3>, <ElementType.QUADRILATERAL: 3>, <ElementType.QUADRILATERAL: 3>, <ElementType.QUADRILATERAL: 3>, <ElementType.QUADRILATERAL: 3>, <ElementType.QUADRILATERAL: 3>, <ElementType.QUADRILATERAL: 3>, <ElementType.QUADRILATERAL: 3>, <ElementType.QUADRILATERAL: 3>, <ElementType.QUADRILATERAL: 3>, <ElementType.QUADRILATERAL: 3>, <ElementType.QUADRILATERAL: 3>, <ElementType.QUADRILATERAL: 3>, <ElementType.QUADRILATERAL: 3>, <ElementType.QUADRILATERAL: 3>, <ElementType.QUADRILATERAL: 3>, <ElementType.QUADRILATERAL: 3>, <ElementType.QUADRILATERAL: 3>, <ElementType.QUADRILATERAL: 3>, <ElementType.QUADRILATERAL: 3>, <ElementType.QUADRILATERAL: 3>, <ElementType.QUADRILATERAL: 3>, <ElementType.QUADRILATERAL: 3>, <ElementType.QUADRILATERAL: 3>, <ElementType.QUADRILATERAL: 3>, <ElementType.QUADRILATERAL: 3>, <ElementType.QUADRILATERAL: 3>, <ElementType.QUADRILATERAL: 3>, <ElementType.QUADRILATERAL: 3>, <ElementType.QUADRILATERAL: 3>, <ElementType.QUADRILATERAL: 3>, <ElementType.QUADRILATERAL: 3>, <ElementType.QUADRILATERAL: 3>, <ElementType.QUADRILATERAL: 3>, <ElementType.QUADRILATERAL: 3>, <ElementType.QUADRILATERAL: 3>, <ElementType.QUADRILATERAL: 3>, <ElementType.QUADRILATERAL: 3>, <ElementType.QUADRILATERAL: 3>, <ElementType.QUADRILATERAL: 3>, <ElementType.QUADRILATERAL: 3>, <ElementType.QUADRILATERAL: 3>, <ElementType.QUADRILATERAL: 3>, <ElementType.QUADRILATERAL: 3>, <ElementType.QUADRILATERAL: 3>, <ElementType.QUADRILATERAL: 3>, <ElementType.QUADRILATERAL: 3>, <ElementType.QUADRILATERAL: 3>, <ElementType.QUADRILATERAL: 3>, <ElementType.QUADRILATERAL: 3>, <ElementType.QUADRILATERAL: 3>, <ElementType.QUADRILATERAL: 3>, <ElementType.QUADRILATERAL: 3>, <ElementType.QUADRILATERAL: 3>, <ElementType.QUADRILATERAL: 3>, <ElementType.QUADRILATERAL: 3>, <ElementType.QUADRILATERAL: 3>, <ElementType.QUADRILATERAL: 3>, <ElementType.QUADRILATERAL: 3>, <ElementType.QUADRILATERAL: 3>, <ElementType.QUADRILATERAL: 3>, <ElementType.QUADRILATERAL: 3>, <ElementType.QUADRILATERAL: 3>, <ElementType.QUADRILATERAL: 3>, <ElementType.QUADRILATERAL: 3>, <ElementType.QUADRILATERAL: 3>, <ElementType.QUADRILATERAL: 3>, <ElementType.QUADRILATERAL: 3>, <ElementType.QUADRILATERAL: 3>, <ElementType.QUADRILATERAL: 3>, <ElementType.QUADRILATERAL: 3>, <ElementType.QUADRILATERAL: 3>, <ElementType.QUADRILATERAL: 3>, <ElementType.QUADRILATERAL: 3>, <ElementType.QUADRILATERAL: 3>, <ElementType.QUADRILATERAL: 3>, <ElementType.QUADRILATERAL: 3>, <ElementType.QUADRILATERAL: 3>, <ElementType.QUADRILATERAL: 3>, <ElementType.QUADRILATERAL: 3>, <ElementType.QUADRILATERAL: 3>, <ElementType.QUADRILATERAL: 3>, <ElementType.QUADRILATERAL: 3>, <ElementType.QUADRILATERAL: 3>, <ElementType.QUADRILATERAL: 3>, <ElementType.QUADRILATERAL: 3>, <ElementType.QUADRILATERAL: 3>, <ElementType.QUADRILATERAL: 3>, <ElementType.QUADRILATERAL: 3>, <ElementType.QUADRILATERAL: 3>, <ElementType.QUADRILATERAL: 3>, <ElementType.QUADRILATERAL: 3>, <ElementType.QUADRILATERAL: 3>, <ElementType.QUADRILATERAL: 3>, <ElementType.QUADRILATERAL: 3>, <ElementType.QUADRILATERAL: 3>, <ElementType.QUADRILATERAL: 3>, <ElementType.QUADRILATERAL: 3>, <ElementType.QUADRILATERAL: 3>, <ElementType.QUADRILATERAL: 3>, <ElementType.QUADRILATERAL: 3>, <ElementType.QUADRILATERAL: 3>, <ElementType.QUADRILATERAL: 3>, <ElementType.QUADRILATERAL: 3>, <ElementType.QUADRILATERAL: 3>, <ElementType.QUADRILATERAL: 3>, <ElementType.QUADRILATERAL: 3>, <ElementType.QUADRILATERAL: 3>, <ElementType.QUADRILATERAL: 3>, <ElementType.QUADRILATERAL: 3>, <ElementType.QUADRILATERAL: 3>, <ElementType.QUADRILATERAL: 3>, <ElementType.QUADRILATERAL: 3>, <ElementType.QUADRILATERAL: 3>, <ElementType.QUADRILATERAL: 3>, <ElementType.QUADRILATERAL: 3>, <ElementType.QUADRILATERAL: 3>, <ElementType.QUADRILATERAL: 3>, <ElementType.QUADRILATERAL: 3>, <ElementType.QUADRILATERAL: 3>, <ElementType.QUADRILATERAL: 3>, <ElementType.QUADRILATERAL: 3>, <ElementType.QUADRILATERAL: 3>, <ElementType.QUADRILATERAL: 3>, <ElementType.QUADRILATERAL: 3>, <ElementType.QUADRILATERAL: 3>, <ElementType.QUADRILATERAL: 3>, <ElementType.QUADRILATERAL: 3>, <ElementType.QUADRILATERAL: 3>, <ElementType.QUADRILATERAL: 3>, <ElementType.QUADRILATERAL: 3>, <ElementType.QUADRILATERAL: 3>, <ElementType.QUADRILATERAL: 3>, <ElementType.QUADRILATERAL: 3>, <ElementType.QUADRILATERAL: 3>, <ElementType.QUADRILATERAL: 3>, <ElementType.QUADRILATERAL: 3>, <ElementType.QUADRILATERAL: 3>, <ElementType.QUADRILATERAL: 3>, <ElementType.QUADRILATERAL: 3>, <ElementType.QUADRILATERAL: 3>, <ElementType.QUADRILATERAL: 3>, <ElementType.QUADRILATERAL: 3>, <ElementType.QUADRILATERAL: 3>, <ElementType.QUADRILATERAL: 3>, <ElementType.QUADRILATERAL: 3>, <ElementType.QUADRILATERAL: 3>, <ElementType.QUADRILATERAL: 3>, <ElementType.QUADRILATERAL: 3>, <ElementType.QUADRILATERAL: 3>, <ElementType.QUADRILATERAL: 3>, <ElementType.QUADRILATERAL: 3>, <ElementType.QUADRILATERAL: 3>, <ElementType.QUADRILATERAL: 3>, <ElementType.QUADRILATERAL: 3>, <ElementType.QUADRILATERAL: 3>, <ElementType.QUADRILATERAL: 3>, <ElementType.QUADRILATERAL: 3>, <ElementType.QUADRILATERAL: 3>, <ElementType.QUADRILATERAL: 3>, <ElementType.QUADRILATERAL: 3>, <ElementType.QUADRILATERAL: 3>, <ElementType.QUADRILATERAL: 3>, <ElementType.QUADRILATERAL: 3>, <ElementType.QUADRILATERAL: 3>, <ElementType.QUADRILATERAL: 3>, <ElementType.QUADRILATERAL: 3>, <ElementType.QUADRILATERAL: 3>, <ElementType.QUADRILATERAL: 3>, <ElementType.QUADRILATERAL: 3>, <ElementType.QUADRILATERAL: 3>, <ElementType.QUADRILATERAL: 3>, <ElementType.QUADRILATERAL: 3>, <ElementType.QUADRILATERAL: 3>, <ElementType.QUADRILATERAL: 3>, <ElementType.QUADRILATERAL: 3>, <ElementType.QUADRILATERAL: 3>, <ElementType.QUADRILATERAL: 3>, <ElementType.QUADRILATERAL: 3>, <ElementType.QUADRILATERAL: 3>, <ElementType.QUADRILATERAL: 3>, <ElementType.QUADRILATERAL: 3>, <ElementType.QUADRILATERAL: 3>, <ElementType.QUADRILATERAL: 3>, <ElementType.QUADRILATERAL: 3>, <ElementType.QUADRILATERAL: 3>, <ElementType.QUADRILATERAL: 3>, <ElementType.QUADRILATERAL: 3>, <ElementType.QUADRILATERAL: 3>, <ElementType.QUADRILATERAL: 3>, <ElementType.QUADRILATERAL: 3>, <ElementType.QUADRILATERAL: 3>, <ElementType.QUADRILATERAL: 3>, <ElementType.QUADRILATERAL: 3>, <ElementType.QUADRILATERAL: 3>, <ElementType.QUADRILATERAL: 3>, <ElementType.QUADRILATERAL: 3>, <ElementType.QUADRILATERAL: 3>, <ElementType.QUADRILATERAL: 3>, <ElementType.QUADRILATERAL: 3>, <ElementType.QUADRILATERAL: 3>, <ElementType.QUADRILATERAL: 3>, <ElementType.QUADRILATERAL: 3>, <ElementType.QUADRILATERAL: 3>, <ElementType.QUADRILATERAL: 3>, <ElementType.QUADRILATERAL: 3>, <ElementType.QUADRILATERAL: 3>, <ElementType.QUADRILATERAL: 3>, <ElementType.QUADRILATERAL: 3>, <ElementType.QUADRILATERAL: 3>, <ElementType.QUADRILATERAL: 3>, <ElementType.QUADRILATERAL: 3>, <ElementType.QUADRILATERAL: 3>, <ElementType.QUADRILATERAL: 3>, <ElementType.QUADRILATERAL: 3>, <ElementType.QUADRILATERAL: 3>, <ElementType.QUADRILATERAL: 3>, <ElementType.QUADRILATERAL: 3>, <ElementType.QUADRILATERAL: 3>, <ElementType.QUADRILATERAL: 3>, <ElementType.QUADRILATERAL: 3>, <ElementType.QUADRILATERAL: 3>, <ElementType.QUADRILATERAL: 3>, <ElementType.QUADRILATERAL: 3>, <ElementType.QUADRILATERAL: 3>, <ElementType.QUADRILATERAL: 3>, <ElementType.QUADRILATERAL: 3>, <ElementType.QUADRILATERAL: 3>, <ElementType.QUADRILATERAL: 3>, <ElementType.QUADRILATERAL: 3>, <ElementType.QUADRILATERAL: 3>, <ElementType.QUADRILATERAL: 3>, <ElementType.QUADRILATERAL: 3>, <ElementType.QUADRILATERAL: 3>, <ElementType.QUADRILATERAL: 3>, <ElementType.QUADRILATERAL: 3>, <ElementType.QUADRILATERAL: 3>, <ElementType.QUADRILATERAL: 3>, <ElementType.QUADRILATERAL: 3>, <ElementType.QUADRILATERAL: 3>, <ElementType.QUADRILATERAL: 3>, <ElementType.QUADRILATERAL: 3>, <ElementType.QUADRILATERAL: 3>, <ElementType.QUADRILATERAL: 3>, <ElementType.QUADRILATERAL: 3>, <ElementType.QUADRILATERAL: 3>, <ElementType.QUADRILATERAL: 3>, <ElementType.QUADRILATERAL: 3>, <ElementType.QUADRILATERAL: 3>, <ElementType.QUADRILATERAL: 3>, <ElementType.QUADRILATERAL: 3>, <ElementType.QUADRILATERAL: 3>, <ElementType.QUADRILATERAL: 3>, <ElementType.QUADRILATERAL: 3>, <ElementType.QUADRILATERAL: 3>, <ElementType.QUADRILATERAL: 3>, <ElementType.QUADRILATERAL: 3>, <ElementType.QUADRILATERAL: 3>, <ElementType.QUADRILATERAL: 3>, <ElementType.QUADRILATERAL: 3>, <ElementType.QUADRILATERAL: 3>, <ElementType.QUADRILATERAL: 3>, <ElementType.QUADRILATERAL: 3>, <ElementType.QUADRILATERAL: 3>, <ElementType.QUADRILATERAL: 3>, <ElementType.QUADRILATERAL: 3>, <ElementType.QUADRILATERAL: 3>, <ElementType.QUADRILATERAL: 3>, <ElementType.QUADRILATERAL: 3>, <ElementType.QUADRILATERAL: 3>, <ElementType.QUADRILATERAL: 3>, <ElementType.QUADRILATERAL: 3>, <ElementType.QUADRILATERAL: 3>, <ElementType.QUADRILATERAL: 3>, <ElementType.QUADRILATERAL: 3>, <ElementType.QUADRILATERAL: 3>, <ElementType.QUADRILATERAL: 3>, <ElementType.QUADRILATERAL: 3>, <ElementType.QUADRILATERAL: 3>, <ElementType.QUADRILATERAL: 3>, <ElementType.QUADRILATERAL: 3>, <ElementType.QUADRILATERAL: 3>, <ElementType.QUADRILATERAL: 3>, <ElementType.QUADRILATERAL: 3>, <ElementType.QUADRILATERAL: 3>, <ElementType.QUADRILATERAL: 3>, <ElementType.QUADRILATERAL: 3>, <ElementType.QUADRILATERAL: 3>, <ElementType.QUADRILATERAL: 3>, <ElementType.QUADRILATERAL: 3>, <ElementType.QUADRILATERAL: 3>, <ElementType.QUADRILATERAL: 3>, <ElementType.QUADRILATERAL: 3>, <ElementType.QUADRILATERAL: 3>, <ElementType.QUADRILATERAL: 3>, <ElementType.QUADRILATERAL: 3>, <ElementType.QUADRILATERAL: 3>, <ElementType.QUADRILATERAL: 3>, <ElementType.QUADRILATERAL: 3>, <ElementType.QUADRILATERAL: 3>, <ElementType.QUADRILATERAL: 3>, <ElementType.QUADRILATERAL: 3>, <ElementType.QUADRILATERAL: 3>, <ElementType.QUADRILATERAL: 3>, <ElementType.QUADRILATERAL: 3>, <ElementType.QUADRILATERAL: 3>, <ElementType.QUADRILATERAL: 3>, <ElementType.QUADRILATERAL: 3>, <ElementType.QUADRILATERAL: 3>, <ElementType.QUADRILATERAL: 3>, <ElementType.QUADRILATERAL: 3>, <ElementType.QUADRILATERAL: 3>, <ElementType.QUADRILATERAL: 3>, <ElementType.QUADRILATERAL: 3>, <ElementType.QUADRILATERAL: 3>, <ElementType.QUADRILATERAL: 3>, <ElementType.QUADRILATERAL: 3>, <ElementType.QUADRILATERAL: 3>, <ElementType.QUADRILATERAL: 3>, <ElementType.QUADRILATERAL: 3>, <ElementType.QUADRILATERAL: 3>, <ElementType.QUADRILATERAL: 3>, <ElementType.QUADRILATERAL: 3>, <ElementType.QUADRILATERAL: 3>, <ElementType.QUADRILATERAL: 3>, <ElementType.QUADRILATERAL: 3>, <ElementType.QUADRILATERAL: 3>, <ElementType.QUADRILATERAL: 3>, <ElementType.QUADRILATERAL: 3>, <ElementType.QUADRILATERAL: 3>, <ElementType.QUADRILATERAL: 3>, <ElementType.QUADRILATERAL: 3>, <ElementType.QUADRILATERAL: 3>, <ElementType.QUADRILATERAL: 3>, <ElementType.QUADRILATERAL: 3>, <ElementType.QUADRILATERAL: 3>, <ElementType.QUADRILATERAL: 3>, <ElementType.QUADRILATERAL: 3>, <ElementType.QUADRILATERAL: 3>, <ElementType.QUADRILATERAL: 3>, <ElementType.QUADRILATERAL: 3>, <ElementType.QUADRILATERAL: 3>, <ElementType.QUADRILATERAL: 3>, <ElementType.QUADRILATERAL: 3>, <ElementType.QUADRILATERAL: 3>, <ElementType.QUADRILATERAL: 3>, <ElementType.QUADRILATERAL: 3>, <ElementType.QUADRILATERAL: 3>, <ElementType.QUADRILATERAL: 3>, <ElementType.QUADRILATERAL: 3>, <ElementType.QUADRILATERAL: 3>, <ElementType.QUADRILATERAL: 3>, <ElementType.QUADRILATERAL: 3>, <ElementType.QUADRILATERAL: 3>, <ElementType.QUADRILATERAL: 3>, <ElementType.QUADRILATERAL: 3>, <ElementType.QUADRILATERAL: 3>, <ElementType.QUADRILATERAL: 3>, <ElementType.QUADRILATERAL: 3>, <ElementType.QUADRILATERAL: 3>, <ElementType.QUADRILATERAL: 3>, <ElementType.QUADRILATERAL: 3>, <ElementType.QUADRILATERAL: 3>, <ElementType.QUADRILATERAL: 3>, <ElementType.QUADRILATERAL: 3>, <ElementType.QUADRILATERAL: 3>, <ElementType.QUADRILATERAL: 3>, <ElementType.QUADRILATERAL: 3>, <ElementType.QUADRILATERAL: 3>, <ElementType.QUADRILATERAL: 3>, <ElementType.QUADRILATERAL: 3>, <ElementType.QUADRILATERAL: 3>, <ElementType.QUADRILATERAL: 3>, <ElementType.QUADRILATERAL: 3>, <ElementType.QUADRILATERAL: 3>, <ElementType.QUADRILATERAL: 3>, <ElementType.QUADRILATERAL: 3>, <ElementType.QUADRILATERAL: 3>, <ElementType.QUADRILATERAL: 3>, <ElementType.QUADRILATERAL: 3>, <ElementType.QUADRILATERAL: 3>, <ElementType.QUADRILATERAL: 3>, <ElementType.QUADRILATERAL: 3>, <ElementType.QUADRILATERAL: 3>, <ElementType.QUADRILATERAL: 3>, <ElementType.QUADRILATERAL: 3>, <ElementType.QUADRILATERAL: 3>, <ElementType.QUADRILATERAL: 3>, <ElementType.QUADRILATERAL: 3>, <ElementType.QUADRILATERAL: 3>, <ElementType.QUADRILATERAL: 3>, <ElementType.QUADRILATERAL: 3>, <ElementType.QUADRILATERAL: 3>, <ElementType.QUADRILATERAL: 3>, <ElementType.QUADRILATERAL: 3>, <ElementType.QUADRILATERAL: 3>, <ElementType.QUADRILATERAL: 3>, <ElementType.QUADRILATERAL: 3>, <ElementType.QUADRILATERAL: 3>, <ElementType.QUADRILATERAL: 3>, <ElementType.QUADRILATERAL: 3>, <ElementType.QUADRILATERAL: 3>, <ElementType.QUADRILATERAL: 3>, <ElementType.QUADRILATERAL: 3>, <ElementType.QUADRILATERAL: 3>, <ElementType.QUADRILATERAL: 3>, <ElementType.QUADRILATERAL: 3>, <ElementType.QUADRILATERAL: 3>, <ElementType.QUADRILATERAL: 3>, <ElementType.QUADRILATERAL: 3>, <ElementType.QUADRILATERAL: 3>, <ElementType.QUADRILATERAL: 3>, <ElementType.QUADRILATERAL: 3>, <ElementType.QUADRILATERAL: 3>, <ElementType.QUADRILATERAL: 3>, <ElementType.QUADRILATERAL: 3>, <ElementType.QUADRILATERAL: 3>, <ElementType.QUADRILATERAL: 3>, <ElementType.QUADRILATERAL: 3>, <ElementType.QUADRILATERAL: 3>, <ElementType.QUADRILATERAL: 3>, <ElementType.QUADRILATERAL: 3>, <ElementType.QUADRILATERAL: 3>, <ElementType.QUADRILATERAL: 3>, <ElementType.QUADRILATERAL: 3>, <ElementType.QUADRILATERAL: 3>, <ElementType.QUADRILATERAL: 3>, <ElementType.QUADRILATERAL: 3>, <ElementType.QUADRILATERAL: 3>, <ElementType.QUADRILATERAL: 3>, <ElementType.QUADRILATERAL: 3>, <ElementType.QUADRILATERAL: 3>, <ElementType.QUADRILATERAL: 3>, <ElementType.QUADRILATERAL: 3>, <ElementType.QUADRILATERAL: 3>, <ElementType.QUADRILATERAL: 3>, <ElementType.QUADRILATERAL: 3>, <ElementType.QUADRILATERAL: 3>, <ElementType.QUADRILATERAL: 3>, <ElementType.QUADRILATERAL: 3>, <ElementType.QUADRILATERAL: 3>, <ElementType.QUADRILATERAL: 3>, <ElementType.QUADRILATERAL: 3>, <ElementType.QUADRILATERAL: 3>, <ElementType.QUADRILATERAL: 3>, <ElementType.QUADRILATERAL: 3>, <ElementType.QUADRILATERAL: 3>, <ElementType.QUADRILATERAL: 3>, <ElementType.QUADRILATERAL: 3>, <ElementType.QUADRILATERAL: 3>, <ElementType.QUADRILATERAL: 3>, <ElementType.QUADRILATERAL: 3>, <ElementType.QUADRILATERAL: 3>, <ElementType.QUADRILATERAL: 3>, <ElementType.QUADRILATERAL: 3>, <ElementType.QUADRILATERAL: 3>, <ElementType.QUADRILATERAL: 3>, <ElementType.QUADRILATERAL: 3>, <ElementType.QUADRILATERAL: 3>, <ElementType.QUADRILATERAL: 3>, <ElementType.QUADRILATERAL: 3>, <ElementType.QUADRILATERAL: 3>, <ElementType.QUADRILATERAL: 3>, <ElementType.QUADRILATERAL: 3>, <ElementType.QUADRILATERAL: 3>, <ElementType.QUADRILATERAL: 3>, <ElementType.QUADRILATERAL: 3>, <ElementType.QUADRILATERAL: 3>, <ElementType.QUADRILATERAL: 3>, <ElementType.QUADRILATERAL: 3>, <ElementType.QUADRILATERAL: 3>, <ElementType.QUADRILATERAL: 3>, <ElementType.QUADRILATERAL: 3>, <ElementType.QUADRILATERAL: 3>, <ElementType.QUADRILATERAL: 3>, <ElementType.QUADRILATERAL: 3>, <ElementType.QUADRILATERAL: 3>, <ElementType.QUADRILATERAL: 3>, <ElementType.QUADRILATERAL: 3>, <ElementType.QUADRILATERAL: 3>, <ElementType.QUADRILATERAL: 3>, <ElementType.QUADRILATERAL: 3>, <ElementType.QUADRILATERAL: 3>, <ElementType.QUADRILATERAL: 3>, <ElementType.QUADRILATERAL: 3>, <ElementType.QUADRILATERAL: 3>, <ElementType.QUADRILATERAL: 3>, <ElementType.QUADRILATERAL: 3>, <ElementType.QUADRILATERAL: 3>, <ElementType.QUADRILATERAL: 3>, <ElementType.QUADRILATERAL: 3>, <ElementType.QUADRILATERAL: 3>, <ElementType.QUADRILATERAL: 3>, <ElementType.QUADRILATERAL: 3>, <ElementType.QUADRILATERAL: 3>, <ElementType.QUADRILATERAL: 3>, <ElementType.QUADRILATERAL: 3>, <ElementType.QUADRILATERAL: 3>, <ElementType.QUADRILATERAL: 3>, <ElementType.QUADRILATERAL: 3>, <ElementType.QUADRILATERAL: 3>, <ElementType.QUADRILATERAL: 3>, <ElementType.QUADRILATERAL: 3>, <ElementType.QUADRILATERAL: 3>, <ElementType.QUADRILATERAL: 3>, <ElementType.QUADRILATERAL: 3>, <ElementType.QUADRILATERAL: 3>, <ElementType.QUADRILATERAL: 3>, <ElementType.QUADRILATERAL: 3>, <ElementType.QUADRILATERAL: 3>, <ElementType.QUADRILATERAL: 3>, <ElementType.QUADRILATERAL: 3>, <ElementType.QUADRILATERAL: 3>, <ElementType.QUADRILATERAL: 3>, <ElementType.QUADRILATERAL: 3>, <ElementType.QUADRILATERAL: 3>, <ElementType.QUADRILATERAL: 3>, <ElementType.QUADRILATERAL: 3>, <ElementType.QUADRILATERAL: 3>, <ElementType.QUADRILATERAL: 3>, <ElementType.QUADRILATERAL: 3>, <ElementType.QUADRILATERAL: 3>, <ElementType.QUADRILATERAL: 3>, <ElementType.QUADRILATERAL: 3>, <ElementType.QUADRILATERAL: 3>, <ElementType.QUADRILATERAL: 3>, <ElementType.QUADRILATERAL: 3>, <ElementType.QUADRILATERAL: 3>, <ElementType.QUADRILATERAL: 3>, <ElementType.QUADRILATERAL: 3>, <ElementType.QUADRILATERAL: 3>, <ElementType.QUADRILATERAL: 3>, <ElementType.QUADRILATERAL: 3>, <ElementType.QUADRILATERAL: 3>, <ElementType.QUADRILATERAL: 3>, <ElementType.QUADRILATERAL: 3>, <ElementType.QUADRILATERAL: 3>, <ElementType.QUADRILATERAL: 3>, <ElementType.QUADRILATERAL: 3>, <ElementType.QUADRILATERAL: 3>, <ElementType.QUADRILATERAL: 3>, <ElementType.QUADRILATERAL: 3>, <ElementType.QUADRILATERAL: 3>, <ElementType.QUADRILATERAL: 3>, <ElementType.QUADRILATERAL: 3>, <ElementType.QUADRILATERAL: 3>, <ElementType.QUADRILATERAL: 3>, <ElementType.QUADRILATERAL: 3>, <ElementType.QUADRILATERAL: 3>, <ElementType.QUADRILATERAL: 3>, <ElementType.QUADRILATERAL: 3>, <ElementType.QUADRILATERAL: 3>, <ElementType.QUADRILATERAL: 3>, <ElementType.QUADRILATERAL: 3>, <ElementType.QUADRILATERAL: 3>, <ElementType.QUADRILATERAL: 3>, <ElementType.QUADRILATERAL: 3>, <ElementType.QUADRILATERAL: 3>, <ElementType.QUADRILATERAL: 3>, <ElementType.QUADRILATERAL: 3>, <ElementType.QUADRILATERAL: 3>, <ElementType.QUADRILATERAL: 3>, <ElementType.QUADRILATERAL: 3>, <ElementType.QUADRILATERAL: 3>, <ElementType.QUADRILATERAL: 3>, <ElementType.QUADRILATERAL: 3>, <ElementType.QUADRILATERAL: 3>, <ElementType.QUADRILATERAL: 3>, <ElementType.QUADRILATERAL: 3>, <ElementType.QUADRILATERAL: 3>, <ElementType.QUADRILATERAL: 3>, <ElementType.QUADRILATERAL: 3>, <ElementType.QUADRILATERAL: 3>, <ElementType.QUADRILATERAL: 3>, <ElementType.QUADRILATERAL: 3>, <ElementType.QUADRILATERAL: 3>, <ElementType.QUADRILATERAL: 3>, <ElementType.QUADRILATERAL: 3>, <ElementType.QUADRILATERAL: 3>, <ElementType.QUADRILATERAL: 3>, <ElementType.QUADRILATERAL: 3>, <ElementType.QUADRILATERAL: 3>, <ElementType.QUADRILATERAL: 3>, <ElementType.QUADRILATERAL: 3>, <ElementType.QUADRILATERAL: 3>, <ElementType.QUADRILATERAL: 3>, <ElementType.QUADRILATERAL: 3>, <ElementType.QUADRILATERAL: 3>, <ElementType.QUADRILATERAL: 3>, <ElementType.QUADRILATERAL: 3>, <ElementType.QUADRILATERAL: 3>, <ElementType.QUADRILATERAL: 3>, <ElementType.QUADRILATERAL: 3>, <ElementType.QUADRILATERAL: 3>, <ElementType.QUADRILATERAL: 3>, <ElementType.QUADRILATERAL: 3>, <ElementType.QUADRILATERAL: 3>, <ElementType.QUADRILATERAL: 3>, <ElementType.QUADRILATERAL: 3>, <ElementType.QUADRILATERAL: 3>, <ElementType.QUADRILATERAL: 3>, <ElementType.QUADRILATERAL: 3>, <ElementType.QUADRILATERAL: 3>, <ElementType.QUADRILATERAL: 3>, <ElementType.QUADRILATERAL: 3>, <ElementType.QUADRILATERAL: 3>, <ElementType.QUADRILATERAL: 3>, <ElementType.QUADRILATERAL: 3>, <ElementType.QUADRILATERAL: 3>, <ElementType.QUADRILATERAL: 3>, <ElementType.QUADRILATERAL: 3>, <ElementType.QUADRILATERAL: 3>, <ElementType.QUADRILATERAL: 3>, <ElementType.QUADRILATERAL: 3>, <ElementType.QUADRILATERAL: 3>, <ElementType.QUADRILATERAL: 3>, <ElementType.QUADRILATERAL: 3>, <ElementType.QUADRILATERAL: 3>, <ElementType.QUADRILATERAL: 3>, <ElementType.QUADRILATERAL: 3>, <ElementType.QUADRILATERAL: 3>, <ElementType.QUADRILATERAL: 3>, <ElementType.QUADRILATERAL: 3>, <ElementType.QUADRILATERAL: 3>, <ElementType.QUADRILATERAL: 3>, <ElementType.QUADRILATERAL: 3>, <ElementType.QUADRILATERAL: 3>, <ElementType.QUADRILATERAL: 3>, <ElementType.QUADRILATERAL: 3>, <ElementType.QUADRILATERAL: 3>, <ElementType.QUADRILATERAL: 3>, <ElementType.QUADRILATERAL: 3>, <ElementType.QUADRILATERAL: 3>, <ElementType.QUADRILATERAL: 3>, <ElementType.QUADRILATERAL: 3>, <ElementType.QUADRILATERAL: 3>, <ElementType.QUADRILATERAL: 3>, <ElementType.QUADRILATERAL: 3>, <ElementType.QUADRILATERAL: 3>, <ElementType.QUADRILATERAL: 3>, <ElementType.QUADRILATERAL: 3>, <ElementType.QUADRILATERAL: 3>, <ElementType.QUADRILATERAL: 3>, <ElementType.QUADRILATERAL: 3>, <ElementType.QUADRILATERAL: 3>, <ElementType.QUADRILATERAL: 3>, <ElementType.QUADRILATERAL: 3>, <ElementType.QUADRILATERAL: 3>, <ElementType.QUADRILATERAL: 3>, <ElementType.QUADRILATERAL: 3>, <ElementType.QUADRILATERAL: 3>, <ElementType.QUADRILATERAL: 3>, <ElementType.QUADRILATERAL: 3>, <ElementType.QUADRILATERAL: 3>, <ElementType.QUADRILATERAL: 3>, <ElementType.QUADRILATERAL: 3>, <ElementType.QUADRILATERAL: 3>, <ElementType.QUADRILATERAL: 3>, <ElementType.QUADRILATERAL: 3>, <ElementType.QUADRILATERAL: 3>, <ElementType.QUADRILATERAL: 3>, <ElementType.QUADRILATERAL: 3>, <ElementType.QUADRILATERAL: 3>, <ElementType.QUADRILATERAL: 3>, <ElementType.QUADRILATERAL: 3>, <ElementType.QUADRILATERAL: 3>, <ElementType.QUADRILATERAL: 3>, <ElementType.QUADRILATERAL: 3>, <ElementType.QUADRILATERAL: 3>, <ElementType.QUADRILATERAL: 3>, <ElementType.QUADRILATERAL: 3>, <ElementType.QUADRILATERAL: 3>, <ElementType.QUADRILATERAL: 3>, <ElementType.QUADRILATERAL: 3>, <ElementType.QUADRILATERAL: 3>, <ElementType.QUADRILATERAL: 3>, <ElementType.QUADRILATERAL: 3>, <ElementType.QUADRILATERAL: 3>, <ElementType.QUADRILATERAL: 3>, <ElementType.QUADRILATERAL: 3>, <ElementType.QUADRILATERAL: 3>, <ElementType.QUADRILATERAL: 3>, <ElementType.QUADRILATERAL: 3>, <ElementType.QUADRILATERAL: 3>, <ElementType.QUADRILATERAL: 3>, <ElementType.QUADRILATERAL: 3>, <ElementType.QUADRILATERAL: 3>, <ElementType.QUADRILATERAL: 3>, <ElementType.QUADRILATERAL: 3>, <ElementType.QUADRILATERAL: 3>, <ElementType.QUADRILATERAL: 3>, <ElementType.QUADRILATERAL: 3>, <ElementType.QUADRILATERAL: 3>, <ElementType.QUADRILATERAL: 3>, <ElementType.QUADRILATERAL: 3>, <ElementType.QUADRILATERAL: 3>, <ElementType.QUADRILATERAL: 3>, <ElementType.QUADRILATERAL: 3>, <ElementType.QUADRILATERAL: 3>, <ElementType.QUADRILATERAL: 3>, <ElementType.QUADRILATERAL: 3>, <ElementType.QUADRILATERAL: 3>, <ElementType.QUADRILATERAL: 3>, <ElementType.QUADRILATERAL: 3>, <ElementType.QUADRILATERAL: 3>, <ElementType.QUADRILATERAL: 3>, <ElementType.QUADRILATERAL: 3>, <ElementType.QUADRILATERAL: 3>, <ElementType.QUADRILATERAL: 3>, <ElementType.QUADRILATERAL: 3>, <ElementType.QUADRILATERAL: 3>, <ElementType.QUADRILATERAL: 3>, <ElementType.QUADRILATERAL: 3>, <ElementType.QUADRILATERAL: 3>, <ElementType.QUADRILATERAL: 3>, <ElementType.QUADRILATERAL: 3>, <ElementType.QUADRILATERAL: 3>, <ElementType.QUADRILATERAL: 3>, <ElementType.QUADRILATERAL: 3>, <ElementType.QUADRILATERAL: 3>, <ElementType.QUADRILATERAL: 3>, <ElementType.QUADRILATERAL: 3>, <ElementType.QUADRILATERAL: 3>, <ElementType.QUADRILATERAL: 3>, <ElementType.QUADRILATERAL: 3>, <ElementType.QUADRILATERAL: 3>, <ElementType.QUADRILATERAL: 3>, <ElementType.QUADRILATERAL: 3>, <ElementType.QUADRILATERAL: 3>, <ElementType.QUADRILATERAL: 3>, <ElementType.QUADRILATERAL: 3>, <ElementType.QUADRILATERAL: 3>, <ElementType.QUADRILATERAL: 3>, <ElementType.QUADRILATERAL: 3>, <ElementType.QUADRILATERAL: 3>, <ElementType.QUADRILATERAL: 3>, <ElementType.QUADRILATERAL: 3>, <ElementType.QUADRILATERAL: 3>, <ElementType.QUADRILATERAL: 3>, <ElementType.QUADRILATERAL: 3>, <ElementType.QUADRILATERAL: 3>, <ElementType.QUADRILATERAL: 3>, <ElementType.QUADRILATERAL: 3>, <ElementType.QUADRILATERAL: 3>, <ElementType.QUADRILATERAL: 3>, <ElementType.QUADRILATERAL: 3>, <ElementType.QUADRILATERAL: 3>, <ElementType.QUADRILATERAL: 3>, <ElementType.QUADRILATERAL: 3>, <ElementType.QUADRILATERAL: 3>, <ElementType.QUADRILATERAL: 3>, <ElementType.QUADRILATERAL: 3>, <ElementType.QUADRILATERAL: 3>, <ElementType.QUADRILATERAL: 3>, <ElementType.QUADRILATERAL: 3>, <ElementType.QUADRILATERAL: 3>, <ElementType.QUADRILATERAL: 3>, <ElementType.QUADRILATERAL: 3>, <ElementType.QUADRILATERAL: 3>, <ElementType.QUADRILATERAL: 3>, <ElementType.QUADRILATERAL: 3>, <ElementType.QUADRILATERAL: 3>, <ElementType.QUADRILATERAL: 3>, <ElementType.QUADRILATERAL: 3>, <ElementType.QUADRILATERAL: 3>, <ElementType.QUADRILATERAL: 3>, <ElementType.QUADRILATERAL: 3>, <ElementType.QUADRILATERAL: 3>, <ElementType.QUADRILATERAL: 3>, <ElementType.QUADRILATERAL: 3>, <ElementType.QUADRILATERAL: 3>, <ElementType.QUADRILATERAL: 3>, <ElementType.QUADRILATERAL: 3>, <ElementType.QUADRILATERAL: 3>, <ElementType.QUADRILATERAL: 3>, <ElementType.QUADRILATERAL: 3>, <ElementType.QUADRILATERAL: 3>, <ElementType.QUADRILATERAL: 3>, <ElementType.QUADRILATERAL: 3>, <ElementType.QUADRILATERAL: 3>, <ElementType.QUADRILATERAL: 3>, <ElementType.QUADRILATERAL: 3>, <ElementType.QUADRILATERAL: 3>, <ElementType.QUADRILATERAL: 3>, <ElementType.QUADRILATERAL: 3>, <ElementType.QUADRILATERAL: 3>, <ElementType.QUADRILATERAL: 3>, <ElementType.QUADRILATERAL: 3>, <ElementType.QUADRILATERAL: 3>, <ElementType.QUADRILATERAL: 3>, <ElementType.QUADRILATERAL: 3>, <ElementType.QUADRILATERAL: 3>, <ElementType.QUADRILATERAL: 3>, <ElementType.QUADRILATERAL: 3>, <ElementType.QUADRILATERAL: 3>, <ElementType.QUADRILATERAL: 3>, <ElementType.QUADRILATERAL: 3>, <ElementType.QUADRILATERAL: 3>, <ElementType.QUADRILATERAL: 3>, <ElementType.QUADRILATERAL: 3>, <ElementType.QUADRILATERAL: 3>, <ElementType.QUADRILATERAL: 3>, <ElementType.QUADRILATERAL: 3>, <ElementType.QUADRILATERAL: 3>, <ElementType.QUADRILATERAL: 3>, <ElementType.QUADRILATERAL: 3>, <ElementType.QUADRILATERAL: 3>, <ElementType.QUADRILATERAL: 3>, <ElementType.QUADRILATERAL: 3>, <ElementType.QUADRILATERAL: 3>, <ElementType.QUADRILATERAL: 3>, <ElementType.QUADRILATERAL: 3>, <ElementType.QUADRILATERAL: 3>, <ElementType.QUADRILATERAL: 3>, <ElementType.QUADRILATERAL: 3>, <ElementType.QUADRILATERAL: 3>, <ElementType.QUADRILATERAL: 3>, <ElementType.QUADRILATERAL: 3>, <ElementType.QUADRILATERAL: 3>, <ElementType.QUADRILATERAL: 3>, <ElementType.QUADRILATERAL: 3>, <ElementType.QUADRILATERAL: 3>, <ElementType.QUADRILATERAL: 3>, <ElementType.QUADRILATERAL: 3>, <ElementType.QUADRILATERAL: 3>, <ElementType.QUADRILATERAL: 3>, <ElementType.QUADRILATERAL: 3>, <ElementType.QUADRILATERAL: 3>, <ElementType.QUADRILATERAL: 3>, <ElementType.QUADRILATERAL: 3>, <ElementType.QUADRILATERAL: 3>, <ElementType.QUADRILATERAL: 3>, <ElementType.QUADRILATERAL: 3>, <ElementType.QUADRILATERAL: 3>, <ElementType.QUADRILATERAL: 3>, <ElementType.QUADRILATERAL: 3>, <ElementType.QUADRILATERAL: 3>, <ElementType.QUADRILATERAL: 3>, <ElementType.QUADRILATERAL: 3>, <ElementType.QUADRILATERAL: 3>, <ElementType.QUADRILATERAL: 3>, <ElementType.QUADRILATERAL: 3>, <ElementType.QUADRILATERAL: 3>, <ElementType.QUADRILATERAL: 3>, <ElementType.QUADRILATERAL: 3>, <ElementType.QUADRILATERAL: 3>, <ElementType.QUADRILATERAL: 3>, <ElementType.QUADRILATERAL: 3>, <ElementType.QUADRILATERAL: 3>, <ElementType.QUADRILATERAL: 3>, <ElementType.QUADRILATERAL: 3>, <ElementType.QUADRILATERAL: 3>, <ElementType.QUADRILATERAL: 3>, <ElementType.QUADRILATERAL: 3>, <ElementType.QUADRILATERAL: 3>, <ElementType.QUADRILATERAL: 3>, <ElementType.QUADRILATERAL: 3>, <ElementType.QUADRILATERAL: 3>, <ElementType.QUADRILATERAL: 3>, <ElementType.QUADRILATERAL: 3>, <ElementType.QUADRILATERAL: 3>, <ElementType.QUADRILATERAL: 3>, <ElementType.QUADRILATERAL: 3>, <ElementType.QUADRILATERAL: 3>, <ElementType.QUADRILATERAL: 3>, <ElementType.QUADRILATERAL: 3>, <ElementType.QUADRILATERAL: 3>, <ElementType.QUADRILATERAL: 3>, <ElementType.QUADRILATERAL: 3>, <ElementType.QUADRILATERAL: 3>, <ElementType.QUADRILATERAL: 3>, <ElementType.QUADRILATERAL: 3>, <ElementType.QUADRILATERAL: 3>, <ElementType.QUADRILATERAL: 3>, <ElementType.QUADRILATERAL: 3>, <ElementType.QUADRILATERAL: 3>, <ElementType.QUADRILATERAL: 3>, <ElementType.QUADRILATERAL: 3>, <ElementType.QUADRILATERAL: 3>, <ElementType.QUADRILATERAL: 3>, <ElementType.QUADRILATERAL: 3>, <ElementType.QUADRILATERAL: 3>, <ElementType.QUADRILATERAL: 3>, <ElementType.QUADRILATERAL: 3>, <ElementType.QUADRILATERAL: 3>, <ElementType.QUADRILATERAL: 3>, <ElementType.QUADRILATERAL: 3>, <ElementType.QUADRILATERAL: 3>, <ElementType.QUADRILATERAL: 3>, <ElementType.QUADRILATERAL: 3>, <ElementType.QUADRILATERAL: 3>, <ElementType.QUADRILATERAL: 3>, <ElementType.QUADRILATERAL: 3>, <ElementType.QUADRILATERAL: 3>, <ElementType.QUADRILATERAL: 3>, <ElementType.QUADRILATERAL: 3>, <ElementType.QUADRILATERAL: 3>, <ElementType.QUADRILATERAL: 3>, <ElementType.QUADRILATERAL: 3>, <ElementType.QUADRILATERAL: 3>, <ElementType.QUADRILATERAL: 3>, <ElementType.QUADRILATERAL: 3>, <ElementType.QUADRILATERAL: 3>, <ElementType.QUADRILATERAL: 3>, <ElementType.QUADRILATERAL: 3>, <ElementType.QUADRILATERAL: 3>, <ElementType.QUADRILATERAL: 3>, <ElementType.QUADRILATERAL: 3>, <ElementType.QUADRILATERAL: 3>, <ElementType.QUADRILATERAL: 3>, <ElementType.QUADRILATERAL: 3>, <ElementType.QUADRILATERAL: 3>, <ElementType.QUADRILATERAL: 3>, <ElementType.QUADRILATERAL: 3>, <ElementType.QUADRILATERAL: 3>, <ElementType.QUADRILATERAL: 3>, <ElementType.QUADRILATERAL: 3>, <ElementType.QUADRILATERAL: 3>, <ElementType.QUADRILATERAL: 3>, <ElementType.QUADRILATERAL: 3>, <ElementType.QUADRILATERAL: 3>, <ElementType.QUADRILATERAL: 3>, <ElementType.QUADRILATERAL: 3>, <ElementType.QUADRILATERAL: 3>, <ElementType.QUADRILATERAL: 3>, <ElementType.QUADRILATERAL: 3>, <ElementType.QUADRILATERAL: 3>, <ElementType.QUADRILATERAL: 3>, <ElementType.QUADRILATERAL: 3>, <ElementType.QUADRILATERAL: 3>, <ElementType.QUADRILATERAL: 3>, <ElementType.QUADRILATERAL: 3>, <ElementType.QUADRILATERAL: 3>, <ElementType.QUADRILATERAL: 3>, <ElementType.QUADRILATERAL: 3>, <ElementType.QUADRILATERAL: 3>, <ElementType.QUADRILATERAL: 3>, <ElementType.QUADRILATERAL: 3>, <ElementType.QUADRILATERAL: 3>, <ElementType.QUADRILATERAL: 3>, <ElementType.QUADRILATERAL: 3>, <ElementType.QUADRILATERAL: 3>, <ElementType.QUADRILATERAL: 3>, <ElementType.QUADRILATERAL: 3>, <ElementType.QUADRILATERAL: 3>, <ElementType.QUADRILATERAL: 3>, <ElementType.QUADRILATERAL: 3>, <ElementType.QUADRILATERAL: 3>, <ElementType.QUADRILATERAL: 3>, <ElementType.QUADRILATERAL: 3>, <ElementType.QUADRILATERAL: 3>, <ElementType.QUADRILATERAL: 3>, <ElementType.QUADRILATERAL: 3>, <ElementType.QUADRILATERAL: 3>, <ElementType.QUADRILATERAL: 3>, <ElementType.QUADRILATERAL: 3>, <ElementType.QUADRILATERAL: 3>, <ElementType.QUADRILATERAL: 3>, <ElementType.QUADRILATERAL: 3>, <ElementType.QUADRILATERAL: 3>, <ElementType.QUADRILATERAL: 3>, <ElementType.QUADRILATERAL: 3>, <ElementType.QUADRILATERAL: 3>, <ElementType.QUADRILATERAL: 3>, <ElementType.QUADRILATERAL: 3>, <ElementType.QUADRILATERAL: 3>, <ElementType.QUADRILATERAL: 3>, <ElementType.QUADRILATERAL: 3>, <ElementType.QUADRILATERAL: 3>, <ElementType.QUADRILATERAL: 3>, <ElementType.QUADRILATERAL: 3>, <ElementType.QUADRILATERAL: 3>, <ElementType.QUADRILATERAL: 3>, <ElementType.QUADRILATERAL: 3>, <ElementType.QUADRILATERAL: 3>, <ElementType.QUADRILATERAL: 3>, <ElementType.QUADRILATERAL: 3>, <ElementType.QUADRILATERAL: 3>, <ElementType.QUADRILATERAL: 3>, <ElementType.QUADRILATERAL: 3>, <ElementType.QUADRILATERAL: 3>, <ElementType.QUADRILATERAL: 3>, <ElementType.QUADRILATERAL: 3>, <ElementType.QUADRILATERAL: 3>, <ElementType.QUADRILATERAL: 3>, <ElementType.QUADRILATERAL: 3>, <ElementType.QUADRILATERAL: 3>, <ElementType.QUADRILATERAL: 3>, <ElementType.QUADRILATERAL: 3>, <ElementType.QUADRILATERAL: 3>, <ElementType.QUADRILATERAL: 3>, <ElementType.QUADRILATERAL: 3>, <ElementType.QUADRILATERAL: 3>, <ElementType.QUADRILATERAL: 3>, <ElementType.QUADRILATERAL: 3>, <ElementType.QUADRILATERAL: 3>, <ElementType.QUADRILATERAL: 3>, <ElementType.QUADRILATERAL: 3>, <ElementType.QUADRILATERAL: 3>, <ElementType.QUADRILATERAL: 3>, <ElementType.QUADRILATERAL: 3>, <ElementType.QUADRILATERAL: 3>, <ElementType.QUADRILATERAL: 3>, <ElementType.QUADRILATERAL: 3>, <ElementType.QUADRILATERAL: 3>, <ElementType.QUADRILATERAL: 3>, <ElementType.QUADRILATERAL: 3>, <ElementType.QUADRILATERAL: 3>, <ElementType.QUADRILATERAL: 3>, <ElementType.QUADRILATERAL: 3>, <ElementType.QUADRILATERAL: 3>, <ElementType.QUADRILATERAL: 3>, <ElementType.QUADRILATERAL: 3>, <ElementType.QUADRILATERAL: 3>, <ElementType.QUADRILATERAL: 3>, <ElementType.QUADRILATERAL: 3>, <ElementType.QUADRILATERAL: 3>, <ElementType.QUADRILATERAL: 3>, <ElementType.QUADRILATERAL: 3>, <ElementType.QUADRILATERAL: 3>, <ElementType.QUADRILATERAL: 3>, <ElementType.QUADRILATERAL: 3>, <ElementType.QUADRILATERAL: 3>, <ElementType.QUADRILATERAL: 3>, <ElementType.QUADRILATERAL: 3>, <ElementType.QUADRILATERAL: 3>, <ElementType.QUADRILATERAL: 3>, <ElementType.QUADRILATERAL: 3>, <ElementType.QUADRILATERAL: 3>, <ElementType.QUADRILATERAL: 3>, <ElementType.QUADRILATERAL: 3>, <ElementType.QUADRILATERAL: 3>, <ElementType.QUADRILATERAL: 3>, <ElementType.QUADRILATERAL: 3>, <ElementType.QUADRILATERAL: 3>, <ElementType.QUADRILATERAL: 3>, <ElementType.QUADRILATERAL: 3>, <ElementType.QUADRILATERAL: 3>, <ElementType.QUADRILATERAL: 3>, <ElementType.QUADRILATERAL: 3>, <ElementType.QUADRILATERAL: 3>, <ElementType.QUADRILATERAL: 3>, <ElementType.QUADRILATERAL: 3>, <ElementType.QUADRILATERAL: 3>, <ElementType.QUADRILATERAL: 3>, <ElementType.QUADRILATERAL: 3>, <ElementType.QUADRILATERAL: 3>, <ElementType.QUADRILATERAL: 3>, <ElementType.QUADRILATERAL: 3>, <ElementType.QUADRILATERAL: 3>, <ElementType.QUADRILATERAL: 3>, <ElementType.QUADRILATERAL: 3>, <ElementType.QUADRILATERAL: 3>, <ElementType.QUADRILATERAL: 3>, <ElementType.QUADRILATERAL: 3>, <ElementType.QUADRILATERAL: 3>, <ElementType.QUADRILATERAL: 3>, <ElementType.QUADRILATERAL: 3>, <ElementType.QUADRILATERAL: 3>, <ElementType.QUADRILATERAL: 3>, <ElementType.QUADRILATERAL: 3>, <ElementType.QUADRILATERAL: 3>, <ElementType.QUADRILATERAL: 3>, <ElementType.QUADRILATERAL: 3>, <ElementType.QUADRILATERAL: 3>, <ElementType.QUADRILATERAL: 3>, <ElementType.QUADRILATERAL: 3>, <ElementType.QUADRILATERAL: 3>, <ElementType.QUADRILATERAL: 3>, <ElementType.QUADRILATERAL: 3>, <ElementType.QUADRILATERAL: 3>, <ElementType.QUADRILATERAL: 3>, <ElementType.QUADRILATERAL: 3>, <ElementType.QUADRILATERAL: 3>, <ElementType.QUADRILATERAL: 3>, <ElementType.QUADRILATERAL: 3>, <ElementType.QUADRILATERAL: 3>, <ElementType.QUADRILATERAL: 3>, <ElementType.QUADRILATERAL: 3>, <ElementType.QUADRILATERAL: 3>, <ElementType.QUADRILATERAL: 3>, <ElementType.QUADRILATERAL: 3>, <ElementType.QUADRILATERAL: 3>, <ElementType.QUADRILATERAL: 3>, <ElementType.QUADRILATERAL: 3>, <ElementType.QUADRILATERAL: 3>, <ElementType.QUADRILATERAL: 3>, <ElementType.QUADRILATERAL: 3>, <ElementType.QUADRILATERAL: 3>, <ElementType.QUADRILATERAL: 3>, <ElementType.QUADRILATERAL: 3>, <ElementType.QUADRILATERAL: 3>, <ElementType.QUADRILATERAL: 3>, <ElementType.QUADRILATERAL: 3>, <ElementType.QUADRILATERAL: 3>, <ElementType.QUADRILATERAL: 3>, <ElementType.QUADRILATERAL: 3>, <ElementType.QUADRILATERAL: 3>, <ElementType.QUADRILATERAL: 3>, <ElementType.QUADRILATERAL: 3>, <ElementType.QUADRILATERAL: 3>, <ElementType.QUADRILATERAL: 3>, <ElementType.QUADRILATERAL: 3>, <ElementType.QUADRILATERAL: 3>, <ElementType.QUADRILATERAL: 3>, <ElementType.QUADRILATERAL: 3>, <ElementType.QUADRILATERAL: 3>, <ElementType.QUADRILATERAL: 3>, <ElementType.QUADRILATERAL: 3>, <ElementType.QUADRILATERAL: 3>, <ElementType.QUADRILATERAL: 3>, <ElementType.QUADRILATERAL: 3>, <ElementType.QUADRILATERAL: 3>, <ElementType.QUADRILATERAL: 3>, <ElementType.QUADRILATERAL: 3>, <ElementType.QUADRILATERAL: 3>, <ElementType.QUADRILATERAL: 3>, <ElementType.QUADRILATERAL: 3>, <ElementType.QUADRILATERAL: 3>, <ElementType.QUADRILATERAL: 3>, <ElementType.QUADRILATERAL: 3>, <ElementType.QUADRILATERAL: 3>, <ElementType.QUADRILATERAL: 3>, <ElementType.QUADRILATERAL: 3>, <ElementType.QUADRILATERAL: 3>, <ElementType.QUADRILATERAL: 3>, <ElementType.QUADRILATERAL: 3>, <ElementType.QUADRILATERAL: 3>, <ElementType.QUADRILATERAL: 3>, <ElementType.QUADRILATERAL: 3>, <ElementType.QUADRILATERAL: 3>, <ElementType.QUADRILATERAL: 3>, <ElementType.QUADRILATERAL: 3>, <ElementType.QUADRILATERAL: 3>, <ElementType.QUADRILATERAL: 3>, <ElementType.QUADRILATERAL: 3>, <ElementType.QUADRILATERAL: 3>, <ElementType.QUADRILATERAL: 3>, <ElementType.QUADRILATERAL: 3>, <ElementType.QUADRILATERAL: 3>, <ElementType.QUADRILATERAL: 3>, <ElementType.QUADRILATERAL: 3>, <ElementType.QUADRILATERAL: 3>, <ElementType.QUADRILATERAL: 3>, <ElementType.QUADRILATERAL: 3>, <ElementType.QUADRILATERAL: 3>, <ElementType.QUADRILATERAL: 3>, <ElementType.QUADRILATERAL: 3>, <ElementType.QUADRILATERAL: 3>, <ElementType.QUADRILATERAL: 3>, <ElementType.QUADRILATERAL: 3>, <ElementType.QUADRILATERAL: 3>, <ElementType.QUADRILATERAL: 3>, <ElementType.QUADRILATERAL: 3>, <ElementType.QUADRILATERAL: 3>, <ElementType.QUADRILATERAL: 3>, <ElementType.QUADRILATERAL: 3>, <ElementType.QUADRILATERAL: 3>, <ElementType.QUADRILATERAL: 3>, <ElementType.QUADRILATERAL: 3>, <ElementType.QUADRILATERAL: 3>, <ElementType.QUADRILATERAL: 3>, <ElementType.QUADRILATERAL: 3>, <ElementType.QUADRILATERAL: 3>, <ElementType.QUADRILATERAL: 3>, <ElementType.QUADRILATERAL: 3>, <ElementType.QUADRILATERAL: 3>, <ElementType.QUADRILATERAL: 3>, <ElementType.QUADRILATERAL: 3>, <ElementType.QUADRILATERAL: 3>, <ElementType.QUADRILATERAL: 3>, <ElementType.QUADRILATERAL: 3>, <ElementType.QUADRILATERAL: 3>, <ElementType.QUADRILATERAL: 3>, <ElementType.QUADRILATERAL: 3>, <ElementType.QUADRILATERAL: 3>, <ElementType.QUADRILATERAL: 3>, <ElementType.QUADRILATERAL: 3>, <ElementType.QUADRILATERAL: 3>, <ElementType.QUADRILATERAL: 3>, <ElementType.QUADRILATERAL: 3>, <ElementType.QUADRILATERAL: 3>, <ElementType.QUADRILATERAL: 3>, <ElementType.QUADRILATERAL: 3>, <ElementType.QUADRILATERAL: 3>, <ElementType.QUADRILATERAL: 3>, <ElementType.QUADRILATERAL: 3>, <ElementType.QUADRILATERAL: 3>, <ElementType.QUADRILATERAL: 3>, <ElementType.QUADRILATERAL: 3>, <ElementType.QUADRILATERAL: 3>, <ElementType.QUADRILATERAL: 3>, <ElementType.QUADRILATERAL: 3>, <ElementType.QUADRILATERAL: 3>, <ElementType.QUADRILATERAL: 3>, <ElementType.QUADRILATERAL: 3>, <ElementType.QUADRILATERAL: 3>, <ElementType.QUADRILATERAL: 3>, <ElementType.QUADRILATERAL: 3>, <ElementType.QUADRILATERAL: 3>, <ElementType.QUADRILATERAL: 3>, <ElementType.QUADRILATERAL: 3>, <ElementType.QUADRILATERAL: 3>, <ElementType.QUADRILATERAL: 3>, <ElementType.QUADRILATERAL: 3>, <ElementType.QUADRILATERAL: 3>, <ElementType.QUADRILATERAL: 3>, <ElementType.QUADRILATERAL: 3>, <ElementType.QUADRILATERAL: 3>, <ElementType.QUADRILATERAL: 3>, <ElementType.QUADRILATERAL: 3>, <ElementType.QUADRILATERAL: 3>, <ElementType.QUADRILATERAL: 3>, <ElementType.QUADRILATERAL: 3>, <ElementType.QUADRILATERAL: 3>, <ElementType.QUADRILATERAL: 3>, <ElementType.QUADRILATERAL: 3>, <ElementType.QUADRILATERAL: 3>, <ElementType.QUADRILATERAL: 3>, <ElementType.QUADRILATERAL: 3>, <ElementType.QUADRILATERAL: 3>, <ElementType.QUADRILATERAL: 3>, <ElementType.QUADRILATERAL: 3>, <ElementType.QUADRILATERAL: 3>, <ElementType.QUADRILATERAL: 3>, <ElementType.QUADRILATERAL: 3>, <ElementType.QUADRILATERAL: 3>, <ElementType.QUADRILATERAL: 3>, <ElementType.QUADRILATERAL: 3>, <ElementType.QUADRILATERAL: 3>, <ElementType.QUADRILATERAL: 3>, <ElementType.QUADRILATERAL: 3>, <ElementType.QUADRILATERAL: 3>, <ElementType.QUADRILATERAL: 3>, <ElementType.QUADRILATERAL: 3>, <ElementType.QUADRILATERAL: 3>, <ElementType.QUADRILATERAL: 3>, <ElementType.QUADRILATERAL: 3>, <ElementType.QUADRILATERAL: 3>, <ElementType.QUADRILATERAL: 3>, <ElementType.QUADRILATERAL: 3>, <ElementType.QUADRILATERAL: 3>, <ElementType.QUADRILATERAL: 3>, <ElementType.QUADRILATERAL: 3>, <ElementType.QUADRILATERAL: 3>, <ElementType.QUADRILATERAL: 3>, <ElementType.QUADRILATERAL: 3>, <ElementType.QUADRILATERAL: 3>, <ElementType.QUADRILATERAL: 3>, <ElementType.QUADRILATERAL: 3>, <ElementType.QUADRILATERAL: 3>, <ElementType.QUADRILATERAL: 3>, <ElementType.QUADRILATERAL: 3>, <ElementType.QUADRILATERAL: 3>, <ElementType.QUADRILATERAL: 3>, <ElementType.QUADRILATERAL: 3>, <ElementType.QUADRILATERAL: 3>, <ElementType.QUADRILATERAL: 3>, <ElementType.QUADRILATERAL: 3>, <ElementType.QUADRILATERAL: 3>, <ElementType.QUADRILATERAL: 3>, <ElementType.QUADRILATERAL: 3>, <ElementType.QUADRILATERAL: 3>, <ElementType.QUADRILATERAL: 3>, <ElementType.QUADRILATERAL: 3>, <ElementType.QUADRILATERAL: 3>, <ElementType.QUADRILATERAL: 3>, <ElementType.QUADRILATERAL: 3>, <ElementType.QUADRILATERAL: 3>, <ElementType.QUADRILATERAL: 3>, <ElementType.QUADRILATERAL: 3>, <ElementType.QUADRILATERAL: 3>, <ElementType.QUADRILATERAL: 3>, <ElementType.QUADRILATERAL: 3>, <ElementType.QUADRILATERAL: 3>, <ElementType.QUADRILATERAL: 3>, <ElementType.QUADRILATERAL: 3>], points=array([[0.        , 0.1       , 0.        ],\n",
       "       [1.        , 0.3       , 0.        ],\n",
       "       [1.        , 0.        , 0.        ],\n",
       "       ...,\n",
       "       [0.95002854, 0.00847624, 0.        ],\n",
       "       [0.95001903, 0.00565082, 0.        ],\n",
       "       [0.95000951, 0.00282541, 0.        ]]), markers={'wall': [array([0, 4], dtype=uint16), array([4, 5], dtype=uint16), array([5, 6], dtype=uint16), array([6, 7], dtype=uint16), array([7, 8], dtype=uint16), array([8, 9], dtype=uint16), array([ 9, 10], dtype=uint16), array([10, 11], dtype=uint16), array([11, 12], dtype=uint16), array([12, 13], dtype=uint16), array([13, 14], dtype=uint16), array([14, 15], dtype=uint16), array([15, 16], dtype=uint16), array([16, 17], dtype=uint16), array([17, 18], dtype=uint16), array([18, 19], dtype=uint16), array([19, 20], dtype=uint16), array([20, 21], dtype=uint16), array([21, 22], dtype=uint16), array([22,  1], dtype=uint16)], 'outflow': [array([ 1, 23], dtype=uint16), array([23, 24], dtype=uint16), array([24, 25], dtype=uint16), array([25, 26], dtype=uint16), array([26, 27], dtype=uint16), array([27, 28], dtype=uint16), array([28, 29], dtype=uint16), array([29, 30], dtype=uint16), array([30, 31], dtype=uint16), array([31, 32], dtype=uint16), array([32, 33], dtype=uint16), array([33, 34], dtype=uint16), array([34, 35], dtype=uint16), array([35, 36], dtype=uint16), array([36, 37], dtype=uint16), array([37, 38], dtype=uint16), array([38, 39], dtype=uint16), array([39, 40], dtype=uint16), array([40, 41], dtype=uint16), array([41, 42], dtype=uint16), array([42, 43], dtype=uint16), array([43, 44], dtype=uint16), array([44, 45], dtype=uint16), array([45, 46], dtype=uint16), array([46, 47], dtype=uint16), array([47, 48], dtype=uint16), array([48, 49], dtype=uint16), array([49, 50], dtype=uint16), array([50, 51], dtype=uint16), array([51, 52], dtype=uint16), array([52, 53], dtype=uint16), array([53, 54], dtype=uint16), array([54, 55], dtype=uint16), array([55, 56], dtype=uint16), array([56, 57], dtype=uint16), array([57, 58], dtype=uint16), array([58, 59], dtype=uint16), array([59, 60], dtype=uint16), array([60, 61], dtype=uint16), array([61, 62], dtype=uint16), array([62, 63], dtype=uint16), array([63, 64], dtype=uint16), array([64, 65], dtype=uint16), array([65, 66], dtype=uint16), array([66, 67], dtype=uint16), array([67, 68], dtype=uint16), array([68, 69], dtype=uint16), array([69, 70], dtype=uint16), array([70, 71], dtype=uint16), array([71, 72], dtype=uint16), array([72, 73], dtype=uint16), array([73, 74], dtype=uint16), array([74, 75], dtype=uint16), array([75, 76], dtype=uint16), array([76, 77], dtype=uint16), array([77, 78], dtype=uint16), array([78, 79], dtype=uint16), array([79, 80], dtype=uint16), array([80, 81], dtype=uint16), array([81, 82], dtype=uint16), array([82, 83], dtype=uint16), array([83, 84], dtype=uint16), array([84, 85], dtype=uint16), array([85, 86], dtype=uint16), array([86, 87], dtype=uint16), array([87, 88], dtype=uint16), array([88, 89], dtype=uint16), array([89, 90], dtype=uint16), array([90, 91], dtype=uint16), array([91, 92], dtype=uint16), array([92, 93], dtype=uint16), array([93, 94], dtype=uint16), array([94, 95], dtype=uint16), array([95, 96], dtype=uint16), array([96, 97], dtype=uint16), array([97, 98], dtype=uint16), array([98, 99], dtype=uint16), array([ 99, 100], dtype=uint16), array([100, 101], dtype=uint16), array([101, 102], dtype=uint16), array([102, 103], dtype=uint16), array([103, 104], dtype=uint16), array([104, 105], dtype=uint16), array([105, 106], dtype=uint16), array([106, 107], dtype=uint16), array([107, 108], dtype=uint16), array([108, 109], dtype=uint16), array([109, 110], dtype=uint16), array([110, 111], dtype=uint16), array([111, 112], dtype=uint16), array([112, 113], dtype=uint16), array([113, 114], dtype=uint16), array([114, 115], dtype=uint16), array([115, 116], dtype=uint16), array([116, 117], dtype=uint16), array([117, 118], dtype=uint16), array([118, 119], dtype=uint16), array([119, 120], dtype=uint16), array([120, 121], dtype=uint16), array([121,   2], dtype=uint16)], 'symmetry': [array([  2, 122], dtype=uint16), array([122, 123], dtype=uint16), array([123, 124], dtype=uint16), array([124, 125], dtype=uint16), array([125, 126], dtype=uint16), array([126, 127], dtype=uint16), array([127, 128], dtype=uint16), array([128, 129], dtype=uint16), array([129, 130], dtype=uint16), array([130, 131], dtype=uint16), array([131, 132], dtype=uint16), array([132, 133], dtype=uint16), array([133, 134], dtype=uint16), array([134, 135], dtype=uint16), array([135, 136], dtype=uint16), array([136, 137], dtype=uint16), array([137, 138], dtype=uint16), array([138, 139], dtype=uint16), array([139, 140], dtype=uint16), array([140,   3], dtype=uint16)], 'inflow': [array([  3, 141], dtype=uint16), array([141, 142], dtype=uint16), array([142, 143], dtype=uint16), array([143, 144], dtype=uint16), array([144, 145], dtype=uint16), array([145, 146], dtype=uint16), array([146, 147], dtype=uint16), array([147, 148], dtype=uint16), array([148, 149], dtype=uint16), array([149, 150], dtype=uint16), array([150, 151], dtype=uint16), array([151, 152], dtype=uint16), array([152, 153], dtype=uint16), array([153, 154], dtype=uint16), array([154, 155], dtype=uint16), array([155, 156], dtype=uint16), array([156, 157], dtype=uint16), array([157, 158], dtype=uint16), array([158, 159], dtype=uint16), array([159, 160], dtype=uint16), array([160, 161], dtype=uint16), array([161, 162], dtype=uint16), array([162, 163], dtype=uint16), array([163, 164], dtype=uint16), array([164, 165], dtype=uint16), array([165, 166], dtype=uint16), array([166, 167], dtype=uint16), array([167, 168], dtype=uint16), array([168, 169], dtype=uint16), array([169, 170], dtype=uint16), array([170, 171], dtype=uint16), array([171, 172], dtype=uint16), array([172, 173], dtype=uint16), array([173, 174], dtype=uint16), array([174, 175], dtype=uint16), array([175, 176], dtype=uint16), array([176, 177], dtype=uint16), array([177, 178], dtype=uint16), array([178, 179], dtype=uint16), array([179, 180], dtype=uint16), array([180, 181], dtype=uint16), array([181, 182], dtype=uint16), array([182, 183], dtype=uint16), array([183, 184], dtype=uint16), array([184, 185], dtype=uint16), array([185, 186], dtype=uint16), array([186, 187], dtype=uint16), array([187, 188], dtype=uint16), array([188, 189], dtype=uint16), array([189, 190], dtype=uint16), array([190, 191], dtype=uint16), array([191, 192], dtype=uint16), array([192, 193], dtype=uint16), array([193, 194], dtype=uint16), array([194, 195], dtype=uint16), array([195, 196], dtype=uint16), array([196, 197], dtype=uint16), array([197, 198], dtype=uint16), array([198, 199], dtype=uint16), array([199, 200], dtype=uint16), array([200, 201], dtype=uint16), array([201, 202], dtype=uint16), array([202, 203], dtype=uint16), array([203, 204], dtype=uint16), array([204, 205], dtype=uint16), array([205, 206], dtype=uint16), array([206, 207], dtype=uint16), array([207, 208], dtype=uint16), array([208, 209], dtype=uint16), array([209, 210], dtype=uint16), array([210, 211], dtype=uint16), array([211, 212], dtype=uint16), array([212, 213], dtype=uint16), array([213, 214], dtype=uint16), array([214, 215], dtype=uint16), array([215, 216], dtype=uint16), array([216, 217], dtype=uint16), array([217, 218], dtype=uint16), array([218, 219], dtype=uint16), array([219, 220], dtype=uint16), array([220, 221], dtype=uint16), array([221, 222], dtype=uint16), array([222, 223], dtype=uint16), array([223, 224], dtype=uint16), array([224, 225], dtype=uint16), array([225, 226], dtype=uint16), array([226, 227], dtype=uint16), array([227, 228], dtype=uint16), array([228, 229], dtype=uint16), array([229, 230], dtype=uint16), array([230, 231], dtype=uint16), array([231, 232], dtype=uint16), array([232, 233], dtype=uint16), array([233, 234], dtype=uint16), array([234, 235], dtype=uint16), array([235, 236], dtype=uint16), array([236, 237], dtype=uint16), array([237, 238], dtype=uint16), array([238, 239], dtype=uint16), array([239,   0], dtype=uint16)]})"
      ]
     },
     "execution_count": 1,
     "metadata": {},
     "output_type": "execute_result"
    }
   ],
   "source": [
    "from paraflow import FlowPassage\n",
    "import numpy as np\n",
    "\n",
    "passage = FlowPassage(\n",
    "    inlet_radius=0.1,\n",
    "    area_ratio=3.0,\n",
    "    axial_length=1,\n",
    "    contour_props=[0.25, 0.25],\n",
    "    contour_angles=np.radians([-15.0, -15.0]).tolist()\n",
    ")\n",
    "# passage.visualize(\"Conical Nozzle\")\n",
    "passage.get_mesh()\n"
   ]
  },
  {
   "cell_type": "code",
   "execution_count": 6,
   "metadata": {},
   "outputs": [
    {
     "data": {
      "application/vnd.plotly.v1+json": {
       "config": {
        "plotlyServerURL": "https://plot.ly"
       },
       "data": [
        {
         "name": "Shroud Top",
         "type": "scatter",
         "x": [
          0,
          0.022046683548060962,
          0.04276465295749042,
          0.062202604557976465,
          0.08040923467920713,
          0.09743323965087053,
          0.11332331580265463,
          0.12812815946424766,
          0.14189646696533748,
          0.1546769346356123,
          0.1665182588047602,
          0.17746913580246915,
          0.18757826195842725,
          0.19689433360232259,
          0.20546604706384322,
          0.21334209867267717,
          0.2205711847585126,
          0.22720200165103752,
          0.23328324567993988,
          0.23886361317490795,
          0.24399180046562968,
          0.2487165038817931,
          0.2530864197530865,
          0.25715024440919754,
          0.2609566741798147,
          0.2645544053946257,
          0.267992134383319,
          0.27131855747558226,
          0.2745823710011038,
          0.27783227128957155,
          0.28111695467067366,
          0.28448511747409816,
          0.28798545602953307,
          0.29166666666666663,
          0.29556874994202825,
          0.29969692331951286,
          0.3040477084898573,
          0.30861762714379803,
          0.31340320097207147,
          0.3184009516654145,
          0.3236074009145635,
          0.32901907041025497,
          0.3346324818432256,
          0.34044415690421204,
          0.34645061728395066,
          0.35264838467317805,
          0.3590339807626308,
          0.3656039272430457,
          0.372354745805159,
          0.3792829581397074,
          0.38638508593742754,
          0.3936576508890559,
          0.4010971746853289,
          0.4087001790169834,
          0.4164631855747559,
          0.4243827160493827,
          0.4324552921316006,
          0.4406774355121463,
          0.449045667881756,
          0.4575565109311665,
          0.46620648635111434,
          0.47499211583233625,
          0.4839099210655683,
          0.4929564237415478,
          0.5021281455510106,
          0.5114216081846935,
          0.5208333333333333,
          0.53036332099693,
          0.5400254844125368,
          0.5498372151264713,
          0.5598159046850508,
          0.569978944634592,
          0.5803437265214125,
          0.5909276418918292,
          0.6017480822921594,
          0.6128224392687204,
          0.6241681043678288,
          0.6358024691358023,
          0.6477429251189581,
          0.6600068638636132,
          0.6726116769160847,
          0.6855747558226897,
          0.6989134921297455,
          0.7126452773835695,
          0.7267875031304782,
          0.7413575609167895,
          0.7563728422888203,
          0.7718507387928877,
          0.7878086419753088,
          0.8042639433824007,
          0.8212340345604809,
          0.8387363070558662,
          0.8567881524148743,
          0.8754069621838216,
          0.8946101279090262,
          0.9144150411368044,
          0.9348390934134736,
          0.9558996762853514,
          0.9776141812987544,
          1
         ],
         "y": [
          0.1,
          0.09409385162772342,
          0.08855118721713028,
          0.08336641470727157,
          0.07853394203719838,
          0.07404817714596165,
          0.06990352797261244,
          0.06609440245620178,
          0.06261520853578068,
          0.0594603541504002,
          0.056624247239111324,
          0.0541012957409651,
          0.05188590759501253,
          0.04997249074030465,
          0.048355453115892504,
          0.04702920266082709,
          0.045988147314159414,
          0.04522669501494057,
          0.0447392537022215,
          0.04452023131505328,
          0.04456403579248693,
          0.04486507507357346,
          0.04541775709736391,
          0.046216489802909266,
          0.0472556811292606,
          0.048529739015468906,
          0.050033071400585244,
          0.05176008622366058,
          0.05370519142374598,
          0.05586279493989246,
          0.05822730471115105,
          0.060793128676572765,
          0.06355467477520862,
          0.06650635094610967,
          0.06964209912324786,
          0.07295399722027875,
          0.0764336571457789,
          0.0800726908083249,
          0.0838627101164932,
          0.0877953269788604,
          0.09186215330400305,
          0.09605480100049761,
          0.10036488197692066,
          0.10478400814184878,
          0.10930379140385846,
          0.11391584367152617,
          0.11861177685342858,
          0.12338320285814218,
          0.12822173359424346,
          0.13311898097030897,
          0.1380665568949153,
          0.14305607327663894,
          0.14807914202405636,
          0.15312737504574425,
          0.1581923842502791,
          0.1632657815462373,
          0.16833917884219557,
          0.1734041880467304,
          0.17845242106841822,
          0.18347548981583572,
          0.1884650061975593,
          0.19341258212216567,
          0.19830982949823114,
          0.2031483602343325,
          0.20791978623904606,
          0.2126157194209484,
          0.21722777168861623,
          0.22174846019465652,
          0.2261739230677994,
          0.23050120368080534,
          0.23472734540643514,
          0.2388493916174492,
          0.24286438568660826,
          0.246769370986673,
          0.25056139089040386,
          0.2542374887705616,
          0.2577947079999068,
          0.2612300919512,
          0.264540683997202,
          0.26772352751067324,
          0.27077566586437435,
          0.273694142431066,
          0.27647600058350885,
          0.2791182836944635,
          0.2816180351366904,
          0.28397229828295034,
          0.286178116506004,
          0.2882325331786118,
          0.2901325916735345,
          0.29187533536353255,
          0.2934578076213668,
          0.2948770518197977,
          0.2961301113315859,
          0.29721402952949205,
          0.29812584978627676,
          0.29886261547470067,
          0.2994213699675243,
          0.29979915663750833,
          0.29999301885741336,
          0.30000000000000004
         ]
        },
        {
         "name": "Shroud Bottom",
         "type": "scatter",
         "x": [
          0,
          0.022046683548060962,
          0.04276465295749042,
          0.062202604557976465,
          0.08040923467920713,
          0.09743323965087053,
          0.11332331580265463,
          0.12812815946424766,
          0.14189646696533748,
          0.1546769346356123,
          0.1665182588047602,
          0.17746913580246915,
          0.18757826195842725,
          0.19689433360232259,
          0.20546604706384322,
          0.21334209867267717,
          0.2205711847585126,
          0.22720200165103752,
          0.23328324567993988,
          0.23886361317490795,
          0.24399180046562968,
          0.2487165038817931,
          0.2530864197530865,
          0.25715024440919754,
          0.2609566741798147,
          0.2645544053946257,
          0.267992134383319,
          0.27131855747558226,
          0.2745823710011038,
          0.27783227128957155,
          0.28111695467067366,
          0.28448511747409816,
          0.28798545602953307,
          0.29166666666666663,
          0.29556874994202825,
          0.29969692331951286,
          0.3040477084898573,
          0.30861762714379803,
          0.31340320097207147,
          0.3184009516654145,
          0.3236074009145635,
          0.32901907041025497,
          0.3346324818432256,
          0.34044415690421204,
          0.34645061728395066,
          0.35264838467317805,
          0.3590339807626308,
          0.3656039272430457,
          0.372354745805159,
          0.3792829581397074,
          0.38638508593742754,
          0.3936576508890559,
          0.4010971746853289,
          0.4087001790169834,
          0.4164631855747559,
          0.4243827160493827,
          0.4324552921316006,
          0.4406774355121463,
          0.449045667881756,
          0.4575565109311665,
          0.46620648635111434,
          0.47499211583233625,
          0.4839099210655683,
          0.4929564237415478,
          0.5021281455510106,
          0.5114216081846935,
          0.5208333333333333,
          0.53036332099693,
          0.5400254844125368,
          0.5498372151264713,
          0.5598159046850508,
          0.569978944634592,
          0.5803437265214125,
          0.5909276418918292,
          0.6017480822921594,
          0.6128224392687204,
          0.6241681043678288,
          0.6358024691358023,
          0.6477429251189581,
          0.6600068638636132,
          0.6726116769160847,
          0.6855747558226897,
          0.6989134921297455,
          0.7126452773835695,
          0.7267875031304782,
          0.7413575609167895,
          0.7563728422888203,
          0.7718507387928877,
          0.7878086419753088,
          0.8042639433824007,
          0.8212340345604809,
          0.8387363070558662,
          0.8567881524148743,
          0.8754069621838216,
          0.8946101279090262,
          0.9144150411368044,
          0.9348390934134736,
          0.9558996762853514,
          0.9776141812987544,
          1
         ],
         "y": [
          -0.1,
          -0.09409385162772342,
          -0.08855118721713028,
          -0.08336641470727157,
          -0.07853394203719838,
          -0.07404817714596165,
          -0.06990352797261244,
          -0.06609440245620178,
          -0.06261520853578068,
          -0.0594603541504002,
          -0.056624247239111324,
          -0.0541012957409651,
          -0.05188590759501253,
          -0.04997249074030465,
          -0.048355453115892504,
          -0.04702920266082709,
          -0.045988147314159414,
          -0.04522669501494057,
          -0.0447392537022215,
          -0.04452023131505328,
          -0.04456403579248693,
          -0.04486507507357346,
          -0.04541775709736391,
          -0.046216489802909266,
          -0.0472556811292606,
          -0.048529739015468906,
          -0.050033071400585244,
          -0.05176008622366058,
          -0.05370519142374598,
          -0.05586279493989246,
          -0.05822730471115105,
          -0.060793128676572765,
          -0.06355467477520862,
          -0.06650635094610967,
          -0.06964209912324786,
          -0.07295399722027875,
          -0.0764336571457789,
          -0.0800726908083249,
          -0.0838627101164932,
          -0.0877953269788604,
          -0.09186215330400305,
          -0.09605480100049761,
          -0.10036488197692066,
          -0.10478400814184878,
          -0.10930379140385846,
          -0.11391584367152617,
          -0.11861177685342858,
          -0.12338320285814218,
          -0.12822173359424346,
          -0.13311898097030897,
          -0.1380665568949153,
          -0.14305607327663894,
          -0.14807914202405636,
          -0.15312737504574425,
          -0.1581923842502791,
          -0.1632657815462373,
          -0.16833917884219557,
          -0.1734041880467304,
          -0.17845242106841822,
          -0.18347548981583572,
          -0.1884650061975593,
          -0.19341258212216567,
          -0.19830982949823114,
          -0.2031483602343325,
          -0.20791978623904606,
          -0.2126157194209484,
          -0.21722777168861623,
          -0.22174846019465652,
          -0.2261739230677994,
          -0.23050120368080534,
          -0.23472734540643514,
          -0.2388493916174492,
          -0.24286438568660826,
          -0.246769370986673,
          -0.25056139089040386,
          -0.2542374887705616,
          -0.2577947079999068,
          -0.2612300919512,
          -0.264540683997202,
          -0.26772352751067324,
          -0.27077566586437435,
          -0.273694142431066,
          -0.27647600058350885,
          -0.2791182836944635,
          -0.2816180351366904,
          -0.28397229828295034,
          -0.286178116506004,
          -0.2882325331786118,
          -0.2901325916735345,
          -0.29187533536353255,
          -0.2934578076213668,
          -0.2948770518197977,
          -0.2961301113315859,
          -0.29721402952949205,
          -0.29812584978627676,
          -0.29886261547470067,
          -0.2994213699675243,
          -0.29979915663750833,
          -0.29999301885741336,
          -0.30000000000000004
         ]
        }
       ],
       "layout": {
        "template": {
         "data": {
          "bar": [
           {
            "error_x": {
             "color": "#2a3f5f"
            },
            "error_y": {
             "color": "#2a3f5f"
            },
            "marker": {
             "line": {
              "color": "#E5ECF6",
              "width": 0.5
             },
             "pattern": {
              "fillmode": "overlay",
              "size": 10,
              "solidity": 0.2
             }
            },
            "type": "bar"
           }
          ],
          "barpolar": [
           {
            "marker": {
             "line": {
              "color": "#E5ECF6",
              "width": 0.5
             },
             "pattern": {
              "fillmode": "overlay",
              "size": 10,
              "solidity": 0.2
             }
            },
            "type": "barpolar"
           }
          ],
          "carpet": [
           {
            "aaxis": {
             "endlinecolor": "#2a3f5f",
             "gridcolor": "white",
             "linecolor": "white",
             "minorgridcolor": "white",
             "startlinecolor": "#2a3f5f"
            },
            "baxis": {
             "endlinecolor": "#2a3f5f",
             "gridcolor": "white",
             "linecolor": "white",
             "minorgridcolor": "white",
             "startlinecolor": "#2a3f5f"
            },
            "type": "carpet"
           }
          ],
          "choropleth": [
           {
            "colorbar": {
             "outlinewidth": 0,
             "ticks": ""
            },
            "type": "choropleth"
           }
          ],
          "contour": [
           {
            "colorbar": {
             "outlinewidth": 0,
             "ticks": ""
            },
            "colorscale": [
             [
              0,
              "#0d0887"
             ],
             [
              0.1111111111111111,
              "#46039f"
             ],
             [
              0.2222222222222222,
              "#7201a8"
             ],
             [
              0.3333333333333333,
              "#9c179e"
             ],
             [
              0.4444444444444444,
              "#bd3786"
             ],
             [
              0.5555555555555556,
              "#d8576b"
             ],
             [
              0.6666666666666666,
              "#ed7953"
             ],
             [
              0.7777777777777778,
              "#fb9f3a"
             ],
             [
              0.8888888888888888,
              "#fdca26"
             ],
             [
              1,
              "#f0f921"
             ]
            ],
            "type": "contour"
           }
          ],
          "contourcarpet": [
           {
            "colorbar": {
             "outlinewidth": 0,
             "ticks": ""
            },
            "type": "contourcarpet"
           }
          ],
          "heatmap": [
           {
            "colorbar": {
             "outlinewidth": 0,
             "ticks": ""
            },
            "colorscale": [
             [
              0,
              "#0d0887"
             ],
             [
              0.1111111111111111,
              "#46039f"
             ],
             [
              0.2222222222222222,
              "#7201a8"
             ],
             [
              0.3333333333333333,
              "#9c179e"
             ],
             [
              0.4444444444444444,
              "#bd3786"
             ],
             [
              0.5555555555555556,
              "#d8576b"
             ],
             [
              0.6666666666666666,
              "#ed7953"
             ],
             [
              0.7777777777777778,
              "#fb9f3a"
             ],
             [
              0.8888888888888888,
              "#fdca26"
             ],
             [
              1,
              "#f0f921"
             ]
            ],
            "type": "heatmap"
           }
          ],
          "heatmapgl": [
           {
            "colorbar": {
             "outlinewidth": 0,
             "ticks": ""
            },
            "colorscale": [
             [
              0,
              "#0d0887"
             ],
             [
              0.1111111111111111,
              "#46039f"
             ],
             [
              0.2222222222222222,
              "#7201a8"
             ],
             [
              0.3333333333333333,
              "#9c179e"
             ],
             [
              0.4444444444444444,
              "#bd3786"
             ],
             [
              0.5555555555555556,
              "#d8576b"
             ],
             [
              0.6666666666666666,
              "#ed7953"
             ],
             [
              0.7777777777777778,
              "#fb9f3a"
             ],
             [
              0.8888888888888888,
              "#fdca26"
             ],
             [
              1,
              "#f0f921"
             ]
            ],
            "type": "heatmapgl"
           }
          ],
          "histogram": [
           {
            "marker": {
             "pattern": {
              "fillmode": "overlay",
              "size": 10,
              "solidity": 0.2
             }
            },
            "type": "histogram"
           }
          ],
          "histogram2d": [
           {
            "colorbar": {
             "outlinewidth": 0,
             "ticks": ""
            },
            "colorscale": [
             [
              0,
              "#0d0887"
             ],
             [
              0.1111111111111111,
              "#46039f"
             ],
             [
              0.2222222222222222,
              "#7201a8"
             ],
             [
              0.3333333333333333,
              "#9c179e"
             ],
             [
              0.4444444444444444,
              "#bd3786"
             ],
             [
              0.5555555555555556,
              "#d8576b"
             ],
             [
              0.6666666666666666,
              "#ed7953"
             ],
             [
              0.7777777777777778,
              "#fb9f3a"
             ],
             [
              0.8888888888888888,
              "#fdca26"
             ],
             [
              1,
              "#f0f921"
             ]
            ],
            "type": "histogram2d"
           }
          ],
          "histogram2dcontour": [
           {
            "colorbar": {
             "outlinewidth": 0,
             "ticks": ""
            },
            "colorscale": [
             [
              0,
              "#0d0887"
             ],
             [
              0.1111111111111111,
              "#46039f"
             ],
             [
              0.2222222222222222,
              "#7201a8"
             ],
             [
              0.3333333333333333,
              "#9c179e"
             ],
             [
              0.4444444444444444,
              "#bd3786"
             ],
             [
              0.5555555555555556,
              "#d8576b"
             ],
             [
              0.6666666666666666,
              "#ed7953"
             ],
             [
              0.7777777777777778,
              "#fb9f3a"
             ],
             [
              0.8888888888888888,
              "#fdca26"
             ],
             [
              1,
              "#f0f921"
             ]
            ],
            "type": "histogram2dcontour"
           }
          ],
          "mesh3d": [
           {
            "colorbar": {
             "outlinewidth": 0,
             "ticks": ""
            },
            "type": "mesh3d"
           }
          ],
          "parcoords": [
           {
            "line": {
             "colorbar": {
              "outlinewidth": 0,
              "ticks": ""
             }
            },
            "type": "parcoords"
           }
          ],
          "pie": [
           {
            "automargin": true,
            "type": "pie"
           }
          ],
          "scatter": [
           {
            "fillpattern": {
             "fillmode": "overlay",
             "size": 10,
             "solidity": 0.2
            },
            "type": "scatter"
           }
          ],
          "scatter3d": [
           {
            "line": {
             "colorbar": {
              "outlinewidth": 0,
              "ticks": ""
             }
            },
            "marker": {
             "colorbar": {
              "outlinewidth": 0,
              "ticks": ""
             }
            },
            "type": "scatter3d"
           }
          ],
          "scattercarpet": [
           {
            "marker": {
             "colorbar": {
              "outlinewidth": 0,
              "ticks": ""
             }
            },
            "type": "scattercarpet"
           }
          ],
          "scattergeo": [
           {
            "marker": {
             "colorbar": {
              "outlinewidth": 0,
              "ticks": ""
             }
            },
            "type": "scattergeo"
           }
          ],
          "scattergl": [
           {
            "marker": {
             "colorbar": {
              "outlinewidth": 0,
              "ticks": ""
             }
            },
            "type": "scattergl"
           }
          ],
          "scattermapbox": [
           {
            "marker": {
             "colorbar": {
              "outlinewidth": 0,
              "ticks": ""
             }
            },
            "type": "scattermapbox"
           }
          ],
          "scatterpolar": [
           {
            "marker": {
             "colorbar": {
              "outlinewidth": 0,
              "ticks": ""
             }
            },
            "type": "scatterpolar"
           }
          ],
          "scatterpolargl": [
           {
            "marker": {
             "colorbar": {
              "outlinewidth": 0,
              "ticks": ""
             }
            },
            "type": "scatterpolargl"
           }
          ],
          "scatterternary": [
           {
            "marker": {
             "colorbar": {
              "outlinewidth": 0,
              "ticks": ""
             }
            },
            "type": "scatterternary"
           }
          ],
          "surface": [
           {
            "colorbar": {
             "outlinewidth": 0,
             "ticks": ""
            },
            "colorscale": [
             [
              0,
              "#0d0887"
             ],
             [
              0.1111111111111111,
              "#46039f"
             ],
             [
              0.2222222222222222,
              "#7201a8"
             ],
             [
              0.3333333333333333,
              "#9c179e"
             ],
             [
              0.4444444444444444,
              "#bd3786"
             ],
             [
              0.5555555555555556,
              "#d8576b"
             ],
             [
              0.6666666666666666,
              "#ed7953"
             ],
             [
              0.7777777777777778,
              "#fb9f3a"
             ],
             [
              0.8888888888888888,
              "#fdca26"
             ],
             [
              1,
              "#f0f921"
             ]
            ],
            "type": "surface"
           }
          ],
          "table": [
           {
            "cells": {
             "fill": {
              "color": "#EBF0F8"
             },
             "line": {
              "color": "white"
             }
            },
            "header": {
             "fill": {
              "color": "#C8D4E3"
             },
             "line": {
              "color": "white"
             }
            },
            "type": "table"
           }
          ]
         },
         "layout": {
          "annotationdefaults": {
           "arrowcolor": "#2a3f5f",
           "arrowhead": 0,
           "arrowwidth": 1
          },
          "autotypenumbers": "strict",
          "coloraxis": {
           "colorbar": {
            "outlinewidth": 0,
            "ticks": ""
           }
          },
          "colorscale": {
           "diverging": [
            [
             0,
             "#8e0152"
            ],
            [
             0.1,
             "#c51b7d"
            ],
            [
             0.2,
             "#de77ae"
            ],
            [
             0.3,
             "#f1b6da"
            ],
            [
             0.4,
             "#fde0ef"
            ],
            [
             0.5,
             "#f7f7f7"
            ],
            [
             0.6,
             "#e6f5d0"
            ],
            [
             0.7,
             "#b8e186"
            ],
            [
             0.8,
             "#7fbc41"
            ],
            [
             0.9,
             "#4d9221"
            ],
            [
             1,
             "#276419"
            ]
           ],
           "sequential": [
            [
             0,
             "#0d0887"
            ],
            [
             0.1111111111111111,
             "#46039f"
            ],
            [
             0.2222222222222222,
             "#7201a8"
            ],
            [
             0.3333333333333333,
             "#9c179e"
            ],
            [
             0.4444444444444444,
             "#bd3786"
            ],
            [
             0.5555555555555556,
             "#d8576b"
            ],
            [
             0.6666666666666666,
             "#ed7953"
            ],
            [
             0.7777777777777778,
             "#fb9f3a"
            ],
            [
             0.8888888888888888,
             "#fdca26"
            ],
            [
             1,
             "#f0f921"
            ]
           ],
           "sequentialminus": [
            [
             0,
             "#0d0887"
            ],
            [
             0.1111111111111111,
             "#46039f"
            ],
            [
             0.2222222222222222,
             "#7201a8"
            ],
            [
             0.3333333333333333,
             "#9c179e"
            ],
            [
             0.4444444444444444,
             "#bd3786"
            ],
            [
             0.5555555555555556,
             "#d8576b"
            ],
            [
             0.6666666666666666,
             "#ed7953"
            ],
            [
             0.7777777777777778,
             "#fb9f3a"
            ],
            [
             0.8888888888888888,
             "#fdca26"
            ],
            [
             1,
             "#f0f921"
            ]
           ]
          },
          "colorway": [
           "#636efa",
           "#EF553B",
           "#00cc96",
           "#ab63fa",
           "#FFA15A",
           "#19d3f3",
           "#FF6692",
           "#B6E880",
           "#FF97FF",
           "#FECB52"
          ],
          "font": {
           "color": "#2a3f5f"
          },
          "geo": {
           "bgcolor": "white",
           "lakecolor": "white",
           "landcolor": "#E5ECF6",
           "showlakes": true,
           "showland": true,
           "subunitcolor": "white"
          },
          "hoverlabel": {
           "align": "left"
          },
          "hovermode": "closest",
          "mapbox": {
           "style": "light"
          },
          "paper_bgcolor": "white",
          "plot_bgcolor": "#E5ECF6",
          "polar": {
           "angularaxis": {
            "gridcolor": "white",
            "linecolor": "white",
            "ticks": ""
           },
           "bgcolor": "#E5ECF6",
           "radialaxis": {
            "gridcolor": "white",
            "linecolor": "white",
            "ticks": ""
           }
          },
          "scene": {
           "xaxis": {
            "backgroundcolor": "#E5ECF6",
            "gridcolor": "white",
            "gridwidth": 2,
            "linecolor": "white",
            "showbackground": true,
            "ticks": "",
            "zerolinecolor": "white"
           },
           "yaxis": {
            "backgroundcolor": "#E5ECF6",
            "gridcolor": "white",
            "gridwidth": 2,
            "linecolor": "white",
            "showbackground": true,
            "ticks": "",
            "zerolinecolor": "white"
           },
           "zaxis": {
            "backgroundcolor": "#E5ECF6",
            "gridcolor": "white",
            "gridwidth": 2,
            "linecolor": "white",
            "showbackground": true,
            "ticks": "",
            "zerolinecolor": "white"
           }
          },
          "shapedefaults": {
           "line": {
            "color": "#2a3f5f"
           }
          },
          "ternary": {
           "aaxis": {
            "gridcolor": "white",
            "linecolor": "white",
            "ticks": ""
           },
           "baxis": {
            "gridcolor": "white",
            "linecolor": "white",
            "ticks": ""
           },
           "bgcolor": "#E5ECF6",
           "caxis": {
            "gridcolor": "white",
            "linecolor": "white",
            "ticks": ""
           }
          },
          "title": {
           "x": 0.05
          },
          "xaxis": {
           "automargin": true,
           "gridcolor": "white",
           "linecolor": "white",
           "ticks": "",
           "title": {
            "standoff": 15
           },
           "zerolinecolor": "white",
           "zerolinewidth": 2
          },
          "yaxis": {
           "automargin": true,
           "gridcolor": "white",
           "linecolor": "white",
           "ticks": "",
           "title": {
            "standoff": 15
           },
           "zerolinecolor": "white",
           "zerolinewidth": 2
          }
         }
        },
        "title": {
         "text": "Bell Nozzle"
        },
        "yaxis": {
         "scaleanchor": "x"
        }
       }
      },
      "text/html": [
       "<div>                            <div id=\"47198ceb-20dc-4bd6-b485-da396624152a\" class=\"plotly-graph-div\" style=\"height:525px; width:100%;\"></div>            <script type=\"text/javascript\">                require([\"plotly\"], function(Plotly) {                    window.PLOTLYENV=window.PLOTLYENV || {};                                    if (document.getElementById(\"47198ceb-20dc-4bd6-b485-da396624152a\")) {                    Plotly.newPlot(                        \"47198ceb-20dc-4bd6-b485-da396624152a\",                        [{\"name\":\"Shroud Top\",\"x\":[0.0,0.022046683548060962,0.04276465295749042,0.062202604557976465,0.08040923467920713,0.09743323965087053,0.11332331580265463,0.12812815946424766,0.14189646696533748,0.1546769346356123,0.1665182588047602,0.17746913580246915,0.18757826195842725,0.19689433360232259,0.20546604706384322,0.21334209867267717,0.2205711847585126,0.22720200165103752,0.23328324567993988,0.23886361317490795,0.24399180046562968,0.2487165038817931,0.2530864197530865,0.25715024440919754,0.2609566741798147,0.2645544053946257,0.267992134383319,0.27131855747558226,0.2745823710011038,0.27783227128957155,0.28111695467067366,0.28448511747409816,0.28798545602953307,0.29166666666666663,0.29556874994202825,0.29969692331951286,0.3040477084898573,0.30861762714379803,0.31340320097207147,0.3184009516654145,0.3236074009145635,0.32901907041025497,0.3346324818432256,0.34044415690421204,0.34645061728395066,0.35264838467317805,0.3590339807626308,0.3656039272430457,0.372354745805159,0.3792829581397074,0.38638508593742754,0.3936576508890559,0.4010971746853289,0.4087001790169834,0.4164631855747559,0.4243827160493827,0.4324552921316006,0.4406774355121463,0.449045667881756,0.4575565109311665,0.46620648635111434,0.47499211583233625,0.4839099210655683,0.4929564237415478,0.5021281455510106,0.5114216081846935,0.5208333333333333,0.53036332099693,0.5400254844125368,0.5498372151264713,0.5598159046850508,0.569978944634592,0.5803437265214125,0.5909276418918292,0.6017480822921594,0.6128224392687204,0.6241681043678288,0.6358024691358023,0.6477429251189581,0.6600068638636132,0.6726116769160847,0.6855747558226897,0.6989134921297455,0.7126452773835695,0.7267875031304782,0.7413575609167895,0.7563728422888203,0.7718507387928877,0.7878086419753088,0.8042639433824007,0.8212340345604809,0.8387363070558662,0.8567881524148743,0.8754069621838216,0.8946101279090262,0.9144150411368044,0.9348390934134736,0.9558996762853514,0.9776141812987544,1.0],\"y\":[0.1,0.09409385162772342,0.08855118721713028,0.08336641470727157,0.07853394203719838,0.07404817714596165,0.06990352797261244,0.06609440245620178,0.06261520853578068,0.0594603541504002,0.056624247239111324,0.0541012957409651,0.05188590759501253,0.04997249074030465,0.048355453115892504,0.04702920266082709,0.045988147314159414,0.04522669501494057,0.0447392537022215,0.04452023131505328,0.04456403579248693,0.04486507507357346,0.04541775709736391,0.046216489802909266,0.0472556811292606,0.048529739015468906,0.050033071400585244,0.05176008622366058,0.05370519142374598,0.05586279493989246,0.05822730471115105,0.060793128676572765,0.06355467477520862,0.06650635094610967,0.06964209912324786,0.07295399722027875,0.0764336571457789,0.0800726908083249,0.0838627101164932,0.0877953269788604,0.09186215330400305,0.09605480100049761,0.10036488197692066,0.10478400814184878,0.10930379140385846,0.11391584367152617,0.11861177685342858,0.12338320285814218,0.12822173359424346,0.13311898097030897,0.1380665568949153,0.14305607327663894,0.14807914202405636,0.15312737504574425,0.1581923842502791,0.1632657815462373,0.16833917884219557,0.1734041880467304,0.17845242106841822,0.18347548981583572,0.1884650061975593,0.19341258212216567,0.19830982949823114,0.2031483602343325,0.20791978623904606,0.2126157194209484,0.21722777168861623,0.22174846019465652,0.2261739230677994,0.23050120368080534,0.23472734540643514,0.2388493916174492,0.24286438568660826,0.246769370986673,0.25056139089040386,0.2542374887705616,0.2577947079999068,0.2612300919512,0.264540683997202,0.26772352751067324,0.27077566586437435,0.273694142431066,0.27647600058350885,0.2791182836944635,0.2816180351366904,0.28397229828295034,0.286178116506004,0.2882325331786118,0.2901325916735345,0.29187533536353255,0.2934578076213668,0.2948770518197977,0.2961301113315859,0.29721402952949205,0.29812584978627676,0.29886261547470067,0.2994213699675243,0.29979915663750833,0.29999301885741336,0.30000000000000004],\"type\":\"scatter\"},{\"name\":\"Shroud Bottom\",\"x\":[0.0,0.022046683548060962,0.04276465295749042,0.062202604557976465,0.08040923467920713,0.09743323965087053,0.11332331580265463,0.12812815946424766,0.14189646696533748,0.1546769346356123,0.1665182588047602,0.17746913580246915,0.18757826195842725,0.19689433360232259,0.20546604706384322,0.21334209867267717,0.2205711847585126,0.22720200165103752,0.23328324567993988,0.23886361317490795,0.24399180046562968,0.2487165038817931,0.2530864197530865,0.25715024440919754,0.2609566741798147,0.2645544053946257,0.267992134383319,0.27131855747558226,0.2745823710011038,0.27783227128957155,0.28111695467067366,0.28448511747409816,0.28798545602953307,0.29166666666666663,0.29556874994202825,0.29969692331951286,0.3040477084898573,0.30861762714379803,0.31340320097207147,0.3184009516654145,0.3236074009145635,0.32901907041025497,0.3346324818432256,0.34044415690421204,0.34645061728395066,0.35264838467317805,0.3590339807626308,0.3656039272430457,0.372354745805159,0.3792829581397074,0.38638508593742754,0.3936576508890559,0.4010971746853289,0.4087001790169834,0.4164631855747559,0.4243827160493827,0.4324552921316006,0.4406774355121463,0.449045667881756,0.4575565109311665,0.46620648635111434,0.47499211583233625,0.4839099210655683,0.4929564237415478,0.5021281455510106,0.5114216081846935,0.5208333333333333,0.53036332099693,0.5400254844125368,0.5498372151264713,0.5598159046850508,0.569978944634592,0.5803437265214125,0.5909276418918292,0.6017480822921594,0.6128224392687204,0.6241681043678288,0.6358024691358023,0.6477429251189581,0.6600068638636132,0.6726116769160847,0.6855747558226897,0.6989134921297455,0.7126452773835695,0.7267875031304782,0.7413575609167895,0.7563728422888203,0.7718507387928877,0.7878086419753088,0.8042639433824007,0.8212340345604809,0.8387363070558662,0.8567881524148743,0.8754069621838216,0.8946101279090262,0.9144150411368044,0.9348390934134736,0.9558996762853514,0.9776141812987544,1.0],\"y\":[-0.1,-0.09409385162772342,-0.08855118721713028,-0.08336641470727157,-0.07853394203719838,-0.07404817714596165,-0.06990352797261244,-0.06609440245620178,-0.06261520853578068,-0.0594603541504002,-0.056624247239111324,-0.0541012957409651,-0.05188590759501253,-0.04997249074030465,-0.048355453115892504,-0.04702920266082709,-0.045988147314159414,-0.04522669501494057,-0.0447392537022215,-0.04452023131505328,-0.04456403579248693,-0.04486507507357346,-0.04541775709736391,-0.046216489802909266,-0.0472556811292606,-0.048529739015468906,-0.050033071400585244,-0.05176008622366058,-0.05370519142374598,-0.05586279493989246,-0.05822730471115105,-0.060793128676572765,-0.06355467477520862,-0.06650635094610967,-0.06964209912324786,-0.07295399722027875,-0.0764336571457789,-0.0800726908083249,-0.0838627101164932,-0.0877953269788604,-0.09186215330400305,-0.09605480100049761,-0.10036488197692066,-0.10478400814184878,-0.10930379140385846,-0.11391584367152617,-0.11861177685342858,-0.12338320285814218,-0.12822173359424346,-0.13311898097030897,-0.1380665568949153,-0.14305607327663894,-0.14807914202405636,-0.15312737504574425,-0.1581923842502791,-0.1632657815462373,-0.16833917884219557,-0.1734041880467304,-0.17845242106841822,-0.18347548981583572,-0.1884650061975593,-0.19341258212216567,-0.19830982949823114,-0.2031483602343325,-0.20791978623904606,-0.2126157194209484,-0.21722777168861623,-0.22174846019465652,-0.2261739230677994,-0.23050120368080534,-0.23472734540643514,-0.2388493916174492,-0.24286438568660826,-0.246769370986673,-0.25056139089040386,-0.2542374887705616,-0.2577947079999068,-0.2612300919512,-0.264540683997202,-0.26772352751067324,-0.27077566586437435,-0.273694142431066,-0.27647600058350885,-0.2791182836944635,-0.2816180351366904,-0.28397229828295034,-0.286178116506004,-0.2882325331786118,-0.2901325916735345,-0.29187533536353255,-0.2934578076213668,-0.2948770518197977,-0.2961301113315859,-0.29721402952949205,-0.29812584978627676,-0.29886261547470067,-0.2994213699675243,-0.29979915663750833,-0.29999301885741336,-0.30000000000000004],\"type\":\"scatter\"}],                        {\"title\":{\"text\":\"Bell Nozzle\"},\"template\":{\"data\":{\"histogram2dcontour\":[{\"type\":\"histogram2dcontour\",\"colorbar\":{\"outlinewidth\":0,\"ticks\":\"\"},\"colorscale\":[[0.0,\"#0d0887\"],[0.1111111111111111,\"#46039f\"],[0.2222222222222222,\"#7201a8\"],[0.3333333333333333,\"#9c179e\"],[0.4444444444444444,\"#bd3786\"],[0.5555555555555556,\"#d8576b\"],[0.6666666666666666,\"#ed7953\"],[0.7777777777777778,\"#fb9f3a\"],[0.8888888888888888,\"#fdca26\"],[1.0,\"#f0f921\"]]}],\"choropleth\":[{\"type\":\"choropleth\",\"colorbar\":{\"outlinewidth\":0,\"ticks\":\"\"}}],\"histogram2d\":[{\"type\":\"histogram2d\",\"colorbar\":{\"outlinewidth\":0,\"ticks\":\"\"},\"colorscale\":[[0.0,\"#0d0887\"],[0.1111111111111111,\"#46039f\"],[0.2222222222222222,\"#7201a8\"],[0.3333333333333333,\"#9c179e\"],[0.4444444444444444,\"#bd3786\"],[0.5555555555555556,\"#d8576b\"],[0.6666666666666666,\"#ed7953\"],[0.7777777777777778,\"#fb9f3a\"],[0.8888888888888888,\"#fdca26\"],[1.0,\"#f0f921\"]]}],\"heatmap\":[{\"type\":\"heatmap\",\"colorbar\":{\"outlinewidth\":0,\"ticks\":\"\"},\"colorscale\":[[0.0,\"#0d0887\"],[0.1111111111111111,\"#46039f\"],[0.2222222222222222,\"#7201a8\"],[0.3333333333333333,\"#9c179e\"],[0.4444444444444444,\"#bd3786\"],[0.5555555555555556,\"#d8576b\"],[0.6666666666666666,\"#ed7953\"],[0.7777777777777778,\"#fb9f3a\"],[0.8888888888888888,\"#fdca26\"],[1.0,\"#f0f921\"]]}],\"heatmapgl\":[{\"type\":\"heatmapgl\",\"colorbar\":{\"outlinewidth\":0,\"ticks\":\"\"},\"colorscale\":[[0.0,\"#0d0887\"],[0.1111111111111111,\"#46039f\"],[0.2222222222222222,\"#7201a8\"],[0.3333333333333333,\"#9c179e\"],[0.4444444444444444,\"#bd3786\"],[0.5555555555555556,\"#d8576b\"],[0.6666666666666666,\"#ed7953\"],[0.7777777777777778,\"#fb9f3a\"],[0.8888888888888888,\"#fdca26\"],[1.0,\"#f0f921\"]]}],\"contourcarpet\":[{\"type\":\"contourcarpet\",\"colorbar\":{\"outlinewidth\":0,\"ticks\":\"\"}}],\"contour\":[{\"type\":\"contour\",\"colorbar\":{\"outlinewidth\":0,\"ticks\":\"\"},\"colorscale\":[[0.0,\"#0d0887\"],[0.1111111111111111,\"#46039f\"],[0.2222222222222222,\"#7201a8\"],[0.3333333333333333,\"#9c179e\"],[0.4444444444444444,\"#bd3786\"],[0.5555555555555556,\"#d8576b\"],[0.6666666666666666,\"#ed7953\"],[0.7777777777777778,\"#fb9f3a\"],[0.8888888888888888,\"#fdca26\"],[1.0,\"#f0f921\"]]}],\"surface\":[{\"type\":\"surface\",\"colorbar\":{\"outlinewidth\":0,\"ticks\":\"\"},\"colorscale\":[[0.0,\"#0d0887\"],[0.1111111111111111,\"#46039f\"],[0.2222222222222222,\"#7201a8\"],[0.3333333333333333,\"#9c179e\"],[0.4444444444444444,\"#bd3786\"],[0.5555555555555556,\"#d8576b\"],[0.6666666666666666,\"#ed7953\"],[0.7777777777777778,\"#fb9f3a\"],[0.8888888888888888,\"#fdca26\"],[1.0,\"#f0f921\"]]}],\"mesh3d\":[{\"type\":\"mesh3d\",\"colorbar\":{\"outlinewidth\":0,\"ticks\":\"\"}}],\"scatter\":[{\"fillpattern\":{\"fillmode\":\"overlay\",\"size\":10,\"solidity\":0.2},\"type\":\"scatter\"}],\"parcoords\":[{\"type\":\"parcoords\",\"line\":{\"colorbar\":{\"outlinewidth\":0,\"ticks\":\"\"}}}],\"scatterpolargl\":[{\"type\":\"scatterpolargl\",\"marker\":{\"colorbar\":{\"outlinewidth\":0,\"ticks\":\"\"}}}],\"bar\":[{\"error_x\":{\"color\":\"#2a3f5f\"},\"error_y\":{\"color\":\"#2a3f5f\"},\"marker\":{\"line\":{\"color\":\"#E5ECF6\",\"width\":0.5},\"pattern\":{\"fillmode\":\"overlay\",\"size\":10,\"solidity\":0.2}},\"type\":\"bar\"}],\"scattergeo\":[{\"type\":\"scattergeo\",\"marker\":{\"colorbar\":{\"outlinewidth\":0,\"ticks\":\"\"}}}],\"scatterpolar\":[{\"type\":\"scatterpolar\",\"marker\":{\"colorbar\":{\"outlinewidth\":0,\"ticks\":\"\"}}}],\"histogram\":[{\"marker\":{\"pattern\":{\"fillmode\":\"overlay\",\"size\":10,\"solidity\":0.2}},\"type\":\"histogram\"}],\"scattergl\":[{\"type\":\"scattergl\",\"marker\":{\"colorbar\":{\"outlinewidth\":0,\"ticks\":\"\"}}}],\"scatter3d\":[{\"type\":\"scatter3d\",\"line\":{\"colorbar\":{\"outlinewidth\":0,\"ticks\":\"\"}},\"marker\":{\"colorbar\":{\"outlinewidth\":0,\"ticks\":\"\"}}}],\"scattermapbox\":[{\"type\":\"scattermapbox\",\"marker\":{\"colorbar\":{\"outlinewidth\":0,\"ticks\":\"\"}}}],\"scatterternary\":[{\"type\":\"scatterternary\",\"marker\":{\"colorbar\":{\"outlinewidth\":0,\"ticks\":\"\"}}}],\"scattercarpet\":[{\"type\":\"scattercarpet\",\"marker\":{\"colorbar\":{\"outlinewidth\":0,\"ticks\":\"\"}}}],\"carpet\":[{\"aaxis\":{\"endlinecolor\":\"#2a3f5f\",\"gridcolor\":\"white\",\"linecolor\":\"white\",\"minorgridcolor\":\"white\",\"startlinecolor\":\"#2a3f5f\"},\"baxis\":{\"endlinecolor\":\"#2a3f5f\",\"gridcolor\":\"white\",\"linecolor\":\"white\",\"minorgridcolor\":\"white\",\"startlinecolor\":\"#2a3f5f\"},\"type\":\"carpet\"}],\"table\":[{\"cells\":{\"fill\":{\"color\":\"#EBF0F8\"},\"line\":{\"color\":\"white\"}},\"header\":{\"fill\":{\"color\":\"#C8D4E3\"},\"line\":{\"color\":\"white\"}},\"type\":\"table\"}],\"barpolar\":[{\"marker\":{\"line\":{\"color\":\"#E5ECF6\",\"width\":0.5},\"pattern\":{\"fillmode\":\"overlay\",\"size\":10,\"solidity\":0.2}},\"type\":\"barpolar\"}],\"pie\":[{\"automargin\":true,\"type\":\"pie\"}]},\"layout\":{\"autotypenumbers\":\"strict\",\"colorway\":[\"#636efa\",\"#EF553B\",\"#00cc96\",\"#ab63fa\",\"#FFA15A\",\"#19d3f3\",\"#FF6692\",\"#B6E880\",\"#FF97FF\",\"#FECB52\"],\"font\":{\"color\":\"#2a3f5f\"},\"hovermode\":\"closest\",\"hoverlabel\":{\"align\":\"left\"},\"paper_bgcolor\":\"white\",\"plot_bgcolor\":\"#E5ECF6\",\"polar\":{\"bgcolor\":\"#E5ECF6\",\"angularaxis\":{\"gridcolor\":\"white\",\"linecolor\":\"white\",\"ticks\":\"\"},\"radialaxis\":{\"gridcolor\":\"white\",\"linecolor\":\"white\",\"ticks\":\"\"}},\"ternary\":{\"bgcolor\":\"#E5ECF6\",\"aaxis\":{\"gridcolor\":\"white\",\"linecolor\":\"white\",\"ticks\":\"\"},\"baxis\":{\"gridcolor\":\"white\",\"linecolor\":\"white\",\"ticks\":\"\"},\"caxis\":{\"gridcolor\":\"white\",\"linecolor\":\"white\",\"ticks\":\"\"}},\"coloraxis\":{\"colorbar\":{\"outlinewidth\":0,\"ticks\":\"\"}},\"colorscale\":{\"sequential\":[[0.0,\"#0d0887\"],[0.1111111111111111,\"#46039f\"],[0.2222222222222222,\"#7201a8\"],[0.3333333333333333,\"#9c179e\"],[0.4444444444444444,\"#bd3786\"],[0.5555555555555556,\"#d8576b\"],[0.6666666666666666,\"#ed7953\"],[0.7777777777777778,\"#fb9f3a\"],[0.8888888888888888,\"#fdca26\"],[1.0,\"#f0f921\"]],\"sequentialminus\":[[0.0,\"#0d0887\"],[0.1111111111111111,\"#46039f\"],[0.2222222222222222,\"#7201a8\"],[0.3333333333333333,\"#9c179e\"],[0.4444444444444444,\"#bd3786\"],[0.5555555555555556,\"#d8576b\"],[0.6666666666666666,\"#ed7953\"],[0.7777777777777778,\"#fb9f3a\"],[0.8888888888888888,\"#fdca26\"],[1.0,\"#f0f921\"]],\"diverging\":[[0,\"#8e0152\"],[0.1,\"#c51b7d\"],[0.2,\"#de77ae\"],[0.3,\"#f1b6da\"],[0.4,\"#fde0ef\"],[0.5,\"#f7f7f7\"],[0.6,\"#e6f5d0\"],[0.7,\"#b8e186\"],[0.8,\"#7fbc41\"],[0.9,\"#4d9221\"],[1,\"#276419\"]]},\"xaxis\":{\"gridcolor\":\"white\",\"linecolor\":\"white\",\"ticks\":\"\",\"title\":{\"standoff\":15},\"zerolinecolor\":\"white\",\"automargin\":true,\"zerolinewidth\":2},\"yaxis\":{\"gridcolor\":\"white\",\"linecolor\":\"white\",\"ticks\":\"\",\"title\":{\"standoff\":15},\"zerolinecolor\":\"white\",\"automargin\":true,\"zerolinewidth\":2},\"scene\":{\"xaxis\":{\"backgroundcolor\":\"#E5ECF6\",\"gridcolor\":\"white\",\"linecolor\":\"white\",\"showbackground\":true,\"ticks\":\"\",\"zerolinecolor\":\"white\",\"gridwidth\":2},\"yaxis\":{\"backgroundcolor\":\"#E5ECF6\",\"gridcolor\":\"white\",\"linecolor\":\"white\",\"showbackground\":true,\"ticks\":\"\",\"zerolinecolor\":\"white\",\"gridwidth\":2},\"zaxis\":{\"backgroundcolor\":\"#E5ECF6\",\"gridcolor\":\"white\",\"linecolor\":\"white\",\"showbackground\":true,\"ticks\":\"\",\"zerolinecolor\":\"white\",\"gridwidth\":2}},\"shapedefaults\":{\"line\":{\"color\":\"#2a3f5f\"}},\"annotationdefaults\":{\"arrowcolor\":\"#2a3f5f\",\"arrowhead\":0,\"arrowwidth\":1},\"geo\":{\"bgcolor\":\"white\",\"landcolor\":\"#E5ECF6\",\"subunitcolor\":\"white\",\"showland\":true,\"showlakes\":true,\"lakecolor\":\"white\"},\"title\":{\"x\":0.05},\"mapbox\":{\"style\":\"light\"}}},\"yaxis\":{\"scaleanchor\":\"x\"}},                        {\"responsive\": true}                    ).then(function(){\n",
       "                            \n",
       "var gd = document.getElementById('47198ceb-20dc-4bd6-b485-da396624152a');\n",
       "var x = new MutationObserver(function (mutations, observer) {{\n",
       "        var display = window.getComputedStyle(gd).display;\n",
       "        if (!display || display === 'none') {{\n",
       "            console.log([gd, 'removed!']);\n",
       "            Plotly.purge(gd);\n",
       "            observer.disconnect();\n",
       "        }}\n",
       "}});\n",
       "\n",
       "// Listen for the removal of the full notebook cells\n",
       "var notebookContainer = gd.closest('#notebook-container');\n",
       "if (notebookContainer) {{\n",
       "    x.observe(notebookContainer, {childList: true});\n",
       "}}\n",
       "\n",
       "// Listen for the clearing of the current output cell\n",
       "var outputEl = gd.closest('.output');\n",
       "if (outputEl) {{\n",
       "    x.observe(outputEl, {childList: true});\n",
       "}}\n",
       "\n",
       "                        })                };                });            </script>        </div>"
      ]
     },
     "metadata": {},
     "output_type": "display_data"
    }
   ],
   "source": [
    "from paraflow import FlowPassage\n",
    "import numpy as np\n",
    "\n",
    "passage = FlowPassage(\n",
    "    inlet_radius=0.1,\n",
    "    area_ratio=3.0,\n",
    "    axial_length=1,\n",
    "    contour_props=[0.25, 0.25, 0.5, 0.75],\n",
    "    contour_angles=np.radians([-15.0, -15.0, 15.0, 15.0]).tolist()\n",
    ")\n",
    "passage.visualize(\"Bell Nozzle\")"
   ]
  },
  {
   "cell_type": "code",
   "execution_count": 8,
   "metadata": {},
   "outputs": [
    {
     "data": {
      "application/vnd.plotly.v1+json": {
       "config": {
        "plotlyServerURL": "https://plot.ly"
       },
       "data": [
        {
         "name": "Shroud Top",
         "type": "scatter",
         "x": [
          0,
          0.03600007145563722,
          0.06838012475192358,
          0.09734628191928468,
          0.12310466498814629,
          0.14586139598893402,
          0.16582259695207355,
          0.18319438990799058,
          0.19818289688711074,
          0.21099423991985974,
          0.22183454103666325,
          0.23090992226794696,
          0.2384265056441365,
          0.24459041319565758,
          0.24960776695293582,
          0.25368468894639695,
          0.2570273012064666,
          0.2598417257635705,
          0.26233408464813424,
          0.2647104998905836,
          0.26717681010355226,
          0.2698787693278051,
          0.27282807498856887,
          0.2760182857723925,
          0.27944296036582533,
          0.28309565745541665,
          0.2869699357277156,
          0.2910593538692713,
          0.2953574705666329,
          0.2998578445063498,
          0.304554034374971,
          0.3094395988590459,
          0.31450809664512347,
          0.31975308641975303,
          0.3251681268694839,
          0.33074677668086505,
          0.3364825945404458,
          0.34236913913477524,
          0.34839996915040283,
          0.3545686432738775,
          0.3608685140697179,
          0.3672849211085106,
          0.3737927947983044,
          0.3803663698852965,
          0.38697988111568354,
          0.3936075632356624,
          0.40022365099142976,
          0.4068023791291825,
          0.41331798239511736,
          0.4197446955354312,
          0.42605675329632064,
          0.43222839042398264,
          0.438233841664614,
          0.4440473417644114,
          0.44964312546957175,
          0.4549954275262917,
          0.46007848268076806,
          0.4648665256791978,
          0.4693337912677774,
          0.4734545141927041,
          0.4772062915657957,
          0.4806170314511299,
          0.4837533713834601,
          0.4866829451540196,
          0.4894733865540415,
          0.49219232937475965,
          0.49490740740740735,
          0.49768625444321807,
          0.5005965042734251,
          0.5037057906892618,
          0.5070817474819619,
          0.5107920084427584,
          0.5149042073628849,
          0.5194859780335752,
          0.5246049542460622,
          0.5303287697915797,
          0.5367250584613608,
          0.5438614540466391,
          0.5518055903386482,
          0.5606251011286212,
          0.5703859712315482,
          0.5811419984973704,
          0.5929415185422227,
          0.6058328412169858,
          0.6198642763725408,
          0.635084133859769,
          0.6515407235295512,
          0.6692823552327685,
          0.6883573388203019,
          0.7088139841430324,
          0.7307006010518409,
          0.7540654993976083,
          0.7789569890312164,
          0.8054233798035452,
          0.8335129815654765,
          0.8632741041678906,
          0.894755057461669,
          0.9280041512976929,
          0.963069695526843,
          1
         ],
         "y": [
          0.1,
          0.09035582352819285,
          0.0816937096119312,
          0.07397050963278144,
          0.06714307497231023,
          0.061168257012084115,
          0.05600290713366959,
          0.051603876718633215,
          0.04792801714854157,
          0.04493217980496117,
          0.04257321606945856,
          0.04080797732360031,
          0.03959331494895292,
          0.038886080327082975,
          0.038643124839557,
          0.03882129986794154,
          0.03937745679380317,
          0.040268446998708386,
          0.041451121864223756,
          0.042882332771915846,
          0.04451897012324502,
          0.04632619653717041,
          0.0482876310424477,
          0.05038938994103972,
          0.052617589534909304,
          0.05495834612601933,
          0.05739777601633263,
          0.059921995507812034,
          0.06251712090242038,
          0.06516926850212051,
          0.0678645546088753,
          0.0705890955246476,
          0.07332900755140018,
          0.07607040699109595,
          0.07879941014569775,
          0.0815021333171684,
          0.08416469280747071,
          0.0867732049185676,
          0.0893137859524219,
          0.0917725522109964,
          0.09413581222657678,
          0.09639734748524946,
          0.09856064710440435,
          0.10062984897877121,
          0.10260909100307959,
          0.10450251107205918,
          0.10631424708043956,
          0.10804843692295041,
          0.10970921849432136,
          0.11130072968928206,
          0.11282710840256212,
          0.11429249252889118,
          0.1157010199629989,
          0.11705682859961489,
          0.11836405633346883,
          0.1196268410592903,
          0.12084932067180898,
          0.1220356330657545,
          0.12318991613585648,
          0.12431630777684459,
          0.12541984945260323,
          0.12651910269881433,
          0.12764303682920203,
          0.12882088888168444,
          0.13008189589417957,
          0.1314552949046056,
          0.13297032295088068,
          0.13465621707092282,
          0.1365422143026502,
          0.13865755168398086,
          0.14103146625283305,
          0.14369319504712466,
          0.1466719751047739,
          0.14999704346369896,
          0.15369763716181786,
          0.15780299323704874,
          0.16234234872730965,
          0.16734494067051872,
          0.17284000610459416,
          0.1788567820674539,
          0.18541436264185615,
          0.19245687913257897,
          0.19989486430543316,
          0.20763869244255473,
          0.21559873782607988,
          0.22368537473814495,
          0.23180897746088594,
          0.23987992027643917,
          0.24780857746694077,
          0.2555053233145269,
          0.2628805321013338,
          0.2698445781094975,
          0.2763078356211546,
          0.28218067891844073,
          0.28737348228349247,
          0.29179661999844586,
          0.2953604663454371,
          0.29797539560660247,
          0.29955178206407806,
          0.30000000000000004
         ]
        },
        {
         "name": "Shroud Bottom",
         "type": "scatter",
         "x": [
          0,
          0.03600007145563722,
          0.06838012475192358,
          0.09734628191928468,
          0.12310466498814629,
          0.14586139598893402,
          0.16582259695207355,
          0.18319438990799058,
          0.19818289688711074,
          0.21099423991985974,
          0.22183454103666325,
          0.23090992226794696,
          0.2384265056441365,
          0.24459041319565758,
          0.24960776695293582,
          0.25368468894639695,
          0.2570273012064666,
          0.2598417257635705,
          0.26233408464813424,
          0.2647104998905836,
          0.26717681010355226,
          0.2698787693278051,
          0.27282807498856887,
          0.2760182857723925,
          0.27944296036582533,
          0.28309565745541665,
          0.2869699357277156,
          0.2910593538692713,
          0.2953574705666329,
          0.2998578445063498,
          0.304554034374971,
          0.3094395988590459,
          0.31450809664512347,
          0.31975308641975303,
          0.3251681268694839,
          0.33074677668086505,
          0.3364825945404458,
          0.34236913913477524,
          0.34839996915040283,
          0.3545686432738775,
          0.3608685140697179,
          0.3672849211085106,
          0.3737927947983044,
          0.3803663698852965,
          0.38697988111568354,
          0.3936075632356624,
          0.40022365099142976,
          0.4068023791291825,
          0.41331798239511736,
          0.4197446955354312,
          0.42605675329632064,
          0.43222839042398264,
          0.438233841664614,
          0.4440473417644114,
          0.44964312546957175,
          0.4549954275262917,
          0.46007848268076806,
          0.4648665256791978,
          0.4693337912677774,
          0.4734545141927041,
          0.4772062915657957,
          0.4806170314511299,
          0.4837533713834601,
          0.4866829451540196,
          0.4894733865540415,
          0.49219232937475965,
          0.49490740740740735,
          0.49768625444321807,
          0.5005965042734251,
          0.5037057906892618,
          0.5070817474819619,
          0.5107920084427584,
          0.5149042073628849,
          0.5194859780335752,
          0.5246049542460622,
          0.5303287697915797,
          0.5367250584613608,
          0.5438614540466391,
          0.5518055903386482,
          0.5606251011286212,
          0.5703859712315482,
          0.5811419984973704,
          0.5929415185422227,
          0.6058328412169858,
          0.6198642763725408,
          0.635084133859769,
          0.6515407235295512,
          0.6692823552327685,
          0.6883573388203019,
          0.7088139841430324,
          0.7307006010518409,
          0.7540654993976083,
          0.7789569890312164,
          0.8054233798035452,
          0.8335129815654765,
          0.8632741041678906,
          0.894755057461669,
          0.9280041512976929,
          0.963069695526843,
          1
         ],
         "y": [
          -0.1,
          -0.09035582352819285,
          -0.0816937096119312,
          -0.07397050963278144,
          -0.06714307497231023,
          -0.061168257012084115,
          -0.05600290713366959,
          -0.051603876718633215,
          -0.04792801714854157,
          -0.04493217980496117,
          -0.04257321606945856,
          -0.04080797732360031,
          -0.03959331494895292,
          -0.038886080327082975,
          -0.038643124839557,
          -0.03882129986794154,
          -0.03937745679380317,
          -0.040268446998708386,
          -0.041451121864223756,
          -0.042882332771915846,
          -0.04451897012324502,
          -0.04632619653717041,
          -0.0482876310424477,
          -0.05038938994103972,
          -0.052617589534909304,
          -0.05495834612601933,
          -0.05739777601633263,
          -0.059921995507812034,
          -0.06251712090242038,
          -0.06516926850212051,
          -0.0678645546088753,
          -0.0705890955246476,
          -0.07332900755140018,
          -0.07607040699109595,
          -0.07879941014569775,
          -0.0815021333171684,
          -0.08416469280747071,
          -0.0867732049185676,
          -0.0893137859524219,
          -0.0917725522109964,
          -0.09413581222657678,
          -0.09639734748524946,
          -0.09856064710440435,
          -0.10062984897877121,
          -0.10260909100307959,
          -0.10450251107205918,
          -0.10631424708043956,
          -0.10804843692295041,
          -0.10970921849432136,
          -0.11130072968928206,
          -0.11282710840256212,
          -0.11429249252889118,
          -0.1157010199629989,
          -0.11705682859961489,
          -0.11836405633346883,
          -0.1196268410592903,
          -0.12084932067180898,
          -0.1220356330657545,
          -0.12318991613585648,
          -0.12431630777684459,
          -0.12541984945260323,
          -0.12651910269881433,
          -0.12764303682920203,
          -0.12882088888168444,
          -0.13008189589417957,
          -0.1314552949046056,
          -0.13297032295088068,
          -0.13465621707092282,
          -0.1365422143026502,
          -0.13865755168398086,
          -0.14103146625283305,
          -0.14369319504712466,
          -0.1466719751047739,
          -0.14999704346369896,
          -0.15369763716181786,
          -0.15780299323704874,
          -0.16234234872730965,
          -0.16734494067051872,
          -0.17284000610459416,
          -0.1788567820674539,
          -0.18541436264185615,
          -0.19245687913257897,
          -0.19989486430543316,
          -0.20763869244255473,
          -0.21559873782607988,
          -0.22368537473814495,
          -0.23180897746088594,
          -0.23987992027643917,
          -0.24780857746694077,
          -0.2555053233145269,
          -0.2628805321013338,
          -0.2698445781094975,
          -0.2763078356211546,
          -0.28218067891844073,
          -0.28737348228349247,
          -0.29179661999844586,
          -0.2953604663454371,
          -0.29797539560660247,
          -0.29955178206407806,
          -0.30000000000000004
         ]
        }
       ],
       "layout": {
        "template": {
         "data": {
          "bar": [
           {
            "error_x": {
             "color": "#2a3f5f"
            },
            "error_y": {
             "color": "#2a3f5f"
            },
            "marker": {
             "line": {
              "color": "#E5ECF6",
              "width": 0.5
             },
             "pattern": {
              "fillmode": "overlay",
              "size": 10,
              "solidity": 0.2
             }
            },
            "type": "bar"
           }
          ],
          "barpolar": [
           {
            "marker": {
             "line": {
              "color": "#E5ECF6",
              "width": 0.5
             },
             "pattern": {
              "fillmode": "overlay",
              "size": 10,
              "solidity": 0.2
             }
            },
            "type": "barpolar"
           }
          ],
          "carpet": [
           {
            "aaxis": {
             "endlinecolor": "#2a3f5f",
             "gridcolor": "white",
             "linecolor": "white",
             "minorgridcolor": "white",
             "startlinecolor": "#2a3f5f"
            },
            "baxis": {
             "endlinecolor": "#2a3f5f",
             "gridcolor": "white",
             "linecolor": "white",
             "minorgridcolor": "white",
             "startlinecolor": "#2a3f5f"
            },
            "type": "carpet"
           }
          ],
          "choropleth": [
           {
            "colorbar": {
             "outlinewidth": 0,
             "ticks": ""
            },
            "type": "choropleth"
           }
          ],
          "contour": [
           {
            "colorbar": {
             "outlinewidth": 0,
             "ticks": ""
            },
            "colorscale": [
             [
              0,
              "#0d0887"
             ],
             [
              0.1111111111111111,
              "#46039f"
             ],
             [
              0.2222222222222222,
              "#7201a8"
             ],
             [
              0.3333333333333333,
              "#9c179e"
             ],
             [
              0.4444444444444444,
              "#bd3786"
             ],
             [
              0.5555555555555556,
              "#d8576b"
             ],
             [
              0.6666666666666666,
              "#ed7953"
             ],
             [
              0.7777777777777778,
              "#fb9f3a"
             ],
             [
              0.8888888888888888,
              "#fdca26"
             ],
             [
              1,
              "#f0f921"
             ]
            ],
            "type": "contour"
           }
          ],
          "contourcarpet": [
           {
            "colorbar": {
             "outlinewidth": 0,
             "ticks": ""
            },
            "type": "contourcarpet"
           }
          ],
          "heatmap": [
           {
            "colorbar": {
             "outlinewidth": 0,
             "ticks": ""
            },
            "colorscale": [
             [
              0,
              "#0d0887"
             ],
             [
              0.1111111111111111,
              "#46039f"
             ],
             [
              0.2222222222222222,
              "#7201a8"
             ],
             [
              0.3333333333333333,
              "#9c179e"
             ],
             [
              0.4444444444444444,
              "#bd3786"
             ],
             [
              0.5555555555555556,
              "#d8576b"
             ],
             [
              0.6666666666666666,
              "#ed7953"
             ],
             [
              0.7777777777777778,
              "#fb9f3a"
             ],
             [
              0.8888888888888888,
              "#fdca26"
             ],
             [
              1,
              "#f0f921"
             ]
            ],
            "type": "heatmap"
           }
          ],
          "heatmapgl": [
           {
            "colorbar": {
             "outlinewidth": 0,
             "ticks": ""
            },
            "colorscale": [
             [
              0,
              "#0d0887"
             ],
             [
              0.1111111111111111,
              "#46039f"
             ],
             [
              0.2222222222222222,
              "#7201a8"
             ],
             [
              0.3333333333333333,
              "#9c179e"
             ],
             [
              0.4444444444444444,
              "#bd3786"
             ],
             [
              0.5555555555555556,
              "#d8576b"
             ],
             [
              0.6666666666666666,
              "#ed7953"
             ],
             [
              0.7777777777777778,
              "#fb9f3a"
             ],
             [
              0.8888888888888888,
              "#fdca26"
             ],
             [
              1,
              "#f0f921"
             ]
            ],
            "type": "heatmapgl"
           }
          ],
          "histogram": [
           {
            "marker": {
             "pattern": {
              "fillmode": "overlay",
              "size": 10,
              "solidity": 0.2
             }
            },
            "type": "histogram"
           }
          ],
          "histogram2d": [
           {
            "colorbar": {
             "outlinewidth": 0,
             "ticks": ""
            },
            "colorscale": [
             [
              0,
              "#0d0887"
             ],
             [
              0.1111111111111111,
              "#46039f"
             ],
             [
              0.2222222222222222,
              "#7201a8"
             ],
             [
              0.3333333333333333,
              "#9c179e"
             ],
             [
              0.4444444444444444,
              "#bd3786"
             ],
             [
              0.5555555555555556,
              "#d8576b"
             ],
             [
              0.6666666666666666,
              "#ed7953"
             ],
             [
              0.7777777777777778,
              "#fb9f3a"
             ],
             [
              0.8888888888888888,
              "#fdca26"
             ],
             [
              1,
              "#f0f921"
             ]
            ],
            "type": "histogram2d"
           }
          ],
          "histogram2dcontour": [
           {
            "colorbar": {
             "outlinewidth": 0,
             "ticks": ""
            },
            "colorscale": [
             [
              0,
              "#0d0887"
             ],
             [
              0.1111111111111111,
              "#46039f"
             ],
             [
              0.2222222222222222,
              "#7201a8"
             ],
             [
              0.3333333333333333,
              "#9c179e"
             ],
             [
              0.4444444444444444,
              "#bd3786"
             ],
             [
              0.5555555555555556,
              "#d8576b"
             ],
             [
              0.6666666666666666,
              "#ed7953"
             ],
             [
              0.7777777777777778,
              "#fb9f3a"
             ],
             [
              0.8888888888888888,
              "#fdca26"
             ],
             [
              1,
              "#f0f921"
             ]
            ],
            "type": "histogram2dcontour"
           }
          ],
          "mesh3d": [
           {
            "colorbar": {
             "outlinewidth": 0,
             "ticks": ""
            },
            "type": "mesh3d"
           }
          ],
          "parcoords": [
           {
            "line": {
             "colorbar": {
              "outlinewidth": 0,
              "ticks": ""
             }
            },
            "type": "parcoords"
           }
          ],
          "pie": [
           {
            "automargin": true,
            "type": "pie"
           }
          ],
          "scatter": [
           {
            "fillpattern": {
             "fillmode": "overlay",
             "size": 10,
             "solidity": 0.2
            },
            "type": "scatter"
           }
          ],
          "scatter3d": [
           {
            "line": {
             "colorbar": {
              "outlinewidth": 0,
              "ticks": ""
             }
            },
            "marker": {
             "colorbar": {
              "outlinewidth": 0,
              "ticks": ""
             }
            },
            "type": "scatter3d"
           }
          ],
          "scattercarpet": [
           {
            "marker": {
             "colorbar": {
              "outlinewidth": 0,
              "ticks": ""
             }
            },
            "type": "scattercarpet"
           }
          ],
          "scattergeo": [
           {
            "marker": {
             "colorbar": {
              "outlinewidth": 0,
              "ticks": ""
             }
            },
            "type": "scattergeo"
           }
          ],
          "scattergl": [
           {
            "marker": {
             "colorbar": {
              "outlinewidth": 0,
              "ticks": ""
             }
            },
            "type": "scattergl"
           }
          ],
          "scattermapbox": [
           {
            "marker": {
             "colorbar": {
              "outlinewidth": 0,
              "ticks": ""
             }
            },
            "type": "scattermapbox"
           }
          ],
          "scatterpolar": [
           {
            "marker": {
             "colorbar": {
              "outlinewidth": 0,
              "ticks": ""
             }
            },
            "type": "scatterpolar"
           }
          ],
          "scatterpolargl": [
           {
            "marker": {
             "colorbar": {
              "outlinewidth": 0,
              "ticks": ""
             }
            },
            "type": "scatterpolargl"
           }
          ],
          "scatterternary": [
           {
            "marker": {
             "colorbar": {
              "outlinewidth": 0,
              "ticks": ""
             }
            },
            "type": "scatterternary"
           }
          ],
          "surface": [
           {
            "colorbar": {
             "outlinewidth": 0,
             "ticks": ""
            },
            "colorscale": [
             [
              0,
              "#0d0887"
             ],
             [
              0.1111111111111111,
              "#46039f"
             ],
             [
              0.2222222222222222,
              "#7201a8"
             ],
             [
              0.3333333333333333,
              "#9c179e"
             ],
             [
              0.4444444444444444,
              "#bd3786"
             ],
             [
              0.5555555555555556,
              "#d8576b"
             ],
             [
              0.6666666666666666,
              "#ed7953"
             ],
             [
              0.7777777777777778,
              "#fb9f3a"
             ],
             [
              0.8888888888888888,
              "#fdca26"
             ],
             [
              1,
              "#f0f921"
             ]
            ],
            "type": "surface"
           }
          ],
          "table": [
           {
            "cells": {
             "fill": {
              "color": "#EBF0F8"
             },
             "line": {
              "color": "white"
             }
            },
            "header": {
             "fill": {
              "color": "#C8D4E3"
             },
             "line": {
              "color": "white"
             }
            },
            "type": "table"
           }
          ]
         },
         "layout": {
          "annotationdefaults": {
           "arrowcolor": "#2a3f5f",
           "arrowhead": 0,
           "arrowwidth": 1
          },
          "autotypenumbers": "strict",
          "coloraxis": {
           "colorbar": {
            "outlinewidth": 0,
            "ticks": ""
           }
          },
          "colorscale": {
           "diverging": [
            [
             0,
             "#8e0152"
            ],
            [
             0.1,
             "#c51b7d"
            ],
            [
             0.2,
             "#de77ae"
            ],
            [
             0.3,
             "#f1b6da"
            ],
            [
             0.4,
             "#fde0ef"
            ],
            [
             0.5,
             "#f7f7f7"
            ],
            [
             0.6,
             "#e6f5d0"
            ],
            [
             0.7,
             "#b8e186"
            ],
            [
             0.8,
             "#7fbc41"
            ],
            [
             0.9,
             "#4d9221"
            ],
            [
             1,
             "#276419"
            ]
           ],
           "sequential": [
            [
             0,
             "#0d0887"
            ],
            [
             0.1111111111111111,
             "#46039f"
            ],
            [
             0.2222222222222222,
             "#7201a8"
            ],
            [
             0.3333333333333333,
             "#9c179e"
            ],
            [
             0.4444444444444444,
             "#bd3786"
            ],
            [
             0.5555555555555556,
             "#d8576b"
            ],
            [
             0.6666666666666666,
             "#ed7953"
            ],
            [
             0.7777777777777778,
             "#fb9f3a"
            ],
            [
             0.8888888888888888,
             "#fdca26"
            ],
            [
             1,
             "#f0f921"
            ]
           ],
           "sequentialminus": [
            [
             0,
             "#0d0887"
            ],
            [
             0.1111111111111111,
             "#46039f"
            ],
            [
             0.2222222222222222,
             "#7201a8"
            ],
            [
             0.3333333333333333,
             "#9c179e"
            ],
            [
             0.4444444444444444,
             "#bd3786"
            ],
            [
             0.5555555555555556,
             "#d8576b"
            ],
            [
             0.6666666666666666,
             "#ed7953"
            ],
            [
             0.7777777777777778,
             "#fb9f3a"
            ],
            [
             0.8888888888888888,
             "#fdca26"
            ],
            [
             1,
             "#f0f921"
            ]
           ]
          },
          "colorway": [
           "#636efa",
           "#EF553B",
           "#00cc96",
           "#ab63fa",
           "#FFA15A",
           "#19d3f3",
           "#FF6692",
           "#B6E880",
           "#FF97FF",
           "#FECB52"
          ],
          "font": {
           "color": "#2a3f5f"
          },
          "geo": {
           "bgcolor": "white",
           "lakecolor": "white",
           "landcolor": "#E5ECF6",
           "showlakes": true,
           "showland": true,
           "subunitcolor": "white"
          },
          "hoverlabel": {
           "align": "left"
          },
          "hovermode": "closest",
          "mapbox": {
           "style": "light"
          },
          "paper_bgcolor": "white",
          "plot_bgcolor": "#E5ECF6",
          "polar": {
           "angularaxis": {
            "gridcolor": "white",
            "linecolor": "white",
            "ticks": ""
           },
           "bgcolor": "#E5ECF6",
           "radialaxis": {
            "gridcolor": "white",
            "linecolor": "white",
            "ticks": ""
           }
          },
          "scene": {
           "xaxis": {
            "backgroundcolor": "#E5ECF6",
            "gridcolor": "white",
            "gridwidth": 2,
            "linecolor": "white",
            "showbackground": true,
            "ticks": "",
            "zerolinecolor": "white"
           },
           "yaxis": {
            "backgroundcolor": "#E5ECF6",
            "gridcolor": "white",
            "gridwidth": 2,
            "linecolor": "white",
            "showbackground": true,
            "ticks": "",
            "zerolinecolor": "white"
           },
           "zaxis": {
            "backgroundcolor": "#E5ECF6",
            "gridcolor": "white",
            "gridwidth": 2,
            "linecolor": "white",
            "showbackground": true,
            "ticks": "",
            "zerolinecolor": "white"
           }
          },
          "shapedefaults": {
           "line": {
            "color": "#2a3f5f"
           }
          },
          "ternary": {
           "aaxis": {
            "gridcolor": "white",
            "linecolor": "white",
            "ticks": ""
           },
           "baxis": {
            "gridcolor": "white",
            "linecolor": "white",
            "ticks": ""
           },
           "bgcolor": "#E5ECF6",
           "caxis": {
            "gridcolor": "white",
            "linecolor": "white",
            "ticks": ""
           }
          },
          "title": {
           "x": 0.05
          },
          "xaxis": {
           "automargin": true,
           "gridcolor": "white",
           "linecolor": "white",
           "ticks": "",
           "title": {
            "standoff": 15
           },
           "zerolinecolor": "white",
           "zerolinewidth": 2
          },
          "yaxis": {
           "automargin": true,
           "gridcolor": "white",
           "linecolor": "white",
           "ticks": "",
           "title": {
            "standoff": 15
           },
           "zerolinecolor": "white",
           "zerolinewidth": 2
          }
         }
        },
        "title": {
         "text": "Double Bell Nozzle"
        },
        "yaxis": {
         "scaleanchor": "x"
        }
       }
      },
      "text/html": [
       "<div>                            <div id=\"668691c7-8ca2-4b0d-a9c2-9f4cf187464f\" class=\"plotly-graph-div\" style=\"height:525px; width:100%;\"></div>            <script type=\"text/javascript\">                require([\"plotly\"], function(Plotly) {                    window.PLOTLYENV=window.PLOTLYENV || {};                                    if (document.getElementById(\"668691c7-8ca2-4b0d-a9c2-9f4cf187464f\")) {                    Plotly.newPlot(                        \"668691c7-8ca2-4b0d-a9c2-9f4cf187464f\",                        [{\"name\":\"Shroud Top\",\"x\":[0.0,0.03600007145563722,0.06838012475192358,0.09734628191928468,0.12310466498814629,0.14586139598893402,0.16582259695207355,0.18319438990799058,0.19818289688711074,0.21099423991985974,0.22183454103666325,0.23090992226794696,0.2384265056441365,0.24459041319565758,0.24960776695293582,0.25368468894639695,0.2570273012064666,0.2598417257635705,0.26233408464813424,0.2647104998905836,0.26717681010355226,0.2698787693278051,0.27282807498856887,0.2760182857723925,0.27944296036582533,0.28309565745541665,0.2869699357277156,0.2910593538692713,0.2953574705666329,0.2998578445063498,0.304554034374971,0.3094395988590459,0.31450809664512347,0.31975308641975303,0.3251681268694839,0.33074677668086505,0.3364825945404458,0.34236913913477524,0.34839996915040283,0.3545686432738775,0.3608685140697179,0.3672849211085106,0.3737927947983044,0.3803663698852965,0.38697988111568354,0.3936075632356624,0.40022365099142976,0.4068023791291825,0.41331798239511736,0.4197446955354312,0.42605675329632064,0.43222839042398264,0.438233841664614,0.4440473417644114,0.44964312546957175,0.4549954275262917,0.46007848268076806,0.4648665256791978,0.4693337912677774,0.4734545141927041,0.4772062915657957,0.4806170314511299,0.4837533713834601,0.4866829451540196,0.4894733865540415,0.49219232937475965,0.49490740740740735,0.49768625444321807,0.5005965042734251,0.5037057906892618,0.5070817474819619,0.5107920084427584,0.5149042073628849,0.5194859780335752,0.5246049542460622,0.5303287697915797,0.5367250584613608,0.5438614540466391,0.5518055903386482,0.5606251011286212,0.5703859712315482,0.5811419984973704,0.5929415185422227,0.6058328412169858,0.6198642763725408,0.635084133859769,0.6515407235295512,0.6692823552327685,0.6883573388203019,0.7088139841430324,0.7307006010518409,0.7540654993976083,0.7789569890312164,0.8054233798035452,0.8335129815654765,0.8632741041678906,0.894755057461669,0.9280041512976929,0.963069695526843,1.0],\"y\":[0.1,0.09035582352819285,0.0816937096119312,0.07397050963278144,0.06714307497231023,0.061168257012084115,0.05600290713366959,0.051603876718633215,0.04792801714854157,0.04493217980496117,0.04257321606945856,0.04080797732360031,0.03959331494895292,0.038886080327082975,0.038643124839557,0.03882129986794154,0.03937745679380317,0.040268446998708386,0.041451121864223756,0.042882332771915846,0.04451897012324502,0.04632619653717041,0.0482876310424477,0.05038938994103972,0.052617589534909304,0.05495834612601933,0.05739777601633263,0.059921995507812034,0.06251712090242038,0.06516926850212051,0.0678645546088753,0.0705890955246476,0.07332900755140018,0.07607040699109595,0.07879941014569775,0.0815021333171684,0.08416469280747071,0.0867732049185676,0.0893137859524219,0.0917725522109964,0.09413581222657678,0.09639734748524946,0.09856064710440435,0.10062984897877121,0.10260909100307959,0.10450251107205918,0.10631424708043956,0.10804843692295041,0.10970921849432136,0.11130072968928206,0.11282710840256212,0.11429249252889118,0.1157010199629989,0.11705682859961489,0.11836405633346883,0.1196268410592903,0.12084932067180898,0.1220356330657545,0.12318991613585648,0.12431630777684459,0.12541984945260323,0.12651910269881433,0.12764303682920203,0.12882088888168444,0.13008189589417957,0.1314552949046056,0.13297032295088068,0.13465621707092282,0.1365422143026502,0.13865755168398086,0.14103146625283305,0.14369319504712466,0.1466719751047739,0.14999704346369896,0.15369763716181786,0.15780299323704874,0.16234234872730965,0.16734494067051872,0.17284000610459416,0.1788567820674539,0.18541436264185615,0.19245687913257897,0.19989486430543316,0.20763869244255473,0.21559873782607988,0.22368537473814495,0.23180897746088594,0.23987992027643917,0.24780857746694077,0.2555053233145269,0.2628805321013338,0.2698445781094975,0.2763078356211546,0.28218067891844073,0.28737348228349247,0.29179661999844586,0.2953604663454371,0.29797539560660247,0.29955178206407806,0.30000000000000004],\"type\":\"scatter\"},{\"name\":\"Shroud Bottom\",\"x\":[0.0,0.03600007145563722,0.06838012475192358,0.09734628191928468,0.12310466498814629,0.14586139598893402,0.16582259695207355,0.18319438990799058,0.19818289688711074,0.21099423991985974,0.22183454103666325,0.23090992226794696,0.2384265056441365,0.24459041319565758,0.24960776695293582,0.25368468894639695,0.2570273012064666,0.2598417257635705,0.26233408464813424,0.2647104998905836,0.26717681010355226,0.2698787693278051,0.27282807498856887,0.2760182857723925,0.27944296036582533,0.28309565745541665,0.2869699357277156,0.2910593538692713,0.2953574705666329,0.2998578445063498,0.304554034374971,0.3094395988590459,0.31450809664512347,0.31975308641975303,0.3251681268694839,0.33074677668086505,0.3364825945404458,0.34236913913477524,0.34839996915040283,0.3545686432738775,0.3608685140697179,0.3672849211085106,0.3737927947983044,0.3803663698852965,0.38697988111568354,0.3936075632356624,0.40022365099142976,0.4068023791291825,0.41331798239511736,0.4197446955354312,0.42605675329632064,0.43222839042398264,0.438233841664614,0.4440473417644114,0.44964312546957175,0.4549954275262917,0.46007848268076806,0.4648665256791978,0.4693337912677774,0.4734545141927041,0.4772062915657957,0.4806170314511299,0.4837533713834601,0.4866829451540196,0.4894733865540415,0.49219232937475965,0.49490740740740735,0.49768625444321807,0.5005965042734251,0.5037057906892618,0.5070817474819619,0.5107920084427584,0.5149042073628849,0.5194859780335752,0.5246049542460622,0.5303287697915797,0.5367250584613608,0.5438614540466391,0.5518055903386482,0.5606251011286212,0.5703859712315482,0.5811419984973704,0.5929415185422227,0.6058328412169858,0.6198642763725408,0.635084133859769,0.6515407235295512,0.6692823552327685,0.6883573388203019,0.7088139841430324,0.7307006010518409,0.7540654993976083,0.7789569890312164,0.8054233798035452,0.8335129815654765,0.8632741041678906,0.894755057461669,0.9280041512976929,0.963069695526843,1.0],\"y\":[-0.1,-0.09035582352819285,-0.0816937096119312,-0.07397050963278144,-0.06714307497231023,-0.061168257012084115,-0.05600290713366959,-0.051603876718633215,-0.04792801714854157,-0.04493217980496117,-0.04257321606945856,-0.04080797732360031,-0.03959331494895292,-0.038886080327082975,-0.038643124839557,-0.03882129986794154,-0.03937745679380317,-0.040268446998708386,-0.041451121864223756,-0.042882332771915846,-0.04451897012324502,-0.04632619653717041,-0.0482876310424477,-0.05038938994103972,-0.052617589534909304,-0.05495834612601933,-0.05739777601633263,-0.059921995507812034,-0.06251712090242038,-0.06516926850212051,-0.0678645546088753,-0.0705890955246476,-0.07332900755140018,-0.07607040699109595,-0.07879941014569775,-0.0815021333171684,-0.08416469280747071,-0.0867732049185676,-0.0893137859524219,-0.0917725522109964,-0.09413581222657678,-0.09639734748524946,-0.09856064710440435,-0.10062984897877121,-0.10260909100307959,-0.10450251107205918,-0.10631424708043956,-0.10804843692295041,-0.10970921849432136,-0.11130072968928206,-0.11282710840256212,-0.11429249252889118,-0.1157010199629989,-0.11705682859961489,-0.11836405633346883,-0.1196268410592903,-0.12084932067180898,-0.1220356330657545,-0.12318991613585648,-0.12431630777684459,-0.12541984945260323,-0.12651910269881433,-0.12764303682920203,-0.12882088888168444,-0.13008189589417957,-0.1314552949046056,-0.13297032295088068,-0.13465621707092282,-0.1365422143026502,-0.13865755168398086,-0.14103146625283305,-0.14369319504712466,-0.1466719751047739,-0.14999704346369896,-0.15369763716181786,-0.15780299323704874,-0.16234234872730965,-0.16734494067051872,-0.17284000610459416,-0.1788567820674539,-0.18541436264185615,-0.19245687913257897,-0.19989486430543316,-0.20763869244255473,-0.21559873782607988,-0.22368537473814495,-0.23180897746088594,-0.23987992027643917,-0.24780857746694077,-0.2555053233145269,-0.2628805321013338,-0.2698445781094975,-0.2763078356211546,-0.28218067891844073,-0.28737348228349247,-0.29179661999844586,-0.2953604663454371,-0.29797539560660247,-0.29955178206407806,-0.30000000000000004],\"type\":\"scatter\"}],                        {\"title\":{\"text\":\"Double Bell Nozzle\"},\"template\":{\"data\":{\"histogram2dcontour\":[{\"type\":\"histogram2dcontour\",\"colorbar\":{\"outlinewidth\":0,\"ticks\":\"\"},\"colorscale\":[[0.0,\"#0d0887\"],[0.1111111111111111,\"#46039f\"],[0.2222222222222222,\"#7201a8\"],[0.3333333333333333,\"#9c179e\"],[0.4444444444444444,\"#bd3786\"],[0.5555555555555556,\"#d8576b\"],[0.6666666666666666,\"#ed7953\"],[0.7777777777777778,\"#fb9f3a\"],[0.8888888888888888,\"#fdca26\"],[1.0,\"#f0f921\"]]}],\"choropleth\":[{\"type\":\"choropleth\",\"colorbar\":{\"outlinewidth\":0,\"ticks\":\"\"}}],\"histogram2d\":[{\"type\":\"histogram2d\",\"colorbar\":{\"outlinewidth\":0,\"ticks\":\"\"},\"colorscale\":[[0.0,\"#0d0887\"],[0.1111111111111111,\"#46039f\"],[0.2222222222222222,\"#7201a8\"],[0.3333333333333333,\"#9c179e\"],[0.4444444444444444,\"#bd3786\"],[0.5555555555555556,\"#d8576b\"],[0.6666666666666666,\"#ed7953\"],[0.7777777777777778,\"#fb9f3a\"],[0.8888888888888888,\"#fdca26\"],[1.0,\"#f0f921\"]]}],\"heatmap\":[{\"type\":\"heatmap\",\"colorbar\":{\"outlinewidth\":0,\"ticks\":\"\"},\"colorscale\":[[0.0,\"#0d0887\"],[0.1111111111111111,\"#46039f\"],[0.2222222222222222,\"#7201a8\"],[0.3333333333333333,\"#9c179e\"],[0.4444444444444444,\"#bd3786\"],[0.5555555555555556,\"#d8576b\"],[0.6666666666666666,\"#ed7953\"],[0.7777777777777778,\"#fb9f3a\"],[0.8888888888888888,\"#fdca26\"],[1.0,\"#f0f921\"]]}],\"heatmapgl\":[{\"type\":\"heatmapgl\",\"colorbar\":{\"outlinewidth\":0,\"ticks\":\"\"},\"colorscale\":[[0.0,\"#0d0887\"],[0.1111111111111111,\"#46039f\"],[0.2222222222222222,\"#7201a8\"],[0.3333333333333333,\"#9c179e\"],[0.4444444444444444,\"#bd3786\"],[0.5555555555555556,\"#d8576b\"],[0.6666666666666666,\"#ed7953\"],[0.7777777777777778,\"#fb9f3a\"],[0.8888888888888888,\"#fdca26\"],[1.0,\"#f0f921\"]]}],\"contourcarpet\":[{\"type\":\"contourcarpet\",\"colorbar\":{\"outlinewidth\":0,\"ticks\":\"\"}}],\"contour\":[{\"type\":\"contour\",\"colorbar\":{\"outlinewidth\":0,\"ticks\":\"\"},\"colorscale\":[[0.0,\"#0d0887\"],[0.1111111111111111,\"#46039f\"],[0.2222222222222222,\"#7201a8\"],[0.3333333333333333,\"#9c179e\"],[0.4444444444444444,\"#bd3786\"],[0.5555555555555556,\"#d8576b\"],[0.6666666666666666,\"#ed7953\"],[0.7777777777777778,\"#fb9f3a\"],[0.8888888888888888,\"#fdca26\"],[1.0,\"#f0f921\"]]}],\"surface\":[{\"type\":\"surface\",\"colorbar\":{\"outlinewidth\":0,\"ticks\":\"\"},\"colorscale\":[[0.0,\"#0d0887\"],[0.1111111111111111,\"#46039f\"],[0.2222222222222222,\"#7201a8\"],[0.3333333333333333,\"#9c179e\"],[0.4444444444444444,\"#bd3786\"],[0.5555555555555556,\"#d8576b\"],[0.6666666666666666,\"#ed7953\"],[0.7777777777777778,\"#fb9f3a\"],[0.8888888888888888,\"#fdca26\"],[1.0,\"#f0f921\"]]}],\"mesh3d\":[{\"type\":\"mesh3d\",\"colorbar\":{\"outlinewidth\":0,\"ticks\":\"\"}}],\"scatter\":[{\"fillpattern\":{\"fillmode\":\"overlay\",\"size\":10,\"solidity\":0.2},\"type\":\"scatter\"}],\"parcoords\":[{\"type\":\"parcoords\",\"line\":{\"colorbar\":{\"outlinewidth\":0,\"ticks\":\"\"}}}],\"scatterpolargl\":[{\"type\":\"scatterpolargl\",\"marker\":{\"colorbar\":{\"outlinewidth\":0,\"ticks\":\"\"}}}],\"bar\":[{\"error_x\":{\"color\":\"#2a3f5f\"},\"error_y\":{\"color\":\"#2a3f5f\"},\"marker\":{\"line\":{\"color\":\"#E5ECF6\",\"width\":0.5},\"pattern\":{\"fillmode\":\"overlay\",\"size\":10,\"solidity\":0.2}},\"type\":\"bar\"}],\"scattergeo\":[{\"type\":\"scattergeo\",\"marker\":{\"colorbar\":{\"outlinewidth\":0,\"ticks\":\"\"}}}],\"scatterpolar\":[{\"type\":\"scatterpolar\",\"marker\":{\"colorbar\":{\"outlinewidth\":0,\"ticks\":\"\"}}}],\"histogram\":[{\"marker\":{\"pattern\":{\"fillmode\":\"overlay\",\"size\":10,\"solidity\":0.2}},\"type\":\"histogram\"}],\"scattergl\":[{\"type\":\"scattergl\",\"marker\":{\"colorbar\":{\"outlinewidth\":0,\"ticks\":\"\"}}}],\"scatter3d\":[{\"type\":\"scatter3d\",\"line\":{\"colorbar\":{\"outlinewidth\":0,\"ticks\":\"\"}},\"marker\":{\"colorbar\":{\"outlinewidth\":0,\"ticks\":\"\"}}}],\"scattermapbox\":[{\"type\":\"scattermapbox\",\"marker\":{\"colorbar\":{\"outlinewidth\":0,\"ticks\":\"\"}}}],\"scatterternary\":[{\"type\":\"scatterternary\",\"marker\":{\"colorbar\":{\"outlinewidth\":0,\"ticks\":\"\"}}}],\"scattercarpet\":[{\"type\":\"scattercarpet\",\"marker\":{\"colorbar\":{\"outlinewidth\":0,\"ticks\":\"\"}}}],\"carpet\":[{\"aaxis\":{\"endlinecolor\":\"#2a3f5f\",\"gridcolor\":\"white\",\"linecolor\":\"white\",\"minorgridcolor\":\"white\",\"startlinecolor\":\"#2a3f5f\"},\"baxis\":{\"endlinecolor\":\"#2a3f5f\",\"gridcolor\":\"white\",\"linecolor\":\"white\",\"minorgridcolor\":\"white\",\"startlinecolor\":\"#2a3f5f\"},\"type\":\"carpet\"}],\"table\":[{\"cells\":{\"fill\":{\"color\":\"#EBF0F8\"},\"line\":{\"color\":\"white\"}},\"header\":{\"fill\":{\"color\":\"#C8D4E3\"},\"line\":{\"color\":\"white\"}},\"type\":\"table\"}],\"barpolar\":[{\"marker\":{\"line\":{\"color\":\"#E5ECF6\",\"width\":0.5},\"pattern\":{\"fillmode\":\"overlay\",\"size\":10,\"solidity\":0.2}},\"type\":\"barpolar\"}],\"pie\":[{\"automargin\":true,\"type\":\"pie\"}]},\"layout\":{\"autotypenumbers\":\"strict\",\"colorway\":[\"#636efa\",\"#EF553B\",\"#00cc96\",\"#ab63fa\",\"#FFA15A\",\"#19d3f3\",\"#FF6692\",\"#B6E880\",\"#FF97FF\",\"#FECB52\"],\"font\":{\"color\":\"#2a3f5f\"},\"hovermode\":\"closest\",\"hoverlabel\":{\"align\":\"left\"},\"paper_bgcolor\":\"white\",\"plot_bgcolor\":\"#E5ECF6\",\"polar\":{\"bgcolor\":\"#E5ECF6\",\"angularaxis\":{\"gridcolor\":\"white\",\"linecolor\":\"white\",\"ticks\":\"\"},\"radialaxis\":{\"gridcolor\":\"white\",\"linecolor\":\"white\",\"ticks\":\"\"}},\"ternary\":{\"bgcolor\":\"#E5ECF6\",\"aaxis\":{\"gridcolor\":\"white\",\"linecolor\":\"white\",\"ticks\":\"\"},\"baxis\":{\"gridcolor\":\"white\",\"linecolor\":\"white\",\"ticks\":\"\"},\"caxis\":{\"gridcolor\":\"white\",\"linecolor\":\"white\",\"ticks\":\"\"}},\"coloraxis\":{\"colorbar\":{\"outlinewidth\":0,\"ticks\":\"\"}},\"colorscale\":{\"sequential\":[[0.0,\"#0d0887\"],[0.1111111111111111,\"#46039f\"],[0.2222222222222222,\"#7201a8\"],[0.3333333333333333,\"#9c179e\"],[0.4444444444444444,\"#bd3786\"],[0.5555555555555556,\"#d8576b\"],[0.6666666666666666,\"#ed7953\"],[0.7777777777777778,\"#fb9f3a\"],[0.8888888888888888,\"#fdca26\"],[1.0,\"#f0f921\"]],\"sequentialminus\":[[0.0,\"#0d0887\"],[0.1111111111111111,\"#46039f\"],[0.2222222222222222,\"#7201a8\"],[0.3333333333333333,\"#9c179e\"],[0.4444444444444444,\"#bd3786\"],[0.5555555555555556,\"#d8576b\"],[0.6666666666666666,\"#ed7953\"],[0.7777777777777778,\"#fb9f3a\"],[0.8888888888888888,\"#fdca26\"],[1.0,\"#f0f921\"]],\"diverging\":[[0,\"#8e0152\"],[0.1,\"#c51b7d\"],[0.2,\"#de77ae\"],[0.3,\"#f1b6da\"],[0.4,\"#fde0ef\"],[0.5,\"#f7f7f7\"],[0.6,\"#e6f5d0\"],[0.7,\"#b8e186\"],[0.8,\"#7fbc41\"],[0.9,\"#4d9221\"],[1,\"#276419\"]]},\"xaxis\":{\"gridcolor\":\"white\",\"linecolor\":\"white\",\"ticks\":\"\",\"title\":{\"standoff\":15},\"zerolinecolor\":\"white\",\"automargin\":true,\"zerolinewidth\":2},\"yaxis\":{\"gridcolor\":\"white\",\"linecolor\":\"white\",\"ticks\":\"\",\"title\":{\"standoff\":15},\"zerolinecolor\":\"white\",\"automargin\":true,\"zerolinewidth\":2},\"scene\":{\"xaxis\":{\"backgroundcolor\":\"#E5ECF6\",\"gridcolor\":\"white\",\"linecolor\":\"white\",\"showbackground\":true,\"ticks\":\"\",\"zerolinecolor\":\"white\",\"gridwidth\":2},\"yaxis\":{\"backgroundcolor\":\"#E5ECF6\",\"gridcolor\":\"white\",\"linecolor\":\"white\",\"showbackground\":true,\"ticks\":\"\",\"zerolinecolor\":\"white\",\"gridwidth\":2},\"zaxis\":{\"backgroundcolor\":\"#E5ECF6\",\"gridcolor\":\"white\",\"linecolor\":\"white\",\"showbackground\":true,\"ticks\":\"\",\"zerolinecolor\":\"white\",\"gridwidth\":2}},\"shapedefaults\":{\"line\":{\"color\":\"#2a3f5f\"}},\"annotationdefaults\":{\"arrowcolor\":\"#2a3f5f\",\"arrowhead\":0,\"arrowwidth\":1},\"geo\":{\"bgcolor\":\"white\",\"landcolor\":\"#E5ECF6\",\"subunitcolor\":\"white\",\"showland\":true,\"showlakes\":true,\"lakecolor\":\"white\"},\"title\":{\"x\":0.05},\"mapbox\":{\"style\":\"light\"}}},\"yaxis\":{\"scaleanchor\":\"x\"}},                        {\"responsive\": true}                    ).then(function(){\n",
       "                            \n",
       "var gd = document.getElementById('668691c7-8ca2-4b0d-a9c2-9f4cf187464f');\n",
       "var x = new MutationObserver(function (mutations, observer) {{\n",
       "        var display = window.getComputedStyle(gd).display;\n",
       "        if (!display || display === 'none') {{\n",
       "            console.log([gd, 'removed!']);\n",
       "            Plotly.purge(gd);\n",
       "            observer.disconnect();\n",
       "        }}\n",
       "}});\n",
       "\n",
       "// Listen for the removal of the full notebook cells\n",
       "var notebookContainer = gd.closest('#notebook-container');\n",
       "if (notebookContainer) {{\n",
       "    x.observe(notebookContainer, {childList: true});\n",
       "}}\n",
       "\n",
       "// Listen for the clearing of the current output cell\n",
       "var outputEl = gd.closest('.output');\n",
       "if (outputEl) {{\n",
       "    x.observe(outputEl, {childList: true});\n",
       "}}\n",
       "\n",
       "                        })                };                });            </script>        </div>"
      ]
     },
     "metadata": {},
     "output_type": "display_data"
    }
   ],
   "source": [
    "from paraflow import FlowPassage\n",
    "import numpy as np\n",
    "\n",
    "passage = FlowPassage(\n",
    "    inlet_radius=0.1,\n",
    "    area_ratio=3.0,\n",
    "    axial_length=1,\n",
    "    contour_props=[0.25, 0.25, 0.35, 0.5, 0.5, 0.75],\n",
    "    contour_angles=np.radians([-15.0, -15.0, 0.0, 3, 5.0, 15.0]).tolist()\n",
    ")\n",
    "passage.visualize(\"Double Bell Nozzle\", include_ctrl_pnts=False)"
   ]
  },
  {
   "cell_type": "code",
   "execution_count": null,
   "metadata": {},
   "outputs": [],
   "source": []
  }
 ],
 "metadata": {
  "kernelspec": {
   "display_name": "Python 3",
   "language": "python",
   "name": "python3"
  },
  "language_info": {
   "codemirror_mode": {
    "name": "ipython",
    "version": 3
   },
   "file_extension": ".py",
   "mimetype": "text/x-python",
   "name": "python",
   "nbconvert_exporter": "python",
   "pygments_lexer": "ipython3",
   "version": "3.10.10"
  },
  "orig_nbformat": 4
 },
 "nbformat": 4,
 "nbformat_minor": 2
}
